{
 "cells": [
  {
   "cell_type": "markdown",
   "metadata": {},
   "source": [
    "# F10.7 From Pretrained Embeddings\n",
    "\n",
    "## Background\n",
    "This notebook is intended to be a quick example of the information contained within the SDO-FM embeddings. There is limited scientific value in this prediction of a proxy measure such as F10.7, however the conclusion of this notebook clearly indicates learned capacity in one plot.\n",
    "\n",
    "It was suggested at an early scientific-community meeting that it would also be interested to see how the image embeddings of our SDO-trained foundation model might compare with a generally-trained Google image foundation model. Their model is available over an easy-to-use API to all those with a billable Google Cloud Project, however only accepts conventional images as png/jpeg/etc. Hence, three months (2015-02-01 to 2015-05-31, known as the \"St Patrick's Day Storm\") of daily SDOML was converted into PNGs via code included here in the appendix. These were then uploaded with a request for maximum embedding size and have been provided here for your analysis.\n",
    "\n",
    "## Process\n",
    "The plan here is to take SDO-FM and Google Embeddings and train a very simple model to predict F10.7 with them as input. This involves:\n",
    " 1. *(optional)* Collecting the embeddings - these have been collected and pickled for convenice\n",
    " 2. *(optional)* Aligning and placing them into a format approporiate for training\n",
    " 3. Define the model and data loader\n",
    " 4. Model training\n",
    " 5. Visualization for comparison \n",
    "\n",
    "The first two steps (and appendix) result in a set of pickled files with these embeddings available. They're included here to explain their provenance (and for tinkering!)\n",
    "\n",
    "## (optional) Collecting Embeddings\n",
    "First, collect the available times in this embedding dataset."
   ]
  },
  {
   "cell_type": "code",
   "execution_count": null,
   "metadata": {},
   "outputs": [
    {
     "name": "stdout",
     "output_type": "stream",
     "text": [
      "Keys: <KeysViewHDF5 ['day', 'hour', 'latent', 'minute', 'month', 'year']>\n",
      "(21504,)\n"
     ]
    }
   ],
   "source": [
    "import h5py\n",
    "\n",
    "filename = \"sdo_latent_dataset_21504.h5\"\n",
    "\n",
    "with h5py.File(filename, \"r\") as f:\n",
    "    # Print all root level object names (aka keys)\n",
    "    # these can be group or dataset names\n",
    "    print(\"Keys: %s\" % f.keys())\n",
    "    print(f[\"latent\"][0].shape)\n",
    "    day, hour, minute, month, year = (\n",
    "        list(f[\"day\"]),\n",
    "        list(f[\"hour\"]),\n",
    "        list(f[\"minute\"]),\n",
    "        list(f[\"month\"]),\n",
    "        list(f[\"year\"]),\n",
    "    )"
   ]
  },
  {
   "cell_type": "markdown",
   "metadata": {},
   "source": [
    "From these collected times, load those we're interested in training with. Here we'll collect three years of hourly data at 12 mins past the hour."
   ]
  },
  {
   "cell_type": "code",
   "execution_count": null,
   "metadata": {},
   "outputs": [],
   "source": [
    "useful = {}\n",
    "for i in range(len(day)):\n",
    "    # Time format is given as 2015-04-30_00:12:00-193\n",
    "    # if year[i] == 2015 and month[i] in [3,4] and minute[i] == 12: #and hour[i] == 0 and\n",
    "    if year[i] in [2013, 2014, 2015] and minute[i] == 12:  # and hour[i] == 0 and\n",
    "        useful[\n",
    "            f\"{year[i]}-{month[i]:02d}-{day[i]:02d}_{hour[i]:02d}:{minute[i]:02d}:00\"\n",
    "        ] = i"
   ]
  },
  {
   "cell_type": "markdown",
   "metadata": {},
   "source": [
    "Now collect the embeddings for these times."
   ]
  },
  {
   "cell_type": "code",
   "execution_count": null,
   "metadata": {},
   "outputs": [],
   "source": [
    "with h5py.File(filename, \"r\") as f:\n",
    "    embeddings = f[\"latent\"][list(useful.values())]"
   ]
  },
  {
   "cell_type": "markdown",
   "metadata": {},
   "source": [
    "## (optional) Aligning Embeddings and Preparing for Model Consumption"
   ]
  },
  {
   "cell_type": "markdown",
   "metadata": {},
   "source": [
    "Quickly define some helper functions so we can persist variables."
   ]
  },
  {
   "cell_type": "code",
   "execution_count": null,
   "metadata": {},
   "outputs": [],
   "source": [
    "import dill as pickle\n",
    "\n",
    "\n",
    "def pickle_dict(dict, name):\n",
    "    with open(f\"{name}.pkl\", \"wb\") as file:\n",
    "        pickle.dump(dict, file)\n",
    "\n",
    "\n",
    "def unpickle_dict(name):\n",
    "    with open(f\"{name}.pkl\", \"rb\") as file:\n",
    "        return pickle.load(file)"
   ]
  },
  {
   "cell_type": "code",
   "execution_count": 24,
   "metadata": {},
   "outputs": [],
   "source": [
    "expensive_results = unpickle_dict(\"google_embeddings\")"
   ]
  },
  {
   "cell_type": "markdown",
   "metadata": {},
   "source": [
    "Set up these data ready for training"
   ]
  },
  {
   "cell_type": "code",
   "execution_count": null,
   "metadata": {},
   "outputs": [],
   "source": [
    "import numpy as np\n",
    "import pandas as pd\n",
    "\n",
    "# There were some dates missing from this embeddings dataset, explictly define dates\n",
    "overlap = [\n",
    "    \"2015-03-01\",\n",
    "    \"2015-03-02\",\n",
    "    \"2015-03-06\",\n",
    "    \"2015-03-07\",\n",
    "    \"2015-03-09\",\n",
    "    \"2015-03-10\",\n",
    "    \"2015-03-11\",\n",
    "    \"2015-03-12\",\n",
    "    \"2015-03-13\",\n",
    "    \"2015-03-14\",\n",
    "    \"2015-03-16\",\n",
    "    \"2015-03-18\",\n",
    "    \"2015-03-19\",\n",
    "    \"2015-03-20\",\n",
    "    \"2015-03-21\",\n",
    "    \"2015-03-22\",\n",
    "    \"2015-03-23\",\n",
    "    \"2015-03-25\",\n",
    "    \"2015-03-26\",\n",
    "    \"2015-03-27\",\n",
    "    \"2015-03-28\",\n",
    "    \"2015-03-29\",\n",
    "    \"2015-03-30\",\n",
    "    \"2015-04-01\",\n",
    "    \"2015-04-03\",\n",
    "    \"2015-04-04\",\n",
    "    \"2015-04-05\",\n",
    "    \"2015-04-06\",\n",
    "    \"2015-04-07\",\n",
    "    \"2015-04-08\",\n",
    "    \"2015-04-10\",\n",
    "    \"2015-04-11\",\n",
    "    \"2015-04-12\",\n",
    "    \"2015-04-13\",\n",
    "    \"2015-04-14\",\n",
    "    \"2015-04-15\",\n",
    "    \"2015-04-16\",\n",
    "    \"2015-04-17\",\n",
    "    \"2015-04-18\",\n",
    "    \"2015-04-19\",\n",
    "    \"2015-04-21\",\n",
    "    \"2015-04-22\",\n",
    "    \"2015-04-23\",\n",
    "    \"2015-04-24\",\n",
    "    \"2015-04-25\",\n",
    "    \"2015-04-26\",\n",
    "    \"2015-04-27\",\n",
    "    \"2015-04-28\",\n",
    "    \"2015-04-29\",\n",
    "    \"2015-04-30\",\n",
    "]  # '2015-03-31', '2015-03-24',"
   ]
  },
  {
   "cell_type": "markdown",
   "metadata": {},
   "source": [
    "Collect the F10.7 targets"
   ]
  },
  {
   "cell_type": "code",
   "execution_count": 162,
   "metadata": {},
   "outputs": [],
   "source": [
    "f107 = pd.read_csv(\"f10.7.csv\")\n",
    "f107 = (\n",
    "    f107.reset_index()\n",
    "    .set_index(pd.to_datetime(f107[\"date\"], format=\"%Y%m%d\").dt.strftime(\"%Y-%m-%d\"))\n",
    "    .drop(columns=[\"index\", \"date\"])\n",
    "    .to_dict()[\" f107\"]\n",
    ")\n",
    "f107 = {k: float(v) for k, v in f107.items()}  # if k in overlap}\n",
    "f107 = dict(sorted(f107.items()))\n",
    "\n",
    "pickle_dict(f107, \"f107\")"
   ]
  },
  {
   "cell_type": "markdown",
   "metadata": {},
   "source": [
    "Create the Google embeddings "
   ]
  },
  {
   "cell_type": "code",
   "execution_count": null,
   "metadata": {},
   "outputs": [],
   "source": [
    "google_embeddings_dataloader_ready = {}\n",
    "\n",
    "# for k, v in expensive_results.items():\n",
    "#     ts = k.split('_')[0]\n",
    "#     ts = f\"{ts[:4]}-{ts[4:6]}-{ts[6:8]}\"\n",
    "#     if ts in overlap:\n",
    "#         google_embeddings_dataloader_ready[ts] = np.hstack(v).astype(np.float64)\n",
    "\n",
    "google_latents_dataloader_ready = {}\n",
    "moar_google = unpickle_dict(\"google_embeddings_moar\")\n",
    "f107_for_daily_google = []\n",
    "\n",
    "for k, v in moar_google.items():\n",
    "    ts = k.split(\"_\")[0]\n",
    "    ts = f\"{ts[:4]}-{ts[4:6]}-{ts[6:8]}\"\n",
    "    if ts in f107 and np.all(np.hstack(v) != None):\n",
    "        google_latents_dataloader_ready[k] = np.hstack(v).astype(np.float64)\n",
    "        f107_for_daily_google.append(f107[ts])\n",
    "\n",
    "pickle_dict(\n",
    "    google_embeddings_dataloader_ready, \"google_embeddings_dataloader_ready_matched\"\n",
    ")"
   ]
  },
  {
   "cell_type": "markdown",
   "metadata": {},
   "source": [
    "Create the SDO-FM NVAE embeddings"
   ]
  },
  {
   "cell_type": "code",
   "execution_count": 155,
   "metadata": {},
   "outputs": [],
   "source": [
    "nvae_embeddings_dataloader_ready = {}\n",
    "for i, k in enumerate(useful.keys()):\n",
    "    ts = k  # .split('_')\n",
    "    # if ts in overlap:\n",
    "    nvae_embeddings_dataloader_ready[ts] = embeddings[i, :].astype(np.float64)\n",
    "\n",
    "nvae_embeddings_dataloader_ready = dict(\n",
    "    sorted(nvae_embeddings_dataloader_ready.items())\n",
    ")\n",
    "# pickle_dict(nvae_embeddings_dataloader_ready, 'nvae_latents_dataloader_ready')\n",
    "\n",
    "f107_for_daily_nvae = []\n",
    "nvae_embeddings_dataloader_ready_matched = {}\n",
    "for k, v in nvae_embeddings_dataloader_ready.items():\n",
    "    date = k.split(\"_\")[0]\n",
    "    if date in f107:\n",
    "        f107_for_daily_nvae.append(f107[date])\n",
    "        nvae_embeddings_dataloader_ready_matched[k] = v\n",
    "\n",
    "pickle_dict(\n",
    "    nvae_embeddings_dataloader_ready_matched, \"nvae_embeddings_dataloader_ready_matched\"\n",
    ")"
   ]
  },
  {
   "cell_type": "markdown",
   "metadata": {},
   "source": [
    "## Model construction (start here if not beginning from scratch)\n",
    "Quickly define some helper functions so we can persist variables."
   ]
  },
  {
   "cell_type": "code",
   "execution_count": null,
   "metadata": {},
   "outputs": [],
   "source": [
    "import dill as pickle\n",
    "\n",
    "\n",
    "def pickle_dict(dict, name):\n",
    "    with open(f\"{name}.pkl\", \"wb\") as file:\n",
    "        pickle.dump(dict, file)\n",
    "\n",
    "\n",
    "def unpickle_dict(name):\n",
    "    with open(f\"{name}.pkl\", \"rb\") as file:\n",
    "        return pickle.load(file)"
   ]
  },
  {
   "cell_type": "code",
   "execution_count": 6,
   "metadata": {},
   "outputs": [],
   "source": [
    "import dill as pickle\n",
    "\n",
    "google_embeddings_dataloader_ready_matched = unpickle_dict(\n",
    "    \"google_embeddings_dataloader_ready_matched\"\n",
    ")\n",
    "nvae_embeddings_dataloader_ready_matched = unpickle_dict(\n",
    "    \"nvae_embeddings_dataloader_ready_matched\"\n",
    ")\n",
    "f107 = unpickle_dict(\"f107\")"
   ]
  },
  {
   "cell_type": "code",
   "execution_count": 216,
   "metadata": {},
   "outputs": [
    {
     "data": {
      "text/plain": [
       "(15682, 50, 21808)"
      ]
     },
     "execution_count": 216,
     "metadata": {},
     "output_type": "execute_result"
    }
   ],
   "source": [
    "len(f107), len(google_embeddings_dataloader_ready_matched), len(\n",
    "    nvae_embeddings_dataloader_ready_matched\n",
    ")"
   ]
  },
  {
   "cell_type": "markdown",
   "metadata": {},
   "source": [
    "Define a small module for processing a (embedding, target F10.7) item. "
   ]
  },
  {
   "cell_type": "code",
   "execution_count": null,
   "metadata": {},
   "outputs": [],
   "source": [
    "import pytorch_lightning as pl\n",
    "import torch\n",
    "import torch.nn as nn\n",
    "\n",
    "from torchmetrics import Accuracy\n",
    "\n",
    "torch.set_default_dtype(torch.float64)\n",
    "\n",
    "# Define train/test/val split\n",
    "# The test set will be constructed with the remaining percentage (1 - PROPORTION_TRAIN - PROPORTION_VAL)*100%\n",
    "PROPORTION_TRAIN = 0.67  # 2/3 of data\n",
    "PROPORTION_VAL = 0.1  # 1/10 of data\n",
    "\n",
    "\n",
    "class EmbSolarProxyDataset(torch.utils.data.Dataset):\n",
    "    def __init__(self, data):\n",
    "        super().__init__()\n",
    "        self.data = data\n",
    "\n",
    "    def __len__(self):\n",
    "        return len(self.data)\n",
    "\n",
    "    def __getitem__(self, idx):\n",
    "        return self.data[idx]\n",
    "\n",
    "\n",
    "class EmbSolarProxyDataModule(pl.LightningDataModule):\n",
    "    def __init__(self, emb, tar):\n",
    "        super().__init__()\n",
    "\n",
    "        self.data = []\n",
    "        for i, t in enumerate(emb.items()):\n",
    "            k, v = t\n",
    "            self.data.append((k, v, tar[i]))\n",
    "        self.batch_size = 1\n",
    "        self.num_workers = 16\n",
    "\n",
    "        n = len(self.data)\n",
    "        seed = 0\n",
    "        torch.manual_seed(seed)\n",
    "        train_size = int(PROPORTION_TRAIN * n)\n",
    "        val_size = int(PROPORTION_VAL * n)\n",
    "        test_size = n - train_size - val_size\n",
    "\n",
    "        self.train_data = self.data[train_size:]\n",
    "        self.val_data = []\n",
    "        self.test_data = self.data[: (n - train_size)]\n",
    "\n",
    "        self.train_ds = EmbSolarProxyDataset(self.train_data)\n",
    "        self.val_ds = EmbSolarProxyDataset(self.val_data)\n",
    "        self.test_ds = EmbSolarProxyDataset(self.test_data)\n",
    "\n",
    "    def train_dataloader(self):\n",
    "        return torch.utils.data.DataLoader(\n",
    "            self.train_ds,\n",
    "            batch_size=self.batch_size,\n",
    "            num_workers=self.num_workers,\n",
    "            shuffle=True,\n",
    "            drop_last=True,\n",
    "        )\n",
    "\n",
    "    def val_dataloader(self):\n",
    "        return torch.utils.data.DataLoader(\n",
    "            self.val_ds, batch_size=self.batch_size, num_workers=self.num_workers\n",
    "        )\n",
    "\n",
    "    def test_dataloader(self):\n",
    "        return torch.utils.data.DataLoader(\n",
    "            self.test_ds, batch_size=self.batch_size, num_workers=self.num_workers\n",
    "        )"
   ]
  },
  {
   "cell_type": "markdown",
   "metadata": {},
   "source": [
    "Create a very simple MLP model"
   ]
  },
  {
   "cell_type": "code",
   "execution_count": 168,
   "metadata": {},
   "outputs": [],
   "source": [
    "class MultiLayerPerceptron(pl.LightningModule):\n",
    "    def __init__(\n",
    "        self,\n",
    "        input_dim,\n",
    "        output_dim=1,\n",
    "        hidden_layer_dims=[256, 256, 256],\n",
    "        dropout=0.0,\n",
    "        act=nn.LeakyReLU(negative_slope=0.01),\n",
    "    ):\n",
    "        super().__init__()\n",
    "\n",
    "        # Define the dimensions of the MLP layers\n",
    "        dims = [input_dim] + hidden_layer_dims\n",
    "\n",
    "        # Define the dropout layer\n",
    "        self.dropout = nn.Dropout(p=dropout)\n",
    "\n",
    "        # Define the fully connected layers\n",
    "        self.fcs = nn.ModuleList(\n",
    "            [nn.Linear(dims[i], dims[i + 1]) for i in range(len(dims) - 1)]\n",
    "        )\n",
    "\n",
    "        # Define the activation function\n",
    "        self.act = act\n",
    "        self.acts = nn.ModuleList([self.act for _ in range(len(dims) - 1)])\n",
    "\n",
    "        # Define the output layer\n",
    "        self.fc_out = nn.Linear(dims[-1], output_dim)\n",
    "\n",
    "        # Define the loss function\n",
    "        self.criterion = nn.MSELoss()\n",
    "\n",
    "        # Initialize a dictionary to store test predictions\n",
    "        self.test_preds = {}\n",
    "\n",
    "    def forward(self, x):\n",
    "        # Forward pass through the MLP\n",
    "        for fc, act in zip(self.fcs, self.acts):\n",
    "            d = self.dropout(x)\n",
    "            z = fc(d)\n",
    "            x = act(z)\n",
    "        return self.fc_out(x)\n",
    "\n",
    "    def training_step(self, batch, batch_idx):\n",
    "        # Training step\n",
    "        _, x, y = batch\n",
    "        logits = self(x)\n",
    "        loss = self.criterion(logits, y)\n",
    "        self.log(\"train_loss\", loss, prog_bar=True)\n",
    "        return loss\n",
    "\n",
    "    def validation_step(self, batch, batch_idx):\n",
    "        # Validation step\n",
    "        _, x, y = batch\n",
    "        logits = self(x)\n",
    "        loss = self.criterion(logits, y)\n",
    "        self.log(\"valid_loss\", loss, prog_bar=True)\n",
    "        return loss\n",
    "\n",
    "    def test_step(self, batch, batch_idx):\n",
    "        # Test step\n",
    "        ts, x, y = batch\n",
    "        logits = self(x)\n",
    "        loss = self.criterion(logits, y)\n",
    "        self.log(\"test_loss\", loss, prog_bar=True)\n",
    "        self.test_preds[ts] = [x, y, logits]\n",
    "        return loss\n",
    "\n",
    "    def configure_optimizers(self):\n",
    "        # Configure the optimizer\n",
    "        optimizer = torch.optim.Adam(self.parameters(), lr=0.001)\n",
    "        return optimizer"
   ]
  },
  {
   "cell_type": "markdown",
   "metadata": {},
   "source": [
    "## Training the models\n",
    "Define the data modules for each embedding dataset"
   ]
  },
  {
   "cell_type": "code",
   "execution_count": 167,
   "metadata": {},
   "outputs": [],
   "source": [
    "dm_sdofm = EmbSolarProxyDataModule(\n",
    "    nvae_embeddings_dataloader_ready_matched, f107_for_daily_nvae\n",
    ")\n",
    "dm_google = EmbSolarProxyDataModule(\n",
    "    google_embeddings_dataloader_ready_matched, f107_for_daily_google\n",
    ")"
   ]
  },
  {
   "cell_type": "markdown",
   "metadata": {},
   "source": [
    "Create the models"
   ]
  },
  {
   "cell_type": "code",
   "execution_count": null,
   "metadata": {},
   "outputs": [],
   "source": [
    "model_f107_with_sdofm_embeddings = MultiLayerPerceptron(input_dim=21504)\n",
    "model_f107_with_google_embeddings = MultiLayerPerceptron(input_dim=12672)"
   ]
  },
  {
   "cell_type": "markdown",
   "metadata": {},
   "source": [
    "Train a model on the SDO-FM embeddings"
   ]
  },
  {
   "cell_type": "code",
   "execution_count": null,
   "metadata": {},
   "outputs": [],
   "source": [
    "import os\n",
    "\n",
    "os.environ[\"PJRT_DEVICE\"] = \"GPU\"\n",
    "\n",
    "# If there is a GPU attached, use it\n",
    "if torch.cuda.is_available():\n",
    "    # Devices allow selection of which GPU where mulitple available, precision is floating point accuracy\n",
    "    trainer_sdofm = pl.Trainer(max_epochs=100, devices=[0], precision=32)\n",
    "else:\n",
    "    trainer_sdofm = pl.Trainer(max_epochs=10)\n",
    "\n",
    "# Begin training\n",
    "trainer_sdofm.fit(model=model_f107_with_sdofm_embeddings, datamodule=dm_sdofm)\n",
    "\n",
    "# Save the checkpoint manually (lightning will do this automatically anyway)\n",
    "trainer_sdofm.save_checkpoint(\"nvaef107-e=100.ckpt\")"
   ]
  },
  {
   "cell_type": "markdown",
   "metadata": {},
   "source": [
    "Now that we have a model trained, let's use it to predict over the test set. This is done by using the Pytorch Lightning trainer from above in test mode, it should do all the usual torch requirements like freezing grads, etc."
   ]
  },
  {
   "cell_type": "code",
   "execution_count": 171,
   "metadata": {},
   "outputs": [
    {
     "name": "stderr",
     "output_type": "stream",
     "text": [
      "LOCAL_RANK: 0 - CUDA_VISIBLE_DEVICES: [0]\n"
     ]
    },
    {
     "data": {
      "application/vnd.jupyter.widget-view+json": {
       "model_id": "b8bf01b4cedb45348860cce12e8baafb",
       "version_major": 2,
       "version_minor": 0
      },
      "text/plain": [
       "Testing: |          | 0/? [00:00<?, ?it/s]"
      ]
     },
     "metadata": {},
     "output_type": "display_data"
    },
    {
     "name": "stderr",
     "output_type": "stream",
     "text": [
      "/opt/conda/lib/python3.10/site-packages/torch/nn/modules/loss.py:535: UserWarning: Using a target size (torch.Size([1])) that is different to the input size (torch.Size([1, 1])). This will likely lead to incorrect results due to broadcasting. Please ensure they have the same size.\n",
      "  return F.mse_loss(input, target, reduction=self.reduction)\n"
     ]
    },
    {
     "data": {
      "text/html": [
       "<pre style=\"white-space:pre;overflow-x:auto;line-height:normal;font-family:Menlo,'DejaVu Sans Mono',consolas,'Courier New',monospace\">┏━━━━━━━━━━━━━━━━━━━━━━━━━━━┳━━━━━━━━━━━━━━━━━━━━━━━━━━━┓\n",
       "┃<span style=\"font-weight: bold\">        Test metric        </span>┃<span style=\"font-weight: bold\">       DataLoader 0        </span>┃\n",
       "┡━━━━━━━━━━━━━━━━━━━━━━━━━━━╇━━━━━━━━━━━━━━━━━━━━━━━━━━━┩\n",
       "│<span style=\"color: #008080; text-decoration-color: #008080\">         test_loss         </span>│<span style=\"color: #800080; text-decoration-color: #800080\">     5162.031591234501     </span>│\n",
       "└───────────────────────────┴───────────────────────────┘\n",
       "</pre>\n"
      ],
      "text/plain": [
       "┏━━━━━━━━━━━━━━━━━━━━━━━━━━━┳━━━━━━━━━━━━━━━━━━━━━━━━━━━┓\n",
       "┃\u001b[1m \u001b[0m\u001b[1m       Test metric       \u001b[0m\u001b[1m \u001b[0m┃\u001b[1m \u001b[0m\u001b[1m      DataLoader 0       \u001b[0m\u001b[1m \u001b[0m┃\n",
       "┡━━━━━━━━━━━━━━━━━━━━━━━━━━━╇━━━━━━━━━━━━━━━━━━━━━━━━━━━┩\n",
       "│\u001b[36m \u001b[0m\u001b[36m        test_loss        \u001b[0m\u001b[36m \u001b[0m│\u001b[35m \u001b[0m\u001b[35m    5162.031591234501    \u001b[0m\u001b[35m \u001b[0m│\n",
       "└───────────────────────────┴───────────────────────────┘\n"
      ]
     },
     "metadata": {},
     "output_type": "display_data"
    },
    {
     "data": {
      "text/plain": [
       "[{'test_loss': 5162.031591234501}]"
      ]
     },
     "execution_count": 171,
     "metadata": {},
     "output_type": "execute_result"
    }
   ],
   "source": [
    "test_results = trainer_sdofm.test(model_f107_with_sdofm_embeddings, datamodule=dm_sdofm)\n",
    "test_results"
   ]
  },
  {
   "cell_type": "markdown",
   "metadata": {},
   "source": [
    "Train a model on Google Embeddings"
   ]
  },
  {
   "cell_type": "code",
   "execution_count": 310,
   "metadata": {},
   "outputs": [
    {
     "name": "stderr",
     "output_type": "stream",
     "text": [
      "GPU available: True (cuda), used: True\n",
      "TPU available: False, using: 0 TPU cores\n",
      "HPU available: False, using: 0 HPUs\n",
      "LOCAL_RANK: 0 - CUDA_VISIBLE_DEVICES: [0]\n",
      "\n",
      "  | Name      | Type       | Params | Mode \n",
      "-------------------------------------------------\n",
      "0 | dropout   | Dropout    | 0      | train\n",
      "1 | fcs       | ModuleList | 3.4 M  | train\n",
      "2 | act       | LeakyReLU  | 0      | train\n",
      "3 | acts      | ModuleList | 0      | train\n",
      "4 | fc_out    | Linear     | 257    | train\n",
      "5 | criterion | MSELoss    | 0      | train\n",
      "-------------------------------------------------\n",
      "3.4 M     Trainable params\n",
      "0         Non-trainable params\n",
      "3.4 M     Total params\n",
      "13.505    Total estimated model params size (MB)\n"
     ]
    },
    {
     "data": {
      "application/vnd.jupyter.widget-view+json": {
       "model_id": "e4e3898a1a954b06ac1c987156032b31",
       "version_major": 2,
       "version_minor": 0
      },
      "text/plain": [
       "Sanity Checking: |          | 0/? [00:00<?, ?it/s]"
      ]
     },
     "metadata": {},
     "output_type": "display_data"
    },
    {
     "name": "stderr",
     "output_type": "stream",
     "text": [
      "/opt/conda/lib/python3.10/site-packages/pytorch_lightning/utilities/data.py:105: Total length of `DataLoader` across ranks is zero. Please make sure this was your intention.\n"
     ]
    },
    {
     "data": {
      "application/vnd.jupyter.widget-view+json": {
       "model_id": "bb70617cb77b463580b5f6e8ad51a8c4",
       "version_major": 2,
       "version_minor": 0
      },
      "text/plain": [
       "Training: |          | 0/? [00:00<?, ?it/s]"
      ]
     },
     "metadata": {},
     "output_type": "display_data"
    },
    {
     "name": "stderr",
     "output_type": "stream",
     "text": [
      "/opt/conda/lib/python3.10/site-packages/torch/nn/modules/loss.py:535: UserWarning: Using a target size (torch.Size([1])) that is different to the input size (torch.Size([1, 1])). This will likely lead to incorrect results due to broadcasting. Please ensure they have the same size.\n",
      "  return F.mse_loss(input, target, reduction=self.reduction)\n",
      "`Trainer.fit` stopped: `max_epochs=10` reached.\n"
     ]
    }
   ],
   "source": [
    "import os\n",
    "\n",
    "os.environ[\"PJRT_DEVICE\"] = \"GPU\"\n",
    "\n",
    "# If there is a GPU attached, use it\n",
    "if torch.cuda.is_available():\n",
    "    # Devices allow selection of which GPU where mulitple available, precision is floating point accuracy\n",
    "    trainer_google = pl.Trainer(max_epochs=100, devices=[0], precision=32)\n",
    "else:\n",
    "    trainer_google = pl.Trainer(max_epochs=10)\n",
    "\n",
    "# Begin training\n",
    "trainer_google.fit(model=model_f107_with_google_embeddings, datamodule=dm_google)\n",
    "\n",
    "# Save the checkpoint manually (lightning will do this automatically anyway)\n",
    "trainer_google.save_checkpoint(\"googlef107-e=100.ckpt\")"
   ]
  },
  {
   "cell_type": "code",
   "execution_count": 311,
   "metadata": {},
   "outputs": [
    {
     "name": "stderr",
     "output_type": "stream",
     "text": [
      "LOCAL_RANK: 0 - CUDA_VISIBLE_DEVICES: [0]\n"
     ]
    },
    {
     "data": {
      "application/vnd.jupyter.widget-view+json": {
       "model_id": "64d15949857240979219751f479740b3",
       "version_major": 2,
       "version_minor": 0
      },
      "text/plain": [
       "Testing: |          | 0/? [00:00<?, ?it/s]"
      ]
     },
     "metadata": {},
     "output_type": "display_data"
    },
    {
     "data": {
      "text/html": [
       "<pre style=\"white-space:pre;overflow-x:auto;line-height:normal;font-family:Menlo,'DejaVu Sans Mono',consolas,'Courier New',monospace\">┏━━━━━━━━━━━━━━━━━━━━━━━━━━━┳━━━━━━━━━━━━━━━━━━━━━━━━━━━┓\n",
       "┃<span style=\"font-weight: bold\">        Test metric        </span>┃<span style=\"font-weight: bold\">       DataLoader 0        </span>┃\n",
       "┡━━━━━━━━━━━━━━━━━━━━━━━━━━━╇━━━━━━━━━━━━━━━━━━━━━━━━━━━┩\n",
       "│<span style=\"color: #008080; text-decoration-color: #008080\">         test_loss         </span>│<span style=\"color: #800080; text-decoration-color: #800080\">     447.8582451980212     </span>│\n",
       "└───────────────────────────┴───────────────────────────┘\n",
       "</pre>\n"
      ],
      "text/plain": [
       "┏━━━━━━━━━━━━━━━━━━━━━━━━━━━┳━━━━━━━━━━━━━━━━━━━━━━━━━━━┓\n",
       "┃\u001b[1m \u001b[0m\u001b[1m       Test metric       \u001b[0m\u001b[1m \u001b[0m┃\u001b[1m \u001b[0m\u001b[1m      DataLoader 0       \u001b[0m\u001b[1m \u001b[0m┃\n",
       "┡━━━━━━━━━━━━━━━━━━━━━━━━━━━╇━━━━━━━━━━━━━━━━━━━━━━━━━━━┩\n",
       "│\u001b[36m \u001b[0m\u001b[36m        test_loss        \u001b[0m\u001b[36m \u001b[0m│\u001b[35m \u001b[0m\u001b[35m    447.8582451980212    \u001b[0m\u001b[35m \u001b[0m│\n",
       "└───────────────────────────┴───────────────────────────┘\n"
      ]
     },
     "metadata": {},
     "output_type": "display_data"
    },
    {
     "data": {
      "text/plain": [
       "[{'test_loss': 447.8582451980212}]"
      ]
     },
     "execution_count": 311,
     "metadata": {},
     "output_type": "execute_result"
    }
   ],
   "source": [
    "trainer_google.test(model_f107_with_google_embeddings, datamodule=dm_google)"
   ]
  },
  {
   "cell_type": "markdown",
   "metadata": {},
   "source": [
    "## Visualization for comparison "
   ]
  },
  {
   "cell_type": "markdown",
   "metadata": {},
   "source": [
    "Collect the Google Embeddings model predictions"
   ]
  },
  {
   "cell_type": "code",
   "execution_count": 312,
   "metadata": {},
   "outputs": [],
   "source": [
    "tp_google = model_f107_with_google_embeddings.test_preds\n",
    "tp_google = dict(sorted(tp_google.items()))\n",
    "y_google, preds_google = [], []\n",
    "\n",
    "for i in tp_google.values():\n",
    "    y_google.append(i[1].cpu().detach().numpy()[0])\n",
    "    preds_google.append(i[2].cpu().detach().numpy()[0])"
   ]
  },
  {
   "cell_type": "code",
   "execution_count": 314,
   "metadata": {},
   "outputs": [],
   "source": [
    "import pandas as pd\n",
    "\n",
    "# Clean up the date format on the keys\n",
    "tpg = [pd.to_datetime(i[0], format=\"%Y%m%d_%H:%M:%S\") for i in tp_google.keys()]"
   ]
  },
  {
   "cell_type": "markdown",
   "metadata": {},
   "source": [
    "Collect the SDOFM model predictions"
   ]
  },
  {
   "cell_type": "code",
   "execution_count": null,
   "metadata": {},
   "outputs": [],
   "source": [
    "tp_nvae = model_f107_with_sdofm_embeddings.test_preds\n",
    "\n",
    "y_nvae, preds_nvae = [], []\n",
    "for i in tp_nvae.values():\n",
    "    y_nvae.append(i[1].cpu().detach().numpy()[0])\n",
    "    preds_nvae.append(i[2].cpu().detach().numpy()[0])"
   ]
  },
  {
   "cell_type": "markdown",
   "metadata": {},
   "source": [
    "Produce the full comparison plot"
   ]
  },
  {
   "cell_type": "code",
   "execution_count": 315,
   "metadata": {},
   "outputs": [
    {
     "name": "stderr",
     "output_type": "stream",
     "text": [
      "WARNING:matplotlib.font_manager:findfont: Font family 'Times New Roman' not found.\n",
      "WARNING:matplotlib.font_manager:findfont: Font family 'Times New Roman' not found.\n",
      "WARNING:matplotlib.font_manager:findfont: Font family 'Times New Roman' not found.\n",
      "WARNING:matplotlib.font_manager:findfont: Font family 'Times New Roman' not found.\n",
      "WARNING:matplotlib.font_manager:findfont: Font family 'Times New Roman' not found.\n",
      "WARNING:matplotlib.font_manager:findfont: Font family 'Times New Roman' not found.\n",
      "WARNING:matplotlib.font_manager:findfont: Font family 'Times New Roman' not found.\n",
      "WARNING:matplotlib.font_manager:findfont: Font family 'Times New Roman' not found.\n",
      "WARNING:matplotlib.font_manager:findfont: Font family 'Times New Roman' not found.\n",
      "WARNING:matplotlib.font_manager:findfont: Font family 'Times New Roman' not found.\n",
      "WARNING:matplotlib.font_manager:findfont: Font family 'Times New Roman' not found.\n",
      "WARNING:matplotlib.font_manager:findfont: Font family 'Times New Roman' not found.\n",
      "WARNING:matplotlib.font_manager:findfont: Font family 'Times New Roman' not found.\n",
      "WARNING:matplotlib.font_manager:findfont: Font family 'Times New Roman' not found.\n",
      "WARNING:matplotlib.font_manager:findfont: Font family 'Times New Roman' not found.\n",
      "WARNING:matplotlib.font_manager:findfont: Font family 'Times New Roman' not found.\n",
      "WARNING:matplotlib.font_manager:findfont: Font family 'Times New Roman' not found.\n",
      "WARNING:matplotlib.font_manager:findfont: Font family 'Times New Roman' not found.\n",
      "WARNING:matplotlib.font_manager:findfont: Font family 'Times New Roman' not found.\n",
      "WARNING:matplotlib.font_manager:findfont: Font family 'Times New Roman' not found.\n",
      "WARNING:matplotlib.font_manager:findfont: Font family 'Times New Roman' not found.\n",
      "WARNING:matplotlib.font_manager:findfont: Font family 'Times New Roman' not found.\n",
      "WARNING:matplotlib.font_manager:findfont: Font family 'Times New Roman' not found.\n",
      "WARNING:matplotlib.font_manager:findfont: Font family 'Times New Roman' not found.\n",
      "WARNING:matplotlib.font_manager:findfont: Font family 'Times New Roman' not found.\n",
      "WARNING:matplotlib.font_manager:findfont: Font family 'Times New Roman' not found.\n",
      "WARNING:matplotlib.font_manager:findfont: Font family 'Times New Roman' not found.\n",
      "WARNING:matplotlib.font_manager:findfont: Font family 'Times New Roman' not found.\n",
      "WARNING:matplotlib.font_manager:findfont: Font family 'Times New Roman' not found.\n",
      "WARNING:matplotlib.font_manager:findfont: Font family 'Times New Roman' not found.\n",
      "WARNING:matplotlib.font_manager:findfont: Font family 'Times New Roman' not found.\n",
      "WARNING:matplotlib.font_manager:findfont: Font family 'Times New Roman' not found.\n",
      "WARNING:matplotlib.font_manager:findfont: Font family 'Times New Roman' not found.\n",
      "WARNING:matplotlib.font_manager:findfont: Font family 'Times New Roman' not found.\n",
      "WARNING:matplotlib.font_manager:findfont: Font family 'Times New Roman' not found.\n",
      "WARNING:matplotlib.font_manager:findfont: Font family 'Times New Roman' not found.\n",
      "WARNING:matplotlib.font_manager:findfont: Font family 'Times New Roman' not found.\n",
      "WARNING:matplotlib.font_manager:findfont: Font family 'Times New Roman' not found.\n",
      "WARNING:matplotlib.font_manager:findfont: Font family 'Times New Roman' not found.\n",
      "WARNING:matplotlib.font_manager:findfont: Font family 'Times New Roman' not found.\n",
      "WARNING:matplotlib.font_manager:findfont: Font family 'Times New Roman' not found.\n",
      "WARNING:matplotlib.font_manager:findfont: Font family 'Times New Roman' not found.\n",
      "WARNING:matplotlib.font_manager:findfont: Font family 'Times New Roman' not found.\n",
      "WARNING:matplotlib.font_manager:findfont: Font family 'Times New Roman' not found.\n",
      "WARNING:matplotlib.font_manager:findfont: Font family 'Times New Roman' not found.\n",
      "WARNING:matplotlib.font_manager:findfont: Font family 'Times New Roman' not found.\n",
      "WARNING:matplotlib.font_manager:findfont: Font family 'Times New Roman' not found.\n",
      "WARNING:matplotlib.font_manager:findfont: Font family 'Times New Roman' not found.\n",
      "WARNING:matplotlib.font_manager:findfont: Font family 'Times New Roman' not found.\n",
      "WARNING:matplotlib.font_manager:findfont: Font family 'Times New Roman' not found.\n",
      "WARNING:matplotlib.font_manager:findfont: Font family 'Times New Roman' not found.\n",
      "WARNING:matplotlib.font_manager:findfont: Font family 'Times New Roman' not found.\n",
      "WARNING:matplotlib.font_manager:findfont: Font family 'Times New Roman' not found.\n",
      "WARNING:matplotlib.font_manager:findfont: Font family 'Times New Roman' not found.\n",
      "WARNING:matplotlib.font_manager:findfont: Font family 'Times New Roman' not found.\n",
      "WARNING:matplotlib.font_manager:findfont: Font family 'Times New Roman' not found.\n",
      "WARNING:matplotlib.font_manager:findfont: Font family 'Times New Roman' not found.\n",
      "WARNING:matplotlib.font_manager:findfont: Font family 'Times New Roman' not found.\n",
      "WARNING:matplotlib.font_manager:findfont: Font family 'Times New Roman' not found.\n",
      "WARNING:matplotlib.font_manager:findfont: Font family 'Times New Roman' not found.\n",
      "WARNING:matplotlib.font_manager:findfont: Font family 'Times New Roman' not found.\n",
      "WARNING:matplotlib.font_manager:findfont: Font family 'Times New Roman' not found.\n",
      "WARNING:matplotlib.font_manager:findfont: Font family 'Times New Roman' not found.\n",
      "WARNING:matplotlib.font_manager:findfont: Font family 'Times New Roman' not found.\n",
      "WARNING:matplotlib.font_manager:findfont: Font family 'Times New Roman' not found.\n",
      "WARNING:matplotlib.font_manager:findfont: Font family 'Times New Roman' not found.\n",
      "WARNING:matplotlib.font_manager:findfont: Font family 'Times New Roman' not found.\n",
      "WARNING:matplotlib.font_manager:findfont: Font family 'Times New Roman' not found.\n",
      "WARNING:matplotlib.font_manager:findfont: Font family 'Times New Roman' not found.\n",
      "WARNING:matplotlib.font_manager:findfont: Font family 'Times New Roman' not found.\n",
      "WARNING:matplotlib.font_manager:findfont: Font family 'Times New Roman' not found.\n",
      "WARNING:matplotlib.font_manager:findfont: Font family 'Times New Roman' not found.\n",
      "WARNING:matplotlib.font_manager:findfont: Font family 'Times New Roman' not found.\n",
      "WARNING:matplotlib.font_manager:findfont: Font family 'Times New Roman' not found.\n",
      "WARNING:matplotlib.font_manager:findfont: Font family 'Times New Roman' not found.\n",
      "WARNING:matplotlib.font_manager:findfont: Font family 'Times New Roman' not found.\n",
      "WARNING:matplotlib.font_manager:findfont: Font family 'Times New Roman' not found.\n",
      "WARNING:matplotlib.font_manager:findfont: Font family 'Times New Roman' not found.\n",
      "WARNING:matplotlib.font_manager:findfont: Font family 'Times New Roman' not found.\n",
      "WARNING:matplotlib.font_manager:findfont: Font family 'Times New Roman' not found.\n",
      "WARNING:matplotlib.font_manager:findfont: Font family 'Times New Roman' not found.\n",
      "WARNING:matplotlib.font_manager:findfont: Font family 'Times New Roman' not found.\n",
      "WARNING:matplotlib.font_manager:findfont: Font family 'Times New Roman' not found.\n",
      "WARNING:matplotlib.font_manager:findfont: Font family 'Times New Roman' not found.\n",
      "WARNING:matplotlib.font_manager:findfont: Font family 'Times New Roman' not found.\n",
      "WARNING:matplotlib.font_manager:findfont: Font family 'Times New Roman' not found.\n",
      "WARNING:matplotlib.font_manager:findfont: Font family 'Times New Roman' not found.\n",
      "WARNING:matplotlib.font_manager:findfont: Font family 'Times New Roman' not found.\n",
      "WARNING:matplotlib.font_manager:findfont: Font family 'Times New Roman' not found.\n",
      "WARNING:matplotlib.font_manager:findfont: Font family 'Times New Roman' not found.\n",
      "WARNING:matplotlib.font_manager:findfont: Font family 'Times New Roman' not found.\n",
      "WARNING:matplotlib.font_manager:findfont: Font family 'Times New Roman' not found.\n",
      "WARNING:matplotlib.font_manager:findfont: Font family 'Times New Roman' not found.\n",
      "WARNING:matplotlib.font_manager:findfont: Font family 'Times New Roman' not found.\n",
      "WARNING:matplotlib.font_manager:findfont: Font family 'Times New Roman' not found.\n",
      "WARNING:matplotlib.font_manager:findfont: Font family 'Times New Roman' not found.\n",
      "WARNING:matplotlib.font_manager:findfont: Font family 'Times New Roman' not found.\n",
      "WARNING:matplotlib.font_manager:findfont: Font family 'Times New Roman' not found.\n",
      "WARNING:matplotlib.font_manager:findfont: Font family 'Times New Roman' not found.\n",
      "WARNING:matplotlib.font_manager:findfont: Font family 'Times New Roman' not found.\n",
      "WARNING:matplotlib.font_manager:findfont: Font family 'Times New Roman' not found.\n",
      "WARNING:matplotlib.font_manager:findfont: Font family 'Times New Roman' not found.\n",
      "WARNING:matplotlib.font_manager:findfont: Font family 'Times New Roman' not found.\n",
      "WARNING:matplotlib.font_manager:findfont: Font family 'Times New Roman' not found.\n",
      "WARNING:matplotlib.font_manager:findfont: Font family 'Times New Roman' not found.\n",
      "WARNING:matplotlib.font_manager:findfont: Font family 'Times New Roman' not found.\n",
      "WARNING:matplotlib.font_manager:findfont: Font family 'Times New Roman' not found.\n",
      "WARNING:matplotlib.font_manager:findfont: Font family 'Times New Roman' not found.\n",
      "WARNING:matplotlib.font_manager:findfont: Font family 'Times New Roman' not found.\n",
      "WARNING:matplotlib.font_manager:findfont: Font family 'Times New Roman' not found.\n",
      "WARNING:matplotlib.font_manager:findfont: Font family 'Times New Roman' not found.\n",
      "WARNING:matplotlib.font_manager:findfont: Font family 'Times New Roman' not found.\n",
      "WARNING:matplotlib.font_manager:findfont: Font family 'Times New Roman' not found.\n",
      "WARNING:matplotlib.font_manager:findfont: Font family 'Times New Roman' not found.\n",
      "WARNING:matplotlib.font_manager:findfont: Font family 'Times New Roman' not found.\n"
     ]
    },
    {
     "data": {
      "image/png": "[encoded data removed]",
      "text/plain": [
       "<Figure size 1000x500 with 1 Axes>"
      ]
     },
     "metadata": {},
     "output_type": "display_data"
    }
   ],
   "source": [
    "import matplotlib.pyplot as plt\n",
    "\n",
    "fig, ax = plt.subplots(figsize=(10, 5))\n",
    "# plt.plot([pd.to_datetime(i, format=\"%Y-%m-%d_%H:%M:%S\") for i in nvae_latents_dataloader_ready_matched.keys()], f107_for_daily_nvae, label=\"F10.7 (daily)\")\n",
    "plt.plot(\n",
    "    [\n",
    "        pd.to_datetime(i, format=\"%Y-%m-%d_%H:%M:%S\")\n",
    "        for i in nvae_embeddings_dataloader_ready_matched.keys()\n",
    "    ],\n",
    "    f107_for_daily_nvae,\n",
    "    label=\"F10.7 (daily)\",\n",
    "    linewidth=1,\n",
    "    c=\"black\",\n",
    ")\n",
    "p_x = [pd.to_datetime(i[0], format=\"%Y-%m-%d_%H:%M:%S\") for i in tp_nvae.keys()]\n",
    "plt.plot(\n",
    "    p_x, preds_nvae, label=\"SDOFM NVAE embeddings (hourly)\", linewidth=0.5, c=\"green\"\n",
    ")\n",
    "plt.plot(\n",
    "    tpg,\n",
    "    np.array(preds_google).reshape(-1),\n",
    "    label=\"Google latents (hourly)\",\n",
    "    linewidth=1,\n",
    "    c=\"red\",\n",
    ")\n",
    "plt.legend()\n",
    "plt.xticks(rotation=290)\n",
    "plt.ylabel(\"F10.7\")\n",
    "plt.xlabel(\"Date\")\n",
    "plt.title(\"Simple MLP of latents trained to 100 epochs\")\n",
    "# plt.xlim((np.min(p_x), np.max(p_x)))\n",
    "plt.show()"
   ]
  },
  {
   "cell_type": "code",
   "execution_count": 207,
   "metadata": {},
   "outputs": [
    {
     "name": "stderr",
     "output_type": "stream",
     "text": [
      "WARNING:matplotlib.font_manager:findfont: Font family 'Times New Roman' not found.\n",
      "WARNING:matplotlib.font_manager:findfont: Font family 'Times New Roman' not found.\n",
      "WARNING:matplotlib.font_manager:findfont: Font family 'Times New Roman' not found.\n",
      "WARNING:matplotlib.font_manager:findfont: Font family 'Times New Roman' not found.\n",
      "WARNING:matplotlib.font_manager:findfont: Font family 'Times New Roman' not found.\n",
      "WARNING:matplotlib.font_manager:findfont: Font family 'Times New Roman' not found.\n",
      "WARNING:matplotlib.font_manager:findfont: Font family 'Times New Roman' not found.\n",
      "WARNING:matplotlib.font_manager:findfont: Font family 'Times New Roman' not found.\n",
      "WARNING:matplotlib.font_manager:findfont: Font family 'Times New Roman' not found.\n",
      "WARNING:matplotlib.font_manager:findfont: Font family 'Times New Roman' not found.\n",
      "WARNING:matplotlib.font_manager:findfont: Font family 'Times New Roman' not found.\n",
      "WARNING:matplotlib.font_manager:findfont: Font family 'Times New Roman' not found.\n",
      "WARNING:matplotlib.font_manager:findfont: Font family 'Times New Roman' not found.\n",
      "WARNING:matplotlib.font_manager:findfont: Font family 'Times New Roman' not found.\n",
      "WARNING:matplotlib.font_manager:findfont: Font family 'Times New Roman' not found.\n",
      "WARNING:matplotlib.font_manager:findfont: Font family 'Times New Roman' not found.\n",
      "WARNING:matplotlib.font_manager:findfont: Font family 'Times New Roman' not found.\n",
      "WARNING:matplotlib.font_manager:findfont: Font family 'Times New Roman' not found.\n",
      "WARNING:matplotlib.font_manager:findfont: Font family 'Times New Roman' not found.\n",
      "WARNING:matplotlib.font_manager:findfont: Font family 'Times New Roman' not found.\n",
      "WARNING:matplotlib.font_manager:findfont: Font family 'Times New Roman' not found.\n",
      "WARNING:matplotlib.font_manager:findfont: Font family 'Times New Roman' not found.\n",
      "WARNING:matplotlib.font_manager:findfont: Font family 'Times New Roman' not found.\n",
      "WARNING:matplotlib.font_manager:findfont: Font family 'Times New Roman' not found.\n",
      "WARNING:matplotlib.font_manager:findfont: Font family 'Times New Roman' not found.\n",
      "WARNING:matplotlib.font_manager:findfont: Font family 'Times New Roman' not found.\n",
      "WARNING:matplotlib.font_manager:findfont: Font family 'Times New Roman' not found.\n",
      "WARNING:matplotlib.font_manager:findfont: Font family 'Times New Roman' not found.\n",
      "WARNING:matplotlib.font_manager:findfont: Font family 'Times New Roman' not found.\n",
      "WARNING:matplotlib.font_manager:findfont: Font family 'Times New Roman' not found.\n",
      "WARNING:matplotlib.font_manager:findfont: Font family 'Times New Roman' not found.\n",
      "WARNING:matplotlib.font_manager:findfont: Font family 'Times New Roman' not found.\n",
      "WARNING:matplotlib.font_manager:findfont: Font family 'Times New Roman' not found.\n",
      "WARNING:matplotlib.font_manager:findfont: Font family 'Times New Roman' not found.\n",
      "WARNING:matplotlib.font_manager:findfont: Font family 'Times New Roman' not found.\n",
      "WARNING:matplotlib.font_manager:findfont: Font family 'Times New Roman' not found.\n",
      "WARNING:matplotlib.font_manager:findfont: Font family 'Times New Roman' not found.\n",
      "WARNING:matplotlib.font_manager:findfont: Font family 'Times New Roman' not found.\n",
      "WARNING:matplotlib.font_manager:findfont: Font family 'Times New Roman' not found.\n",
      "WARNING:matplotlib.font_manager:findfont: Font family 'Times New Roman' not found.\n",
      "WARNING:matplotlib.font_manager:findfont: Font family 'Times New Roman' not found.\n",
      "WARNING:matplotlib.font_manager:findfont: Font family 'Times New Roman' not found.\n",
      "WARNING:matplotlib.font_manager:findfont: Font family 'Times New Roman' not found.\n",
      "WARNING:matplotlib.font_manager:findfont: Font family 'Times New Roman' not found.\n",
      "WARNING:matplotlib.font_manager:findfont: Font family 'Times New Roman' not found.\n",
      "WARNING:matplotlib.font_manager:findfont: Font family 'Times New Roman' not found.\n",
      "WARNING:matplotlib.font_manager:findfont: Font family 'Times New Roman' not found.\n",
      "WARNING:matplotlib.font_manager:findfont: Font family 'Times New Roman' not found.\n",
      "WARNING:matplotlib.font_manager:findfont: Font family 'Times New Roman' not found.\n",
      "WARNING:matplotlib.font_manager:findfont: Font family 'Times New Roman' not found.\n",
      "WARNING:matplotlib.font_manager:findfont: Font family 'Times New Roman' not found.\n",
      "WARNING:matplotlib.font_manager:findfont: Font family 'Times New Roman' not found.\n",
      "WARNING:matplotlib.font_manager:findfont: Font family 'Times New Roman' not found.\n",
      "WARNING:matplotlib.font_manager:findfont: Font family 'Times New Roman' not found.\n",
      "WARNING:matplotlib.font_manager:findfont: Font family 'Times New Roman' not found.\n",
      "WARNING:matplotlib.font_manager:findfont: Font family 'Times New Roman' not found.\n",
      "WARNING:matplotlib.font_manager:findfont: Font family 'Times New Roman' not found.\n",
      "WARNING:matplotlib.font_manager:findfont: Font family 'Times New Roman' not found.\n",
      "WARNING:matplotlib.font_manager:findfont: Font family 'Times New Roman' not found.\n",
      "WARNING:matplotlib.font_manager:findfont: Font family 'Times New Roman' not found.\n",
      "WARNING:matplotlib.font_manager:findfont: Font family 'Times New Roman' not found.\n",
      "WARNING:matplotlib.font_manager:findfont: Font family 'Times New Roman' not found.\n",
      "WARNING:matplotlib.font_manager:findfont: Font family 'Times New Roman' not found.\n",
      "WARNING:matplotlib.font_manager:findfont: Font family 'Times New Roman' not found.\n",
      "WARNING:matplotlib.font_manager:findfont: Font family 'Times New Roman' not found.\n",
      "WARNING:matplotlib.font_manager:findfont: Font family 'Times New Roman' not found.\n",
      "WARNING:matplotlib.font_manager:findfont: Font family 'Times New Roman' not found.\n",
      "WARNING:matplotlib.font_manager:findfont: Font family 'Times New Roman' not found.\n",
      "WARNING:matplotlib.font_manager:findfont: Font family 'Times New Roman' not found.\n",
      "WARNING:matplotlib.font_manager:findfont: Font family 'Times New Roman' not found.\n",
      "WARNING:matplotlib.font_manager:findfont: Font family 'Times New Roman' not found.\n",
      "WARNING:matplotlib.font_manager:findfont: Font family 'Times New Roman' not found.\n",
      "WARNING:matplotlib.font_manager:findfont: Font family 'Times New Roman' not found.\n",
      "WARNING:matplotlib.font_manager:findfont: Font family 'Times New Roman' not found.\n",
      "WARNING:matplotlib.font_manager:findfont: Font family 'Times New Roman' not found.\n",
      "WARNING:matplotlib.font_manager:findfont: Font family 'Times New Roman' not found.\n",
      "WARNING:matplotlib.font_manager:findfont: Font family 'Times New Roman' not found.\n",
      "WARNING:matplotlib.font_manager:findfont: Font family 'Times New Roman' not found.\n",
      "WARNING:matplotlib.font_manager:findfont: Font family 'Times New Roman' not found.\n",
      "WARNING:matplotlib.font_manager:findfont: Font family 'Times New Roman' not found.\n",
      "WARNING:matplotlib.font_manager:findfont: Font family 'Times New Roman' not found.\n",
      "WARNING:matplotlib.font_manager:findfont: Font family 'Times New Roman' not found.\n",
      "WARNING:matplotlib.font_manager:findfont: Font family 'Times New Roman' not found.\n",
      "WARNING:matplotlib.font_manager:findfont: Font family 'Times New Roman' not found.\n",
      "WARNING:matplotlib.font_manager:findfont: Font family 'Times New Roman' not found.\n",
      "WARNING:matplotlib.font_manager:findfont: Font family 'Times New Roman' not found.\n",
      "WARNING:matplotlib.font_manager:findfont: Font family 'Times New Roman' not found.\n"
     ]
    },
    {
     "data": {
      "image/png": "[encoded data removed]",
      "text/plain": [
       "<Figure size 1000x500 with 1 Axes>"
      ]
     },
     "metadata": {},
     "output_type": "display_data"
    }
   ],
   "source": [
    "import matplotlib.pyplot as plt\n",
    "\n",
    "fig, ax = plt.subplots(figsize=(10, 5))\n",
    "\n",
    "plt.plot(\n",
    "    [\n",
    "        pd.to_datetime(i, format=\"%Y-%m-%d_%H:%M:%S\")\n",
    "        for i in nvae_embeddings_dataloader_ready_matched.keys()\n",
    "    ],\n",
    "    f107_for_daily_nvae,\n",
    "    label=\"F10.7 (daily)\",\n",
    "    linewidth=1,\n",
    "    c=\"black\",\n",
    ")\n",
    "p_x = [pd.to_datetime(i[0], format=\"%Y-%m-%d_%H:%M:%S\") for i in tp_nvae.keys()]\n",
    "plt.plot(\n",
    "    p_x, preds_nvae, label=\"SDO-FM NVAE latents (hourly)\", linewidth=0.5, c=\"green\"\n",
    ")\n",
    "plt.legend()\n",
    "plt.xticks(rotation=290)\n",
    "plt.ylabel(\"F10.7\")\n",
    "plt.xlabel(\"Date\")\n",
    "plt.title(\"Simple MLP of latents trained to 100 epochs\")\n",
    "plt.xlim((np.min(p_x), np.max(p_x)))\n",
    "plt.show()"
   ]
  },
  {
   "cell_type": "markdown",
   "metadata": {},
   "source": [
    "That's all folks! Read on into the appendix to validate the creation of the Google embeddings. Do reach out to us at team@trillium.tech with any feedback!\n",
    "\n",
    "#### Acknowledgements\n",
    "This work is the research product of the SDO-FM: A Multi-Modal Foundation Model POC for SDO (Grant#: 80NSSC24K0701); funded and supported by NASA. The research and its outputs have been designed, managed and delivered by Trillium Technologies Inc.\n",
    "\n",
    "**Authors**\n",
    "\n",
    "James Walsh, University of Cambridge  \n",
    "Daniel Gass, University of Central Lancashire  \n",
    "Raul Ramos Pollan, Universidad Industrial de Santander  \n",
    "Richard Galvez, Pure Storage  \n",
    "Paul Wright, Dublin Institute for Advanced Studies  \n",
    "Atılım Güneş Baydin, University of Oxford  \n",
    "Noah Kasmanoff, AE Studio   \n",
    "Jason Naradowsky, University of Tokyo  \n",
    "\n",
    "PI: Anne Spalding, Trillium Technolgies Inc  \n",
    "Co-I: James Parr, Trillium Technologies Inc "
   ]
  },
  {
   "cell_type": "markdown",
   "metadata": {},
   "source": [
    "# Appendix"
   ]
  },
  {
   "cell_type": "markdown",
   "metadata": {},
   "source": [
    "## Google Image Embeddings\n",
    "### Make PNGs from SDOML"
   ]
  },
  {
   "cell_type": "code",
   "execution_count": 1,
   "metadata": {},
   "outputs": [],
   "source": [
    "import os\n",
    "from pathlib import Path\n",
    "\n",
    "import pytorch_lightning as pl\n",
    "import torch\n",
    "import wandb\n",
    "from sdofm import utils\n",
    "from sdofm.datasets import SDOMLDataModule\n",
    "from sdofm.pretraining import SAMAE"
   ]
  },
  {
   "cell_type": "code",
   "execution_count": 268,
   "metadata": {},
   "outputs": [
    {
     "name": "stdout",
     "output_type": "stream",
     "text": [
      "[* CACHE SYSTEM *] Found cached index data in /mnt/sdoml/cache/aligndata_AIA_FULL_12min.csv.\n",
      "[* CACHE SYSTEM *] Found cached normalization data in /mnt/sdoml/cache/normalizations_AIA_FULL_12min.json.\n",
      "[* CACHE SYSTEM *] Found cached HMI mask data in /mnt/sdoml/cache/hmi_mask_512x512.npy.\n"
     ]
    }
   ],
   "source": [
    "import omegaconf\n",
    "from sdofm.datasets import (\n",
    "    SDOMLDataModule,\n",
    "    HelioProjectedSDOMLDataModule,\n",
    "    NonLinearSDOMLDataModule,\n",
    "    TimestampedSDOMLDataModule,\n",
    ")\n",
    "import os\n",
    "\n",
    "# Load in an experiment configuration file for a dataloader for SDOML.\n",
    "# We're only using this to define the dataloader, all the typical\n",
    "# model code is irrelevant.\n",
    "cfg_path = \"../experiments/for_google_emb.yaml\"\n",
    "cfg = omegaconf.OmegaConf.load(cfg_path)\n",
    "\n",
    "# Use the TimestampedSDOML loader for optional timestamp verification.\n",
    "data_module = TimestampedSDOMLDataModule(\n",
    "    hmi_path=None,\n",
    "    aia_path=os.path.join(\n",
    "        cfg.data.sdoml.base_directory,\n",
    "        cfg.data.sdoml.sub_directory.aia,\n",
    "    ),\n",
    "    eve_path=None,\n",
    "    components=cfg.data.sdoml.components,\n",
    "    wavelengths=cfg.data.sdoml.wavelengths,\n",
    "    ions=cfg.data.sdoml.ions,\n",
    "    frequency=cfg.data.sdoml.frequency,\n",
    "    batch_size=cfg.model.opt.batch_size,\n",
    "    num_workers=cfg.data.num_workers,\n",
    "    val_months=cfg.data.month_splits.val,\n",
    "    test_months=cfg.data.month_splits.test,\n",
    "    holdout_months=cfg.data.month_splits.holdout,\n",
    "    cache_dir=os.path.join(\n",
    "        cfg.data.sdoml.base_directory,\n",
    "        cfg.data.sdoml.sub_directory.cache,\n",
    "    ),\n",
    "    min_date=cfg.data.min_date,\n",
    "    max_date=cfg.data.max_date,\n",
    "    num_frames=cfg.data.num_frames,\n",
    "    drop_frame_dim=cfg.data.drop_frame_dim,\n",
    ")\n",
    "data_module.setup()"
   ]
  },
  {
   "cell_type": "code",
   "execution_count": null,
   "metadata": {},
   "outputs": [],
   "source": [
    "import sunpy.visualization.colormaps as sunpycm\n",
    "import matplotlib.pyplot as plt\n",
    "\n",
    "# Collect suitable color maps from sunpy\n",
    "cms = [\n",
    "    # sunpycm.cmlist.get(\"hmimag\"),\n",
    "    # sunpycm.cmlist.get(\"hmimag\"),\n",
    "    # sunpycm.cmlist.get(\"hmimag\"),\n",
    "    sunpycm.cmlist.get(\"sdoaia94\"),\n",
    "    sunpycm.cmlist.get(\"sdoaia131\"),\n",
    "    sunpycm.cmlist.get(\"sdoaia171\"),\n",
    "    sunpycm.cmlist.get(\"sdoaia193\"),\n",
    "    sunpycm.cmlist.get(\"sdoaia211\"),\n",
    "    sunpycm.cmlist.get(\"sdoaia304\"),\n",
    "    sunpycm.cmlist.get(\"sdoaia335\"),\n",
    "    sunpycm.cmlist.get(\"sdoaia1600\"),\n",
    "    sunpycm.cmlist.get(\"sdoaia1700\"),\n",
    "]\n",
    "\n",
    "# List of wavelengths for file names\n",
    "names = [\"94\", \"131\", \"171\", \"193\", \"211\", \"304\", \"335\", \"1600\", \"1700\"]\n",
    "\n",
    "# Iterate through our validation dataset which has been set for our St. Patrick's Day storm\n",
    "# We use the valid (or test) dataset because shuffling is disabled, unlike for training.\n",
    "for r in iter(data_module.valid_ds):\n",
    "    imgs, timestamp = r[\"image_stack\"], r[\"timestamps\"][0].replace(\" \", \"_\")\n",
    "    for i in range(9):\n",
    "        plt.imsave(\n",
    "            f\"imgs_for_google_emb/{timestamp}-{names[i]}.png\",\n",
    "            imgs[\"image_stack\"][i, 0, :, :],\n",
    "            cmap=cms[0],\n",
    "        )"
   ]
  },
  {
   "cell_type": "markdown",
   "metadata": {},
   "source": [
    "Upload those to a GCP Bucket. This done with the CLI, specifically with `gcloud storage cp imgs_for_google_emb/* gs://sdofm-vertexai-emb-test`, where `sdofm-vertexai-emb-test` is our GCP bucket."
   ]
  },
  {
   "cell_type": "markdown",
   "metadata": {},
   "source": [
    "### Send API requests"
   ]
  },
  {
   "cell_type": "code",
   "execution_count": 169,
   "metadata": {},
   "outputs": [],
   "source": [
    "import requests\n",
    "\n",
    "\n",
    "# This function returns the API request JSON for submission to Vertex AI with\n",
    "# our png location and embedding dimension request size.\n",
    "def make_request(file):\n",
    "    return {\n",
    "        \"instances\": [\n",
    "            {\n",
    "                \"image\": {\n",
    "                    \"gcsUri\": f\"gs://sdofm-vertexai-emb-test/{file}.png\",\n",
    "                },\n",
    "            },\n",
    "        ],\n",
    "        \"parameters\": {\"dimension\": 1408},\n",
    "    }"
   ]
  },
  {
   "cell_type": "code",
   "execution_count": 177,
   "metadata": {},
   "outputs": [
    {
     "name": "stdout",
     "output_type": "stream",
     "text": [
      "40 completed which is 0.003306% completed\n",
      "80 completed which is 0.007111% completed\n",
      "120 completed which is 0.010564% completed\n",
      "160 completed which is 0.014646% completed\n",
      "200 completed which is 0.018654% completed\n",
      "240 completed which is 0.023050% completed\n",
      "280 completed which is 0.026928% completed\n",
      "320 completed which is 0.031342% completed\n",
      "360 completed which is 0.035941% completed\n",
      "400 completed which is 0.039709% completed\n",
      "440 completed which is 0.044031% completed\n",
      "480 completed which is 0.047688% completed\n",
      "520 completed which is 0.051732% completed\n",
      "560 completed which is 0.054835% completed\n",
      "600 completed which is 0.058437% completed\n",
      "640 completed which is 0.062463% completed\n",
      "680 completed which is 0.065972% completed\n",
      "720 completed which is 0.069315% completed\n",
      "760 completed which is 0.072787% completed\n",
      "800 completed which is 0.077054% completed\n",
      "840 completed which is 0.080323% completed\n",
      "880 completed which is 0.083223% completed\n",
      "920 completed which is 0.087378% completed\n",
      "960 completed which is 0.091035% completed\n",
      "1000 completed which is 0.094618% completed\n",
      "1040 completed which is 0.098293% completed\n",
      "1080 completed which is 0.102412% completed\n",
      "1120 completed which is 0.105958% completed\n"
     ]
    }
   ],
   "source": [
    "import glob\n",
    "from time import sleep\n",
    "import dill as pickle\n",
    "import numpy as np\n",
    "import requests\n",
    "import subprocess\n",
    "\n",
    "# Collect all our PNGs\n",
    "files = glob.glob(\"imgs_for_google_emb/*.png\")\n",
    "\n",
    "# Index to store each wavelength in a seperate array element\n",
    "wav_map = {\n",
    "    \"94\": 0,\n",
    "    \"131\": 1,\n",
    "    \"171\": 2,\n",
    "    \"193\": 3,\n",
    "    \"211\": 4,\n",
    "    \"304\": 5,\n",
    "    \"335\": 6,\n",
    "    \"1600\": 7,\n",
    "    \"1700\": 8,\n",
    "}\n",
    "\n",
    "# A dictionary to store our requests, marked as such because these\n",
    "# cost money in API calls!\n",
    "expensive_results = {}\n",
    "\n",
    "c = 0\n",
    "for i, f in enumerate(files):\n",
    "    # We only look at imagery once per day, at 12 minutes past midnight\n",
    "    if \":12:00\" in f:\n",
    "        c += 1\n",
    "\n",
    "        # Determine wavelength and timestamp for file\n",
    "        part = f.replace(\"imgs_for_google_emb/\", \"\").replace(\".png\", \"\")\n",
    "        wav = part.split(\"-\")[-1]\n",
    "        ts = \"\".join(part.split(\"-\")[:-1])\n",
    "\n",
    "        # If we haven't seen this timestamp before, alloc an empty list for storage\n",
    "        if ts not in expensive_results:\n",
    "            expensive_results[ts] = [None] * 9\n",
    "\n",
    "        # Pull our access token from CLI, this rotates fairly rapidly\n",
    "        auth = (\n",
    "            subprocess.run(\n",
    "                \"gcloud auth print-access-token\".split(\" \"), stdout=subprocess.PIPE\n",
    "            )\n",
    "            .stdout.decode(\"utf-8\")\n",
    "            .replace(\"\\n\", \"\")\n",
    "        )\n",
    "\n",
    "        # If we don't already have this result, send request for image processing\n",
    "        if expensive_results[ts][wav_map[wav]] is None:\n",
    "            r = requests.post(\n",
    "                \"https://us-central1-aiplatform.googleapis.com/v1/projects/sdo-fm-2024/locations/us-central1/publishers/google/models/multimodalembedding@001:predict\",\n",
    "                headers={\n",
    "                    \"Authorization\": f\"Bearer {auth}\",\n",
    "                    \"Content-Type\": \"application/json; charset=utf-8\",\n",
    "                },\n",
    "                json=make_request(part),\n",
    "            )\n",
    "\n",
    "            # If successful, store result in list\n",
    "            if r.status_code == 200:\n",
    "                expensive_results[ts][wav_map[wav]] = np.array(\n",
    "                    r.json()[\"predictions\"][0][\"imageEmbedding\"]\n",
    "                )\n",
    "            else:\n",
    "                print(\"Error on\", part)\n",
    "\n",
    "        # Progress tracking and checkpointing the dict\n",
    "        if c % 40 == 0:\n",
    "            print(f\"{c} completed which is {100*(i/len(files)):02f}% completed\")\n",
    "            with open(\"google_embeddings_moar.pkl\", \"wb\") as file:\n",
    "                pickle.dump(expensive_results, file)\n",
    "\n",
    "        # The API docs suggest there's a throttle at 2 requests per second, so pause for half a sec\n",
    "        sleep(0.5)\n",
    "print(\"Complete\")"
   ]
  },
  {
   "cell_type": "markdown",
   "metadata": {},
   "source": [
    "The embeddings have now been retrieved for our small subset and pickled into a local file. These are now ready for model training."
   ]
  },
  {
   "cell_type": "code",
   "execution_count": 167,
   "metadata": {},
   "outputs": [
    {
     "data": {
      "text/plain": [
       "'imgs_for_google_emb/2015-03-29_01:00:00-171.png'"
      ]
     },
     "execution_count": 167,
     "metadata": {},
     "output_type": "execute_result"
    }
   ],
   "source": [
    "pickle_dict(expensive_results, \"more_expensive_results_hourly\")"
   ]
  }
 ],
 "metadata": {
  "kernelspec": {
   "display_name": "base",
   "language": "python",
   "name": "python3"
  },
  "language_info": {
   "codemirror_mode": {
    "name": "ipython",
    "version": 3
   },
   "file_extension": ".py",
   "mimetype": "text/x-python",
   "name": "python",
   "nbconvert_exporter": "python",
   "pygments_lexer": "ipython3",
   "version": "3.10.14"
  },
  "orig_nbformat": 4
 },
 "nbformat": 4,
 "nbformat_minor": 2
}
