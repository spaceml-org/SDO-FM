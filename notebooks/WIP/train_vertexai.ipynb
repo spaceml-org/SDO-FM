{
 "cells": [
  {
   "cell_type": "markdown",
   "metadata": {},
   "source": [
    "### Running training on VertexAI pipeline"
   ]
  },
  {
   "cell_type": "code",
   "execution_count": 1,
   "metadata": {},
   "outputs": [],
   "source": [
    "# ! pip3 install --upgrade --quiet google-cloud-aiplatform \\\n",
    "#                                  google-cloud-storage \\\n",
    "#                                  google-cloud-pipeline-components \\\n",
    "#                                  kfp"
   ]
  },
  {
   "cell_type": "code",
   "execution_count": 2,
   "metadata": {},
   "outputs": [
    {
     "data": {
      "text/plain": [
       "{'status': 'ok', 'restart': True}"
      ]
     },
     "execution_count": 2,
     "metadata": {},
     "output_type": "execute_result"
    },
    {
     "ename": "",
     "evalue": "",
     "output_type": "error",
     "traceback": [
      "\u001b[1;31mThe Kernel crashed while executing code in the the current cell or a previous cell. Please review the code in the cell(s) to identify a possible cause of the failure. Click <a href='https://aka.ms/vscodeJupyterKernelCrash'>here</a> for more info. View Jupyter <a href='command:jupyter.viewOutput'>log</a> for further details."
     ]
    }
   ],
   "source": [
    "# import IPython\n",
    "\n",
    "# app = IPython.Application.instance()\n",
    "# app.kernel.do_shutdown(True)"
   ]
  },
  {
   "cell_type": "code",
   "execution_count": 1,
   "metadata": {},
   "outputs": [
    {
     "name": "stdout",
     "output_type": "stream",
     "text": [
      "Updated property [core/project].\n"
     ]
    }
   ],
   "source": [
    "PROJECT_ID = \"371403503716\"  # @param {type:\"string\"}\n",
    "\n",
    "# Set the project id\n",
    "! gcloud config set project {PROJECT_ID} --quiet\n",
    "REGION = \"us-central1\"  # @param {type: \"string\"}"
   ]
  },
  {
   "cell_type": "code",
   "execution_count": 2,
   "metadata": {},
   "outputs": [],
   "source": [
    "BUCKET_URI = \"gs://sdofm-vertexai\"  # @param {type:\"string\"}\n",
    "# ! gsutil mb -l {REGION} -p {PROJECT_ID} {BUCKET_URI} # ONLY RUN IF MAKING NEW BUCKET"
   ]
  },
  {
   "cell_type": "code",
   "execution_count": 3,
   "metadata": {},
   "outputs": [
    {
     "name": "stdout",
     "output_type": "stream",
     "text": [
      "Service Account: 371403503716-compute@developer.gserviceaccount.com\n"
     ]
    }
   ],
   "source": [
    "import sys\n",
    "\n",
    "SERVICE_ACCOUNT = \"[your-service-account]\"  # @param {type:\"string\"}\n",
    "IS_COLAB = \"google.colab\" in sys.modules\n",
    "if (\n",
    "    SERVICE_ACCOUNT == \"\"\n",
    "    or SERVICE_ACCOUNT is None\n",
    "    or SERVICE_ACCOUNT == \"[your-service-account]\"\n",
    "):\n",
    "    # Get your service account from gcloud\n",
    "    if not IS_COLAB:\n",
    "        shell_output = !gcloud auth list 2>/dev/null\n",
    "        SERVICE_ACCOUNT = shell_output[2].replace(\"*\", \"\").strip()\n",
    "\n",
    "    else:  # IS_COLAB:\n",
    "        shell_output = ! gcloud projects describe  $PROJECT_ID\n",
    "        project_number = shell_output[-1].split(\":\")[1].strip().replace(\"'\", \"\")\n",
    "        SERVICE_ACCOUNT = f\"{project_number}-compute@developer.gserviceaccount.com\"\n",
    "\n",
    "    print(\"Service Account:\", SERVICE_ACCOUNT)"
   ]
  },
  {
   "cell_type": "code",
   "execution_count": 12,
   "metadata": {},
   "outputs": [],
   "source": [
    "# ! gsutil iam ch serviceAccount:{SERVICE_ACCOUNT}:roles/storage.objectCreator $BUCKET_URI\n",
    "# ! gsutil iam ch serviceAccount:{SERVICE_ACCOUNT}:roles/storage.objectViewer $BUCKET_URI"
   ]
  },
  {
   "cell_type": "code",
   "execution_count": 4,
   "metadata": {},
   "outputs": [],
   "source": [
    "import os\n",
    "from typing import Any, Dict, List\n",
    "\n",
    "import google.cloud.aiplatform as aip\n",
    "import kfp\n",
    "from google_cloud_pipeline_components.types import artifact_types\n",
    "from google_cloud_pipeline_components.v1.custom_job.component import (\n",
    "    custom_training_job as CustomTrainingJobOp,\n",
    ")\n",
    "from google_cloud_pipeline_components.v1.endpoint import EndpointCreateOp, ModelDeployOp\n",
    "from google_cloud_pipeline_components.v1.model import ModelUploadOp\n",
    "from kfp import compiler\n",
    "from kfp.dsl import importer_node"
   ]
  },
  {
   "cell_type": "code",
   "execution_count": 64,
   "metadata": {},
   "outputs": [
    {
     "ename": "ModuleNotFoundError",
     "evalue": "No module named 'google.cloud.vertex'",
     "output_type": "error",
     "traceback": [
      "\u001b[0;31m---------------------------------------------------------------------------\u001b[0m",
      "\u001b[0;31mModuleNotFoundError\u001b[0m                       Traceback (most recent call last)",
      "\u001b[1;32m/home/walsh/repos/SDO-FM/notebooks/train_vertexai.ipynb Cell 9\u001b[0m line \u001b[0;36m1\n\u001b[0;32m----> <a href='vscode-notebook-cell://ssh-remote%2Bsdofm-workbench-n1-16cpu-60ram-t4x2.us-central1-a.sdo-fm-2024/home/walsh/repos/SDO-FM/notebooks/train_vertexai.ipynb#X52sdnNjb2RlLXJlbW90ZQ%3D%3D?line=0'>1</a>\u001b[0m \u001b[39mimport\u001b[39;00m \u001b[39mgoogle\u001b[39;00m\u001b[39m.\u001b[39;00m\u001b[39mcloud\u001b[39;00m\u001b[39m.\u001b[39;00m\u001b[39mvertex\u001b[39;00m \u001b[39mas\u001b[39;00m \u001b[39mvai\u001b[39;00m\n",
      "\u001b[0;31mModuleNotFoundError\u001b[0m: No module named 'google.cloud.vertex'"
     ]
    }
   ],
   "source": [
    "import google.cloud.vertex as vai"
   ]
  },
  {
   "cell_type": "code",
   "execution_count": 5,
   "metadata": {},
   "outputs": [],
   "source": [
    "PIPELINE_ROOT = f\"{BUCKET_URI}/pipeline_root/tpu_sdofm_pipeline\""
   ]
  },
  {
   "cell_type": "code",
   "execution_count": 50,
   "metadata": {},
   "outputs": [
    {
     "name": "stdout",
     "output_type": "stream",
     "text": [
      "AcceleratorType.ACCELERATOR_TYPE_UNSPECIFIED\n",
      "AcceleratorType.NVIDIA_TESLA_K80\n",
      "AcceleratorType.NVIDIA_TESLA_P100\n",
      "AcceleratorType.NVIDIA_TESLA_V100\n",
      "AcceleratorType.NVIDIA_TESLA_P4\n",
      "AcceleratorType.NVIDIA_TESLA_T4\n",
      "AcceleratorType.NVIDIA_TESLA_A100\n",
      "AcceleratorType.NVIDIA_A100_80GB\n",
      "AcceleratorType.NVIDIA_L4\n",
      "AcceleratorType.NVIDIA_H100_80GB\n",
      "AcceleratorType.TPU_V2\n",
      "AcceleratorType.TPU_V3\n",
      "AcceleratorType.TPU_V4_POD\n",
      "AcceleratorType.TPU_V5_LITEPOD\n"
     ]
    },
    {
     "data": {
      "text/plain": [
       "[None,\n",
       " None,\n",
       " None,\n",
       " None,\n",
       " None,\n",
       " None,\n",
       " None,\n",
       " None,\n",
       " None,\n",
       " None,\n",
       " None,\n",
       " None,\n",
       " None,\n",
       " None]"
      ]
     },
     "execution_count": 50,
     "metadata": {},
     "output_type": "execute_result"
    }
   ],
   "source": [
    "[print(i) for i in gapic.AcceleratorType]"
   ]
  },
  {
   "cell_type": "code",
   "execution_count": 61,
   "metadata": {},
   "outputs": [],
   "source": [
    "from google.cloud.aiplatform import gapic\n",
    "\n",
    "TRAIN_TPU, TRAIN_NTPU = (\n",
    "    gapic.AcceleratorType.TPU_V5_LITEPOD,\n",
    "    # 'v5litepod-4',\n",
    "    4,\n",
    ")  # Using TPU V5 litepod\n",
    "\n",
    "DEPLOY_GPU, DEPLOY_NGPU = (gapic.AcceleratorType.NVIDIA_TESLA_K80, 1)"
   ]
  },
  {
   "cell_type": "code",
   "execution_count": 52,
   "metadata": {},
   "outputs": [],
   "source": [
    "if not TRAIN_NTPU or TRAIN_NTPU < 2:\n",
    "    TRAIN_STRATEGY = \"single\"\n",
    "else:\n",
    "    TRAIN_STRATEGY = \"tpu\"\n",
    "\n",
    "TRAIN_TPU_TOPOLOGY = \"2x2\""
   ]
  },
  {
   "cell_type": "code",
   "execution_count": 53,
   "metadata": {},
   "outputs": [],
   "source": [
    "WORKING_DIR = f\"{PIPELINE_ROOT}/model\"\n",
    "CONTAINER_ARTIFACTS_DIR = \"tpu-container-artifacts\"\n",
    "\n",
    "# !mkdir {CONTAINER_ARTIFACTS_DIR}"
   ]
  },
  {
   "cell_type": "markdown",
   "metadata": {},
   "source": [
    "### Create image"
   ]
  },
  {
   "cell_type": "code",
   "execution_count": 9,
   "metadata": {},
   "outputs": [],
   "source": [
    "# TRAIN_VERSION = \"pytorch-tpu.2-1.cp310\"\n",
    "# TRAIN_IMAGE = f\"us-docker.pkg.dev/vertex-ai/training/{DEPLOY_VERSION}:latest\"\n",
    "# dockerfile = f\"\"\"FROM {TRAIN_IMAGE}\n",
    "\n",
    "# WORKDIR /home/walsh/repos/SDO-FM\n",
    "# COPY . /src\n",
    "# RUN pip install -r src/requirements.txt\n",
    "# ENTRYPOINT [\"python3\", \"/src/scripts/main.py\"]\n",
    "# \"\"\"\n",
    "\n",
    "# with open(os.path.join(CONTAINER_ARTIFACTS_DIR, \"Dockerfile\"), \"w\") as f:\n",
    "#     f.write(dockerfile)"
   ]
  },
  {
   "cell_type": "code",
   "execution_count": 26,
   "metadata": {},
   "outputs": [
    {
     "name": "stdout",
     "output_type": "stream",
     "text": [
      "\u001b[1;33mWARNING:\u001b[0m Your config file at [/home/walsh/.docker/config.json] contains these credential helper entries:\n",
      "\n",
      "{\n",
      "  \"credHelpers\": {\n",
      "    \"gcr.io\": \"gcloud\",\n",
      "    \"us.gcr.io\": \"gcloud\",\n",
      "    \"eu.gcr.io\": \"gcloud\",\n",
      "    \"asia.gcr.io\": \"gcloud\",\n",
      "    \"staging-k8s.gcr.io\": \"gcloud\",\n",
      "    \"marketplace.gcr.io\": \"gcloud\"\n",
      "  }\n",
      "}\n",
      "Adding credentials for: us-central1-docker.pkg.dev\n",
      "Docker configuration file updated.\n"
     ]
    }
   ],
   "source": [
    "!gcloud auth configure-docker us-central1-docker.pkg.dev --quiet"
   ]
  },
  {
   "cell_type": "code",
   "execution_count": 10,
   "metadata": {},
   "outputs": [],
   "source": [
    "REPOSITORY = \"tpu-training-repository\"\n",
    "IMAGE = \"tpu-train\"\n",
    "# !gcloud artifacts repositories create $REPOSITORY --repository-format=docker --location=us-central1 --description=\"Vertex TPU training repository\" --project \"sdo-fm-2024\""
   ]
  },
  {
   "cell_type": "code",
   "execution_count": 22,
   "metadata": {},
   "outputs": [],
   "source": [
    "PROJECT_NAME = \"sdo-fm-2024\"\n",
    "TRAIN_IMAGE = f\"{REGION}-docker.pkg.dev/{PROJECT_NAME}/{REPOSITORY}/{IMAGE}:latest\"\n",
    "DEPLOY_IMAGE = TRAIN_IMAGE"
   ]
  },
  {
   "cell_type": "code",
   "execution_count": 12,
   "metadata": {},
   "outputs": [
    {
     "data": {
      "text/plain": [
       "'us-central1-docker.pkg.dev/371403503716/tpu-training-repository/tpu-train:latest'"
      ]
     },
     "execution_count": 12,
     "metadata": {},
     "output_type": "execute_result"
    }
   ],
   "source": [
    "TRAIN_IMAGE\n",
    "# us-central1-docker.pkg.dev/sdo-fm-2024/tpu-training-repository"
   ]
  },
  {
   "cell_type": "code",
   "execution_count": 44,
   "metadata": {},
   "outputs": [
    {
     "name": "stdout",
     "output_type": "stream",
     "text": [
      "/home/walsh/repos/SDO-FM/notebooks/tpu-container-artifacts\n"
     ]
    }
   ],
   "source": [
    "%cd $CONTAINER_ARTIFACTS_DIR"
   ]
  },
  {
   "cell_type": "code",
   "execution_count": 27,
   "metadata": {},
   "outputs": [],
   "source": [
    "# !docker build \\\n",
    "#     --tag={TRAIN_IMAGE} \\\n",
    "#     ."
   ]
  },
  {
   "cell_type": "code",
   "execution_count": 63,
   "metadata": {},
   "outputs": [
    {
     "name": "stdout",
     "output_type": "stream",
     "text": [
      "Using default tag: latest\n",
      "The push refers to repository [us-central1-docker.pkg.dev/sdo-fm-2024/tpu-training-repository/tpu-train]\n",
      "\n",
      "\u001b[1B4e77aeee: Preparing \n",
      "\u001b[1B772f6fed: Preparing \n",
      "\u001b[1B86dfddbb: Preparing \n",
      "\u001b[1B25554830: Preparing \n",
      "\u001b[1B782f05d5: Preparing \n",
      "\u001b[1Be3413336: Preparing \n",
      "\u001b[1B8a94167e: Preparing \n",
      "\u001b[1Bb93c8531: Preparing \n",
      "\u001b[1B5bceeda1: Preparing \n",
      "\u001b[1Bfaa3ab68: Preparing \n",
      "\u001b[1B9d99e7a9: Preparing \n",
      "\u001b[1B1f16d39c: Preparing \n",
      "\u001b[1Bda9cf345: Preparing \n",
      "\u001b[1B081bcd40: Preparing \n",
      "\u001b[1B55027fac: Preparing \n",
      "\u001b[1B6bb27888: Preparing \n",
      "\u001b[1Bf2c8e538: Preparing \n",
      "\u001b[1Bc4b29d5e: Preparing \n",
      "\u001b[1B227dffc9: Preparing \n",
      "\u001b[1Bcf6cd56f: Preparing \n",
      "\u001b[1Bccd89e31: Preparing \n",
      "\u001b[1B01a9bf0a: Preparing \n",
      "\u001b[1Bff998c0a: Preparing \n",
      "\u001b[17B93c8531: Pushed   8.227GB/8.214GB\u001b[20A\u001b[2K\u001b[23A\u001b[2K\u001b[23A\u001b[2K\u001b[24A\u001b[2K\u001b[22A\u001b[2K\u001b[24A\u001b[2K\u001b[18A\u001b[2K\u001b[24A\u001b[2K\u001b[17A\u001b[2K\u001b[19A\u001b[2K\u001b[17A\u001b[2K\u001b[16A\u001b[2K\u001b[17A\u001b[2K\u001b[23A\u001b[2K\u001b[17A\u001b[2K\u001b[23A\u001b[2K\u001b[16A\u001b[2K\u001b[23A\u001b[2K\u001b[14A\u001b[2K\u001b[23A\u001b[2K\u001b[17A\u001b[2K\u001b[23A\u001b[2K\u001b[14A\u001b[2K\u001b[24A\u001b[2K\u001b[12A\u001b[2K\u001b[17A\u001b[2K\u001b[11A\u001b[2K\u001b[17A\u001b[2K\u001b[24A\u001b[2K\u001b[12A\u001b[2K\u001b[24A\u001b[2K\u001b[11A\u001b[2K\u001b[24A\u001b[2K\u001b[9A\u001b[2K\u001b[23A\u001b[2K\u001b[24A\u001b[2K\u001b[23A\u001b[2K\u001b[24A\u001b[2K\u001b[23A\u001b[2K\u001b[8A\u001b[2K\u001b[10A\u001b[2K\u001b[8A\u001b[2K\u001b[10A\u001b[2K\u001b[8A\u001b[2K\u001b[10A\u001b[2K\u001b[17A\u001b[2K\u001b[10A\u001b[2K\u001b[8A\u001b[2K\u001b[24A\u001b[2K\u001b[17A\u001b[2K\u001b[24A\u001b[2K\u001b[23A\u001b[2K\u001b[24A\u001b[2K\u001b[23A\u001b[2K\u001b[17A\u001b[2K\u001b[23A\u001b[2K\u001b[17A\u001b[2K\u001b[10A\u001b[2K\u001b[17A\u001b[2K\u001b[24A\u001b[2K\u001b[17A\u001b[2K\u001b[10A\u001b[2K\u001b[17A\u001b[2K\u001b[24A\u001b[2K\u001b[17A\u001b[2K\u001b[24A\u001b[2K\u001b[17A\u001b[2K\u001b[24A\u001b[2K\u001b[23A\u001b[2K\u001b[24A\u001b[2K\u001b[8A\u001b[2K\u001b[17A\u001b[2K\u001b[8A\u001b[2K\u001b[17A\u001b[2K\u001b[24A\u001b[2K\u001b[23A\u001b[2K\u001b[17A\u001b[2K\u001b[23A\u001b[2K\u001b[17A\u001b[2K\u001b[8A\u001b[2K\u001b[17A\u001b[2K\u001b[23A\u001b[2K\u001b[10A\u001b[2K\u001b[8A\u001b[2K\u001b[23A\u001b[2K\u001b[17A\u001b[2K\u001b[23A\u001b[2K\u001b[17A\u001b[2K\u001b[8A\u001b[2K\u001b[10A\u001b[2K\u001b[23A\u001b[2K\u001b[10A\u001b[2K\u001b[17A\u001b[2K\u001b[10A\u001b[2K\u001b[24A\u001b[2K\u001b[10A\u001b[2K\u001b[23A\u001b[2K\u001b[17A\u001b[2K\u001b[10A\u001b[2K\u001b[17A\u001b[2K\u001b[23A\u001b[2K\u001b[10A\u001b[2K\u001b[24A\u001b[2K\u001b[10A\u001b[2K\u001b[8A\u001b[2K\u001b[10A\u001b[2K\u001b[17A\u001b[2K\u001b[10A\u001b[2K\u001b[23A\u001b[2K\u001b[10A\u001b[2K\u001b[17A\u001b[2K\u001b[24A\u001b[2K\u001b[10A\u001b[2K\u001b[17A\u001b[2K\u001b[10A\u001b[2K\u001b[8A\u001b[2K\u001b[17A\u001b[2K\u001b[10A\u001b[2K\u001b[23A\u001b[2K\u001b[17A\u001b[2K\u001b[24A\u001b[2K\u001b[17A\u001b[2K\u001b[10A\u001b[2K\u001b[17A\u001b[2K\u001b[10A\u001b[2K\u001b[8A\u001b[2K\u001b[10A\u001b[2K\u001b[8A\u001b[2K\u001b[10A\u001b[2K\u001b[8A\u001b[2K\u001b[17A\u001b[2K\u001b[8A\u001b[2K\u001b[17A\u001b[2K\u001b[24A\u001b[2K\u001b[17A\u001b[2K\u001b[10A\u001b[2K\u001b[17A\u001b[2K\u001b[10A\u001b[2K\u001b[17A\u001b[2K\u001b[10A\u001b[2K\u001b[23A\u001b[2K\u001b[17A\u001b[2K\u001b[8A\u001b[2K\u001b[17A\u001b[2K\u001b[23A\u001b[2K\u001b[17A\u001b[2K\u001b[24A\u001b[2K\u001b[8A\u001b[2K\u001b[24A\u001b[2K\u001b[17A\u001b[2K\u001b[24A\u001b[2K\u001b[8A\u001b[2K\u001b[17A\u001b[2K\u001b[8A\u001b[2K\u001b[17A\u001b[2K\u001b[23A\u001b[2K\u001b[17A\u001b[2K\u001b[10A\u001b[2K\u001b[8A\u001b[2K\u001b[10A\u001b[2K\u001b[17A\u001b[2K\u001b[10A\u001b[2K\u001b[23A\u001b[2K\u001b[24A\u001b[2K\u001b[23A\u001b[2K\u001b[24A\u001b[2K\u001b[23A\u001b[2K\u001b[24A\u001b[2K\u001b[10A\u001b[2K\u001b[17A\u001b[2K\u001b[8A\u001b[2K\u001b[17A\u001b[2K\u001b[10A\u001b[2K\u001b[8A\u001b[2K\u001b[24A\u001b[2K\u001b[17A\u001b[2K\u001b[24A\u001b[2K\u001b[23A\u001b[2K\u001b[24A\u001b[2K\u001b[10A\u001b[2K\u001b[8A\u001b[2K\u001b[23A\u001b[2K\u001b[17A\u001b[2K\u001b[23A\u001b[2K\u001b[17A\u001b[2K\u001b[23A\u001b[2K\u001b[17A\u001b[2K\u001b[24A\u001b[2K\u001b[17A\u001b[2K\u001b[24A\u001b[2K\u001b[17A\u001b[2K\u001b[24A\u001b[2K\u001b[8A\u001b[2K\u001b[24A\u001b[2K\u001b[10A\u001b[2K\u001b[17A\u001b[2K\u001b[23A\u001b[2K\u001b[17A\u001b[2K\u001b[23A\u001b[2K\u001b[8A\u001b[2K\u001b[24A\u001b[2K\u001b[10A\u001b[2K\u001b[24A\u001b[2K\u001b[10A\u001b[2K\u001b[24A\u001b[2K\u001b[10A\u001b[2K\u001b[24A\u001b[2K\u001b[10A\u001b[2K\u001b[23A\u001b[2K\u001b[10A\u001b[2K\u001b[8A\u001b[2K\u001b[24A\u001b[2K\u001b[17A\u001b[2K\u001b[24A\u001b[2K\u001b[8A\u001b[2K\u001b[24A\u001b[2K\u001b[10A\u001b[2K\u001b[23A\u001b[2K\u001b[10A\u001b[2K\u001b[17A\u001b[2K\u001b[10A\u001b[2K\u001b[17A\u001b[2K\u001b[23A\u001b[2K\u001b[17A\u001b[2K\u001b[23A\u001b[2K\u001b[17A\u001b[2K\u001b[24A\u001b[2K\u001b[10A\u001b[2K\u001b[24A\u001b[2K\u001b[10A\u001b[2K\u001b[8A\u001b[2K\u001b[23A\u001b[2K\u001b[24A\u001b[2K\u001b[23A\u001b[2K\u001b[24A\u001b[2K\u001b[8A\u001b[2K\u001b[17A\u001b[2K\u001b[8A\u001b[2K\u001b[10A\u001b[2K\u001b[24A\u001b[2K\u001b[8A\u001b[2K\u001b[24A\u001b[2K\u001b[8A\u001b[2K\u001b[24A\u001b[2K\u001b[8A\u001b[2K\u001b[23A\u001b[2K\u001b[8A\u001b[2K\u001b[23A\u001b[2K\u001b[8A\u001b[2K\u001b[10A\u001b[2K\u001b[8A\u001b[2K\u001b[10A\u001b[2K\u001b[24A\u001b[2K\u001b[10A\u001b[2K\u001b[24A\u001b[2K\u001b[10A\u001b[2K\u001b[24A\u001b[2K\u001b[8A\u001b[2K\u001b[24A\u001b[2K\u001b[23A\u001b[2K\u001b[24A\u001b[2K\u001b[23A\u001b[2K\u001b[10A\u001b[2K\u001b[23A\u001b[2K\u001b[10A\u001b[2K\u001b[17A\u001b[2K\u001b[10A\u001b[2K\u001b[17A\u001b[2K\u001b[10A\u001b[2K\u001b[17A\u001b[2K\u001b[23A\u001b[2K\u001b[8A\u001b[2K\u001b[23A\u001b[2K\u001b[8A\u001b[2K\u001b[23A\u001b[2K\u001b[24A\u001b[2K\u001b[17A\u001b[2K\u001b[24A\u001b[2K\u001b[10A\u001b[2K\u001b[24A\u001b[2K\u001b[10A\u001b[2K\u001b[24A\u001b[2K\u001b[8A\u001b[2K\u001b[24A\u001b[2K\u001b[23A\u001b[2K\u001b[24A\u001b[2K\u001b[10A\u001b[2K\u001b[17A\u001b[2K\u001b[10A\u001b[2K\u001b[17A\u001b[2K\u001b[10A\u001b[2K\u001b[17A\u001b[2K\u001b[24A\u001b[2K\u001b[17A\u001b[2K\u001b[8A\u001b[2K\u001b[17A\u001b[2K\u001b[23A\u001b[2K\u001b[10A\u001b[2K\u001b[23A\u001b[2K\u001b[10A\u001b[2K\u001b[17A\u001b[2K\u001b[24A\u001b[2K\u001b[10A\u001b[2K\u001b[24A\u001b[2K\u001b[17A\u001b[2K\u001b[8A\u001b[2K\u001b[17A\u001b[2K\u001b[10A\u001b[2K\u001b[17A\u001b[2K\u001b[10A\u001b[2K\u001b[17A\u001b[2K\u001b[23A\u001b[2K\u001b[17A\u001b[2K\u001b[24A\u001b[2K\u001b[17A\u001b[2K\u001b[24A\u001b[2K\u001b[17A\u001b[2K\u001b[24A\u001b[2K\u001b[23A\u001b[2K\u001b[17A\u001b[2K\u001b[23A\u001b[2K\u001b[17A\u001b[2K\u001b[23A\u001b[2K\u001b[17A\u001b[2K\u001b[24A\u001b[2K\u001b[17A\u001b[2K\u001b[24A\u001b[2K\u001b[17A\u001b[2K\u001b[8A\u001b[2K\u001b[17A\u001b[2K\u001b[8A\u001b[2K\u001b[23A\u001b[2K\u001b[8A\u001b[2K\u001b[23A\u001b[2K\u001b[17A\u001b[2K\u001b[23A\u001b[2K\u001b[17A\u001b[2K\u001b[23A\u001b[2K\u001b[17A\u001b[2K\u001b[24A\u001b[2K\u001b[17A\u001b[2K\u001b[23A\u001b[2K\u001b[17A\u001b[2K\u001b[10A\u001b[2K\u001b[17A\u001b[2K\u001b[24A\u001b[2K\u001b[17A\u001b[2K\u001b[24A\u001b[2K\u001b[10A\u001b[2K\u001b[24A\u001b[2K\u001b[10A\u001b[2K\u001b[17A\u001b[2K\u001b[8A\u001b[2K\u001b[17A\u001b[2K\u001b[8A\u001b[2K\u001b[17A\u001b[2K\u001b[8A\u001b[2K\u001b[23A\u001b[2K\u001b[8A\u001b[2K\u001b[10A\u001b[2K\u001b[24A\u001b[2K\u001b[10A\u001b[2K\u001b[24A\u001b[2K\u001b[10A\u001b[2K\u001b[23A\u001b[2K\u001b[10A\u001b[2K\u001b[24A\u001b[2K\u001b[17A\u001b[2K\u001b[23A\u001b[2K\u001b[17A\u001b[2K\u001b[24A\u001b[2K\u001b[17A\u001b[2K\u001b[24A\u001b[2K\u001b[17A\u001b[2K\u001b[10A\u001b[2K\u001b[17A\u001b[2K\u001b[10A\u001b[2K\u001b[23A\u001b[2K\u001b[24A\u001b[2K\u001b[10A\u001b[2K\u001b[23A\u001b[2K\u001b[8A\u001b[2K\u001b[23A\u001b[2K\u001b[24A\u001b[2K\u001b[17A\u001b[2K\u001b[24A\u001b[2K\u001b[8A\u001b[2K\u001b[24A\u001b[2K\u001b[10A\u001b[2K\u001b[24A\u001b[2K\u001b[23A\u001b[2K\u001b[24A\u001b[2K\u001b[10A\u001b[2K\u001b[24A\u001b[2K\u001b[10A\u001b[2K\u001b[24A\u001b[2K\u001b[10A\u001b[2K\u001b[23A\u001b[2K\u001b[10A\u001b[2K\u001b[8A\u001b[2K\u001b[24A\u001b[2K\u001b[10A\u001b[2K\u001b[24A\u001b[2K\u001b[23A\u001b[2K\u001b[24A\u001b[2K\u001b[17A\u001b[2K\u001b[8A\u001b[2K\u001b[17A\u001b[2K\u001b[10A\u001b[2K\u001b[17A\u001b[2K\u001b[23A\u001b[2K\u001b[17A\u001b[2K\u001b[17A\u001b[2K\u001b[17A\u001b[2K\u001b[24A\u001b[2K\u001b[17A\u001b[2K\u001b[24A\u001b[2K\u001b[17A\u001b[2K\u001b[24A\u001b[2K\u001b[17A\u001b[2K\u001b[24A\u001b[2K\u001b[8A\u001b[2K\u001b[24A\u001b[2K\u001b[23A\u001b[2K\u001b[24A\u001b[2K\u001b[23A\u001b[2K\u001b[17A\u001b[2K\u001b[23A\u001b[2K\u001b[17A\u001b[2K\u001b[10A\u001b[2K\u001b[23A\u001b[2K\u001b[10A\u001b[2K\u001b[23A\u001b[2K\u001b[24A\u001b[2K\u001b[17A\u001b[2K\u001b[24A\u001b[2K\u001b[17A\u001b[2K\u001b[23A\u001b[2K\u001b[10A\u001b[2K\u001b[24A\u001b[2K\u001b[10A\u001b[2K\u001b[17A\u001b[2K\u001b[8A\u001b[2K\u001b[17A\u001b[2K\u001b[23A\u001b[2K\u001b[17A\u001b[2K\u001b[23A\u001b[2K\u001b[17A\u001b[2K\u001b[23A\u001b[2K\u001b[10A\u001b[2K\u001b[24A\u001b[2K\u001b[8A\u001b[2K\u001b[24A\u001b[2K\u001b[8A\u001b[2K\u001b[24A\u001b[2K\u001b[10A\u001b[2K\u001b[17A\u001b[2K\u001b[8A\u001b[2K\u001b[10A\u001b[2K\u001b[23A\u001b[2K\u001b[24A\u001b[2K\u001b[8A\u001b[2K\u001b[24A\u001b[2K\u001b[8A\u001b[2K\u001b[24A\u001b[2K\u001b[17A\u001b[2K\u001b[24A\u001b[2K\u001b[10A\u001b[2K\u001b[23A\u001b[2K\u001b[10A\u001b[2K\u001b[10A\u001b[2K\u001b[8A\u001b[2K\u001b[10A\u001b[2K\u001b[8A\u001b[2K\u001b[10A\u001b[2K\u001b[8A\u001b[2K\u001b[8A\u001b[2K\u001b[23A\u001b[2K\u001b[24A\u001b[2K\u001b[17A\u001b[2K\u001b[23A\u001b[2K\u001b[17A\u001b[2K\u001b[24A\u001b[2K\u001b[17A\u001b[2K\u001b[24A\u001b[2K\u001b[8A\u001b[2K\u001b[10A\u001b[2K\u001b[8A\u001b[2K\u001b[10A\u001b[2K\u001b[8A\u001b[2K\u001b[17A\u001b[2K\u001b[23A\u001b[2K\u001b[8A\u001b[2K\u001b[24A\u001b[2K\u001b[8A\u001b[2K\u001b[10A\u001b[2K\u001b[8A\u001b[2K\u001b[24A\u001b[2K\u001b[17A\u001b[2K\u001b[8A\u001b[2K\u001b[23A\u001b[2K\u001b[17A\u001b[2K\u001b[23A\u001b[2K\u001b[17A\u001b[2K\u001b[8A\u001b[2K\u001b[17A\u001b[2K\u001b[24A\u001b[2K\u001b[10A\u001b[2K\u001b[24A\u001b[2K\u001b[23A\u001b[2K\u001b[24A\u001b[2K\u001b[8A\u001b[2K\u001b[24A\u001b[2K\u001b[8A\u001b[2K\u001b[24A\u001b[2K\u001b[8A\u001b[2K\u001b[23A\u001b[2K\u001b[17A\u001b[2K\u001b[8A\u001b[2K\u001b[17A\u001b[2K\u001b[17A\u001b[2K\u001b[24A\u001b[2K\u001b[17A\u001b[2K\u001b[24A\u001b[2K\u001b[17A\u001b[2K\u001b[24A\u001b[2K\u001b[8A\u001b[2K\u001b[24A\u001b[2K\u001b[10A\u001b[2K\u001b[24A\u001b[2K\u001b[10A\u001b[2K\u001b[8A\u001b[2K\u001b[17A\u001b[2K\u001b[23A\u001b[2K\u001b[17A\u001b[2K\u001b[17A\u001b[2K\u001b[17A\u001b[2K\u001b[24A\u001b[2K\u001b[17A\u001b[2K\u001b[24A\u001b[2K\u001b[17A\u001b[2K\u001b[24A\u001b[2K\u001b[17A\u001b[2K\u001b[10A\u001b[2K\u001b[17A\u001b[2K\u001b[10A\u001b[2K\u001b[23A\u001b[2K\u001b[8A\u001b[2K\u001b[24A\u001b[2K\u001b[8A\u001b[2K\u001b[24A\u001b[2K\u001b[17A\u001b[2K\u001b[24A\u001b[2K\u001b[8A\u001b[2K\u001b[24A\u001b[2K\u001b[24A\u001b[2K\u001b[10A\u001b[2K\u001b[23A\u001b[2K\u001b[10A\u001b[2K\u001b[24A\u001b[2K\u001b[8A\u001b[2K\u001b[24A\u001b[2K\u001b[23A\u001b[2K\u001b[24A\u001b[2K\u001b[23A\u001b[2K\u001b[24A\u001b[2K\u001b[23A\u001b[2K\u001b[24A\u001b[2K\u001b[17A\u001b[2K\u001b[24A\u001b[2K\u001b[23A\u001b[2K\u001b[24A\u001b[2K\u001b[23A\u001b[2K\u001b[8A\u001b[2K\u001b[17A\u001b[2K\u001b[23A\u001b[2K\u001b[17A\u001b[2K\u001b[17A\u001b[2K\u001b[24A\u001b[2K\u001b[17A\u001b[2K\u001b[8A\u001b[2K\u001b[17A\u001b[2K\u001b[10A\u001b[2K\u001b[17A\u001b[2K\u001b[23A\u001b[2K\u001b[17A\u001b[2K\u001b[23A\u001b[2K\u001b[8A\u001b[2K\u001b[23A\u001b[2K\u001b[8A\u001b[2K\u001b[17A\u001b[2K\u001b[24A\u001b[2K\u001b[17A\u001b[2K\u001b[10A\u001b[2K\u001b[8A\u001b[2K\u001b[10A\u001b[2K\u001b[17A\u001b[2K\u001b[10A\u001b[2K\u001b[17A\u001b[2K\u001b[10A\u001b[2K\u001b[17A\u001b[2K\u001b[23A\u001b[2K\u001b[24A\u001b[2K\u001b[8A\u001b[2K\u001b[24A\u001b[2K\u001b[8A\u001b[2K\u001b[10A\u001b[2K\u001b[17A\u001b[2K\u001b[10A\u001b[2K\u001b[17A\u001b[2K\u001b[10A\u001b[2K\u001b[17A\u001b[2K\u001b[8A\u001b[2K\u001b[17A\u001b[2K\u001b[8A\u001b[2K\u001b[24A\u001b[2K\u001b[8A\u001b[2K\u001b[24A\u001b[2K\u001b[8A\u001b[2K\u001b[23A\u001b[2K\u001b[8A\u001b[2K\u001b[24A\u001b[2K\u001b[23A\u001b[2K\u001b[8A\u001b[2K\u001b[24A\u001b[2K\u001b[8A\u001b[2K\u001b[17A\u001b[2K\u001b[8A\u001b[2K\u001b[17A\u001b[2K\u001b[8A\u001b[2K\u001b[17A\u001b[2K\u001b[8A\u001b[2K\u001b[17A\u001b[2K\u001b[8A\u001b[2K\u001b[17A\u001b[2K\u001b[23A\u001b[2K\u001b[8A\u001b[2K\u001b[23A\u001b[2K\u001b[8A\u001b[2K\u001b[10A\u001b[2K\u001b[24A\u001b[2K\u001b[10A\u001b[2K\u001b[23A\u001b[2K\u001b[24A\u001b[2K\u001b[23A\u001b[2K\u001b[8A\u001b[2K\u001b[23A\u001b[2K\u001b[17A\u001b[2K\u001b[17A\u001b[2K\u001b[8A\u001b[2K\u001b[17A\u001b[2K\u001b[10A\u001b[2K\u001b[17A\u001b[2K\u001b[24A\u001b[2K\u001b[23A\u001b[2K\u001b[24A\u001b[2K\u001b[17A\u001b[2K\u001b[24A\u001b[2K\u001b[17A\u001b[2K\u001b[24A\u001b[2K\u001b[8A\u001b[2K\u001b[24A\u001b[2K\u001b[23A\u001b[2K\u001b[24A\u001b[2K\u001b[23A\u001b[2K\u001b[17A\u001b[2K\u001b[23A\u001b[2K\u001b[8A\u001b[2K\u001b[24A\u001b[2K\u001b[10A\u001b[2K\u001b[24A\u001b[2K\u001b[10A\u001b[2K\u001b[24A\u001b[2K\u001b[17A\u001b[2K\u001b[10A\u001b[2K\u001b[17A\u001b[2K\u001b[17A\u001b[2K\u001b[17A\u001b[2K\u001b[23A\u001b[2K\u001b[17A\u001b[2K\u001b[10A\u001b[2K\u001b[23A\u001b[2K\u001b[8A\u001b[2K\u001b[24A\u001b[2K\u001b[24A\u001b[2K\u001b[23A\u001b[2K\u001b[10A\u001b[2K\u001b[24A\u001b[2K\u001b[17A\u001b[2K\u001b[24A\u001b[2K\u001b[23A\u001b[2K\u001b[24A\u001b[2K\u001b[23A\u001b[2K\u001b[8A\u001b[2K\u001b[24A\u001b[2K\u001b[8A\u001b[2K\u001b[24A\u001b[2K\u001b[10A\u001b[2K\u001b[24A\u001b[2K\u001b[10A\u001b[2K\u001b[8A\u001b[2K\u001b[10A\u001b[2K\u001b[24A\u001b[2K\u001b[10A\u001b[2K\u001b[24A\u001b[2K\u001b[23A\u001b[2K\u001b[24A\u001b[2K\u001b[8A\u001b[2K\u001b[10A\u001b[2K\u001b[24A\u001b[2K\u001b[10A\u001b[2K\u001b[24A\u001b[2K\u001b[10A\u001b[2K\u001b[24A\u001b[2K\u001b[23A\u001b[2K\u001b[17A\u001b[2K\u001b[23A\u001b[2KPushing  767.2MB/1.072GB\u001b[23A\u001b[2K\u001b[17A\u001b[2K\u001b[17A\u001b[2K\u001b[10A\u001b[2K\u001b[23A\u001b[2K\u001b[10A\u001b[2K\u001b[17A\u001b[2K\u001b[23A\u001b[2K\u001b[17A\u001b[2K\u001b[23A\u001b[2K\u001b[8A\u001b[2K\u001b[17A\u001b[2K\u001b[8A\u001b[2K\u001b[24A\u001b[2K\u001b[10A\u001b[2K\u001b[24A\u001b[2K\u001b[8A\u001b[2K\u001b[24A\u001b[2K\u001b[8A\u001b[2K\u001b[24A\u001b[2K\u001b[8A\u001b[2K\u001b[24A\u001b[2K\u001b[23A\u001b[2K\u001b[10A\u001b[2K\u001b[23A\u001b[2K\u001b[8A\u001b[2K\u001b[23A\u001b[2K\u001b[10A\u001b[2K\u001b[23A\u001b[2K\u001b[17A\u001b[2K\u001b[23A\u001b[2K\u001b[10A\u001b[2K\u001b[23A\u001b[2K\u001b[8A\u001b[2K\u001b[23A\u001b[2K\u001b[10A\u001b[2K\u001b[24A\u001b[2K\u001b[10A\u001b[2K\u001b[17A\u001b[2K\u001b[10A\u001b[2K\u001b[8A\u001b[2K\u001b[8A\u001b[2K\u001b[8A\u001b[2K\u001b[24A\u001b[2K\u001b[17A\u001b[2K\u001b[23A\u001b[2K\u001b[8A\u001b[2K\u001b[17A\u001b[2K\u001b[8A\u001b[2K\u001b[17A\u001b[2K\u001b[17A\u001b[2K\u001b[10A\u001b[2K\u001b[17A\u001b[2K\u001b[24A\u001b[2K\u001b[17A\u001b[2K\u001b[8A\u001b[2K\u001b[17A\u001b[2K\u001b[23A\u001b[2K\u001b[17A\u001b[2K\u001b[10A\u001b[2K\u001b[17A\u001b[2K\u001b[23A\u001b[2K\u001b[17A\u001b[2K\u001b[8A\u001b[2K\u001b[17A\u001b[2K\u001b[8A\u001b[2K\u001b[10A\u001b[2K\u001b[8A\u001b[2K\u001b[23A\u001b[2K\u001b[8A\u001b[2K\u001b[10A\u001b[2K\u001b[17A\u001b[2K\u001b[24A\u001b[2K\u001b[23A\u001b[2K\u001b[24A\u001b[2K\u001b[17A\u001b[2K\u001b[24A\u001b[2K\u001b[10A\u001b[2K\u001b[24A\u001b[2K\u001b[10A\u001b[2K\u001b[23A\u001b[2K\u001b[8A\u001b[2K\u001b[23A\u001b[2K\u001b[7A\u001b[2K\u001b[23A\u001b[2K\u001b[24A\u001b[2K\u001b[17A\u001b[2K\u001b[23A\u001b[2K\u001b[17A\u001b[2K\u001b[23A\u001b[2K\u001b[10A\u001b[2K\u001b[23A\u001b[2K\u001b[10A\u001b[2K\u001b[7A\u001b[2K\u001b[10A\u001b[2K\u001b[7A\u001b[2K\u001b[23A\u001b[2K\u001b[7A\u001b[2K\u001b[23A\u001b[2K\u001b[10A\u001b[2K\u001b[23A\u001b[2K\u001b[17A\u001b[2K\u001b[7A\u001b[2K\u001b[17A\u001b[2K\u001b[10A\u001b[2K\u001b[17A\u001b[2K\u001b[10A\u001b[2K\u001b[17A\u001b[2K\u001b[23A\u001b[2K\u001b[7A\u001b[2K\u001b[24A\u001b[2K\u001b[17A\u001b[2K\u001b[24A\u001b[2K\u001b[23A\u001b[2K\u001b[7A\u001b[2K\u001b[10A\u001b[2K\u001b[7A\u001b[2K\u001b[10A\u001b[2K\u001b[23A\u001b[2K\u001b[24A\u001b[2K\u001b[17A\u001b[2K\u001b[24A\u001b[2K\u001b[10A\u001b[2K\u001b[24A\u001b[2K\u001b[10A\u001b[2K\u001b[7A\u001b[2K\u001b[10A\u001b[2K\u001b[7A\u001b[2K\u001b[17A\u001b[2K\u001b[7A\u001b[2K\u001b[24A\u001b[2K\u001b[17A\u001b[2K\u001b[24A\u001b[2K\u001b[17A\u001b[2K\u001b[24A\u001b[2K\u001b[23A\u001b[2K\u001b[24A\u001b[2K\u001b[17A\u001b[2K\u001b[10A\u001b[2K\u001b[17A\u001b[2K\u001b[10A\u001b[2K\u001b[17A\u001b[2K\u001b[10A\u001b[2K\u001b[17A\u001b[2K\u001b[10A\u001b[2K\u001b[17A\u001b[2K\u001b[24A\u001b[2K\u001b[7A\u001b[2K\u001b[24A\u001b[2K\u001b[10A\u001b[2K\u001b[24A\u001b[2K\u001b[10A\u001b[2K\u001b[17A\u001b[2K\u001b[24A\u001b[2K\u001b[23A\u001b[2K\u001b[24A\u001b[2K\u001b[17A\u001b[2K\u001b[24A\u001b[2K\u001b[17A\u001b[2K\u001b[24A\u001b[2K\u001b[7A\u001b[2K\u001b[23A\u001b[2K\u001b[7A\u001b[2K\u001b[17A\u001b[2K\u001b[7A\u001b[2K\u001b[17A\u001b[2K\u001b[23A\u001b[2K\u001b[17A\u001b[2K\u001b[23A\u001b[2K\u001b[7A\u001b[2K\u001b[24A\u001b[2K\u001b[7A\u001b[2K\u001b[24A\u001b[2K\u001b[10A\u001b[2K\u001b[17A\u001b[2K\u001b[24A\u001b[2K\u001b[17A\u001b[2K\u001b[24A\u001b[2K\u001b[7A\u001b[2K\u001b[24A\u001b[2K\u001b[7A\u001b[2K\u001b[24A\u001b[2K\u001b[17A\u001b[2K\u001b[24A\u001b[2K\u001b[23A\u001b[2K\u001b[7A\u001b[2K\u001b[10A\u001b[2K\u001b[17A\u001b[2K\u001b[10A\u001b[2K\u001b[7A\u001b[2K\u001b[10A\u001b[2K\u001b[7A\u001b[2K\u001b[24A\u001b[2K\u001b[10A\u001b[2K\u001b[24A\u001b[2K\u001b[10A\u001b[2K\u001b[17A\u001b[2K\u001b[10A\u001b[2K\u001b[17A\u001b[2K\u001b[23A\u001b[2K\u001b[17A\u001b[2K\u001b[24A\u001b[2K\u001b[17A\u001b[2K\u001b[24A\u001b[2K\u001b[17A\u001b[2K\u001b[24A\u001b[2K\u001b[23A\u001b[2K\u001b[24A\u001b[2K\u001b[17A\u001b[2K\u001b[24A\u001b[2K\u001b[10A\u001b[2K\u001b[24A\u001b[2K\u001b[7A\u001b[2K\u001b[24A\u001b[2K\u001b[23A\u001b[2K\u001b[24A\u001b[2K\u001b[23A\u001b[2K\u001b[17A\u001b[2K\u001b[24A\u001b[2K\u001b[17A\u001b[2K\u001b[24A\u001b[2K\u001b[23A\u001b[2K\u001b[17A\u001b[2K\u001b[23A\u001b[2K\u001b[24A\u001b[2K\u001b[23A\u001b[2K\u001b[7A\u001b[2K\u001b[23A\u001b[2K\u001b[7A\u001b[2K\u001b[23A\u001b[2K\u001b[7A\u001b[2K\u001b[17A\u001b[2K\u001b[7A\u001b[2K\u001b[10A\u001b[2K\u001b[23A\u001b[2K\u001b[10A\u001b[2K\u001b[7A\u001b[2K\u001b[24A\u001b[2K\u001b[7A\u001b[2K\u001b[17A\u001b[2K\u001b[7A\u001b[2K\u001b[23A\u001b[2K\u001b[17A\u001b[2K\u001b[23A\u001b[2K\u001b[17A\u001b[2K\u001b[23A\u001b[2K\u001b[17A\u001b[2K\u001b[23A\u001b[2K\u001b[10A\u001b[2K\u001b[23A\u001b[2K\u001b[17A\u001b[2K\u001b[7A\u001b[2K\u001b[17A\u001b[2K\u001b[10A\u001b[2K\u001b[23A\u001b[2K\u001b[7A\u001b[2K\u001b[23A\u001b[2K\u001b[17A\u001b[2K\u001b[23A\u001b[2K\u001b[17A\u001b[2K\u001b[10A\u001b[2K\u001b[17A\u001b[2K\u001b[10A\u001b[2K\u001b[17A\u001b[2K\u001b[7A\u001b[2K\u001b[17A\u001b[2K\u001b[24A\u001b[2K\u001b[23A\u001b[2K\u001b[7A\u001b[2K\u001b[23A\u001b[2K\u001b[24A\u001b[2K\u001b[10A\u001b[2K\u001b[23A\u001b[2K\u001b[10A\u001b[2K\u001b[17A\u001b[2K\u001b[7A\u001b[2K\u001b[17A\u001b[2K\u001b[24A\u001b[2K\u001b[10A\u001b[2K\u001b[24A\u001b[2K\u001b[10A\u001b[2K\u001b[24A\u001b[2K\u001b[10A\u001b[2K\u001b[17A\u001b[2K\u001b[10A\u001b[2K\u001b[23A\u001b[2K\u001b[7A\u001b[2K\u001b[10A\u001b[2K\u001b[7A\u001b[2K\u001b[10A\u001b[2K\u001b[24A\u001b[2K\u001b[10A\u001b[2K\u001b[7A\u001b[2K\u001b[10A\u001b[2K\u001b[24A\u001b[2K\u001b[17A\u001b[2K\u001b[23A\u001b[2K\u001b[17A\u001b[2K\u001b[23A\u001b[2K\u001b[17A\u001b[2K\u001b[23A\u001b[2K\u001b[17A\u001b[2K\u001b[10A\u001b[2K\u001b[23A\u001b[2K\u001b[10A\u001b[2K\u001b[23A\u001b[2K\u001b[7A\u001b[2K\u001b[23A\u001b[2K\u001b[7A\u001b[2K\u001b[17A\u001b[2K\u001b[23A\u001b[2K\u001b[17A\u001b[2K\u001b[17A\u001b[2K\u001b[17A\u001b[2K\u001b[23A\u001b[2K\u001b[17A\u001b[2K\u001b[24A\u001b[2K\u001b[17A\u001b[2K\u001b[7A\u001b[2K\u001b[17A\u001b[2K\u001b[7A\u001b[2K\u001b[5A\u001b[2K\u001b[17A\u001b[2K\u001b[23A\u001b[2K\u001b[17A\u001b[2K\u001b[23A\u001b[2K\u001b[5A\u001b[2K\u001b[24A\u001b[2K\u001b[5A\u001b[2K\u001b[7A\u001b[2K\u001b[5A\u001b[2K\u001b[7A\u001b[2K\u001b[17A\u001b[2K\u001b[17A\u001b[2K\u001b[23A\u001b[2K\u001b[17A\u001b[2K\u001b[7A\u001b[2K\u001b[17A\u001b[2K\u001b[7A\u001b[2K\u001b[17A\u001b[2K\u001b[7A\u001b[2K\u001b[23A\u001b[2K\u001b[5A\u001b[2K\u001b[23A\u001b[2K\u001b[5A\u001b[2K\u001b[23A\u001b[2K\u001b[5A\u001b[2K\u001b[23A\u001b[2K\u001b[7A\u001b[2K\u001b[24A\u001b[2K\u001b[7A\u001b[2K\u001b[24A\u001b[2K\u001b[23A\u001b[2K\u001b[24A\u001b[2K\u001b[23A\u001b[2K\u001b[7A\u001b[2K\u001b[17A\u001b[2K\u001b[24A\u001b[2K\u001b[17A\u001b[2K\u001b[23A\u001b[2K\u001b[17A\u001b[2K\u001b[23A\u001b[2K\u001b[5A\u001b[2K\u001b[23A\u001b[2K\u001b[7A\u001b[2K\u001b[7A\u001b[2K\u001b[23A\u001b[2K\u001b[7A\u001b[2K\u001b[24A\u001b[2K\u001b[5A\u001b[2K\u001b[7A\u001b[2K\u001b[17A\u001b[2K\u001b[7A\u001b[2K\u001b[23A\u001b[2K\u001b[7A\u001b[2K\u001b[17A\u001b[2K\u001b[7A\u001b[2K\u001b[23A\u001b[2K\u001b[24A\u001b[2K\u001b[23A\u001b[2K\u001b[24A\u001b[2K\u001b[5A\u001b[2K\u001b[24A\u001b[2K\u001b[7A\u001b[2K\u001b[24A\u001b[2K\u001b[17A\u001b[2K\u001b[23A\u001b[2K\u001b[17A\u001b[2K\u001b[23A\u001b[2K\u001b[17A\u001b[2K\u001b[7A\u001b[2K\u001b[4A\u001b[2K\u001b[7A\u001b[2K\u001b[24A\u001b[2K\u001b[7A\u001b[2K\u001b[23A\u001b[2K\u001b[7A\u001b[2K\u001b[7A\u001b[2K\u001b[2A\u001b[2K\u001b[7A\u001b[2K\u001b[24A\u001b[2K\u001b[7A\u001b[2K\u001b[17A\u001b[2K\u001b[7A\u001b[2K\u001b[23A\u001b[2K\u001b[7A\u001b[2K\u001b[23A\u001b[2K\u001b[7A\u001b[2K\u001b[1A\u001b[2K\u001b[7A\u001b[2K\u001b[17A\u001b[2K\u001b[24A\u001b[2K\u001b[7A\u001b[2K\u001b[24A\u001b[2K\u001b[7A\u001b[2K\u001b[24A\u001b[2K\u001b[7A\u001b[2K\u001b[24A\u001b[2K\u001b[7A\u001b[2K\u001b[24A\u001b[2K\u001b[7A\u001b[2K\u001b[24A\u001b[2K\u001b[23A\u001b[2K\u001b[17A\u001b[2K\u001b[23A\u001b[2K\u001b[17A\u001b[2K\u001b[23A\u001b[2K\u001b[17A\u001b[2K\u001b[23A\u001b[2K\u001b[7A\u001b[2K\u001b[23A\u001b[2K\u001b[23A\u001b[2K\u001b[24A\u001b[2K\u001b[17A\u001b[2K\u001b[24A\u001b[2K\u001b[7A\u001b[2K\u001b[23A\u001b[2K\u001b[24A\u001b[2K\u001b[7A\u001b[2K\u001b[24A\u001b[2K\u001b[7A\u001b[2K\u001b[24A\u001b[2K\u001b[7A\u001b[2K\u001b[23A\u001b[2K\u001b[7A\u001b[2K\u001b[23A\u001b[2K\u001b[7A\u001b[2K\u001b[23A\u001b[2K\u001b[7A\u001b[2K\u001b[23A\u001b[2K\u001b[24A\u001b[2K\u001b[23A\u001b[2K\u001b[24A\u001b[2K\u001b[23A\u001b[2K\u001b[17A\u001b[2K\u001b[23A\u001b[2K\u001b[17A\u001b[2K\u001b[23A\u001b[2K\u001b[24A\u001b[2K\u001b[7A\u001b[2K\u001b[17A\u001b[2K\u001b[7A\u001b[2K\u001b[17A\u001b[2K\u001b[7A\u001b[2K\u001b[17A\u001b[2K\u001b[7A\u001b[2K\u001b[17A\u001b[2K\u001b[7A\u001b[2K\u001b[17A\u001b[2K\u001b[7A\u001b[2K\u001b[23A\u001b[2K\u001b[7A\u001b[2K\u001b[24A\u001b[2K\u001b[7A\u001b[2K\u001b[24A\u001b[2K\u001b[7A\u001b[2K\u001b[24A\u001b[2K\u001b[23A\u001b[2K\u001b[24A\u001b[2K\u001b[23A\u001b[2K\u001b[24A\u001b[2K\u001b[23A\u001b[2K\u001b[24A\u001b[2K\u001b[23A\u001b[2K\u001b[17A\u001b[2K\u001b[23A\u001b[2K\u001b[17A\u001b[2K\u001b[23A\u001b[2K\u001b[24A\u001b[2K\u001b[7A\u001b[2K\u001b[24A\u001b[2K\u001b[7A\u001b[2K\u001b[17A\u001b[2K\u001b[7A\u001b[2K\u001b[23A\u001b[2K\u001b[7A\u001b[2K\u001b[17A\u001b[2K\u001b[7A\u001b[2K\u001b[17A\u001b[2K\u001b[24A\u001b[2K\u001b[17A\u001b[2K\u001b[24A\u001b[2K\u001b[17A\u001b[2K\u001b[24A\u001b[2K\u001b[17A\u001b[2K\u001b[24A\u001b[2K\u001b[7A\u001b[2K\u001b[17A\u001b[2K\u001b[7A\u001b[2K\u001b[17A\u001b[2K\u001b[23A\u001b[2K\u001b[17A\u001b[2K\u001b[24A\u001b[2K\u001b[17A\u001b[2K\u001b[24A\u001b[2K\u001b[17A\u001b[2K\u001b[24A\u001b[2K\u001b[7A\u001b[2K\u001b[17A\u001b[2K\u001b[23A\u001b[2K\u001b[17A\u001b[2K\u001b[7A\u001b[2K\u001b[17A\u001b[2K\u001b[24A\u001b[2K\u001b[17A\u001b[2K\u001b[24A\u001b[2K\u001b[23A\u001b[2K\u001b[24A\u001b[2K\u001b[23A\u001b[2K\u001b[24A\u001b[2K\u001b[23A\u001b[2K\u001b[24A\u001b[2K\u001b[7A\u001b[2K\u001b[24A\u001b[2K\u001b[7A\u001b[2K\u001b[7A\u001b[2K\u001b[23A\u001b[2K\u001b[7A\u001b[2K\u001b[17A\u001b[2K\u001b[7A\u001b[2K\u001b[17A\u001b[2K\u001b[24A\u001b[2K\u001b[17A\u001b[2K\u001b[24A\u001b[2K\u001b[17A\u001b[2K\u001b[23A\u001b[2K\u001b[17A\u001b[2K\u001b[23A\u001b[2K\u001b[24A\u001b[2K\u001b[23A\u001b[2K\u001b[24A\u001b[2K\u001b[23A\u001b[2K\u001b[23A\u001b[2K\u001b[23A\u001b[2K\u001b[24A\u001b[2K\u001b[23A\u001b[2K\u001b[24A\u001b[2K\u001b[23A\u001b[2K\u001b[24A\u001b[2K\u001b[23A\u001b[2K\u001b[24A\u001b[2K\u001b[24A\u001b[2K\u001b[23A\u001b[2K\u001b[24A\u001b[2K\u001b[23A\u001b[2K\u001b[24A\u001b[2K\u001b[7A\u001b[2K\u001b[24A\u001b[2K\u001b[23A\u001b[2K\u001b[24A\u001b[2K\u001b[17A\u001b[2K\u001b[23A\u001b[2K\u001b[17A\u001b[2K\u001b[7A\u001b[2K\u001b[17A\u001b[2K\u001b[7A\u001b[2K\u001b[17A\u001b[2K\u001b[7A\u001b[2K\u001b[17A\u001b[2K\u001b[7A\u001b[2K\u001b[7A\u001b[2K\u001b[24A\u001b[2K\u001b[7A\u001b[2K\u001b[24A\u001b[2K\u001b[17A\u001b[2K\u001b[23A\u001b[2K\u001b[7A\u001b[2K\u001b[23A\u001b[2K\u001b[7A\u001b[2K\u001b[23A\u001b[2K\u001b[7A\u001b[2K\u001b[23A\u001b[2K\u001b[24A\u001b[2K\u001b[23A\u001b[2K\u001b[23A\u001b[2K\u001b[17A\u001b[2K\u001b[23A\u001b[2K\u001b[17A\u001b[2K\u001b[24A\u001b[2K\u001b[24A\u001b[2K\u001b[7A\u001b[2K\u001b[24A\u001b[2K\u001b[7A\u001b[2K\u001b[24A\u001b[2K\u001b[7A\u001b[2K\u001b[24A\u001b[2K\u001b[7A\u001b[2K\u001b[24A\u001b[2K\u001b[17A\u001b[2K\u001b[24A\u001b[2K\u001b[17A\u001b[2K\u001b[24A\u001b[2K\u001b[17A\u001b[2K\u001b[23A\u001b[2K\u001b[17A\u001b[2K\u001b[23A\u001b[2K\u001b[17A\u001b[2K\u001b[23A\u001b[2K\u001b[17A\u001b[2K\u001b[7A\u001b[2K\u001b[23A\u001b[2K\u001b[7A\u001b[2K\u001b[17A\u001b[2K\u001b[24A\u001b[2K\u001b[17A\u001b[2K\u001b[24A\u001b[2K\u001b[17A\u001b[2K\u001b[23A\u001b[2K\u001b[17A\u001b[2K\u001b[24A\u001b[2K\u001b[17A\u001b[2K\u001b[24A\u001b[2K\u001b[17A\u001b[2K\u001b[7A\u001b[2K\u001b[17A\u001b[2K\u001b[23A\u001b[2K\u001b[17A\u001b[2K\u001b[24A\u001b[2K\u001b[17A\u001b[2K\u001b[24A\u001b[2K\u001b[7A\u001b[2K\u001b[24A\u001b[2K\u001b[23A\u001b[2K\u001b[24A\u001b[2K\u001b[17A\u001b[2K\u001b[7A\u001b[2K\u001b[17A\u001b[2K\u001b[7A\u001b[2K\u001b[17A\u001b[2K\u001b[7A\u001b[2K\u001b[24A\u001b[2K\u001b[23A\u001b[2K\u001b[24A\u001b[2K\u001b[23A\u001b[2K\u001b[24A\u001b[2K\u001b[17A\u001b[2K\u001b[7A\u001b[2K\u001b[17A\u001b[2K\u001b[23A\u001b[2K\u001b[24A\u001b[2K\u001b[23A\u001b[2K\u001b[24A\u001b[2K\u001b[7A\u001b[2K\u001b[24A\u001b[2K\u001b[7A\u001b[2K\u001b[24A\u001b[2K\u001b[17A\u001b[2K\u001b[23A\u001b[2K\u001b[17A\u001b[2K\u001b[23A\u001b[2K\u001b[17A\u001b[2K\u001b[23A\u001b[2K\u001b[17A\u001b[2K\u001b[7A\u001b[2K\u001b[24A\u001b[2K\u001b[7A\u001b[2K\u001b[23A\u001b[2K\u001b[7A\u001b[2K\u001b[24A\u001b[2K\u001b[7A\u001b[2K\u001b[24A\u001b[2K\u001b[17A\u001b[2K\u001b[24A\u001b[2K\u001b[23A\u001b[2K\u001b[24A\u001b[2K\u001b[17A\u001b[2K\u001b[7A\u001b[2K\u001b[17A\u001b[2K\u001b[23A\u001b[2K\u001b[17A\u001b[2K\u001b[7A\u001b[2K\u001b[24A\u001b[2K\u001b[7A\u001b[2K\u001b[17A\u001b[2K\u001b[7A\u001b[2K\u001b[17A\u001b[2K\u001b[7A\u001b[2K\u001b[17A\u001b[2K\u001b[7A\u001b[2K\u001b[24A\u001b[2K\u001b[7A\u001b[2K\u001b[23A\u001b[2K\u001b[7A\u001b[2K\u001b[24A\u001b[2K\u001b[23A\u001b[2K\u001b[24A\u001b[2K\u001b[23A\u001b[2K\u001b[7A\u001b[2K\u001b[17A\u001b[2K\u001b[7A\u001b[2K\u001b[17A\u001b[2K\u001b[7A\u001b[2K\u001b[17A\u001b[2K\u001b[23A\u001b[2K\u001b[7A\u001b[2K\u001b[23A\u001b[2K\u001b[7A\u001b[2K\u001b[24A\u001b[2K\u001b[23A\u001b[2K\u001b[24A\u001b[2K\u001b[23A\u001b[2K\u001b[17A\u001b[2K\u001b[23A\u001b[2K\u001b[17A\u001b[2K\u001b[23A\u001b[2K\u001b[7A\u001b[2K\u001b[24A\u001b[2K\u001b[23A\u001b[2K\u001b[24A\u001b[2K\u001b[23A\u001b[2K\u001b[24A\u001b[2K\u001b[7A\u001b[2K\u001b[24A\u001b[2K\u001b[7A\u001b[2K\u001b[24A\u001b[2K\u001b[7A\u001b[2K\u001b[17A\u001b[2K\u001b[17A\u001b[2K\u001b[17A\u001b[2K\u001b[24A\u001b[2K\u001b[23A\u001b[2K\u001b[24A\u001b[2K\u001b[17A\u001b[2K\u001b[24A\u001b[2K\u001b[17A\u001b[2K\u001b[23A\u001b[2K\u001b[17A\u001b[2K\u001b[7A\u001b[2K\u001b[17A\u001b[2K\u001b[7A\u001b[2K\u001b[17A\u001b[2K\u001b[7A\u001b[2K\u001b[17A\u001b[2K\u001b[7A\u001b[2K\u001b[17A\u001b[2K\u001b[7A\u001b[2K\u001b[17A\u001b[2K\u001b[24A\u001b[2K\u001b[17A\u001b[2K\u001b[24A\u001b[2K\u001b[17A\u001b[2K\u001b[23A\u001b[2K\u001b[17A\u001b[2K\u001b[24A\u001b[2K\u001b[17A\u001b[2K\u001b[24A\u001b[2K\u001b[23A\u001b[2K\u001b[24A\u001b[2K\u001b[17A\u001b[2K\u001b[24A\u001b[2K\u001b[17A\u001b[2K\u001b[24A\u001b[2K\u001b[23A\u001b[2K\u001b[24A\u001b[2K\u001b[23A\u001b[2K\u001b[24A\u001b[2K\u001b[24A\u001b[2K\u001b[23A\u001b[2K\u001b[24A\u001b[2K\u001b[23A\u001b[2K\u001b[24A\u001b[2K\u001b[17A\u001b[2K\u001b[24A\u001b[2K\u001b[17A\u001b[2K\u001b[24A\u001b[2K\u001b[17A\u001b[2K\u001b[24A\u001b[2K\u001b[17A\u001b[2K\u001b[23A\u001b[2K\u001b[17A\u001b[2K\u001b[23A\u001b[2K\u001b[17A\u001b[2K\u001b[23A\u001b[2K\u001b[24A\u001b[2K\u001b[23A\u001b[2K\u001b[24A\u001b[2K\u001b[24A\u001b[2K\u001b[24A\u001b[2K\u001b[24A\u001b[2K\u001b[17A\u001b[2K\u001b[23A\u001b[2K\u001b[17A\u001b[2K\u001b[23A\u001b[2K\u001b[17A\u001b[2K\u001b[24A\u001b[2K\u001b[17A\u001b[2K\u001b[17A\u001b[2K\u001b[17A\u001b[2K\u001b[17A\u001b[2K\u001b[23A\u001b[2K\u001b[17A\u001b[2K\u001b[23A\u001b[2K\u001b[17A\u001b[2K\u001b[24A\u001b[2K\u001b[17A\u001b[2K\u001b[23A\u001b[2K\u001b[17A\u001b[2K\u001b[24A\u001b[2K\u001b[17A\u001b[2K\u001b[24A\u001b[2K\u001b[17A\u001b[2K\u001b[24A\u001b[2K\u001b[17A\u001b[2K\u001b[24A\u001b[2K\u001b[23A\u001b[2K\u001b[24A\u001b[2K\u001b[23A\u001b[2K\u001b[24A\u001b[2K\u001b[23A\u001b[2K\u001b[24A\u001b[2K\u001b[23A\u001b[2K\u001b[24A\u001b[2K\u001b[17A\u001b[2K\u001b[24A\u001b[2K\u001b[17A\u001b[2K\u001b[24A\u001b[2K\u001b[17A\u001b[2K\u001b[24A\u001b[2K\u001b[24A\u001b[2K\u001b[23A\u001b[2K\u001b[17A\u001b[2K\u001b[23A\u001b[2K\u001b[17A\u001b[2K\u001b[23A\u001b[2K\u001b[17A\u001b[2K\u001b[24A\u001b[2K\u001b[17A\u001b[2K\u001b[24A\u001b[2K\u001b[17A\u001b[2K\u001b[24A\u001b[2K\u001b[23A\u001b[2K\u001b[17A\u001b[2K\u001b[23A\u001b[2K\u001b[17A\u001b[2K\u001b[23A\u001b[2K\u001b[17A\u001b[2K\u001b[23A\u001b[2K\u001b[24A\u001b[2K\u001b[23A\u001b[2K\u001b[23A\u001b[2K\u001b[23A\u001b[2K\u001b[17A\u001b[2K\u001b[17A\u001b[2K\u001b[17A\u001b[2K\u001b[17A\u001b[2K\u001b[23A\u001b[2K\u001b[17A\u001b[2K\u001b[24A\u001b[2K\u001b[17A\u001b[2K\u001b[23A\u001b[2K\u001b[17A\u001b[2K\u001b[23A\u001b[2K\u001b[17A\u001b[2K\u001b[23A\u001b[2K\u001b[24A\u001b[2K\u001b[23A\u001b[2K\u001b[17A\u001b[2K\u001b[23A\u001b[2K\u001b[17A\u001b[2K\u001b[23A\u001b[2K\u001b[17A\u001b[2K\u001b[23A\u001b[2K\u001b[24A\u001b[2K\u001b[23A\u001b[2K\u001b[24A\u001b[2K\u001b[23A\u001b[2K\u001b[24A\u001b[2K\u001b[23A\u001b[2K\u001b[24A\u001b[2K\u001b[23A\u001b[2K\u001b[24A\u001b[2K\u001b[17A\u001b[2K\u001b[23A\u001b[2K\u001b[17A\u001b[2K\u001b[24A\u001b[2K\u001b[17A\u001b[2K\u001b[24A\u001b[2K\u001b[17A\u001b[2K\u001b[24A\u001b[2K\u001b[17A\u001b[2K\u001b[23A\u001b[2K\u001b[24A\u001b[2K\u001b[23A\u001b[2K\u001b[17A\u001b[2K\u001b[23A\u001b[2K\u001b[17A\u001b[2K\u001b[23A\u001b[2K\u001b[17A\u001b[2K\u001b[24A\u001b[2K\u001b[17A\u001b[2K\u001b[24A\u001b[2K\u001b[23A\u001b[2K\u001b[24A\u001b[2K\u001b[23A\u001b[2K\u001b[24A\u001b[2K\u001b[24A\u001b[2K\u001b[17A\u001b[2K\u001b[23A\u001b[2K\u001b[17A\u001b[2K\u001b[23A\u001b[2K\u001b[17A\u001b[2K\u001b[24A\u001b[2K\u001b[17A\u001b[2K\u001b[23A\u001b[2K\u001b[17A\u001b[2K\u001b[23A\u001b[2K\u001b[17A\u001b[2K\u001b[23A\u001b[2K\u001b[24A\u001b[2K\u001b[23A\u001b[2K\u001b[17A\u001b[2K\u001b[23A\u001b[2K\u001b[17A\u001b[2K\u001b[23A\u001b[2K\u001b[24A\u001b[2K\u001b[23A\u001b[2K\u001b[24A\u001b[2K\u001b[23A\u001b[2K\u001b[23A\u001b[2K\u001b[23A\u001b[2K\u001b[24A\u001b[2K\u001b[23A\u001b[2K\u001b[24A\u001b[2K\u001b[17A\u001b[2K\u001b[24A\u001b[2K\u001b[23A\u001b[2K\u001b[24A\u001b[2K\u001b[23A\u001b[2K\u001b[24A\u001b[2K\u001b[23A\u001b[2K\u001b[24A\u001b[2K\u001b[17A\u001b[2K\u001b[24A\u001b[2K\u001b[17A\u001b[2K\u001b[24A\u001b[2K\u001b[17A\u001b[2K\u001b[23A\u001b[2K\u001b[17A\u001b[2K\u001b[23A\u001b[2K\u001b[17A\u001b[2K\u001b[23A\u001b[2K\u001b[17A\u001b[2K\u001b[23A\u001b[2K\u001b[17A\u001b[2K\u001b[24A\u001b[2K\u001b[23A\u001b[2K\u001b[24A\u001b[2K\u001b[17A\u001b[2K\u001b[24A\u001b[2K\u001b[17A\u001b[2K\u001b[24A\u001b[2K\u001b[17A\u001b[2K\u001b[24A\u001b[2K\u001b[23A\u001b[2K\u001b[24A\u001b[2K\u001b[23A\u001b[2K\u001b[24A\u001b[2K\u001b[23A\u001b[2K\u001b[17A\u001b[2K\u001b[23A\u001b[2K\u001b[17A\u001b[2K\u001b[23A\u001b[2K\u001b[17A\u001b[2K\u001b[23A\u001b[2K\u001b[24A\u001b[2K\u001b[23A\u001b[2K\u001b[24A\u001b[2K\u001b[23A\u001b[2K\u001b[24A\u001b[2K\u001b[23A\u001b[2K\u001b[17A\u001b[2K\u001b[23A\u001b[2K\u001b[23A\u001b[2K\u001b[23A\u001b[2K\u001b[17A\u001b[2K\u001b[23A\u001b[2K\u001b[24A\u001b[2K\u001b[17A\u001b[2K\u001b[23A\u001b[2K\u001b[17A\u001b[2K\u001b[24A\u001b[2K\u001b[17A\u001b[2K\u001b[24A\u001b[2K\u001b[17A\u001b[2K\u001b[23A\u001b[2K\u001b[17A\u001b[2K\u001b[23A\u001b[2K\u001b[23A\u001b[2K\u001b[23A\u001b[2K\u001b[24A\u001b[2K\u001b[23A\u001b[2K\u001b[24A\u001b[2K\u001b[23A\u001b[2K\u001b[17A\u001b[2K\u001b[23A\u001b[2K\u001b[17A\u001b[2K\u001b[24A\u001b[2K\u001b[17A\u001b[2K\u001b[24A\u001b[2K\u001b[23A\u001b[2K\u001b[24A\u001b[2K\u001b[23A\u001b[2K\u001b[24A\u001b[2K\u001b[17A\u001b[2K\u001b[24A\u001b[2K\u001b[17A\u001b[2K\u001b[23A\u001b[2K\u001b[17A\u001b[2K\u001b[23A\u001b[2K\u001b[17A\u001b[2K\u001b[23A\u001b[2K\u001b[24A\u001b[2K\u001b[23A\u001b[2K\u001b[23A\u001b[2K\u001b[23A\u001b[2K\u001b[17A\u001b[2K\u001b[23A\u001b[2K\u001b[23A\u001b[2K\u001b[24A\u001b[2K\u001b[23A\u001b[2K\u001b[24A\u001b[2K\u001b[23A\u001b[2K\u001b[24A\u001b[2K\u001b[23A\u001b[2K\u001b[17A\u001b[2K\u001b[23A\u001b[2K\u001b[24A\u001b[2K\u001b[17A\u001b[2K\u001b[24A\u001b[2K\u001b[17A\u001b[2K\u001b[23A\u001b[2K\u001b[17A\u001b[2K\u001b[23A\u001b[2K\u001b[17A\u001b[2K\u001b[23A\u001b[2K\u001b[24A\u001b[2K\u001b[23A\u001b[2K\u001b[24A\u001b[2K\u001b[23A\u001b[2K\u001b[17A\u001b[2K\u001b[23A\u001b[2K\u001b[17A\u001b[2K\u001b[23A\u001b[2K\u001b[17A\u001b[2K\u001b[23A\u001b[2K\u001b[17A\u001b[2K\u001b[23A\u001b[2K\u001b[17A\u001b[2K\u001b[23A\u001b[2K\u001b[23A\u001b[2K\u001b[24A\u001b[2K\u001b[23A\u001b[2K\u001b[17A\u001b[2K\u001b[17A\u001b[2K\u001b[23A\u001b[2K\u001b[17A\u001b[2K\u001b[24A\u001b[2K\u001b[17A\u001b[2K\u001b[24A\u001b[2K\u001b[17A\u001b[2K\u001b[17A\u001b[2K\u001b[17A\u001b[2K\u001b[17A\u001b[2K\u001b[17A\u001b[2K\u001b[24A\u001b[2K\u001b[17A\u001b[2K\u001b[24A\u001b[2K\u001b[17A\u001b[2K\u001b[24A\u001b[2K\u001b[17A\u001b[2K\u001b[17A\u001b[2K\u001b[24A\u001b[2K\u001b[17A\u001b[2K\u001b[24A\u001b[2K\u001b[17A\u001b[2K\u001b[24A\u001b[2K\u001b[17A\u001b[2K\u001b[24A\u001b[2K\u001b[17A\u001b[2K\u001b[24A\u001b[2K\u001b[24A\u001b[2K\u001b[24A\u001b[2K\u001b[24A\u001b[2K\u001b[23A\u001b[2K\u001b[17A\u001b[2K\u001b[24A\u001b[2K\u001b[17A\u001b[2K\u001b[24A\u001b[2K\u001b[17A\u001b[2K\u001b[24A\u001b[2K\u001b[17A\u001b[2K\u001b[24A\u001b[2K\u001b[17A\u001b[2K\u001b[23A\u001b[2K\u001b[23A\u001b[2K\u001b[23A\u001b[2K\u001b[17A\u001b[2K\u001b[23A\u001b[2K\u001b[24A\u001b[2K\u001b[23A\u001b[2K\u001b[24A\u001b[2K\u001b[23A\u001b[2K\u001b[24A\u001b[2K\u001b[24A\u001b[2K\u001b[23A\u001b[2K\u001b[24A\u001b[2K\u001b[17A\u001b[2K\u001b[23A\u001b[2K\u001b[24A\u001b[2K\u001b[23A\u001b[2K\u001b[24A\u001b[2K\u001b[23A\u001b[2K\u001b[17A\u001b[2K\u001b[23A\u001b[2K\u001b[24A\u001b[2K\u001b[23A\u001b[2K\u001b[24A\u001b[2K\u001b[23A\u001b[2K\u001b[24A\u001b[2K\u001b[23A\u001b[2K\u001b[24A\u001b[2K\u001b[23A\u001b[2K\u001b[17A\u001b[2K\u001b[23A\u001b[2K\u001b[24A\u001b[2K\u001b[24A\u001b[2K\u001b[24A\u001b[2K\u001b[24A\u001b[2K\u001b[17A\u001b[2K\u001b[24A\u001b[2K\u001b[17A\u001b[2K\u001b[23A\u001b[2K\u001b[17A\u001b[2K\u001b[23A\u001b[2K\u001b[24A\u001b[2K\u001b[23A\u001b[2K\u001b[24A\u001b[2K\u001b[23A\u001b[2K\u001b[24A\u001b[2K\u001b[17A\u001b[2K\u001b[23A\u001b[2K\u001b[17A\u001b[2K\u001b[23A\u001b[2K\u001b[24A\u001b[2K\u001b[23A\u001b[2K\u001b[17A\u001b[2K\u001b[23A\u001b[2K\u001b[17A\u001b[2K\u001b[23A\u001b[2K\u001b[17A\u001b[2K\u001b[23A\u001b[2K\u001b[23A\u001b[2K\u001b[24A\u001b[2K\u001b[23A\u001b[2K\u001b[24A\u001b[2K\u001b[23A\u001b[2K\u001b[17A\u001b[2K\u001b[23A\u001b[2K\u001b[17A\u001b[2K\u001b[24A\u001b[2K\u001b[23A\u001b[2K\u001b[24A\u001b[2K\u001b[23A\u001b[2K\u001b[24A\u001b[2K\u001b[23A\u001b[2K\u001b[24A\u001b[2K\u001b[23A\u001b[2K\u001b[24A\u001b[2K\u001b[17A\u001b[2K\u001b[24A\u001b[2K\u001b[17A\u001b[2K\u001b[23A\u001b[2K\u001b[24A\u001b[2K\u001b[23A\u001b[2K\u001b[24A\u001b[2K\u001b[17A\u001b[2K\u001b[24A\u001b[2K\u001b[17A\u001b[2K\u001b[23A\u001b[2K\u001b[17A\u001b[2K\u001b[23A\u001b[2K\u001b[17A\u001b[2K\u001b[23A\u001b[2K\u001b[17A\u001b[2K\u001b[23A\u001b[2K\u001b[17A\u001b[2K\u001b[17A\u001b[2K\u001b[24A\u001b[2K\u001b[17A\u001b[2K\u001b[24A\u001b[2K\u001b[17A\u001b[2K\u001b[23A\u001b[2K\u001b[17A\u001b[2K\u001b[23A\u001b[2K\u001b[17A\u001b[2K\u001b[23A\u001b[2K\u001b[24A\u001b[2K\u001b[17A\u001b[2K\u001b[24A\u001b[2K\u001b[17A\u001b[2K\u001b[23A\u001b[2K\u001b[17A\u001b[2K\u001b[23A\u001b[2K\u001b[17A\u001b[2K\u001b[23A\u001b[2K\u001b[24A\u001b[2K\u001b[17A\u001b[2K\u001b[23A\u001b[2K\u001b[17A\u001b[2K\u001b[23A\u001b[2K\u001b[24A\u001b[2K\u001b[23A\u001b[2K\u001b[24A\u001b[2K\u001b[23A\u001b[2K\u001b[23A\u001b[2K\u001b[23A\u001b[2K\u001b[24A\u001b[2K\u001b[23A\u001b[2K\u001b[24A\u001b[2K\u001b[23A\u001b[2K\u001b[23A\u001b[2K\u001b[17A\u001b[2K\u001b[23A\u001b[2K\u001b[17A\u001b[2K\u001b[23A\u001b[2K\u001b[23A\u001b[2K\u001b[17A\u001b[2K\u001b[17A\u001b[2K\u001b[24A\u001b[2K\u001b[17A\u001b[2K\u001b[24A\u001b[2K\u001b[17A\u001b[2K\u001b[24A\u001b[2K\u001b[17A\u001b[2K\u001b[24A\u001b[2K\u001b[17A\u001b[2K\u001b[17A\u001b[2K\u001b[24A\u001b[2K\u001b[23A\u001b[2K\u001b[24A\u001b[2K\u001b[23A\u001b[2K\u001b[24A\u001b[2K\u001b[24A\u001b[2K\u001b[17A\u001b[2K\u001b[24A\u001b[2K\u001b[17A\u001b[2K\u001b[24A\u001b[2K\u001b[23A\u001b[2K\u001b[24A\u001b[2K\u001b[17A\u001b[2K\u001b[24A\u001b[2K\u001b[17A\u001b[2K\u001b[24A\u001b[2K\u001b[17A\u001b[2K\u001b[24A\u001b[2K\u001b[23A\u001b[2K\u001b[24A\u001b[2K\u001b[23A\u001b[2K\u001b[24A\u001b[2K\u001b[17A\u001b[2K\u001b[24A\u001b[2K\u001b[24A\u001b[2K\u001b[17A\u001b[2K\u001b[24A\u001b[2K\u001b[23A\u001b[2K\u001b[24A\u001b[2K\u001b[23A\u001b[2K\u001b[17A\u001b[2K\u001b[24A\u001b[2K\u001b[23A\u001b[2K\u001b[24A\u001b[2K\u001b[23A\u001b[2K\u001b[24A\u001b[2K\u001b[23A\u001b[2K\u001b[24A\u001b[2K\u001b[23A\u001b[2K\u001b[24A\u001b[2K\u001b[17A\u001b[2K\u001b[24A\u001b[2K\u001b[23A\u001b[2K\u001b[24A\u001b[2K\u001b[17A\u001b[2K\u001b[24A\u001b[2K\u001b[23A\u001b[2K\u001b[17A\u001b[2K\u001b[23A\u001b[2K\u001b[17A\u001b[2K\u001b[24A\u001b[2K\u001b[23A\u001b[2K\u001b[17A\u001b[2K\u001b[23A\u001b[2K\u001b[24A\u001b[2K\u001b[23A\u001b[2K\u001b[24A\u001b[2K\u001b[17A\u001b[2K\u001b[17A\u001b[2K\u001b[17A\u001b[2K\u001b[24A\u001b[2K\u001b[17A\u001b[2K\u001b[17A\u001b[2K\u001b[17A\u001b[2K\u001b[24A\u001b[2K\u001b[17A\u001b[2K\u001b[23A\u001b[2K\u001b[17A\u001b[2K\u001b[17A\u001b[2K\u001b[17A\u001b[2K\u001b[24A\u001b[2K\u001b[17A\u001b[2K\u001b[23A\u001b[2K\u001b[17A\u001b[2K\u001b[23A\u001b[2K\u001b[17A\u001b[2K\u001b[17A\u001b[2K\u001b[17A\u001b[2K\u001b[24A\u001b[2K\u001b[17A\u001b[2K\u001b[23A\u001b[2K\u001b[17A\u001b[2K\u001b[23A\u001b[2K\u001b[17A\u001b[2K\u001b[23A\u001b[2K\u001b[24A\u001b[2K\u001b[17A\u001b[2K\u001b[23A\u001b[2K\u001b[17A\u001b[2K\u001b[23A\u001b[2K\u001b[17A\u001b[2K\u001b[23A\u001b[2K\u001b[17A\u001b[2K\u001b[24A\u001b[2K\u001b[17A\u001b[2K\u001b[23A\u001b[2K\u001b[17A\u001b[2K\u001b[23A\u001b[2K\u001b[17A\u001b[2K\u001b[24A\u001b[2K\u001b[23A\u001b[2K\u001b[17A\u001b[2K\u001b[23A\u001b[2K\u001b[23A\u001b[2K\u001b[17A\u001b[2K\u001b[23A\u001b[2K\u001b[24A\u001b[2K\u001b[23A\u001b[2K\u001b[24A\u001b[2K\u001b[24A\u001b[2K\u001b[23A\u001b[2K\u001b[17A\u001b[2K\u001b[24A\u001b[2K\u001b[17A\u001b[2K\u001b[24A\u001b[2K\u001b[24A\u001b[2K\u001b[17A\u001b[2K\u001b[24A\u001b[2K\u001b[17A\u001b[2K\u001b[24A\u001b[2K\u001b[23A\u001b[2K\u001b[24A\u001b[2K\u001b[24A\u001b[2K\u001b[17A\u001b[2K\u001b[24A\u001b[2K\u001b[17A\u001b[2K\u001b[24A\u001b[2K\u001b[23A\u001b[2K\u001b[17A\u001b[2K\u001b[24A\u001b[2K\u001b[17A\u001b[2K\u001b[23A\u001b[2K\u001b[17A\u001b[2K\u001b[23A\u001b[2K\u001b[24A\u001b[2K\u001b[23A\u001b[2K\u001b[24A\u001b[2K\u001b[17A\u001b[2K\u001b[23A\u001b[2K\u001b[17A\u001b[2K\u001b[23A\u001b[2K\u001b[17A\u001b[2K\u001b[23A\u001b[2K\u001b[24A\u001b[2K\u001b[17A\u001b[2K\u001b[24A\u001b[2K\u001b[17A\u001b[2K\u001b[24A\u001b[2K\u001b[17A\u001b[2K\u001b[23A\u001b[2K\u001b[17A\u001b[2K\u001b[23A\u001b[2K\u001b[24A\u001b[2K\u001b[17A\u001b[2K\u001b[24A\u001b[2K\u001b[17A\u001b[2K\u001b[24A\u001b[2K\u001b[17A\u001b[2K\u001b[23A\u001b[2K\u001b[24A\u001b[2K\u001b[23A\u001b[2K\u001b[24A\u001b[2K\u001b[23A\u001b[2K\u001b[24A\u001b[2K\u001b[23A\u001b[2K\u001b[24A\u001b[2K\u001b[23A\u001b[2K\u001b[17A\u001b[2K\u001b[23A\u001b[2K\u001b[17A\u001b[2K\u001b[23A\u001b[2K\u001b[17A\u001b[2K\u001b[23A\u001b[2K\u001b[23A\u001b[2K\u001b[24A\u001b[2K\u001b[23A\u001b[2K\u001b[24A\u001b[2K\u001b[23A\u001b[2K\u001b[17A\u001b[2K\u001b[23A\u001b[2K\u001b[23A\u001b[2K\u001b[23A\u001b[2K\u001b[17A\u001b[2K\u001b[23A\u001b[2K\u001b[23A\u001b[2K\u001b[17A\u001b[2K\u001b[23A\u001b[2K\u001b[24A\u001b[2K\u001b[23A\u001b[2K\u001b[24A\u001b[2K\u001b[17A\u001b[2K\u001b[23A\u001b[2K\u001b[17A\u001b[2K\u001b[23A\u001b[2K\u001b[24A\u001b[2K\u001b[23A\u001b[2K\u001b[24A\u001b[2K\u001b[17A\u001b[2K\u001b[23A\u001b[2K\u001b[17A\u001b[2K\u001b[23A\u001b[2K\u001b[24A\u001b[2K\u001b[23A\u001b[2K\u001b[24A\u001b[2K\u001b[23A\u001b[2K\u001b[23A\u001b[2K\u001b[24A\u001b[2K\u001b[23A\u001b[2K\u001b[24A\u001b[2K\u001b[23A\u001b[2K\u001b[17A\u001b[2K\u001b[24A\u001b[2K\u001b[17A\u001b[2K\u001b[24A\u001b[2K\u001b[17A\u001b[2K\u001b[24A\u001b[2K\u001b[17A\u001b[2K\u001b[24A\u001b[2K\u001b[17A\u001b[2K\u001b[24A\u001b[2K\u001b[17A\u001b[2K\u001b[23A\u001b[2K\u001b[17A\u001b[2K\u001b[23A\u001b[2K\u001b[24A\u001b[2K\u001b[23A\u001b[2K\u001b[24A\u001b[2K\u001b[23A\u001b[2K\u001b[17A\u001b[2K\u001b[23A\u001b[2K\u001b[17A\u001b[2K\u001b[23A\u001b[2K\u001b[24A\u001b[2K\u001b[17A\u001b[2K\u001b[23A\u001b[2K\u001b[17A\u001b[2K\u001b[23A\u001b[2K\u001b[17A\u001b[2K\u001b[24A\u001b[2K\u001b[17A\u001b[2K\u001b[24A\u001b[2K\u001b[24A\u001b[2K\u001b[23A\u001b[2K\u001b[17A\u001b[2K\u001b[24A\u001b[2K\u001b[23A\u001b[2K\u001b[24A\u001b[2K\u001b[23A\u001b[2K\u001b[23A\u001b[2K\u001b[17A\u001b[2K\u001b[23A\u001b[2K\u001b[24A\u001b[2K\u001b[23A\u001b[2K\u001b[23A\u001b[2K\u001b[23A\u001b[2K\u001b[24A\u001b[2K\u001b[23A\u001b[2K\u001b[24A\u001b[2K\u001b[23A\u001b[2K\u001b[24A\u001b[2K\u001b[23A\u001b[2K\u001b[23A\u001b[2K\u001b[24A\u001b[2K\u001b[23A\u001b[2K\u001b[24A\u001b[2K\u001b[23A\u001b[2K\u001b[17A\u001b[2K\u001b[23A\u001b[2K\u001b[17A\u001b[2K\u001b[23A\u001b[2K\u001b[24A\u001b[2K\u001b[23A\u001b[2K\u001b[17A\u001b[2K\u001b[23A\u001b[2K\u001b[24A\u001b[2K\u001b[23A\u001b[2K\u001b[24A\u001b[2K\u001b[23A\u001b[2K\u001b[17A\u001b[2K\u001b[23A\u001b[2K\u001b[24A\u001b[2K\u001b[23A\u001b[2K\u001b[17A\u001b[2K\u001b[23A\u001b[2K\u001b[17A\u001b[2K\u001b[23A\u001b[2K\u001b[17A\u001b[2K\u001b[23A\u001b[2K\u001b[24A\u001b[2K\u001b[24A\u001b[2K\u001b[24A\u001b[2K\u001b[23A\u001b[2K\u001b[24A\u001b[2K\u001b[17A\u001b[2K\u001b[24A\u001b[2K\u001b[23A\u001b[2K\u001b[24A\u001b[2K\u001b[23A\u001b[2K\u001b[24A\u001b[2K\u001b[17A\u001b[2K\u001b[23A\u001b[2K\u001b[17A\u001b[2K\u001b[23A\u001b[2K\u001b[24A\u001b[2K\u001b[24A\u001b[2K\u001b[24A\u001b[2K\u001b[23A\u001b[2K\u001b[24A\u001b[2K\u001b[17A\u001b[2K\u001b[23A\u001b[2K\u001b[17A\u001b[2K\u001b[23A\u001b[2K\u001b[24A\u001b[2K\u001b[24A\u001b[2K\u001b[23A\u001b[2K\u001b[17A\u001b[2K\u001b[17A\u001b[2K\u001b[17A\u001b[2K\u001b[17A\u001b[2K\u001b[24A\u001b[2K\u001b[17A\u001b[2K\u001b[23A\u001b[2K\u001b[17A\u001b[2K\u001b[17A\u001b[2K\u001b[24A\u001b[2K\u001b[17A\u001b[2K\u001b[24A\u001b[2K\u001b[17A\u001b[2K\u001b[24A\u001b[2K\u001b[17A\u001b[2K\u001b[24A\u001b[2K\u001b[17A\u001b[2K\u001b[23A\u001b[2K\u001b[24A\u001b[2K\u001b[23A\u001b[2K\u001b[24A\u001b[2K\u001b[23A\u001b[2K\u001b[24A\u001b[2K\u001b[23A\u001b[2K\u001b[17A\u001b[2K\u001b[23A\u001b[2K\u001b[24A\u001b[2K\u001b[17A\u001b[2K\u001b[17A\u001b[2K\u001b[23A\u001b[2K\u001b[17A\u001b[2K\u001b[23A\u001b[2K\u001b[17A\u001b[2K\u001b[24A\u001b[2K\u001b[17A\u001b[2K\u001b[24A\u001b[2K\u001b[23A\u001b[2K\u001b[24A\u001b[2K\u001b[23A\u001b[2K\u001b[24A\u001b[2K\u001b[23A\u001b[2K\u001b[17A\u001b[2K\u001b[23A\u001b[2K\u001b[24A\u001b[2K\u001b[23A\u001b[2K\u001b[24A\u001b[2K\u001b[17A\u001b[2K\u001b[24A\u001b[2K\u001b[17A\u001b[2K\u001b[24A\u001b[2K\u001b[23A\u001b[2K\u001b[24A\u001b[2K\u001b[23A\u001b[2K\u001b[24A\u001b[2K\u001b[17A\u001b[2K\u001b[24A\u001b[2K\u001b[17A\u001b[2K\u001b[24A\u001b[2K\u001b[23A\u001b[2K\u001b[24A\u001b[2K\u001b[17A\u001b[2K\u001b[24A\u001b[2K\u001b[17A\u001b[2K\u001b[23A\u001b[2K\u001b[24A\u001b[2K\u001b[23A\u001b[2K\u001b[17A\u001b[2K\u001b[23A\u001b[2K\u001b[17A\u001b[2K\u001b[23A\u001b[2K\u001b[17A\u001b[2K\u001b[24A\u001b[2K\u001b[23A\u001b[2K\u001b[24A\u001b[2K\u001b[23A\u001b[2K\u001b[24A\u001b[2K\u001b[23A\u001b[2K\u001b[17A\u001b[2K\u001b[23A\u001b[2K\u001b[17A\u001b[2K\u001b[24A\u001b[2K\u001b[23A\u001b[2K\u001b[24A\u001b[2K\u001b[17A\u001b[2K\u001b[24A\u001b[2K\u001b[17A\u001b[2K\u001b[24A\u001b[2K\u001b[17A\u001b[2K\u001b[23A\u001b[2K\u001b[17A\u001b[2K\u001b[23A\u001b[2K\u001b[24A\u001b[2K\u001b[23A\u001b[2K\u001b[24A\u001b[2K\u001b[17A\u001b[2K\u001b[23A\u001b[2K\u001b[17A\u001b[2K\u001b[23A\u001b[2K\u001b[24A\u001b[2K\u001b[23A\u001b[2K\u001b[24A\u001b[2K\u001b[17A\u001b[2K\u001b[24A\u001b[2K\u001b[17A\u001b[2K\u001b[23A\u001b[2K\u001b[24A\u001b[2K\u001b[23A\u001b[2K\u001b[24A\u001b[2K\u001b[17A\u001b[2K\u001b[24A\u001b[2K\u001b[17A\u001b[2K\u001b[24A\u001b[2K\u001b[17A\u001b[2K\u001b[23A\u001b[2K\u001b[24A\u001b[2K\u001b[23A\u001b[2K\u001b[24A\u001b[2K\u001b[17A\u001b[2K\u001b[24A\u001b[2K\u001b[17A\u001b[2K\u001b[24A\u001b[2K\u001b[17A\u001b[2K\u001b[23A\u001b[2K\u001b[24A\u001b[2K\u001b[23A\u001b[2K\u001b[24A\u001b[2K\u001b[17A\u001b[2K\u001b[24A\u001b[2K\u001b[17A\u001b[2K\u001b[24A\u001b[2K\u001b[17A\u001b[2K\u001b[24A\u001b[2K\u001b[17A\u001b[2K\u001b[23A\u001b[2K\u001b[17A\u001b[2K\u001b[23A\u001b[2K\u001b[24A\u001b[2K\u001b[17A\u001b[2K\u001b[24A\u001b[2K\u001b[17A\u001b[2K\u001b[24A\u001b[2K\u001b[23A\u001b[2K\u001b[24A\u001b[2K\u001b[17A\u001b[2K\u001b[24A\u001b[2K\u001b[17A\u001b[2K\u001b[24A\u001b[2K\u001b[23A\u001b[2K\u001b[24A\u001b[2K\u001b[24A\u001b[2K\u001b[17A\u001b[2K\u001b[24A\u001b[2K\u001b[17A\u001b[2K\u001b[24A\u001b[2K\u001b[23A\u001b[2K\u001b[24A\u001b[2K\u001b[24A\u001b[2K\u001b[23A\u001b[2K\u001b[24A\u001b[2K\u001b[24A\u001b[2K\u001b[23A\u001b[2K\u001b[24A\u001b[2K\u001b[17A\u001b[2K\u001b[23A\u001b[2K\u001b[17A\u001b[2K\u001b[23A\u001b[2K\u001b[17A\u001b[2K\u001b[23A\u001b[2K\u001b[17A\u001b[2K\u001b[23A\u001b[2K\u001b[17A\u001b[2K\u001b[24A\u001b[2K\u001b[23A\u001b[2K\u001b[24A\u001b[2K\u001b[23A\u001b[2K\u001b[24A\u001b[2K\u001b[23A\u001b[2K\u001b[24A\u001b[2K\u001b[17A\u001b[2K\u001b[24A\u001b[2K\u001b[23A\u001b[2K\u001b[24A\u001b[2K\u001b[23A\u001b[2K\u001b[24A\u001b[2K\u001b[17A\u001b[2K\u001b[24A\u001b[2K\u001b[23A\u001b[2K\u001b[24A\u001b[2K\u001b[23A\u001b[2K\u001b[24A\u001b[2K\u001b[24A\u001b[2K\u001b[23A\u001b[2K\u001b[24A\u001b[2K\u001b[17A\u001b[2K\u001b[23A\u001b[2K\u001b[17A\u001b[2K\u001b[24A\u001b[2K\u001b[17A\u001b[2K\u001b[24A\u001b[2K\u001b[17A\u001b[2K\u001b[23A\u001b[2K\u001b[17A\u001b[2K\u001b[24A\u001b[2K\u001b[17A\u001b[2K\u001b[24A\u001b[2K\u001b[17A\u001b[2K\u001b[17A\u001b[2K\u001b[24A\u001b[2K\u001b[17A\u001b[2K\u001b[24A\u001b[2K\u001b[17A\u001b[2K\u001b[24A\u001b[2K\u001b[17A\u001b[2K\u001b[24A\u001b[2K\u001b[17A\u001b[2K\u001b[23A\u001b[2K\u001b[17A\u001b[2K\u001b[23A\u001b[2K\u001b[24A\u001b[2K\u001b[17A\u001b[2K\u001b[24A\u001b[2K\u001b[23A\u001b[2K\u001b[17A\u001b[2K\u001b[23A\u001b[2K\u001b[17A\u001b[2K\u001b[24A\u001b[2K\u001b[17A\u001b[2K\u001b[23A\u001b[2K\u001b[17A\u001b[2K\u001b[23A\u001b[2K\u001b[17A\u001b[2K\u001b[24A\u001b[2K\u001b[23A\u001b[2K\u001b[17A\u001b[2K\u001b[23A\u001b[2K\u001b[17A\u001b[2K\u001b[24A\u001b[2K\u001b[17A\u001b[2K\u001b[24A\u001b[2K\u001b[17A\u001b[2K\u001b[17A\u001b[2K\u001b[23A\u001b[2K\u001b[24A\u001b[2K\u001b[23A\u001b[2K\u001b[17A\u001b[2K\u001b[23A\u001b[2K\u001b[17A\u001b[2K\u001b[23A\u001b[2K\u001b[17A\u001b[2K\u001b[23A\u001b[2K\u001b[24A\u001b[2K\u001b[23A\u001b[2K\u001b[17A\u001b[2K\u001b[23A\u001b[2K\u001b[23A\u001b[2K\u001b[24A\u001b[2K\u001b[17A\u001b[2K\u001b[24A\u001b[2K\u001b[17A\u001b[2K\u001b[24A\u001b[2K\u001b[17A\u001b[2K\u001b[23A\u001b[2K\u001b[17A\u001b[2K\u001b[17A\u001b[2K\u001b[17A\u001b[2K\u001b[24A\u001b[2K\u001b[17A\u001b[2K\u001b[24A\u001b[2K\u001b[24A\u001b[2K\u001b[17A\u001b[2K\u001b[17A\u001b[2K\u001b[24A\u001b[2K\u001b[23A\u001b[2K\u001b[17A\u001b[2K\u001b[23A\u001b[2K\u001b[17A\u001b[2K\u001b[17A\u001b[2K\u001b[23A\u001b[2K\u001b[23A\u001b[2K\u001b[17A\u001b[2K\u001b[23A\u001b[2K\u001b[17A\u001b[2K\u001b[23A\u001b[2K\u001b[23A\u001b[2K\u001b[23A\u001b[2K\u001b[17A\u001b[2K\u001b[23A\u001b[2K\u001b[17A\u001b[2K\u001b[23A\u001b[2K\u001b[23A\u001b[2K\u001b[17A\u001b[2K\u001b[23A\u001b[2K\u001b[17A\u001b[2K\u001b[23A\u001b[2K\u001b[17A\u001b[2K\u001b[23A\u001b[2K\u001b[17A\u001b[2K\u001b[23A\u001b[2K\u001b[17A\u001b[2K\u001b[23A\u001b[2K\u001b[17A\u001b[2K\u001b[23A\u001b[2K\u001b[17A\u001b[2K\u001b[23A\u001b[2K\u001b[17A\u001b[2K\u001b[23A\u001b[2K\u001b[17A\u001b[2K\u001b[17A\u001b[2K\u001b[23A\u001b[2K\u001b[17A\u001b[2K\u001b[23A\u001b[2K\u001b[17A\u001b[2K\u001b[17A\u001b[2K\u001b[17A\u001b[2K\u001b[17A\u001b[2K\u001b[23A\u001b[2K\u001b[23A\u001b[2K\u001b[23A\u001b[2K\u001b[17A\u001b[2K\u001b[23A\u001b[2K\u001b[17A\u001b[2K\u001b[23A\u001b[2K\u001b[23A\u001b[2K\u001b[17A\u001b[2K\u001b[23A\u001b[2K\u001b[17A\u001b[2K\u001b[23A\u001b[2K\u001b[17A\u001b[2K\u001b[23A\u001b[2K\u001b[17A\u001b[2K\u001b[23A\u001b[2K\u001b[17A\u001b[2K\u001b[23A\u001b[2K\u001b[17A\u001b[2K\u001b[23A\u001b[2K\u001b[17A\u001b[2K\u001b[23A\u001b[2K\u001b[17A\u001b[2K\u001b[17A\u001b[2K\u001b[23A\u001b[2K\u001b[17A\u001b[2K\u001b[23A\u001b[2K\u001b[17A\u001b[2K\u001b[17A\u001b[2K\u001b[17A\u001b[2K\u001b[23A\u001b[2K\u001b[17A\u001b[2K\u001b[23A\u001b[2K\u001b[23A\u001b[2K\u001b[23A\u001b[2K\u001b[23A\u001b[2K\u001b[23A\u001b[2K\u001b[23A\u001b[2K\u001b[17A\u001b[2K\u001b[23A\u001b[2K\u001b[17A\u001b[2K\u001b[23A\u001b[2K\u001b[17A\u001b[2K\u001b[23A\u001b[2K\u001b[17A\u001b[2K\u001b[23A\u001b[2K\u001b[17A\u001b[2K\u001b[23A\u001b[2K\u001b[17A\u001b[2K\u001b[17A\u001b[2K\u001b[17A\u001b[2K\u001b[23A\u001b[2K\u001b[17A\u001b[2K\u001b[17A\u001b[2K\u001b[23A\u001b[2K\u001b[23A\u001b[2K\u001b[23A\u001b[2K\u001b[23A\u001b[2K\u001b[23A\u001b[2K\u001b[17A\u001b[2K\u001b[23A\u001b[2K\u001b[23A\u001b[2K\u001b[23A\u001b[2K\u001b[17A\u001b[2K\u001b[23A\u001b[2K\u001b[17A\u001b[2K\u001b[23A\u001b[2K\u001b[23A\u001b[2K\u001b[17A\u001b[2K\u001b[23A\u001b[2K\u001b[17A\u001b[2K\u001b[23A\u001b[2K\u001b[17A\u001b[2K\u001b[23A\u001b[2K\u001b[17A\u001b[2K\u001b[23A\u001b[2K\u001b[17A\u001b[2K\u001b[23A\u001b[2K\u001b[17A\u001b[2K\u001b[17A\u001b[2K\u001b[17A\u001b[2K\u001b[23A\u001b[2K\u001b[17A\u001b[2K\u001b[17A\u001b[2K\u001b[17A\u001b[2K\u001b[23A\u001b[2K\u001b[23A\u001b[2K\u001b[17A\u001b[2K\u001b[23A\u001b[2K\u001b[17A\u001b[2K\u001b[17A\u001b[2K\u001b[23A\u001b[2K\u001b[23A\u001b[2K\u001b[17A\u001b[2K\u001b[23A\u001b[2K\u001b[23A\u001b[2K\u001b[23A\u001b[2K\u001b[23A\u001b[2K\u001b[17A\u001b[2K\u001b[23A\u001b[2K\u001b[23A\u001b[2K\u001b[17A\u001b[2K\u001b[23A\u001b[2K\u001b[17A\u001b[2K\u001b[23A\u001b[2K\u001b[17A\u001b[2K\u001b[23A\u001b[2K\u001b[17A\u001b[2K\u001b[17A\u001b[2K\u001b[17A\u001b[2K\u001b[23A\u001b[2K\u001b[17A\u001b[2K\u001b[23A\u001b[2K\u001b[17A\u001b[2K\u001b[23A\u001b[2K\u001b[17A\u001b[2K\u001b[23A\u001b[2K\u001b[23A\u001b[2K\u001b[23A\u001b[2K\u001b[17A\u001b[2K\u001b[17A\u001b[2K\u001b[23A\u001b[2K\u001b[17A\u001b[2K\u001b[17A\u001b[2K\u001b[23A\u001b[2K\u001b[23A\u001b[2K\u001b[23A\u001b[2K\u001b[23A\u001b[2K\u001b[17A\u001b[2K\u001b[23A\u001b[2K\u001b[23A\u001b[2K\u001b[17A\u001b[2K\u001b[23A\u001b[2K\u001b[17A\u001b[2K\u001b[23A\u001b[2K\u001b[17A\u001b[2K\u001b[23A\u001b[2K\u001b[17A\u001b[2K\u001b[23A\u001b[2K\u001b[17A\u001b[2K\u001b[23A\u001b[2K\u001b[17A\u001b[2K\u001b[23A\u001b[2K\u001b[17A\u001b[2K\u001b[23A\u001b[2K\u001b[17A\u001b[2K\u001b[23A\u001b[2K\u001b[23A\u001b[2K\u001b[23A\u001b[2K\u001b[17A\u001b[2K\u001b[23A\u001b[2K\u001b[17A\u001b[2K\u001b[23A\u001b[2K\u001b[17A\u001b[2K\u001b[23A\u001b[2K\u001b[17A\u001b[2K\u001b[23A\u001b[2K\u001b[17A\u001b[2K\u001b[23A\u001b[2K\u001b[23A\u001b[2K\u001b[17A\u001b[2K\u001b[23A\u001b[2K\u001b[17A\u001b[2K\u001b[23A\u001b[2K\u001b[17A\u001b[2K\u001b[23A\u001b[2K\u001b[23A\u001b[2K\u001b[17A\u001b[2K\u001b[23A\u001b[2K\u001b[17A\u001b[2K\u001b[23A\u001b[2K\u001b[17A\u001b[2K\u001b[23A\u001b[2K\u001b[17A\u001b[2K\u001b[23A\u001b[2K\u001b[17A\u001b[2K\u001b[23A\u001b[2K\u001b[23A\u001b[2K\u001b[17A\u001b[2K\u001b[23A\u001b[2K\u001b[17A\u001b[2K\u001b[23A\u001b[2K\u001b[17A\u001b[2K\u001b[23A\u001b[2K\u001b[17A\u001b[2K\u001b[17A\u001b[2K\u001b[17A\u001b[2K\u001b[23A\u001b[2K\u001b[17A\u001b[2K\u001b[23A\u001b[2K\u001b[17A\u001b[2K\u001b[17A\u001b[2K\u001b[23A\u001b[2K\u001b[17A\u001b[2K\u001b[17A\u001b[2K\u001b[23A\u001b[2K\u001b[17A\u001b[2K\u001b[23A\u001b[2K\u001b[17A\u001b[2K\u001b[23A\u001b[2K\u001b[17A\u001b[2K\u001b[23A\u001b[2K\u001b[17A\u001b[2K\u001b[23A\u001b[2K\u001b[17A\u001b[2K\u001b[17A\u001b[2K\u001b[23A\u001b[2K\u001b[17A\u001b[2K\u001b[23A\u001b[2K\u001b[17A\u001b[2K\u001b[23A\u001b[2K\u001b[17A\u001b[2K\u001b[23A\u001b[2K\u001b[17A\u001b[2K\u001b[23A\u001b[2K\u001b[17A\u001b[2K\u001b[23A\u001b[2K\u001b[17A\u001b[2K\u001b[17A\u001b[2K\u001b[17A\u001b[2K\u001b[23A\u001b[2K\u001b[23A\u001b[2K\u001b[23A\u001b[2K\u001b[23A\u001b[2K\u001b[23A\u001b[2K\u001b[17A\u001b[2K\u001b[23A\u001b[2K\u001b[23A\u001b[2K\u001b[23A\u001b[2K\u001b[17A\u001b[2K\u001b[23A\u001b[2K\u001b[23A\u001b[2K\u001b[23A\u001b[2K\u001b[17A\u001b[2K\u001b[23A\u001b[2K\u001b[17A\u001b[2K\u001b[23A\u001b[2K\u001b[17A\u001b[2K\u001b[23A\u001b[2K\u001b[17A\u001b[2K\u001b[23A\u001b[2K\u001b[17A\u001b[2K\u001b[23A\u001b[2K\u001b[17A\u001b[2K\u001b[23A\u001b[2K\u001b[17A\u001b[2K\u001b[23A\u001b[2K\u001b[17A\u001b[2K\u001b[23A\u001b[2K\u001b[17A\u001b[2K\u001b[23A\u001b[2K\u001b[17A\u001b[2K\u001b[23A\u001b[2K\u001b[17A\u001b[2K\u001b[23A\u001b[2K\u001b[17A\u001b[2K\u001b[17A\u001b[2K\u001b[23A\u001b[2K\u001b[17A\u001b[2K\u001b[23A\u001b[2K\u001b[17A\u001b[2K\u001b[17A\u001b[2K\u001b[17A\u001b[2K\u001b[23A\u001b[2K\u001b[23A\u001b[2K\u001b[23A\u001b[2K\u001b[23A\u001b[2K\u001b[23A\u001b[2K\u001b[23A\u001b[2K\u001b[17A\u001b[2K\u001b[23A\u001b[2K\u001b[17A\u001b[2K\u001b[23A\u001b[2K\u001b[23A\u001b[2K\u001b[17A\u001b[2K\u001b[23A\u001b[2K\u001b[17A\u001b[2K\u001b[23A\u001b[2K\u001b[17A\u001b[2K\u001b[23A\u001b[2K\u001b[17A\u001b[2K\u001b[23A\u001b[2K\u001b[17A\u001b[2K\u001b[23A\u001b[2K\u001b[17A\u001b[2K\u001b[23A\u001b[2K\u001b[17A\u001b[2K\u001b[17A\u001b[2K\u001b[23A\u001b[2K\u001b[17A\u001b[2K\u001b[23A\u001b[2K\u001b[17A\u001b[2K\u001b[17A\u001b[2K\u001b[23A\u001b[2K\u001b[23A\u001b[2K\u001b[17A\u001b[2K\u001b[17A\u001b[2K\u001b[23A\u001b[2K\u001b[23A\u001b[2K\u001b[23A\u001b[2K\u001b[23A\u001b[2K\u001b[17A\u001b[2K\u001b[23A\u001b[2K\u001b[17A\u001b[2K\u001b[23A\u001b[2K\u001b[23A\u001b[2K\u001b[17A\u001b[2K\u001b[23A\u001b[2K\u001b[17A\u001b[2K\u001b[23A\u001b[2K\u001b[17A\u001b[2K\u001b[23A\u001b[2K\u001b[23A\u001b[2K\u001b[17A\u001b[2K\u001b[17A\u001b[2K\u001b[17A\u001b[2K\u001b[23A\u001b[2K\u001b[17A\u001b[2K\u001b[17A\u001b[2K\u001b[17A\u001b[2K\u001b[23A\u001b[2K\u001b[17A\u001b[2K\u001b[17A\u001b[2K\u001b[17A\u001b[2K\u001b[23A\u001b[2K\u001b[17A\u001b[2K\u001b[17A\u001b[2K\u001b[17A\u001b[2K\u001b[23A\u001b[2K\u001b[17A\u001b[2K\u001b[23A\u001b[2K\u001b[17A\u001b[2K\u001b[23A\u001b[2K\u001b[17A\u001b[2K\u001b[23A\u001b[2K\u001b[17A\u001b[2K\u001b[17A\u001b[2K\u001b[23A\u001b[2K\u001b[17A\u001b[2K\u001b[23A\u001b[2K\u001b[17A\u001b[2K\u001b[23A\u001b[2K\u001b[17A\u001b[2K\u001b[23A\u001b[2K\u001b[17A\u001b[2K\u001b[23A\u001b[2K\u001b[17A\u001b[2K\u001b[23A\u001b[2K\u001b[17A\u001b[2K\u001b[23A\u001b[2K\u001b[17A\u001b[2K\u001b[23A\u001b[2K\u001b[17A\u001b[2K\u001b[23A\u001b[2K\u001b[17A\u001b[2K\u001b[23A\u001b[2K\u001b[17A\u001b[2K\u001b[23A\u001b[2K\u001b[17A\u001b[2K\u001b[23A\u001b[2K\u001b[17A\u001b[2K\u001b[23A\u001b[2K\u001b[23A\u001b[2K\u001b[17A\u001b[2K\u001b[17A\u001b[2K\u001b[17A\u001b[2K\u001b[23A\u001b[2K\u001b[17A\u001b[2K\u001b[23A\u001b[2K\u001b[17A\u001b[2K\u001b[23A\u001b[2K\u001b[17A\u001b[2K\u001b[23A\u001b[2K\u001b[17A\u001b[2K\u001b[23A\u001b[2K\u001b[17A\u001b[2K\u001b[23A\u001b[2K\u001b[23A\u001b[2K\u001b[23A\u001b[2K\u001b[17A\u001b[2K\u001b[23A\u001b[2K\u001b[17A\u001b[2K\u001b[23A\u001b[2K\u001b[23A\u001b[2K\u001b[17A\u001b[2K\u001b[23A\u001b[2K\u001b[17A\u001b[2K\u001b[23A\u001b[2K\u001b[23A\u001b[2K\u001b[23A\u001b[2K\u001b[23A\u001b[2K\u001b[17A\u001b[2K\u001b[23A\u001b[2K\u001b[17A\u001b[2K\u001b[23A\u001b[2K\u001b[23A\u001b[2K\u001b[23A\u001b[2K\u001b[17A\u001b[2K\u001b[23A\u001b[2K\u001b[17A\u001b[2K\u001b[23A\u001b[2K\u001b[17A\u001b[2K\u001b[23A\u001b[2K\u001b[17A\u001b[2K\u001b[23A\u001b[2K\u001b[17A\u001b[2K\u001b[23A\u001b[2K\u001b[23A\u001b[2K\u001b[23A\u001b[2K\u001b[17A\u001b[2K\u001b[17A\u001b[2K\u001b[23A\u001b[2K\u001b[17A\u001b[2K\u001b[23A\u001b[2K\u001b[17A\u001b[2K\u001b[23A\u001b[2K\u001b[17A\u001b[2K\u001b[23A\u001b[2K\u001b[23A\u001b[2K\u001b[17A\u001b[2K\u001b[23A\u001b[2K\u001b[17A\u001b[2K\u001b[17A\u001b[2K\u001b[17A\u001b[2K\u001b[17A\u001b[2K\u001b[17A\u001b[2K\u001b[17A\u001b[2K\u001b[17A\u001b[2K\u001b[17A\u001b[2K\u001b[17A\u001b[2K\u001b[17A\u001b[2K\u001b[17A\u001b[2K\u001b[17A\u001b[2K\u001b[17A\u001b[2K\u001b[17A\u001b[2K\u001b[17A\u001b[2K\u001b[17A\u001b[2K\u001b[17A\u001b[2K\u001b[17A\u001b[2K\u001b[17A\u001b[2K\u001b[17A\u001b[2K\u001b[17A\u001b[2K\u001b[17A\u001b[2K\u001b[17A\u001b[2K\u001b[17A\u001b[2K\u001b[17A\u001b[2K\u001b[17A\u001b[2K\u001b[17A\u001b[2K\u001b[17A\u001b[2K\u001b[17A\u001b[2K\u001b[17A\u001b[2K\u001b[17A\u001b[2K\u001b[17A\u001b[2K\u001b[17A\u001b[2K\u001b[17A\u001b[2K\u001b[17A\u001b[2K\u001b[17A\u001b[2K\u001b[17A\u001b[2K\u001b[17A\u001b[2K\u001b[17A\u001b[2K\u001b[17A\u001b[2K\u001b[17A\u001b[2K\u001b[17A\u001b[2K\u001b[17A\u001b[2K\u001b[17A\u001b[2K\u001b[17A\u001b[2K\u001b[17A\u001b[2K\u001b[17A\u001b[2K\u001b[17A\u001b[2K\u001b[17A\u001b[2K\u001b[17A\u001b[2K\u001b[17A\u001b[2K\u001b[17A\u001b[2K\u001b[17A\u001b[2K\u001b[17A\u001b[2K\u001b[17A\u001b[2K\u001b[17A\u001b[2K\u001b[17A\u001b[2K\u001b[17A\u001b[2K\u001b[17A\u001b[2K\u001b[17A\u001b[2K\u001b[17A\u001b[2K\u001b[17A\u001b[2K\u001b[17A\u001b[2K\u001b[17A\u001b[2K\u001b[17A\u001b[2K\u001b[17A\u001b[2K\u001b[17A\u001b[2K\u001b[17A\u001b[2K\u001b[17A\u001b[2K\u001b[17A\u001b[2K\u001b[17A\u001b[2K\u001b[17A\u001b[2K\u001b[17A\u001b[2K\u001b[17A\u001b[2K\u001b[17A\u001b[2K\u001b[17A\u001b[2K\u001b[17A\u001b[2K\u001b[17A\u001b[2K\u001b[17A\u001b[2K\u001b[17A\u001b[2K\u001b[17A\u001b[2K\u001b[17A\u001b[2K\u001b[17A\u001b[2K\u001b[17A\u001b[2K\u001b[17A\u001b[2K\u001b[17A\u001b[2K\u001b[17A\u001b[2K\u001b[17A\u001b[2K\u001b[17A\u001b[2K\u001b[17A\u001b[2K\u001b[17A\u001b[2K\u001b[17A\u001b[2K\u001b[17A\u001b[2K\u001b[17A\u001b[2K\u001b[17A\u001b[2K\u001b[17A\u001b[2K\u001b[17A\u001b[2K\u001b[17A\u001b[2K\u001b[17A\u001b[2K\u001b[17A\u001b[2K\u001b[17A\u001b[2K\u001b[17A\u001b[2K\u001b[17A\u001b[2K\u001b[17A\u001b[2K\u001b[17A\u001b[2K\u001b[17A\u001b[2K\u001b[17A\u001b[2K\u001b[17A\u001b[2K\u001b[17A\u001b[2K\u001b[17A\u001b[2K\u001b[17A\u001b[2K\u001b[17A\u001b[2K\u001b[17A\u001b[2K\u001b[17A\u001b[2K\u001b[17A\u001b[2K\u001b[17A\u001b[2K\u001b[17A\u001b[2K\u001b[17A\u001b[2K\u001b[17A\u001b[2K\u001b[17A\u001b[2K\u001b[17A\u001b[2K\u001b[17A\u001b[2K\u001b[17A\u001b[2K\u001b[17A\u001b[2K\u001b[17A\u001b[2K\u001b[17A\u001b[2K\u001b[17A\u001b[2K\u001b[17A\u001b[2K\u001b[17A\u001b[2K\u001b[17A\u001b[2K\u001b[17A\u001b[2K\u001b[17A\u001b[2K\u001b[17A\u001b[2K\u001b[17A\u001b[2K\u001b[17A\u001b[2K\u001b[17A\u001b[2K\u001b[17A\u001b[2K\u001b[17A\u001b[2K\u001b[17A\u001b[2K\u001b[17A\u001b[2K\u001b[17A\u001b[2K\u001b[17A\u001b[2K\u001b[17A\u001b[2K\u001b[17A\u001b[2K\u001b[17A\u001b[2K\u001b[17A\u001b[2K\u001b[17A\u001b[2K\u001b[17A\u001b[2K\u001b[17A\u001b[2K\u001b[17A\u001b[2K\u001b[17A\u001b[2K\u001b[17A\u001b[2K\u001b[17A\u001b[2K\u001b[17A\u001b[2K\u001b[17A\u001b[2K\u001b[17A\u001b[2K\u001b[17A\u001b[2K\u001b[17A\u001b[2K\u001b[17A\u001b[2K\u001b[17A\u001b[2K\u001b[17A\u001b[2K\u001b[17A\u001b[2K\u001b[17A\u001b[2K\u001b[17A\u001b[2K\u001b[17A\u001b[2K\u001b[17A\u001b[2K\u001b[17A\u001b[2K\u001b[17A\u001b[2K\u001b[17A\u001b[2K\u001b[17A\u001b[2K\u001b[17A\u001b[2K\u001b[17A\u001b[2K\u001b[17A\u001b[2K\u001b[17A\u001b[2K\u001b[17A\u001b[2K\u001b[17A\u001b[2K\u001b[17A\u001b[2K\u001b[17A\u001b[2K\u001b[17A\u001b[2K\u001b[17A\u001b[2K\u001b[17A\u001b[2K\u001b[17A\u001b[2K\u001b[17A\u001b[2K\u001b[17A\u001b[2K\u001b[17A\u001b[2K\u001b[17A\u001b[2K\u001b[17A\u001b[2K\u001b[17A\u001b[2K\u001b[17A\u001b[2K\u001b[17A\u001b[2K\u001b[17A\u001b[2K\u001b[17A\u001b[2K\u001b[17A\u001b[2K\u001b[17A\u001b[2K\u001b[17A\u001b[2K\u001b[17A\u001b[2K\u001b[17A\u001b[2K\u001b[17A\u001b[2K\u001b[17A\u001b[2K\u001b[17A\u001b[2K\u001b[17A\u001b[2K\u001b[17A\u001b[2K\u001b[17A\u001b[2K\u001b[17A\u001b[2K\u001b[17A\u001b[2K\u001b[17A\u001b[2K\u001b[17A\u001b[2K\u001b[17A\u001b[2K\u001b[17A\u001b[2K\u001b[17A\u001b[2K\u001b[17A\u001b[2K\u001b[17A\u001b[2K\u001b[17A\u001b[2K\u001b[17A\u001b[2K\u001b[17A\u001b[2K\u001b[17A\u001b[2K\u001b[17A\u001b[2K\u001b[17A\u001b[2K\u001b[17A\u001b[2K\u001b[17A\u001b[2K\u001b[17A\u001b[2K\u001b[17A\u001b[2K\u001b[17A\u001b[2K\u001b[17A\u001b[2K\u001b[17A\u001b[2K\u001b[17A\u001b[2K\u001b[17A\u001b[2K\u001b[17A\u001b[2K\u001b[17A\u001b[2K\u001b[17A\u001b[2K\u001b[17A\u001b[2K\u001b[17A\u001b[2K\u001b[17A\u001b[2K\u001b[17A\u001b[2K\u001b[17A\u001b[2K\u001b[17A\u001b[2K\u001b[17A\u001b[2K\u001b[17A\u001b[2K\u001b[17A\u001b[2K\u001b[17A\u001b[2K\u001b[17A\u001b[2K\u001b[17A\u001b[2K\u001b[17A\u001b[2K\u001b[17A\u001b[2K\u001b[17A\u001b[2K\u001b[17A\u001b[2K\u001b[17A\u001b[2K\u001b[17A\u001b[2K\u001b[17A\u001b[2K\u001b[17A\u001b[2K\u001b[17A\u001b[2K\u001b[17A\u001b[2K\u001b[17A\u001b[2K\u001b[17A\u001b[2K\u001b[17A\u001b[2K\u001b[17A\u001b[2K\u001b[17A\u001b[2K\u001b[17A\u001b[2K\u001b[17A\u001b[2K\u001b[17A\u001b[2K\u001b[17A\u001b[2K\u001b[17A\u001b[2K\u001b[17A\u001b[2K\u001b[17A\u001b[2K\u001b[17A\u001b[2K\u001b[17A\u001b[2K\u001b[17A\u001b[2K\u001b[17A\u001b[2K\u001b[17A\u001b[2K\u001b[17A\u001b[2K\u001b[17A\u001b[2K\u001b[17A\u001b[2K\u001b[17A\u001b[2K\u001b[17A\u001b[2K\u001b[17A\u001b[2K\u001b[17A\u001b[2K\u001b[17A\u001b[2K\u001b[17A\u001b[2K\u001b[17A\u001b[2K\u001b[17A\u001b[2K\u001b[17A\u001b[2K\u001b[17A\u001b[2K\u001b[17A\u001b[2K\u001b[17A\u001b[2K\u001b[17A\u001b[2K\u001b[17A\u001b[2K\u001b[17A\u001b[2K\u001b[17A\u001b[2K\u001b[17A\u001b[2K\u001b[17A\u001b[2K\u001b[17A\u001b[2K\u001b[17A\u001b[2K\u001b[17A\u001b[2K\u001b[17A\u001b[2K\u001b[17A\u001b[2K\u001b[17A\u001b[2K\u001b[17A\u001b[2K\u001b[17A\u001b[2K\u001b[17A\u001b[2K\u001b[17A\u001b[2K\u001b[17A\u001b[2K\u001b[17A\u001b[2K\u001b[17A\u001b[2K\u001b[17A\u001b[2K\u001b[17A\u001b[2K\u001b[17A\u001b[2K\u001b[17A\u001b[2K\u001b[17A\u001b[2K\u001b[17A\u001b[2K\u001b[17A\u001b[2K\u001b[17A\u001b[2K\u001b[17A\u001b[2K\u001b[17A\u001b[2K\u001b[17A\u001b[2K\u001b[17A\u001b[2K\u001b[17A\u001b[2K\u001b[17A\u001b[2K\u001b[17A\u001b[2K\u001b[17A\u001b[2K\u001b[17A\u001b[2K\u001b[17A\u001b[2K\u001b[17A\u001b[2K\u001b[17A\u001b[2K\u001b[17A\u001b[2K\u001b[17A\u001b[2K\u001b[17A\u001b[2K\u001b[17A\u001b[2K\u001b[17A\u001b[2K\u001b[17A\u001b[2K\u001b[17A\u001b[2K\u001b[17A\u001b[2K\u001b[17A\u001b[2K\u001b[17A\u001b[2K\u001b[17A\u001b[2K\u001b[17A\u001b[2K\u001b[17A\u001b[2K\u001b[17A\u001b[2K\u001b[17A\u001b[2K\u001b[17A\u001b[2K\u001b[17A\u001b[2K\u001b[17A\u001b[2K\u001b[17A\u001b[2K\u001b[17A\u001b[2K\u001b[17A\u001b[2K\u001b[17A\u001b[2K\u001b[17A\u001b[2K\u001b[17A\u001b[2K\u001b[17A\u001b[2K\u001b[17A\u001b[2K\u001b[17A\u001b[2K\u001b[17A\u001b[2K\u001b[17A\u001b[2K\u001b[17A\u001b[2K\u001b[17A\u001b[2K\u001b[17A\u001b[2K\u001b[17A\u001b[2K\u001b[17A\u001b[2K\u001b[17A\u001b[2K\u001b[17A\u001b[2K\u001b[17A\u001b[2K\u001b[17A\u001b[2K\u001b[17A\u001b[2K\u001b[17A\u001b[2K\u001b[17A\u001b[2K\u001b[17A\u001b[2K\u001b[17A\u001b[2K\u001b[17A\u001b[2K\u001b[17A\u001b[2K\u001b[17A\u001b[2K\u001b[17A\u001b[2K\u001b[17A\u001b[2K\u001b[17A\u001b[2K\u001b[17A\u001b[2K\u001b[17A\u001b[2K\u001b[17A\u001b[2K\u001b[17A\u001b[2K\u001b[17A\u001b[2K\u001b[17A\u001b[2K\u001b[17A\u001b[2K\u001b[17A\u001b[2K\u001b[17A\u001b[2K\u001b[17A\u001b[2K\u001b[17A\u001b[2K\u001b[17A\u001b[2K\u001b[17A\u001b[2K\u001b[17A\u001b[2K\u001b[17A\u001b[2K\u001b[17A\u001b[2K\u001b[17A\u001b[2K\u001b[17A\u001b[2K\u001b[17A\u001b[2K\u001b[17A\u001b[2K\u001b[17A\u001b[2K\u001b[17A\u001b[2K\u001b[17A\u001b[2K\u001b[17A\u001b[2K\u001b[17A\u001b[2K\u001b[17A\u001b[2K\u001b[17A\u001b[2K\u001b[17A\u001b[2K\u001b[17A\u001b[2K\u001b[17A\u001b[2K\u001b[17A\u001b[2K\u001b[17A\u001b[2K\u001b[17A\u001b[2K\u001b[17A\u001b[2K\u001b[17A\u001b[2K\u001b[17A\u001b[2K\u001b[17A\u001b[2K\u001b[17A\u001b[2K\u001b[17A\u001b[2K\u001b[17A\u001b[2K\u001b[17A\u001b[2K\u001b[17A\u001b[2K\u001b[17A\u001b[2K\u001b[17A\u001b[2K\u001b[17A\u001b[2K\u001b[17A\u001b[2K\u001b[17A\u001b[2K\u001b[17A\u001b[2K\u001b[17A\u001b[2K\u001b[17A\u001b[2K\u001b[17A\u001b[2K\u001b[17A\u001b[2K\u001b[17A\u001b[2K\u001b[17A\u001b[2K\u001b[17A\u001b[2K\u001b[17A\u001b[2K\u001b[17A\u001b[2K\u001b[17A\u001b[2K\u001b[17A\u001b[2K\u001b[17A\u001b[2K\u001b[17A\u001b[2K\u001b[17A\u001b[2K\u001b[17A\u001b[2K\u001b[17A\u001b[2K\u001b[17A\u001b[2K\u001b[17A\u001b[2K\u001b[17A\u001b[2K\u001b[17A\u001b[2K\u001b[17A\u001b[2K\u001b[17A\u001b[2K\u001b[17A\u001b[2K\u001b[17A\u001b[2K\u001b[17A\u001b[2K\u001b[17A\u001b[2K\u001b[17A\u001b[2K\u001b[17A\u001b[2K\u001b[17A\u001b[2K\u001b[17A\u001b[2K\u001b[17A\u001b[2K\u001b[17A\u001b[2K\u001b[17A\u001b[2K\u001b[17A\u001b[2K\u001b[17A\u001b[2K\u001b[17A\u001b[2K\u001b[17A\u001b[2K\u001b[17A\u001b[2K\u001b[17A\u001b[2K\u001b[17A\u001b[2K\u001b[17A\u001b[2K\u001b[17A\u001b[2K\u001b[17A\u001b[2K\u001b[17A\u001b[2K\u001b[17A\u001b[2K\u001b[17A\u001b[2K\u001b[17A\u001b[2K\u001b[17A\u001b[2K\u001b[17A\u001b[2K\u001b[17A\u001b[2K\u001b[17A\u001b[2K\u001b[17A\u001b[2K\u001b[17A\u001b[2K\u001b[17A\u001b[2K\u001b[17A\u001b[2K\u001b[17A\u001b[2K\u001b[17A\u001b[2K\u001b[17A\u001b[2K\u001b[17A\u001b[2K\u001b[17A\u001b[2K\u001b[17A\u001b[2K\u001b[17A\u001b[2K\u001b[17A\u001b[2K\u001b[17A\u001b[2K\u001b[17A\u001b[2K\u001b[17A\u001b[2K\u001b[17A\u001b[2K\u001b[17A\u001b[2K\u001b[17A\u001b[2K\u001b[17A\u001b[2K\u001b[17A\u001b[2K\u001b[17A\u001b[2K\u001b[17A\u001b[2K\u001b[17A\u001b[2K\u001b[17A\u001b[2K\u001b[17A\u001b[2K\u001b[17A\u001b[2K\u001b[17A\u001b[2K\u001b[17A\u001b[2K\u001b[17A\u001b[2K\u001b[17A\u001b[2K\u001b[17A\u001b[2K\u001b[17A\u001b[2K\u001b[17A\u001b[2K\u001b[17A\u001b[2K\u001b[17A\u001b[2K\u001b[17A\u001b[2K\u001b[17A\u001b[2K\u001b[17A\u001b[2K\u001b[17A\u001b[2K\u001b[17A\u001b[2K\u001b[17A\u001b[2K\u001b[17A\u001b[2K\u001b[17A\u001b[2K\u001b[17A\u001b[2K\u001b[17A\u001b[2K\u001b[17A\u001b[2K\u001b[17A\u001b[2K\u001b[17A\u001b[2K\u001b[17A\u001b[2K\u001b[17A\u001b[2K\u001b[17A\u001b[2K\u001b[17A\u001b[2K\u001b[17A\u001b[2K\u001b[17A\u001b[2K\u001b[17A\u001b[2K\u001b[17A\u001b[2K\u001b[17A\u001b[2K\u001b[17A\u001b[2K\u001b[17A\u001b[2K\u001b[17A\u001b[2K\u001b[17A\u001b[2K\u001b[17A\u001b[2K\u001b[17A\u001b[2K\u001b[17A\u001b[2K\u001b[17A\u001b[2K\u001b[17A\u001b[2K\u001b[17A\u001b[2K\u001b[17A\u001b[2K\u001b[17A\u001b[2K\u001b[17A\u001b[2K\u001b[17A\u001b[2K\u001b[17A\u001b[2K\u001b[17A\u001b[2K\u001b[17A\u001b[2K\u001b[17A\u001b[2K\u001b[17A\u001b[2K\u001b[17A\u001b[2K\u001b[17A\u001b[2K\u001b[17A\u001b[2K\u001b[17A\u001b[2K\u001b[17A\u001b[2K\u001b[17A\u001b[2K\u001b[17A\u001b[2K\u001b[17A\u001b[2K\u001b[17A\u001b[2K\u001b[17A\u001b[2K\u001b[17A\u001b[2K\u001b[17A\u001b[2K\u001b[17A\u001b[2K\u001b[17A\u001b[2K\u001b[17A\u001b[2K\u001b[17A\u001b[2K\u001b[17A\u001b[2K\u001b[17A\u001b[2K\u001b[17A\u001b[2K\u001b[17A\u001b[2K\u001b[17A\u001b[2K\u001b[17A\u001b[2K\u001b[17A\u001b[2K\u001b[17A\u001b[2K\u001b[17A\u001b[2K\u001b[17A\u001b[2K\u001b[17A\u001b[2K\u001b[17A\u001b[2K\u001b[17A\u001b[2K\u001b[17A\u001b[2K\u001b[17A\u001b[2K\u001b[17A\u001b[2K\u001b[17A\u001b[2K\u001b[17A\u001b[2K\u001b[17A\u001b[2K\u001b[17A\u001b[2K\u001b[17A\u001b[2K\u001b[17A\u001b[2K\u001b[17A\u001b[2K\u001b[17A\u001b[2K\u001b[17A\u001b[2K\u001b[17A\u001b[2K\u001b[17A\u001b[2K\u001b[17A\u001b[2K\u001b[17A\u001b[2K\u001b[17A\u001b[2K\u001b[17A\u001b[2K\u001b[17A\u001b[2K\u001b[17A\u001b[2K\u001b[17A\u001b[2K\u001b[17A\u001b[2K\u001b[17A\u001b[2K\u001b[17A\u001b[2K\u001b[17A\u001b[2K\u001b[17A\u001b[2K\u001b[17A\u001b[2K\u001b[17A\u001b[2K\u001b[17A\u001b[2K\u001b[17A\u001b[2K\u001b[17A\u001b[2K\u001b[17A\u001b[2K\u001b[17A\u001b[2K\u001b[17A\u001b[2K\u001b[17A\u001b[2K\u001b[17A\u001b[2K\u001b[17A\u001b[2K\u001b[17A\u001b[2K\u001b[17A\u001b[2K\u001b[17A\u001b[2K\u001b[17A\u001b[2K\u001b[17A\u001b[2K\u001b[17A\u001b[2K\u001b[17A\u001b[2K\u001b[17A\u001b[2K\u001b[17A\u001b[2K\u001b[17A\u001b[2K\u001b[17A\u001b[2K\u001b[17A\u001b[2K\u001b[17A\u001b[2K\u001b[17A\u001b[2K\u001b[17A\u001b[2K\u001b[17A\u001b[2K\u001b[17A\u001b[2K\u001b[17A\u001b[2K\u001b[17A\u001b[2K\u001b[17A\u001b[2K\u001b[17A\u001b[2K\u001b[17A\u001b[2K\u001b[17A\u001b[2K\u001b[17A\u001b[2K\u001b[17A\u001b[2K\u001b[17A\u001b[2K\u001b[17A\u001b[2K\u001b[17A\u001b[2K\u001b[17A\u001b[2K\u001b[17A\u001b[2K\u001b[17A\u001b[2K\u001b[17A\u001b[2K\u001b[17A\u001b[2K\u001b[17A\u001b[2K\u001b[17A\u001b[2K\u001b[17A\u001b[2K\u001b[17A\u001b[2K\u001b[17A\u001b[2K\u001b[17A\u001b[2K\u001b[17A\u001b[2K\u001b[17A\u001b[2K\u001b[17A\u001b[2K\u001b[17A\u001b[2K\u001b[17A\u001b[2K\u001b[17A\u001b[2K\u001b[17A\u001b[2K\u001b[17A\u001b[2K\u001b[17A\u001b[2K\u001b[17A\u001b[2K\u001b[17A\u001b[2K\u001b[17A\u001b[2K\u001b[17A\u001b[2K\u001b[17A\u001b[2K\u001b[17A\u001b[2K\u001b[17A\u001b[2K\u001b[17A\u001b[2K\u001b[17A\u001b[2K\u001b[17A\u001b[2K\u001b[17A\u001b[2K\u001b[17A\u001b[2K\u001b[17A\u001b[2K\u001b[17A\u001b[2K\u001b[17A\u001b[2K\u001b[17A\u001b[2K\u001b[17A\u001b[2K\u001b[17A\u001b[2K\u001b[17A\u001b[2K\u001b[17A\u001b[2K\u001b[17A\u001b[2K\u001b[17A\u001b[2K\u001b[17A\u001b[2K\u001b[17A\u001b[2K\u001b[17A\u001b[2K\u001b[17A\u001b[2K\u001b[17A\u001b[2K\u001b[17A\u001b[2K\u001b[17A\u001b[2K\u001b[17A\u001b[2K\u001b[17A\u001b[2K\u001b[17A\u001b[2K\u001b[17A\u001b[2K\u001b[17A\u001b[2K\u001b[17A\u001b[2K\u001b[17A\u001b[2K\u001b[17A\u001b[2K\u001b[17A\u001b[2K\u001b[17A\u001b[2K\u001b[17A\u001b[2K\u001b[17A\u001b[2K\u001b[17A\u001b[2K\u001b[17A\u001b[2K\u001b[17A\u001b[2K\u001b[17A\u001b[2K\u001b[17A\u001b[2K\u001b[17A\u001b[2K\u001b[17A\u001b[2K\u001b[17A\u001b[2K\u001b[17A\u001b[2K\u001b[17A\u001b[2K\u001b[17A\u001b[2K\u001b[17A\u001b[2K\u001b[17A\u001b[2K\u001b[17A\u001b[2K\u001b[17A\u001b[2K\u001b[17A\u001b[2K\u001b[17A\u001b[2K\u001b[17A\u001b[2K\u001b[17A\u001b[2K\u001b[17A\u001b[2K\u001b[17A\u001b[2K\u001b[17A\u001b[2K\u001b[17A\u001b[2K\u001b[17A\u001b[2K\u001b[17A\u001b[2K\u001b[17A\u001b[2K\u001b[17A\u001b[2K\u001b[17A\u001b[2K\u001b[17A\u001b[2K\u001b[17A\u001b[2K\u001b[17A\u001b[2K\u001b[17A\u001b[2K\u001b[17A\u001b[2K\u001b[17A\u001b[2K\u001b[17A\u001b[2K\u001b[17A\u001b[2K\u001b[17A\u001b[2K\u001b[17A\u001b[2K\u001b[17A\u001b[2K\u001b[17A\u001b[2K\u001b[17A\u001b[2K\u001b[17A\u001b[2K\u001b[17A\u001b[2K\u001b[17A\u001b[2K\u001b[17A\u001b[2K\u001b[17A\u001b[2K\u001b[17A\u001b[2K\u001b[17A\u001b[2K\u001b[17A\u001b[2K\u001b[17A\u001b[2K\u001b[17A\u001b[2K\u001b[17A\u001b[2K\u001b[17A\u001b[2K\u001b[17A\u001b[2K\u001b[17A\u001b[2K\u001b[17A\u001b[2K\u001b[17A\u001b[2K\u001b[17A\u001b[2K\u001b[17A\u001b[2K\u001b[17A\u001b[2K\u001b[17A\u001b[2K\u001b[17A\u001b[2K\u001b[17A\u001b[2K\u001b[17A\u001b[2K\u001b[17A\u001b[2K\u001b[17A\u001b[2K\u001b[17A\u001b[2K\u001b[17A\u001b[2K\u001b[17A\u001b[2K\u001b[17A\u001b[2K\u001b[17A\u001b[2K\u001b[17A\u001b[2K\u001b[17A\u001b[2K\u001b[17A\u001b[2K\u001b[17A\u001b[2K\u001b[17A\u001b[2K\u001b[17A\u001b[2K\u001b[17A\u001b[2K\u001b[17A\u001b[2K\u001b[17A\u001b[2K\u001b[17A\u001b[2K\u001b[17A\u001b[2K\u001b[17A\u001b[2K\u001b[17A\u001b[2K\u001b[17A\u001b[2K\u001b[17A\u001b[2K\u001b[17A\u001b[2K\u001b[17A\u001b[2K\u001b[17A\u001b[2K\u001b[17A\u001b[2K\u001b[17A\u001b[2K\u001b[17A\u001b[2K\u001b[17A\u001b[2K\u001b[17A\u001b[2K\u001b[17A\u001b[2K\u001b[17A\u001b[2K\u001b[17A\u001b[2K\u001b[17A\u001b[2K\u001b[17A\u001b[2K\u001b[17A\u001b[2K\u001b[17A\u001b[2K\u001b[17A\u001b[2K\u001b[17A\u001b[2K\u001b[17A\u001b[2K\u001b[17A\u001b[2K\u001b[17A\u001b[2K\u001b[17A\u001b[2K\u001b[17A\u001b[2K\u001b[17A\u001b[2K\u001b[17A\u001b[2K\u001b[17A\u001b[2K\u001b[17A\u001b[2K\u001b[17A\u001b[2K\u001b[17A\u001b[2K\u001b[17A\u001b[2K\u001b[17A\u001b[2K\u001b[17A\u001b[2K\u001b[17A\u001b[2K\u001b[17A\u001b[2K\u001b[17A\u001b[2K\u001b[17A\u001b[2K\u001b[17A\u001b[2K\u001b[17A\u001b[2K\u001b[17A\u001b[2K\u001b[17A\u001b[2K\u001b[17A\u001b[2K\u001b[17A\u001b[2K\u001b[17A\u001b[2K\u001b[17A\u001b[2K\u001b[17A\u001b[2K\u001b[17A\u001b[2K\u001b[17A\u001b[2K\u001b[17A\u001b[2K\u001b[17A\u001b[2K\u001b[17A\u001b[2K\u001b[17A\u001b[2K\u001b[17A\u001b[2K\u001b[17A\u001b[2K\u001b[17A\u001b[2K\u001b[17A\u001b[2K\u001b[17A\u001b[2K\u001b[17A\u001b[2K\u001b[17A\u001b[2K\u001b[17A\u001b[2K\u001b[17A\u001b[2K\u001b[17A\u001b[2K\u001b[17A\u001b[2K\u001b[17A\u001b[2K\u001b[17A\u001b[2K\u001b[17A\u001b[2K\u001b[17A\u001b[2K\u001b[17A\u001b[2K\u001b[17A\u001b[2K\u001b[17A\u001b[2K\u001b[17A\u001b[2K\u001b[17A\u001b[2K\u001b[17A\u001b[2K\u001b[17A\u001b[2K\u001b[17A\u001b[2K\u001b[17A\u001b[2K\u001b[17A\u001b[2K\u001b[17A\u001b[2K\u001b[17A\u001b[2K\u001b[17A\u001b[2K\u001b[17A\u001b[2K\u001b[17A\u001b[2K\u001b[17A\u001b[2K\u001b[17A\u001b[2K\u001b[17A\u001b[2K\u001b[17A\u001b[2K\u001b[17A\u001b[2K\u001b[17A\u001b[2K\u001b[17A\u001b[2K\u001b[17A\u001b[2K\u001b[17A\u001b[2K\u001b[17A\u001b[2K\u001b[17A\u001b[2K\u001b[17A\u001b[2K\u001b[17A\u001b[2K\u001b[17A\u001b[2K\u001b[17A\u001b[2K\u001b[17A\u001b[2K\u001b[17A\u001b[2K\u001b[17A\u001b[2K\u001b[17A\u001b[2K\u001b[17A\u001b[2K\u001b[17A\u001b[2K\u001b[17A\u001b[2K\u001b[17A\u001b[2K\u001b[17A\u001b[2K\u001b[17A\u001b[2K\u001b[17A\u001b[2K\u001b[17A\u001b[2K\u001b[17A\u001b[2K\u001b[17A\u001b[2K\u001b[17A\u001b[2K\u001b[17A\u001b[2K\u001b[17A\u001b[2K\u001b[17A\u001b[2K\u001b[17A\u001b[2K\u001b[17A\u001b[2K\u001b[17A\u001b[2K\u001b[17A\u001b[2K\u001b[17A\u001b[2K\u001b[17A\u001b[2K\u001b[17A\u001b[2K\u001b[17A\u001b[2K\u001b[17A\u001b[2K\u001b[17A\u001b[2K\u001b[17A\u001b[2K\u001b[17A\u001b[2K\u001b[17A\u001b[2K\u001b[17A\u001b[2K\u001b[17A\u001b[2K\u001b[17A\u001b[2K\u001b[17A\u001b[2K\u001b[17A\u001b[2K\u001b[17A\u001b[2K\u001b[17A\u001b[2K\u001b[17A\u001b[2K\u001b[17A\u001b[2K\u001b[17A\u001b[2K\u001b[17A\u001b[2K\u001b[17A\u001b[2K\u001b[17A\u001b[2K\u001b[17A\u001b[2K\u001b[17A\u001b[2K\u001b[17A\u001b[2K\u001b[17A\u001b[2K\u001b[17A\u001b[2K\u001b[17A\u001b[2K\u001b[17A\u001b[2K\u001b[17A\u001b[2K\u001b[17A\u001b[2K\u001b[17A\u001b[2K\u001b[17A\u001b[2K\u001b[17A\u001b[2K\u001b[17A\u001b[2K\u001b[17A\u001b[2K\u001b[17A\u001b[2K\u001b[17A\u001b[2K\u001b[17A\u001b[2K\u001b[17A\u001b[2K\u001b[17A\u001b[2K\u001b[17A\u001b[2K\u001b[17A\u001b[2K\u001b[17A\u001b[2K\u001b[17A\u001b[2K\u001b[17A\u001b[2K\u001b[17A\u001b[2K\u001b[17A\u001b[2K\u001b[17A\u001b[2K\u001b[17A\u001b[2K\u001b[17A\u001b[2K\u001b[17A\u001b[2K\u001b[17A\u001b[2K\u001b[17A\u001b[2K\u001b[17A\u001b[2K\u001b[17A\u001b[2K\u001b[17A\u001b[2K\u001b[17A\u001b[2K\u001b[17A\u001b[2K\u001b[17A\u001b[2K\u001b[17A\u001b[2K\u001b[17A\u001b[2K\u001b[17A\u001b[2K\u001b[17A\u001b[2K\u001b[17A\u001b[2K\u001b[17A\u001b[2K\u001b[17A\u001b[2K\u001b[17A\u001b[2K\u001b[17A\u001b[2K\u001b[17A\u001b[2K\u001b[17A\u001b[2K\u001b[17A\u001b[2K\u001b[17A\u001b[2K\u001b[17A\u001b[2K\u001b[17A\u001b[2K\u001b[17A\u001b[2K\u001b[17A\u001b[2K\u001b[17A\u001b[2K\u001b[17A\u001b[2K\u001b[17A\u001b[2K\u001b[17A\u001b[2K\u001b[17A\u001b[2K\u001b[17A\u001b[2K\u001b[17A\u001b[2K\u001b[17A\u001b[2K\u001b[17A\u001b[2K\u001b[17A\u001b[2K\u001b[17A\u001b[2K\u001b[17A\u001b[2K\u001b[17A\u001b[2K\u001b[17A\u001b[2K\u001b[17A\u001b[2K\u001b[17A\u001b[2K\u001b[17A\u001b[2K\u001b[17A\u001b[2K\u001b[17A\u001b[2K\u001b[17A\u001b[2K\u001b[17A\u001b[2K\u001b[17A\u001b[2K\u001b[17A\u001b[2K\u001b[17A\u001b[2K\u001b[17A\u001b[2K\u001b[17A\u001b[2K\u001b[17A\u001b[2K\u001b[17A\u001b[2K\u001b[17A\u001b[2K\u001b[17A\u001b[2K\u001b[17A\u001b[2K\u001b[17A\u001b[2K\u001b[17A\u001b[2K\u001b[17A\u001b[2K\u001b[17A\u001b[2K\u001b[17A\u001b[2K\u001b[17A\u001b[2K\u001b[17A\u001b[2K\u001b[17A\u001b[2K\u001b[17A\u001b[2K\u001b[17A\u001b[2K\u001b[17A\u001b[2K\u001b[17A\u001b[2K\u001b[17A\u001b[2K\u001b[17A\u001b[2K\u001b[17A\u001b[2K\u001b[17A\u001b[2K\u001b[17A\u001b[2K\u001b[17A\u001b[2K\u001b[17A\u001b[2K\u001b[17A\u001b[2K\u001b[17A\u001b[2K\u001b[17A\u001b[2K\u001b[17A\u001b[2K\u001b[17A\u001b[2K\u001b[17A\u001b[2K\u001b[17A\u001b[2K\u001b[17A\u001b[2K\u001b[17A\u001b[2K\u001b[17A\u001b[2K\u001b[17A\u001b[2K\u001b[17A\u001b[2K\u001b[17A\u001b[2K\u001b[17A\u001b[2K\u001b[17A\u001b[2K\u001b[17A\u001b[2K\u001b[17A\u001b[2K\u001b[17A\u001b[2K\u001b[17A\u001b[2K\u001b[17A\u001b[2K\u001b[17A\u001b[2K\u001b[17A\u001b[2K\u001b[17A\u001b[2K\u001b[17A\u001b[2K\u001b[17A\u001b[2K\u001b[17A\u001b[2K\u001b[17A\u001b[2K\u001b[17A\u001b[2K\u001b[17A\u001b[2K\u001b[17A\u001b[2K\u001b[17A\u001b[2K\u001b[17A\u001b[2K\u001b[17A\u001b[2K\u001b[17A\u001b[2K\u001b[17A\u001b[2K\u001b[17A\u001b[2K\u001b[17A\u001b[2K\u001b[17A\u001b[2K\u001b[17A\u001b[2K\u001b[17A\u001b[2K\u001b[17A\u001b[2K\u001b[17A\u001b[2K\u001b[17A\u001b[2K\u001b[17A\u001b[2K\u001b[17A\u001b[2K\u001b[17A\u001b[2K\u001b[17A\u001b[2K\u001b[17A\u001b[2K\u001b[17A\u001b[2K\u001b[17A\u001b[2K\u001b[17A\u001b[2K\u001b[17A\u001b[2K\u001b[17A\u001b[2K\u001b[17A\u001b[2K\u001b[17A\u001b[2K\u001b[17A\u001b[2K\u001b[17A\u001b[2K\u001b[17A\u001b[2K\u001b[17A\u001b[2K\u001b[17A\u001b[2K\u001b[17A\u001b[2K\u001b[17A\u001b[2K\u001b[17A\u001b[2K\u001b[17A\u001b[2K\u001b[17A\u001b[2K\u001b[17A\u001b[2K\u001b[17A\u001b[2K\u001b[17A\u001b[2K\u001b[17A\u001b[2K\u001b[17A\u001b[2K\u001b[17A\u001b[2K\u001b[17A\u001b[2K\u001b[17A\u001b[2K\u001b[17A\u001b[2K\u001b[17A\u001b[2K\u001b[17A\u001b[2K\u001b[17A\u001b[2K\u001b[17A\u001b[2K\u001b[17A\u001b[2K\u001b[17A\u001b[2K\u001b[17A\u001b[2K\u001b[17A\u001b[2K\u001b[17A\u001b[2K\u001b[17A\u001b[2K\u001b[17A\u001b[2K\u001b[17A\u001b[2K\u001b[17A\u001b[2K\u001b[17A\u001b[2K\u001b[17A\u001b[2K\u001b[17A\u001b[2K\u001b[17A\u001b[2K\u001b[17A\u001b[2K\u001b[17A\u001b[2K\u001b[17A\u001b[2K\u001b[17A\u001b[2K\u001b[17A\u001b[2K\u001b[17A\u001b[2K\u001b[17A\u001b[2K\u001b[17A\u001b[2K\u001b[17A\u001b[2K\u001b[17A\u001b[2K\u001b[17A\u001b[2K\u001b[17A\u001b[2K\u001b[17A\u001b[2K\u001b[17A\u001b[2K\u001b[17A\u001b[2K\u001b[17A\u001b[2K\u001b[17A\u001b[2K\u001b[17A\u001b[2K\u001b[17A\u001b[2K\u001b[17A\u001b[2K\u001b[17A\u001b[2K\u001b[17A\u001b[2K\u001b[17A\u001b[2K\u001b[17A\u001b[2K\u001b[17A\u001b[2K\u001b[17A\u001b[2K\u001b[17A\u001b[2K\u001b[17A\u001b[2K\u001b[17A\u001b[2K\u001b[17A\u001b[2K\u001b[17A\u001b[2K\u001b[17A\u001b[2K\u001b[17A\u001b[2K\u001b[17A\u001b[2K\u001b[17A\u001b[2K\u001b[17A\u001b[2K\u001b[17A\u001b[2K\u001b[17A\u001b[2K\u001b[17A\u001b[2K\u001b[17A\u001b[2K\u001b[17A\u001b[2K\u001b[17A\u001b[2K\u001b[17A\u001b[2K\u001b[17A\u001b[2K\u001b[17A\u001b[2K\u001b[17A\u001b[2K\u001b[17A\u001b[2K\u001b[17A\u001b[2K\u001b[17A\u001b[2K\u001b[17A\u001b[2K\u001b[17A\u001b[2K\u001b[17A\u001b[2K\u001b[17A\u001b[2K\u001b[17A\u001b[2K\u001b[17A\u001b[2K\u001b[17A\u001b[2K\u001b[17A\u001b[2K\u001b[17A\u001b[2K\u001b[17A\u001b[2K\u001b[17A\u001b[2K\u001b[17A\u001b[2K\u001b[17A\u001b[2K\u001b[17A\u001b[2K\u001b[17A\u001b[2K\u001b[17A\u001b[2K\u001b[17A\u001b[2K\u001b[17A\u001b[2K\u001b[17A\u001b[2K\u001b[17A\u001b[2K\u001b[17A\u001b[2K\u001b[17A\u001b[2K\u001b[17A\u001b[2K\u001b[17A\u001b[2K\u001b[17A\u001b[2K\u001b[17A\u001b[2K\u001b[17A\u001b[2K\u001b[17A\u001b[2K\u001b[17A\u001b[2K\u001b[17A\u001b[2K\u001b[17A\u001b[2K\u001b[17A\u001b[2K\u001b[17A\u001b[2K\u001b[17A\u001b[2K\u001b[17A\u001b[2K\u001b[17A\u001b[2K\u001b[17A\u001b[2K\u001b[17A\u001b[2K\u001b[17A\u001b[2K\u001b[17A\u001b[2K\u001b[17A\u001b[2K\u001b[17A\u001b[2K\u001b[17A\u001b[2K\u001b[17A\u001b[2K\u001b[17A\u001b[2K\u001b[17A\u001b[2K\u001b[17A\u001b[2K\u001b[17A\u001b[2K\u001b[17A\u001b[2K\u001b[17A\u001b[2K\u001b[17A\u001b[2K\u001b[17A\u001b[2K\u001b[17A\u001b[2K\u001b[17A\u001b[2K\u001b[17A\u001b[2K\u001b[17A\u001b[2K\u001b[17A\u001b[2K\u001b[17A\u001b[2K\u001b[17A\u001b[2K\u001b[17A\u001b[2K\u001b[17A\u001b[2K\u001b[17A\u001b[2K\u001b[17A\u001b[2K\u001b[17A\u001b[2K\u001b[17A\u001b[2K\u001b[17A\u001b[2K\u001b[17A\u001b[2K\u001b[17A\u001b[2K\u001b[17A\u001b[2K\u001b[17A\u001b[2K\u001b[17A\u001b[2K\u001b[17A\u001b[2K\u001b[17A\u001b[2K\u001b[17A\u001b[2K\u001b[17A\u001b[2K\u001b[17A\u001b[2K\u001b[17A\u001b[2K\u001b[17A\u001b[2K\u001b[17A\u001b[2K\u001b[17A\u001b[2K\u001b[17A\u001b[2K\u001b[17A\u001b[2K\u001b[17A\u001b[2K\u001b[17A\u001b[2K\u001b[17A\u001b[2K\u001b[17A\u001b[2K\u001b[17A\u001b[2K\u001b[17A\u001b[2K\u001b[17A\u001b[2K\u001b[17A\u001b[2K\u001b[17A\u001b[2K\u001b[17A\u001b[2K\u001b[17A\u001b[2K\u001b[17A\u001b[2K\u001b[17A\u001b[2K\u001b[17A\u001b[2K\u001b[17A\u001b[2K\u001b[17A\u001b[2K\u001b[17A\u001b[2K\u001b[17A\u001b[2K\u001b[17A\u001b[2K\u001b[17A\u001b[2K\u001b[17A\u001b[2K\u001b[17A\u001b[2K\u001b[17A\u001b[2K\u001b[17A\u001b[2K\u001b[17A\u001b[2K\u001b[17A\u001b[2K\u001b[17A\u001b[2K\u001b[17A\u001b[2K\u001b[17A\u001b[2K\u001b[17A\u001b[2K\u001b[17A\u001b[2K\u001b[17A\u001b[2K\u001b[17A\u001b[2K\u001b[17A\u001b[2K\u001b[17A\u001b[2K\u001b[17A\u001b[2K\u001b[17A\u001b[2K\u001b[17A\u001b[2K\u001b[17A\u001b[2K\u001b[17A\u001b[2K\u001b[17A\u001b[2K\u001b[17A\u001b[2K\u001b[17A\u001b[2K\u001b[17A\u001b[2K\u001b[17A\u001b[2K\u001b[17A\u001b[2K\u001b[17A\u001b[2K\u001b[17A\u001b[2K\u001b[17A\u001b[2K\u001b[17A\u001b[2K\u001b[17A\u001b[2K\u001b[17A\u001b[2K\u001b[17A\u001b[2K\u001b[17A\u001b[2K\u001b[17A\u001b[2K\u001b[17A\u001b[2K\u001b[17A\u001b[2K\u001b[17A\u001b[2K\u001b[17A\u001b[2K\u001b[17A\u001b[2K\u001b[17A\u001b[2K\u001b[17A\u001b[2K\u001b[17A\u001b[2K\u001b[17A\u001b[2K\u001b[17A\u001b[2K\u001b[17A\u001b[2K\u001b[17A\u001b[2K\u001b[17A\u001b[2K\u001b[17A\u001b[2K\u001b[17A\u001b[2K\u001b[17A\u001b[2K\u001b[17A\u001b[2K\u001b[17A\u001b[2K\u001b[17A\u001b[2K\u001b[17A\u001b[2K\u001b[17A\u001b[2K\u001b[17A\u001b[2K\u001b[17A\u001b[2K\u001b[17A\u001b[2K\u001b[17A\u001b[2K\u001b[17A\u001b[2K\u001b[17A\u001b[2K\u001b[17A\u001b[2K\u001b[17A\u001b[2K\u001b[17A\u001b[2K\u001b[17A\u001b[2K\u001b[17A\u001b[2K\u001b[17A\u001b[2K\u001b[17A\u001b[2K\u001b[17A\u001b[2Klatest: digest: sha256:f96dae77a3165cad2c2ef62ae3260d2433806fd4289f41fdd2ddd272b15e694a size: 5551\n"
     ]
    }
   ],
   "source": [
    "# !docker push {TRAIN_IMAGE}\n",
    "!docker push 'us-central1-docker.pkg.dev/sdo-fm-2024/tpu-training-repository/tpu-train'"
   ]
  },
  {
   "cell_type": "code",
   "execution_count": null,
   "metadata": {},
   "outputs": [],
   "source": [
    "%cd .."
   ]
  },
  {
   "cell_type": "markdown",
   "metadata": {},
   "source": [
    "### Custom model pipeline"
   ]
  },
  {
   "cell_type": "code",
   "execution_count": 54,
   "metadata": {},
   "outputs": [],
   "source": [
    "TRAINER_ARGS = [\"--config-name=pretrain_32.2M_samae_tpu\"]"
   ]
  },
  {
   "cell_type": "code",
   "execution_count": 55,
   "metadata": {},
   "outputs": [
    {
     "name": "stdout",
     "output_type": "stream",
     "text": [
      "Train machine type ct5lp-hightpu-4t\n",
      "Deploy machine type n1-standard-4\n"
     ]
    }
   ],
   "source": [
    "MACHINE_TYPE = \"ct5lp-hightpu-4t\"\n",
    "\n",
    "# TPU VMs do not require VCPU definition\n",
    "TRAIN_COMPUTE = MACHINE_TYPE\n",
    "print(\"Train machine type\", TRAIN_COMPUTE)\n",
    "\n",
    "MACHINE_TYPE = \"n1-standard\"\n",
    "\n",
    "VCPU = \"4\"\n",
    "DEPLOY_COMPUTE = MACHINE_TYPE + \"-\" + VCPU\n",
    "print(\"Deploy machine type\", DEPLOY_COMPUTE)"
   ]
  },
  {
   "cell_type": "code",
   "execution_count": 56,
   "metadata": {},
   "outputs": [
    {
     "name": "stdout",
     "output_type": "stream",
     "text": [
      "['--config-name=pretrain_32.2M_samae_tpu'] gs://sdofm-vertexai/pipeline_root/tpu_sdofm_pipeline/model tpu_train_deploy\n"
     ]
    }
   ],
   "source": [
    "# create working dir to pass to job spec\n",
    "WORKING_DIR = f\"{PIPELINE_ROOT}/model\"\n",
    "\n",
    "MODEL_DISPLAY_NAME = \"tpu_train_deploy\"\n",
    "print(TRAINER_ARGS, WORKING_DIR, MODEL_DISPLAY_NAME)"
   ]
  },
  {
   "cell_type": "code",
   "execution_count": 69,
   "metadata": {},
   "outputs": [
    {
     "data": {
      "text/plain": [
       "[{'containerSpec': {'args': ['--config-name=pretrain_32.2M_samae_tpu'],\n",
       "   'env': [{'name': 'AIP_MODEL_DIR',\n",
       "     'value': 'gs://sdofm-vertexai/pipeline_root/tpu_sdofm_pipeline/model'}],\n",
       "   'imageUri': 'us-central1-docker.pkg.dev/sdo-fm-2024/tpu-training-repository/tpu-train:latest'},\n",
       "  'replicaCount': '1',\n",
       "  'machineSpec': {'machineType': 'ct5lp-hightpu-4t', 'tpuTopology': '2x2'},\n",
       "  'nfs_mounts': [{'path': '/sdoml',\n",
       "    'server': '10.14.32.2',\n",
       "    'mount_point': '/mnt/sdoml'}]}]"
      ]
     },
     "execution_count": 69,
     "metadata": {},
     "output_type": "execute_result"
    }
   ],
   "source": [
    "WORKER_POOL_SPECS = [\n",
    "    {\n",
    "        \"containerSpec\": {\n",
    "            \"args\": TRAINER_ARGS,\n",
    "            \"env\": [{\"name\": \"AIP_MODEL_DIR\", \"value\": WORKING_DIR}],\n",
    "            \"imageUri\": TRAIN_IMAGE,\n",
    "        },\n",
    "        \"replicaCount\": \"1\",\n",
    "        \"machineSpec\": {\n",
    "            \"machineType\": TRAIN_COMPUTE,\n",
    "            # \"accelerator_type\": TRAIN_TPU,\n",
    "            # \"accelerator_count\": TRAIN_NTPU,\n",
    "            \"tpuTopology\": TRAIN_TPU_TOPOLOGY,\n",
    "        },\n",
    "        \"nfs_mounts\": [\n",
    "            {\"path\": \"/sdoml\", \"server\": \"10.14.32.2\", \"mount_point\": \"/mnt/sdoml\"}\n",
    "        ],\n",
    "    }\n",
    "]\n",
    "WORKER_POOL_SPECS"
   ]
  },
  {
   "cell_type": "code",
   "execution_count": null,
   "metadata": {},
   "outputs": [],
   "source": []
  },
  {
   "cell_type": "markdown",
   "metadata": {},
   "source": [
    "#### Define pipeline"
   ]
  },
  {
   "cell_type": "code",
   "execution_count": 73,
   "metadata": {},
   "outputs": [],
   "source": [
    "@kfp.dsl.pipeline(name=\"train-endpoint-deploy\")\n",
    "def pipeline(\n",
    "    project: str = PROJECT_ID,\n",
    "    model_display_name: str = MODEL_DISPLAY_NAME,\n",
    "    serving_container_image_uri: str = DEPLOY_IMAGE,\n",
    "):\n",
    "\n",
    "    custom_job_task = CustomTrainingJobOp(\n",
    "        display_name=\"tpu model training\",\n",
    "        worker_pool_specs=WORKER_POOL_SPECS,\n",
    "        network=\"projects/371403503716/global/networks/default\",\n",
    "    )\n",
    "\n",
    "    import_unmanaged_model_task = importer_node.importer(\n",
    "        artifact_uri=WORKING_DIR,\n",
    "        artifact_class=artifact_types.UnmanagedContainerModel,\n",
    "        metadata={\n",
    "            \"containerSpec\": {\n",
    "                \"imageUri\": serving_container_image_uri  # \"us-docker.pkg.dev/vertex-ai/prediction/tf2-cpu.2-9:latest\",\n",
    "            },\n",
    "        },\n",
    "    ).after(custom_job_task)\n",
    "\n",
    "    model_upload_op = ModelUploadOp(\n",
    "        project=project,\n",
    "        display_name=model_display_name,\n",
    "        unmanaged_container_model=import_unmanaged_model_task.outputs[\"artifact\"],\n",
    "    )\n",
    "\n",
    "    endpoint_create_op = EndpointCreateOp(\n",
    "        project=project,\n",
    "        display_name=\"tpu-pipeline-created-endpoint\",\n",
    "    )\n",
    "\n",
    "    _ = ModelDeployOp(\n",
    "        endpoint=endpoint_create_op.outputs[\"endpoint\"],\n",
    "        model=model_upload_op.outputs[\"model\"],\n",
    "        deployed_model_display_name=model_display_name,\n",
    "        dedicated_resources_machine_type=DEPLOY_COMPUTE,\n",
    "        dedicated_resources_min_replica_count=1,\n",
    "        dedicated_resources_max_replica_count=1,\n",
    "        dedicated_resources_accelerator_type=DEPLOY_GPU.name,\n",
    "        dedicated_resources_accelerator_count=DEPLOY_NGPU,\n",
    "    )"
   ]
  },
  {
   "cell_type": "code",
   "execution_count": 74,
   "metadata": {},
   "outputs": [],
   "source": [
    "compiler.Compiler().compile(\n",
    "    pipeline_func=pipeline,\n",
    "    package_path=\"tpu_train_sdofm_pipeline.json\",\n",
    ")"
   ]
  },
  {
   "cell_type": "code",
   "execution_count": 75,
   "metadata": {},
   "outputs": [
    {
     "name": "stdout",
     "output_type": "stream",
     "text": [
      "Creating PipelineJob\n"
     ]
    },
    {
     "name": "stdout",
     "output_type": "stream",
     "text": [
      "PipelineJob created. Resource name: projects/371403503716/locations/us-central1/pipelineJobs/train-endpoint-deploy-20240521082524\n",
      "To use this PipelineJob in another session:\n",
      "pipeline_job = aiplatform.PipelineJob.get('projects/371403503716/locations/us-central1/pipelineJobs/train-endpoint-deploy-20240521082524')\n",
      "View Pipeline Job:\n",
      "https://console.cloud.google.com/vertex-ai/locations/us-central1/pipelines/runs/train-endpoint-deploy-20240521082524?project=371403503716\n",
      "PipelineJob projects/371403503716/locations/us-central1/pipelineJobs/train-endpoint-deploy-20240521082524 current state:\n",
      "PipelineState.PIPELINE_STATE_RUNNING\n",
      "PipelineJob projects/371403503716/locations/us-central1/pipelineJobs/train-endpoint-deploy-20240521082524 current state:\n",
      "PipelineState.PIPELINE_STATE_RUNNING\n",
      "PipelineJob projects/371403503716/locations/us-central1/pipelineJobs/train-endpoint-deploy-20240521082524 current state:\n",
      "PipelineState.PIPELINE_STATE_RUNNING\n",
      "PipelineJob projects/371403503716/locations/us-central1/pipelineJobs/train-endpoint-deploy-20240521082524 current state:\n",
      "PipelineState.PIPELINE_STATE_RUNNING\n"
     ]
    },
    {
     "ename": "KeyboardInterrupt",
     "evalue": "",
     "output_type": "error",
     "traceback": [
      "\u001b[0;31m---------------------------------------------------------------------------\u001b[0m",
      "\u001b[0;31mKeyboardInterrupt\u001b[0m                         Traceback (most recent call last)",
      "\u001b[1;32m/home/walsh/repos/SDO-FM/notebooks/train_vertexai.ipynb Cell 34\u001b[0m line \u001b[0;36m9\n\u001b[1;32m      <a href='vscode-notebook-cell://ssh-remote%2Bsdofm-workbench-n1-16cpu-60ram-t4x2.us-central1-a.sdo-fm-2024/home/walsh/repos/SDO-FM/notebooks/train_vertexai.ipynb#X42sdnNjb2RlLXJlbW90ZQ%3D%3D?line=0'>1</a>\u001b[0m DISPLAY_NAME \u001b[39m=\u001b[39m \u001b[39m\"\u001b[39m\u001b[39mtpu_sdofm_training\u001b[39m\u001b[39m\"\u001b[39m\n\u001b[1;32m      <a href='vscode-notebook-cell://ssh-remote%2Bsdofm-workbench-n1-16cpu-60ram-t4x2.us-central1-a.sdo-fm-2024/home/walsh/repos/SDO-FM/notebooks/train_vertexai.ipynb#X42sdnNjb2RlLXJlbW90ZQ%3D%3D?line=2'>3</a>\u001b[0m job \u001b[39m=\u001b[39m aip\u001b[39m.\u001b[39mPipelineJob(\n\u001b[1;32m      <a href='vscode-notebook-cell://ssh-remote%2Bsdofm-workbench-n1-16cpu-60ram-t4x2.us-central1-a.sdo-fm-2024/home/walsh/repos/SDO-FM/notebooks/train_vertexai.ipynb#X42sdnNjb2RlLXJlbW90ZQ%3D%3D?line=3'>4</a>\u001b[0m     display_name\u001b[39m=\u001b[39mDISPLAY_NAME,\n\u001b[1;32m      <a href='vscode-notebook-cell://ssh-remote%2Bsdofm-workbench-n1-16cpu-60ram-t4x2.us-central1-a.sdo-fm-2024/home/walsh/repos/SDO-FM/notebooks/train_vertexai.ipynb#X42sdnNjb2RlLXJlbW90ZQ%3D%3D?line=4'>5</a>\u001b[0m     template_path\u001b[39m=\u001b[39m\u001b[39m\"\u001b[39m\u001b[39mtpu_train_sdofm_pipeline.json\u001b[39m\u001b[39m\"\u001b[39m,\n\u001b[1;32m      <a href='vscode-notebook-cell://ssh-remote%2Bsdofm-workbench-n1-16cpu-60ram-t4x2.us-central1-a.sdo-fm-2024/home/walsh/repos/SDO-FM/notebooks/train_vertexai.ipynb#X42sdnNjb2RlLXJlbW90ZQ%3D%3D?line=5'>6</a>\u001b[0m     pipeline_root\u001b[39m=\u001b[39mPIPELINE_ROOT,\n\u001b[1;32m      <a href='vscode-notebook-cell://ssh-remote%2Bsdofm-workbench-n1-16cpu-60ram-t4x2.us-central1-a.sdo-fm-2024/home/walsh/repos/SDO-FM/notebooks/train_vertexai.ipynb#X42sdnNjb2RlLXJlbW90ZQ%3D%3D?line=6'>7</a>\u001b[0m )\n\u001b[0;32m----> <a href='vscode-notebook-cell://ssh-remote%2Bsdofm-workbench-n1-16cpu-60ram-t4x2.us-central1-a.sdo-fm-2024/home/walsh/repos/SDO-FM/notebooks/train_vertexai.ipynb#X42sdnNjb2RlLXJlbW90ZQ%3D%3D?line=8'>9</a>\u001b[0m job\u001b[39m.\u001b[39;49mrun()\n",
      "File \u001b[0;32m/opt/conda/envs/vertexai/lib/python3.10/site-packages/google/cloud/aiplatform/pipeline_jobs.py:331\u001b[0m, in \u001b[0;36mPipelineJob.run\u001b[0;34m(self, service_account, network, reserved_ip_ranges, sync, create_request_timeout)\u001b[0m\n\u001b[1;32m    309\u001b[0m \u001b[39m\u001b[39m\u001b[39m\"\"\"Run this configured PipelineJob and monitor the job until completion.\u001b[39;00m\n\u001b[1;32m    310\u001b[0m \n\u001b[1;32m    311\u001b[0m \u001b[39mArgs:\u001b[39;00m\n\u001b[0;32m   (...)\u001b[0m\n\u001b[1;32m    327\u001b[0m \u001b[39m        Optional. The timeout for the create request in seconds.\u001b[39;00m\n\u001b[1;32m    328\u001b[0m \u001b[39m\"\"\"\u001b[39;00m\n\u001b[1;32m    329\u001b[0m network \u001b[39m=\u001b[39m network \u001b[39mor\u001b[39;00m initializer\u001b[39m.\u001b[39mglobal_config\u001b[39m.\u001b[39mnetwork\n\u001b[0;32m--> 331\u001b[0m \u001b[39mself\u001b[39;49m\u001b[39m.\u001b[39;49m_run(\n\u001b[1;32m    332\u001b[0m     service_account\u001b[39m=\u001b[39;49mservice_account,\n\u001b[1;32m    333\u001b[0m     network\u001b[39m=\u001b[39;49mnetwork,\n\u001b[1;32m    334\u001b[0m     reserved_ip_ranges\u001b[39m=\u001b[39;49mreserved_ip_ranges,\n\u001b[1;32m    335\u001b[0m     sync\u001b[39m=\u001b[39;49msync,\n\u001b[1;32m    336\u001b[0m     create_request_timeout\u001b[39m=\u001b[39;49mcreate_request_timeout,\n\u001b[1;32m    337\u001b[0m )\n",
      "File \u001b[0;32m/opt/conda/envs/vertexai/lib/python3.10/site-packages/google/cloud/aiplatform/base.py:863\u001b[0m, in \u001b[0;36moptional_sync.<locals>.optional_run_in_thread.<locals>.wrapper\u001b[0;34m(*args, **kwargs)\u001b[0m\n\u001b[1;32m    861\u001b[0m     \u001b[39mif\u001b[39;00m \u001b[39mself\u001b[39m:\n\u001b[1;32m    862\u001b[0m         VertexAiResourceNounWithFutureManager\u001b[39m.\u001b[39mwait(\u001b[39mself\u001b[39m)\n\u001b[0;32m--> 863\u001b[0m     \u001b[39mreturn\u001b[39;00m method(\u001b[39m*\u001b[39;49margs, \u001b[39m*\u001b[39;49m\u001b[39m*\u001b[39;49mkwargs)\n\u001b[1;32m    865\u001b[0m \u001b[39m# callbacks to call within the Future (in same Thread)\u001b[39;00m\n\u001b[1;32m    866\u001b[0m internal_callbacks \u001b[39m=\u001b[39m []\n",
      "File \u001b[0;32m/opt/conda/envs/vertexai/lib/python3.10/site-packages/google/cloud/aiplatform/pipeline_jobs.py:374\u001b[0m, in \u001b[0;36mPipelineJob._run\u001b[0;34m(self, service_account, network, reserved_ip_ranges, sync, create_request_timeout)\u001b[0m\n\u001b[1;32m    348\u001b[0m \u001b[39m\u001b[39m\u001b[39m\"\"\"Helper method to ensure network synchronization and to run\u001b[39;00m\n\u001b[1;32m    349\u001b[0m \u001b[39mthe configured PipelineJob and monitor the job until completion.\u001b[39;00m\n\u001b[1;32m    350\u001b[0m \n\u001b[0;32m   (...)\u001b[0m\n\u001b[1;32m    365\u001b[0m \u001b[39m        Optional. The timeout for the create request in seconds.\u001b[39;00m\n\u001b[1;32m    366\u001b[0m \u001b[39m\"\"\"\u001b[39;00m\n\u001b[1;32m    367\u001b[0m \u001b[39mself\u001b[39m\u001b[39m.\u001b[39msubmit(\n\u001b[1;32m    368\u001b[0m     service_account\u001b[39m=\u001b[39mservice_account,\n\u001b[1;32m    369\u001b[0m     network\u001b[39m=\u001b[39mnetwork,\n\u001b[1;32m    370\u001b[0m     reserved_ip_ranges\u001b[39m=\u001b[39mreserved_ip_ranges,\n\u001b[1;32m    371\u001b[0m     create_request_timeout\u001b[39m=\u001b[39mcreate_request_timeout,\n\u001b[1;32m    372\u001b[0m )\n\u001b[0;32m--> 374\u001b[0m \u001b[39mself\u001b[39;49m\u001b[39m.\u001b[39;49m_block_until_complete()\n",
      "File \u001b[0;32m/opt/conda/envs/vertexai/lib/python3.10/site-packages/google/cloud/aiplatform/pipeline_jobs.py:718\u001b[0m, in \u001b[0;36mPipelineJob._block_until_complete\u001b[0;34m(self)\u001b[0m\n\u001b[1;32m    716\u001b[0m         log_wait \u001b[39m=\u001b[39m \u001b[39mmin\u001b[39m(log_wait \u001b[39m*\u001b[39m multiplier, max_wait)\n\u001b[1;32m    717\u001b[0m         previous_time \u001b[39m=\u001b[39m current_time\n\u001b[0;32m--> 718\u001b[0m     time\u001b[39m.\u001b[39;49msleep(wait)\n\u001b[1;32m    720\u001b[0m \u001b[39m# Error is only populated when the job state is\u001b[39;00m\n\u001b[1;32m    721\u001b[0m \u001b[39m# JOB_STATE_FAILED or JOB_STATE_CANCELLED.\u001b[39;00m\n\u001b[1;32m    722\u001b[0m \u001b[39mif\u001b[39;00m \u001b[39mself\u001b[39m\u001b[39m.\u001b[39m_gca_resource\u001b[39m.\u001b[39mstate \u001b[39min\u001b[39;00m _PIPELINE_ERROR_STATES:\n",
      "\u001b[0;31mKeyboardInterrupt\u001b[0m: "
     ]
    }
   ],
   "source": [
    "DISPLAY_NAME = \"tpu_sdofm_training\"\n",
    "\n",
    "job = aip.PipelineJob(\n",
    "    display_name=DISPLAY_NAME,\n",
    "    template_path=\"tpu_train_sdofm_pipeline.json\",\n",
    "    pipeline_root=PIPELINE_ROOT,\n",
    ")\n",
    "\n",
    "job.run()"
   ]
  },
  {
   "cell_type": "code",
   "execution_count": 86,
   "metadata": {},
   "outputs": [
    {
     "data": {
      "text/plain": [
       "'371403503716-compute@developer.gserviceaccount.com'"
      ]
     },
     "execution_count": 86,
     "metadata": {},
     "output_type": "execute_result"
    }
   ],
   "source": [
    "SERVICE_ACCOUNT"
   ]
  },
  {
   "cell_type": "code",
   "execution_count": 95,
   "metadata": {},
   "outputs": [
    {
     "name": "stdout",
     "output_type": "stream",
     "text": [
      "ERROR: Policy modification failed. For a binding with condition, run \"gcloud alpha iam policies lint-condition\" to identify issues in condition.\n",
      "\u001b[1;31mERROR:\u001b[0m (gcloud.projects.add-iam-policy-binding) INVALID_ARGUMENT: Role roles/google.cloud.aiplatform.v1.PipelineService.CreatePipelineJob is not supported for this resource.\n"
     ]
    }
   ],
   "source": [
    "! gcloud projects add-iam-policy-binding 371403503716 \\\n",
    " --member='serviceAccount:service-371403503716@compute-system.iam.gserviceaccount.com' \\\n",
    " --role='roles/google.cloud.aiplatform.v1.PipelineService.CreatePipelineJob'"
   ]
  },
  {
   "cell_type": "code",
   "execution_count": 97,
   "metadata": {},
   "outputs": [],
   "source": [
    "! gsutil iam ch serviceAccount:{SERVICE_ACCOUNT}:roles/google.cloud.aiplatform.v1.PipelineService.CreatePipelineJob"
   ]
  },
  {
   "cell_type": "code",
   "execution_count": null,
   "metadata": {},
   "outputs": [],
   "source": []
  }
 ],
 "metadata": {
  "kernelspec": {
   "display_name": "vertexai",
   "language": "python",
   "name": "python3"
  },
  "language_info": {
   "codemirror_mode": {
    "name": "ipython",
    "version": 3
   },
   "file_extension": ".py",
   "mimetype": "text/x-python",
   "name": "python",
   "nbconvert_exporter": "python",
   "pygments_lexer": "ipython3",
   "version": "3.10.14"
  },
  "orig_nbformat": 4
 },
 "nbformat": 4,
 "nbformat_minor": 2
}
