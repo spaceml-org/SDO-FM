{
 "cells": [
  {
   "cell_type": "code",
   "execution_count": 266,
   "metadata": {},
   "outputs": [
    {
     "name": "stdout",
     "output_type": "stream",
     "text": [
      "The autoreload extension is already loaded. To reload it, use:\n",
      "  %reload_ext autoreload\n"
     ]
    }
   ],
   "source": [
    "%load_ext autoreload\n",
    "%autoreload 2"
   ]
  },
  {
   "cell_type": "markdown",
   "metadata": {},
   "source": [
    "### Make pngs for Google Image Embeddings"
   ]
  },
  {
   "cell_type": "code",
   "execution_count": 1,
   "metadata": {},
   "outputs": [],
   "source": [
    "import os\n",
    "from pathlib import Path\n",
    "\n",
    "import pytorch_lightning as pl\n",
    "import torch\n",
    "import wandb\n",
    "from sdofm import utils\n",
    "from sdofm.datasets import SDOMLDataModule\n",
    "from sdofm.pretraining import SAMAE"
   ]
  },
  {
   "cell_type": "code",
   "execution_count": 268,
   "metadata": {},
   "outputs": [
    {
     "name": "stdout",
     "output_type": "stream",
     "text": [
      "[* CACHE SYSTEM *] Found cached index data in /mnt/sdoml/cache/aligndata_AIA_FULL_12min.csv.\n",
      "[* CACHE SYSTEM *] Found cached normalization data in /mnt/sdoml/cache/normalizations_AIA_FULL_12min.json.\n",
      "[* CACHE SYSTEM *] Found cached HMI mask data in /mnt/sdoml/cache/hmi_mask_512x512.npy.\n"
     ]
    }
   ],
   "source": [
    "import omegaconf\n",
    "from sdofm.datasets import SDOMLDataModule, HelioProjectedSDOMLDataModule, NonLinearSDOMLDataModule, TimestampedSDOMLDataModule\n",
    "import os\n",
    "\n",
    "# cfg = omegaconf.OmegaConf.load(\"../experiments/pretrain_32.2M_samae_tpu_sweep.yaml\")\n",
    "cfg_path = \"../experiments/for_google_emb.yaml\"\n",
    "\n",
    "# cfg_path = \"../experiments/pretrain_nvae.yaml\"\n",
    "cfg = omegaconf.OmegaConf.load(cfg_path)\n",
    "\n",
    "data_module = TimestampedSDOMLDataModule(\n",
    "# data_module = NonLinearSDOMLDataModule(\n",
    "# data_module = HelioProjectedSDOMLDataModule(\n",
    "    # hmi_path=os.path.join(\n",
    "    #     cfg.data.sdoml.base_directory, cfg.data.sdoml.sub_directory.hmi\n",
    "    # ),\n",
    "    hmi_path=None,\n",
    "    aia_path=os.path.join(\n",
    "        cfg.data.sdoml.base_directory,\n",
    "        cfg.data.sdoml.sub_directory.aia,\n",
    "    ),\n",
    "    # aia_path=None,\n",
    "    eve_path=None,\n",
    "    components=cfg.data.sdoml.components,\n",
    "    wavelengths=cfg.data.sdoml.wavelengths,\n",
    "    ions=cfg.data.sdoml.ions,\n",
    "    frequency=cfg.data.sdoml.frequency,\n",
    "    batch_size=cfg.model.opt.batch_size,\n",
    "    num_workers=cfg.data.num_workers,\n",
    "    val_months=cfg.data.month_splits.val,\n",
    "    test_months=cfg.data.month_splits.test,\n",
    "    holdout_months=cfg.data.month_splits.holdout,\n",
    "    cache_dir=os.path.join(\n",
    "        cfg.data.sdoml.base_directory,\n",
    "        cfg.data.sdoml.sub_directory.cache,\n",
    "    ),\n",
    "    min_date=cfg.data.min_date,\n",
    "    max_date=cfg.data.max_date,\n",
    "    num_frames=cfg.data.num_frames,\n",
    "    drop_frame_dim=cfg.data.drop_frame_dim,\n",
    ")\n",
    "data_module.setup()"
   ]
  },
  {
   "cell_type": "code",
   "execution_count": 269,
   "metadata": {},
   "outputs": [
    {
     "ename": "KeyboardInterrupt",
     "evalue": "",
     "output_type": "error",
     "traceback": [
      "\u001b[0;31m---------------------------------------------------------------------------\u001b[0m",
      "\u001b[0;31mKeyboardInterrupt\u001b[0m                         Traceback (most recent call last)",
      "\u001b[1;32m/home/walsh/SDO-FM/notebooks/f10.7.ipynb Cell 5\u001b[0m line \u001b[0;36m1\n\u001b[0;32m----> <a href='vscode-notebook-cell://ssh-remote%2Bnvae-train-t4/home/walsh/SDO-FM/notebooks/f10.7.ipynb#W4sdnNjb2RlLXJlbW90ZQ%3D%3D?line=0'>1</a>\u001b[0m data \u001b[39m=\u001b[39m \u001b[39mnext\u001b[39;49m(\u001b[39miter\u001b[39;49m(data_module\u001b[39m.\u001b[39;49mvalid_ds))\n",
      "File \u001b[0;32m~/SDO-FM/sdofm/datasets/TimestampedSDOML.py:90\u001b[0m, in \u001b[0;36mTimestampedSDOMLDataset.__getitem__\u001b[0;34m(self, idx)\u001b[0m\n\u001b[1;32m     88\u001b[0m     r[\u001b[39m\"\u001b[39m\u001b[39meve_data\u001b[39m\u001b[39m\"\u001b[39m] \u001b[39m=\u001b[39m eve_data\n\u001b[1;32m     89\u001b[0m \u001b[39melse\u001b[39;00m:\n\u001b[0;32m---> 90\u001b[0m     image_stack \u001b[39m=\u001b[39m \u001b[39msuper\u001b[39;49m()\u001b[39m.\u001b[39;49m\u001b[39m__getitem__\u001b[39;49m(idx)\n\u001b[1;32m     92\u001b[0m r[\u001b[39m\"\u001b[39m\u001b[39mimage_stack\u001b[39m\u001b[39m\"\u001b[39m] \u001b[39m=\u001b[39m image_stack\n\u001b[1;32m     94\u001b[0m \u001b[39mreturn\u001b[39;00m r\n",
      "File \u001b[0;32m~/SDO-FM/sdofm/datasets/SDOML.py:125\u001b[0m, in \u001b[0;36mSDOMLDataset.__getitem__\u001b[0;34m(self, idx)\u001b[0m\n\u001b[1;32m    123\u001b[0m header_stack \u001b[39m=\u001b[39m \u001b[39mNone\u001b[39;00m\n\u001b[1;32m    124\u001b[0m \u001b[39mif\u001b[39;00m \u001b[39mself\u001b[39m\u001b[39m.\u001b[39maia_data \u001b[39mis\u001b[39;00m \u001b[39mnot\u001b[39;00m \u001b[39mNone\u001b[39;00m:\n\u001b[0;32m--> 125\u001b[0m     image_stack, header_stack \u001b[39m=\u001b[39m \u001b[39mself\u001b[39;49m\u001b[39m.\u001b[39;49mget_aia_image(idx)\n\u001b[1;32m    127\u001b[0m \u001b[39mif\u001b[39;00m \u001b[39mself\u001b[39m\u001b[39m.\u001b[39mhmi_data \u001b[39mis\u001b[39;00m \u001b[39mnot\u001b[39;00m \u001b[39mNone\u001b[39;00m:\n\u001b[1;32m    128\u001b[0m     hmi_images, hmi_headers \u001b[39m=\u001b[39m \u001b[39mself\u001b[39m\u001b[39m.\u001b[39mget_hmi_image(idx)\n",
      "File \u001b[0;32m~/SDO-FM/sdofm/datasets/SDOML.py:182\u001b[0m, in \u001b[0;36mSDOMLDataset.get_aia_image\u001b[0;34m(self, idx)\u001b[0m\n\u001b[1;32m    180\u001b[0m \u001b[39m# print('idx_wavelength', idx_wavelength)\u001b[39;00m\n\u001b[1;32m    181\u001b[0m year \u001b[39m=\u001b[39m \u001b[39mstr\u001b[39m(idx_row_element\u001b[39m.\u001b[39mname\u001b[39m.\u001b[39myear)\n\u001b[0;32m--> 182\u001b[0m img \u001b[39m=\u001b[39m \u001b[39mself\u001b[39;49m\u001b[39m.\u001b[39;49maia_data[year][wavelength][idx_wavelength, :, :]\n\u001b[1;32m    184\u001b[0m \u001b[39mif\u001b[39;00m \u001b[39mself\u001b[39m\u001b[39m.\u001b[39mmask \u001b[39mis\u001b[39;00m \u001b[39mnot\u001b[39;00m \u001b[39mNone\u001b[39;00m:\n\u001b[1;32m    185\u001b[0m     img \u001b[39m=\u001b[39m img \u001b[39m*\u001b[39m \u001b[39mself\u001b[39m\u001b[39m.\u001b[39mmask\n",
      "File \u001b[0;32m/opt/conda/lib/python3.10/site-packages/zarr/core.py:800\u001b[0m, in \u001b[0;36mArray.__getitem__\u001b[0;34m(self, selection)\u001b[0m\n\u001b[1;32m    798\u001b[0m     result \u001b[39m=\u001b[39m \u001b[39mself\u001b[39m\u001b[39m.\u001b[39mget_orthogonal_selection(pure_selection, fields\u001b[39m=\u001b[39mfields)\n\u001b[1;32m    799\u001b[0m \u001b[39melse\u001b[39;00m:\n\u001b[0;32m--> 800\u001b[0m     result \u001b[39m=\u001b[39m \u001b[39mself\u001b[39;49m\u001b[39m.\u001b[39;49mget_basic_selection(pure_selection, fields\u001b[39m=\u001b[39;49mfields)\n\u001b[1;32m    801\u001b[0m \u001b[39mreturn\u001b[39;00m result\n",
      "File \u001b[0;32m/opt/conda/lib/python3.10/site-packages/zarr/core.py:926\u001b[0m, in \u001b[0;36mArray.get_basic_selection\u001b[0;34m(self, selection, out, fields)\u001b[0m\n\u001b[1;32m    924\u001b[0m     \u001b[39mreturn\u001b[39;00m \u001b[39mself\u001b[39m\u001b[39m.\u001b[39m_get_basic_selection_zd(selection\u001b[39m=\u001b[39mselection, out\u001b[39m=\u001b[39mout, fields\u001b[39m=\u001b[39mfields)\n\u001b[1;32m    925\u001b[0m \u001b[39melse\u001b[39;00m:\n\u001b[0;32m--> 926\u001b[0m     \u001b[39mreturn\u001b[39;00m \u001b[39mself\u001b[39;49m\u001b[39m.\u001b[39;49m_get_basic_selection_nd(selection\u001b[39m=\u001b[39;49mselection, out\u001b[39m=\u001b[39;49mout, fields\u001b[39m=\u001b[39;49mfields)\n",
      "File \u001b[0;32m/opt/conda/lib/python3.10/site-packages/zarr/core.py:968\u001b[0m, in \u001b[0;36mArray._get_basic_selection_nd\u001b[0;34m(self, selection, out, fields)\u001b[0m\n\u001b[1;32m    962\u001b[0m \u001b[39mdef\u001b[39;00m \u001b[39m_get_basic_selection_nd\u001b[39m(\u001b[39mself\u001b[39m, selection, out\u001b[39m=\u001b[39m\u001b[39mNone\u001b[39;00m, fields\u001b[39m=\u001b[39m\u001b[39mNone\u001b[39;00m):\n\u001b[1;32m    963\u001b[0m     \u001b[39m# implementation of basic selection for array with at least one dimension\u001b[39;00m\n\u001b[1;32m    964\u001b[0m \n\u001b[1;32m    965\u001b[0m     \u001b[39m# setup indexer\u001b[39;00m\n\u001b[1;32m    966\u001b[0m     indexer \u001b[39m=\u001b[39m BasicIndexer(selection, \u001b[39mself\u001b[39m)\n\u001b[0;32m--> 968\u001b[0m     \u001b[39mreturn\u001b[39;00m \u001b[39mself\u001b[39;49m\u001b[39m.\u001b[39;49m_get_selection(indexer\u001b[39m=\u001b[39;49mindexer, out\u001b[39m=\u001b[39;49mout, fields\u001b[39m=\u001b[39;49mfields)\n",
      "File \u001b[0;32m/opt/conda/lib/python3.10/site-packages/zarr/core.py:1343\u001b[0m, in \u001b[0;36mArray._get_selection\u001b[0;34m(self, indexer, out, fields)\u001b[0m\n\u001b[1;32m   1340\u001b[0m \u001b[39mif\u001b[39;00m math\u001b[39m.\u001b[39mprod(out_shape) \u001b[39m>\u001b[39m \u001b[39m0\u001b[39m:\n\u001b[1;32m   1341\u001b[0m     \u001b[39m# allow storage to get multiple items at once\u001b[39;00m\n\u001b[1;32m   1342\u001b[0m     lchunk_coords, lchunk_selection, lout_selection \u001b[39m=\u001b[39m \u001b[39mzip\u001b[39m(\u001b[39m*\u001b[39mindexer)\n\u001b[0;32m-> 1343\u001b[0m     \u001b[39mself\u001b[39;49m\u001b[39m.\u001b[39;49m_chunk_getitems(\n\u001b[1;32m   1344\u001b[0m         lchunk_coords,\n\u001b[1;32m   1345\u001b[0m         lchunk_selection,\n\u001b[1;32m   1346\u001b[0m         out,\n\u001b[1;32m   1347\u001b[0m         lout_selection,\n\u001b[1;32m   1348\u001b[0m         drop_axes\u001b[39m=\u001b[39;49mindexer\u001b[39m.\u001b[39;49mdrop_axes,\n\u001b[1;32m   1349\u001b[0m         fields\u001b[39m=\u001b[39;49mfields,\n\u001b[1;32m   1350\u001b[0m     )\n\u001b[1;32m   1351\u001b[0m \u001b[39mif\u001b[39;00m out\u001b[39m.\u001b[39mshape:\n\u001b[1;32m   1352\u001b[0m     \u001b[39mreturn\u001b[39;00m out\n",
      "File \u001b[0;32m/opt/conda/lib/python3.10/site-packages/zarr/core.py:2179\u001b[0m, in \u001b[0;36mArray._chunk_getitems\u001b[0;34m(self, lchunk_coords, lchunk_selection, out, lout_selection, drop_axes, fields)\u001b[0m\n\u001b[1;32m   2177\u001b[0m     \u001b[39mif\u001b[39;00m \u001b[39mnot\u001b[39;00m \u001b[39misinstance\u001b[39m(\u001b[39mself\u001b[39m\u001b[39m.\u001b[39m_meta_array, np\u001b[39m.\u001b[39mndarray):\n\u001b[1;32m   2178\u001b[0m         contexts \u001b[39m=\u001b[39m ConstantMap(ckeys, constant\u001b[39m=\u001b[39mContext(meta_array\u001b[39m=\u001b[39m\u001b[39mself\u001b[39m\u001b[39m.\u001b[39m_meta_array))\n\u001b[0;32m-> 2179\u001b[0m     cdatas \u001b[39m=\u001b[39m \u001b[39mself\u001b[39;49m\u001b[39m.\u001b[39;49mchunk_store\u001b[39m.\u001b[39;49mgetitems(ckeys, contexts\u001b[39m=\u001b[39;49mcontexts)\n\u001b[1;32m   2181\u001b[0m \u001b[39mfor\u001b[39;00m ckey, chunk_select, out_select \u001b[39min\u001b[39;00m \u001b[39mzip\u001b[39m(ckeys, lchunk_selection, lout_selection):\n\u001b[1;32m   2182\u001b[0m     \u001b[39mif\u001b[39;00m ckey \u001b[39min\u001b[39;00m cdatas:\n",
      "File \u001b[0;32m/opt/conda/lib/python3.10/site-packages/zarr/_storage/store.py:179\u001b[0m, in \u001b[0;36mBaseStore.getitems\u001b[0;34m(self, keys, contexts)\u001b[0m\n\u001b[1;32m    154\u001b[0m \u001b[39mdef\u001b[39;00m \u001b[39mgetitems\u001b[39m(\n\u001b[1;32m    155\u001b[0m     \u001b[39mself\u001b[39m, keys: Sequence[\u001b[39mstr\u001b[39m], \u001b[39m*\u001b[39m, contexts: Mapping[\u001b[39mstr\u001b[39m, Context]\n\u001b[1;32m    156\u001b[0m ) \u001b[39m-\u001b[39m\u001b[39m>\u001b[39m Mapping[\u001b[39mstr\u001b[39m, Any]:\n\u001b[1;32m    157\u001b[0m \u001b[39m    \u001b[39m\u001b[39m\"\"\"Retrieve data from multiple keys.\u001b[39;00m\n\u001b[1;32m    158\u001b[0m \n\u001b[1;32m    159\u001b[0m \u001b[39m    Parameters\u001b[39;00m\n\u001b[0;32m   (...)\u001b[0m\n\u001b[1;32m    177\u001b[0m \u001b[39m    keys and/or to utilize the contexts.\u001b[39;00m\n\u001b[1;32m    178\u001b[0m \u001b[39m    \"\"\"\u001b[39;00m\n\u001b[0;32m--> 179\u001b[0m     \u001b[39mreturn\u001b[39;00m {k: \u001b[39mself\u001b[39m[k] \u001b[39mfor\u001b[39;00m k \u001b[39min\u001b[39;00m keys \u001b[39mif\u001b[39;00m k \u001b[39min\u001b[39;00m \u001b[39mself\u001b[39m}\n",
      "File \u001b[0;32m/opt/conda/lib/python3.10/site-packages/zarr/_storage/store.py:179\u001b[0m, in \u001b[0;36m<dictcomp>\u001b[0;34m(.0)\u001b[0m\n\u001b[1;32m    154\u001b[0m \u001b[39mdef\u001b[39;00m \u001b[39mgetitems\u001b[39m(\n\u001b[1;32m    155\u001b[0m     \u001b[39mself\u001b[39m, keys: Sequence[\u001b[39mstr\u001b[39m], \u001b[39m*\u001b[39m, contexts: Mapping[\u001b[39mstr\u001b[39m, Context]\n\u001b[1;32m    156\u001b[0m ) \u001b[39m-\u001b[39m\u001b[39m>\u001b[39m Mapping[\u001b[39mstr\u001b[39m, Any]:\n\u001b[1;32m    157\u001b[0m \u001b[39m    \u001b[39m\u001b[39m\"\"\"Retrieve data from multiple keys.\u001b[39;00m\n\u001b[1;32m    158\u001b[0m \n\u001b[1;32m    159\u001b[0m \u001b[39m    Parameters\u001b[39;00m\n\u001b[0;32m   (...)\u001b[0m\n\u001b[1;32m    177\u001b[0m \u001b[39m    keys and/or to utilize the contexts.\u001b[39;00m\n\u001b[1;32m    178\u001b[0m \u001b[39m    \"\"\"\u001b[39;00m\n\u001b[0;32m--> 179\u001b[0m     \u001b[39mreturn\u001b[39;00m {k: \u001b[39mself\u001b[39m[k] \u001b[39mfor\u001b[39;00m k \u001b[39min\u001b[39;00m keys \u001b[39mif\u001b[39;00m k \u001b[39min\u001b[39;49;00m \u001b[39mself\u001b[39;49m}\n",
      "File \u001b[0;32m/opt/conda/lib/python3.10/site-packages/zarr/storage.py:1178\u001b[0m, in \u001b[0;36mDirectoryStore.__contains__\u001b[0;34m(self, key)\u001b[0m\n\u001b[1;32m   1176\u001b[0m key \u001b[39m=\u001b[39m \u001b[39mself\u001b[39m\u001b[39m.\u001b[39m_normalize_key(key)\n\u001b[1;32m   1177\u001b[0m file_path \u001b[39m=\u001b[39m os\u001b[39m.\u001b[39mpath\u001b[39m.\u001b[39mjoin(\u001b[39mself\u001b[39m\u001b[39m.\u001b[39mpath, key)\n\u001b[0;32m-> 1178\u001b[0m \u001b[39mreturn\u001b[39;00m os\u001b[39m.\u001b[39;49mpath\u001b[39m.\u001b[39;49misfile(file_path)\n",
      "File \u001b[0;32m/opt/conda/lib/python3.10/genericpath.py:30\u001b[0m, in \u001b[0;36misfile\u001b[0;34m(path)\u001b[0m\n\u001b[1;32m     28\u001b[0m \u001b[39m\u001b[39m\u001b[39m\"\"\"Test whether a path is a regular file\"\"\"\u001b[39;00m\n\u001b[1;32m     29\u001b[0m \u001b[39mtry\u001b[39;00m:\n\u001b[0;32m---> 30\u001b[0m     st \u001b[39m=\u001b[39m os\u001b[39m.\u001b[39;49mstat(path)\n\u001b[1;32m     31\u001b[0m \u001b[39mexcept\u001b[39;00m (\u001b[39mOSError\u001b[39;00m, \u001b[39mValueError\u001b[39;00m):\n\u001b[1;32m     32\u001b[0m     \u001b[39mreturn\u001b[39;00m \u001b[39mFalse\u001b[39;00m\n",
      "\u001b[0;31mKeyboardInterrupt\u001b[0m: "
     ]
    }
   ],
   "source": [
    "data = next(iter(data_module.valid_ds))"
   ]
  },
  {
   "cell_type": "code",
   "execution_count": null,
   "metadata": {},
   "outputs": [
    {
     "data": {
      "text/plain": [
       "['2015-03-01 00:00:00']"
      ]
     },
     "execution_count": 30,
     "metadata": {},
     "output_type": "execute_result"
    }
   ],
   "source": [
    "data[\"timestamps\"]"
   ]
  },
  {
   "cell_type": "code",
   "execution_count": null,
   "metadata": {},
   "outputs": [],
   "source": [
    "import matplotlib.pyplot as plt"
   ]
  },
  {
   "cell_type": "code",
   "execution_count": null,
   "metadata": {},
   "outputs": [
    {
     "data": {
      "text/plain": [
       "(9, 1, 512, 512)"
      ]
     },
     "execution_count": 34,
     "metadata": {},
     "output_type": "execute_result"
    }
   ],
   "source": [
    "data['image_stack'].shape"
   ]
  },
  {
   "cell_type": "code",
   "execution_count": null,
   "metadata": {},
   "outputs": [
    {
     "ename": "IndexError",
     "evalue": "index 4 is out of bounds for axis 1 with size 1",
     "output_type": "error",
     "traceback": [
      "\u001b[0;31m---------------------------------------------------------------------------\u001b[0m",
      "\u001b[0;31mIndexError\u001b[0m                                Traceback (most recent call last)",
      "\u001b[1;32m/home/walsh/SDO-FM/notebooks/f10.7.ipynb Cell 7\u001b[0m line \u001b[0;36m1\n\u001b[1;32m      <a href='vscode-notebook-cell://ssh-remote%2Bnvae-train-t4/home/walsh/SDO-FM/notebooks/f10.7.ipynb#W5sdnNjb2RlLXJlbW90ZQ%3D%3D?line=0'>1</a>\u001b[0m \u001b[39mimport\u001b[39;00m \u001b[39msunpy\u001b[39;00m\u001b[39m.\u001b[39;00m\u001b[39mvisualization\u001b[39;00m\u001b[39m.\u001b[39;00m\u001b[39mcolormaps\u001b[39;00m \u001b[39mas\u001b[39;00m \u001b[39msunpycm\u001b[39;00m\n\u001b[1;32m      <a href='vscode-notebook-cell://ssh-remote%2Bnvae-train-t4/home/walsh/SDO-FM/notebooks/f10.7.ipynb#W5sdnNjb2RlLXJlbW90ZQ%3D%3D?line=1'>2</a>\u001b[0m cms \u001b[39m=\u001b[39m [\n\u001b[1;32m      <a href='vscode-notebook-cell://ssh-remote%2Bnvae-train-t4/home/walsh/SDO-FM/notebooks/f10.7.ipynb#W5sdnNjb2RlLXJlbW90ZQ%3D%3D?line=2'>3</a>\u001b[0m     \u001b[39m# sunpycm.cmlist.get(\"hmimag\"),\u001b[39;00m\n\u001b[1;32m      <a href='vscode-notebook-cell://ssh-remote%2Bnvae-train-t4/home/walsh/SDO-FM/notebooks/f10.7.ipynb#W5sdnNjb2RlLXJlbW90ZQ%3D%3D?line=3'>4</a>\u001b[0m     \u001b[39m# sunpycm.cmlist.get(\"hmimag\"),\u001b[39;00m\n\u001b[0;32m   (...)\u001b[0m\n\u001b[1;32m     <a href='vscode-notebook-cell://ssh-remote%2Bnvae-train-t4/home/walsh/SDO-FM/notebooks/f10.7.ipynb#W5sdnNjb2RlLXJlbW90ZQ%3D%3D?line=13'>14</a>\u001b[0m     sunpycm\u001b[39m.\u001b[39mcmlist\u001b[39m.\u001b[39mget(\u001b[39m\"\u001b[39m\u001b[39msdoaia1700\u001b[39m\u001b[39m\"\u001b[39m),\n\u001b[1;32m     <a href='vscode-notebook-cell://ssh-remote%2Bnvae-train-t4/home/walsh/SDO-FM/notebooks/f10.7.ipynb#W5sdnNjb2RlLXJlbW90ZQ%3D%3D?line=14'>15</a>\u001b[0m ]\n\u001b[0;32m---> <a href='vscode-notebook-cell://ssh-remote%2Bnvae-train-t4/home/walsh/SDO-FM/notebooks/f10.7.ipynb#W5sdnNjb2RlLXJlbW90ZQ%3D%3D?line=15'>16</a>\u001b[0m plt\u001b[39m.\u001b[39mimshow(data[\u001b[39m'\u001b[39;49m\u001b[39mimage_stack\u001b[39;49m\u001b[39m'\u001b[39;49m][\u001b[39m0\u001b[39;49m,\u001b[39m4\u001b[39;49m,:,:], cmap\u001b[39m=\u001b[39mcms[\u001b[39m0\u001b[39m])\n\u001b[1;32m     <a href='vscode-notebook-cell://ssh-remote%2Bnvae-train-t4/home/walsh/SDO-FM/notebooks/f10.7.ipynb#W5sdnNjb2RlLXJlbW90ZQ%3D%3D?line=16'>17</a>\u001b[0m \u001b[39m# plt.imsave(\"imgs_for_google_emb/a.png\", data['image_stack'][0,4,:,:], cmap=cms[4])\u001b[39;00m\n",
      "\u001b[0;31mIndexError\u001b[0m: index 4 is out of bounds for axis 1 with size 1"
     ]
    }
   ],
   "source": [
    "import sunpy.visualization.colormaps as sunpycm\n",
    "cms = [\n",
    "    # sunpycm.cmlist.get(\"hmimag\"),\n",
    "    # sunpycm.cmlist.get(\"hmimag\"),\n",
    "    # sunpycm.cmlist.get(\"hmimag\"),\n",
    "    sunpycm.cmlist.get(\"sdoaia94\"),\n",
    "    sunpycm.cmlist.get(\"sdoaia131\"),\n",
    "    sunpycm.cmlist.get(\"sdoaia171\"),\n",
    "    sunpycm.cmlist.get(\"sdoaia193\"),\n",
    "    sunpycm.cmlist.get(\"sdoaia211\"),\n",
    "    sunpycm.cmlist.get(\"sdoaia304\"),\n",
    "    sunpycm.cmlist.get(\"sdoaia335\"),\n",
    "    sunpycm.cmlist.get(\"sdoaia1600\"),\n",
    "    sunpycm.cmlist.get(\"sdoaia1700\"),\n",
    "]\n",
    "plt.imshow(data['image_stack'][0,4,:,:], cmap=cms[0])\n",
    "# plt.imsave(\"imgs_for_google_emb/a.png\", data['image_stack'][0,4,:,:], cmap=cms[4])"
   ]
  },
  {
   "cell_type": "code",
   "execution_count": null,
   "metadata": {},
   "outputs": [],
   "source": [
    "names = [\n",
    "    \"94\",\n",
    "    \"131\",\n",
    "    \"171\",\n",
    "    \"193\",\n",
    "    \"211\",\n",
    "    \"304\",\n",
    "    \"335\",\n",
    "    \"1600\",\n",
    "    \"1700\"\n",
    "]\n",
    "\n",
    "for r in iter(data_module.valid_ds):\n",
    "    imgs, timestamp = r['image_stack'], r['timestamps'][0].replace(\" \", \"_\")\n",
    "    for i in range(9):\n",
    "        plt.imsave(f\"imgs_for_google_emb/{timestamp}-{names[i]}.png\", data['image_stack'][i,0,:,:], cmap=cms[0])"
   ]
  },
  {
   "cell_type": "markdown",
   "metadata": {},
   "source": [
    "Upload those to a GCP Bucket (done on cli)"
   ]
  },
  {
   "cell_type": "markdown",
   "metadata": {},
   "source": [
    "### Send API requests"
   ]
  },
  {
   "cell_type": "code",
   "execution_count": 169,
   "metadata": {},
   "outputs": [],
   "source": [
    "import requests\n",
    "\n",
    "def make_data(file):\n",
    "  return {\n",
    "    \"instances\": [\n",
    "      {\n",
    "        \"image\": {\n",
    "          \"gcsUri\": f\"gs://sdofm-vertexai-emb-test/{file}.png\",\n",
    "        },\n",
    "      },\n",
    "    ],\n",
    "    \"parameters\": {\n",
    "      \"dimension\": 1408\n",
    "    }\n",
    "  }"
   ]
  },
  {
   "cell_type": "code",
   "execution_count": 177,
   "metadata": {},
   "outputs": [
    {
     "name": "stdout",
     "output_type": "stream",
     "text": [
      "40 completed which is 0.003306% completed\n",
      "80 completed which is 0.007111% completed\n",
      "120 completed which is 0.010564% completed\n",
      "160 completed which is 0.014646% completed\n",
      "200 completed which is 0.018654% completed\n",
      "240 completed which is 0.023050% completed\n",
      "280 completed which is 0.026928% completed\n",
      "320 completed which is 0.031342% completed\n",
      "360 completed which is 0.035941% completed\n",
      "400 completed which is 0.039709% completed\n",
      "440 completed which is 0.044031% completed\n",
      "480 completed which is 0.047688% completed\n",
      "520 completed which is 0.051732% completed\n",
      "560 completed which is 0.054835% completed\n",
      "600 completed which is 0.058437% completed\n",
      "640 completed which is 0.062463% completed\n",
      "680 completed which is 0.065972% completed\n",
      "720 completed which is 0.069315% completed\n",
      "760 completed which is 0.072787% completed\n",
      "800 completed which is 0.077054% completed\n",
      "840 completed which is 0.080323% completed\n",
      "880 completed which is 0.083223% completed\n",
      "920 completed which is 0.087378% completed\n",
      "960 completed which is 0.091035% completed\n",
      "1000 completed which is 0.094618% completed\n",
      "1040 completed which is 0.098293% completed\n",
      "1080 completed which is 0.102412% completed\n",
      "1120 completed which is 0.105958% completed\n"
     ]
    }
   ],
   "source": [
    "import glob\n",
    "from time import sleep\n",
    "import dill as pickle\n",
    "import numpy as np\n",
    "import requests\n",
    "\n",
    "files = glob.glob(\"imgs_for_google_emb/*.png\")\n",
    "import subprocess\n",
    "# result = subprocess.run('gcloud auth print-access-token'.split(' '), stdout=subprocess.PIPE).stdout\n",
    "# print(result.stdout)\n",
    "\n",
    "wav_map = {\n",
    "    \"94\": 0,\n",
    "    \"131\": 1,\n",
    "    \"171\": 2,\n",
    "    \"193\": 3,\n",
    "    \"211\": 4,\n",
    "    \"304\": 5,\n",
    "    \"335\": 6,\n",
    "    \"1600\": 7,\n",
    "    \"1700\": 8\n",
    "}\n",
    "\n",
    "# expensive_results = {}\n",
    "\n",
    "c = 0\n",
    "for i, f in enumerate(files):\n",
    "    if \":12:00\" in f:\n",
    "        c += 1\n",
    "        # continue\n",
    "        part = f.replace(\"imgs_for_google_emb/\", '').replace(\".png\", \"\")\n",
    "        wav = part.split('-')[-1]\n",
    "        ts = ''.join(part.split('-')[:-1])\n",
    "        if ts not in expensive_results:\n",
    "            expensive_results[ts] = [None]*9\n",
    "\n",
    "        auth = subprocess.run('gcloud auth print-access-token'.split(' '), stdout=subprocess.PIPE).stdout.decode('utf-8').replace('\\n', '')\n",
    "\n",
    "        if expensive_results[ts][wav_map[wav]] is None:\n",
    "            r = requests.post(\n",
    "                'https://us-central1-aiplatform.googleapis.com/v1/projects/sdo-fm-2024/locations/us-central1/publishers/google/models/multimodalembedding@001:predict',\n",
    "                headers={\n",
    "                    \"Authorization\": f\"Bearer {auth}\",\n",
    "                    \"Content-Type\": \"application/json; charset=utf-8\"\n",
    "                },\n",
    "                json=make_data(part)\n",
    "            )\n",
    "            if r.status_code == 200: \n",
    "                expensive_results[ts][wav_map[wav]] = np.array(r.json()['predictions'][0]['imageEmbedding'])\n",
    "            else:\n",
    "                print(\"Error on\", part)\n",
    "\n",
    "        if c % 40 == 0:\n",
    "            print(f\"{c} completed which is {100*(i/len(files)):02f}% completed\")\n",
    "            with open('google_embeddings_moar.pkl', 'wb') as file:\n",
    "                pickle.dump(expensive_results, file)\n",
    "\n",
    "        sleep(0.5)\n",
    "print(\"Complete\")"
   ]
  },
  {
   "cell_type": "code",
   "execution_count": 167,
   "metadata": {},
   "outputs": [
    {
     "data": {
      "text/plain": [
       "'imgs_for_google_emb/2015-03-29_01:00:00-171.png'"
      ]
     },
     "execution_count": 167,
     "metadata": {},
     "output_type": "execute_result"
    }
   ],
   "source": [
    "pickle_dict(expensive_results, \"more_expensive_results_hourly\")"
   ]
  },
  {
   "cell_type": "code",
   "execution_count": 1,
   "metadata": {},
   "outputs": [],
   "source": [
    "# !gcloud auth print-access-token"
   ]
  },
  {
   "cell_type": "code",
   "execution_count": null,
   "metadata": {},
   "outputs": [],
   "source": [
    "# with open('google_embeddings.pkl', 'wb') as file:\n",
    "#     pickle.dump(expensive_results, file)"
   ]
  },
  {
   "cell_type": "code",
   "execution_count": 24,
   "metadata": {},
   "outputs": [],
   "source": [
    "expensive_results = unpickle_dict(\"google_embeddings\")"
   ]
  },
  {
   "cell_type": "code",
   "execution_count": null,
   "metadata": {},
   "outputs": [
    {
     "data": {
      "text/plain": [
       "{'20150425_00:12:00': [array([-0.00886597,  0.01986007,  0.00888644, ..., -0.01669249,\n",
       "         -0.02886464,  0.01598995]),\n",
       "  array([-0.01121074,  0.0245665 ,  0.01235839, ..., -0.01856885,\n",
       "         -0.01863011,  0.02415734]),\n",
       "  array([-0.01210898,  0.01714583,  0.00905732, ..., -0.0179675 ,\n",
       "         -0.01504015,  0.01802104]),\n",
       "  array([-0.01135862,  0.02378994,  0.01526881, ..., -0.01988261,\n",
       "         -0.02434678,  0.02477514]),\n",
       "  array([-0.01296336,  0.01101825,  0.01886698, ..., -0.01622651,\n",
       "         -0.03233597,  0.01760793]),\n",
       "  array([-0.0129267 ,  0.00454145,  0.02519379, ..., -0.01466671,\n",
       "         -0.03300511,  0.0131393 ]),\n",
       "  array([-0.01286912,  0.0182028 ,  0.00024594, ..., -0.00873612,\n",
       "         -0.03077626,  0.00380933]),\n",
       "  array([-0.01504415,  0.00113337,  0.01198899, ..., -0.00974634,\n",
       "         -0.03620223,  0.01442524]),\n",
       "  array([-0.01512299, -0.00173311,  0.01043851, ..., -0.0064706 ,\n",
       "         -0.03617875,  0.01290113])],\n",
       " '20150411_00:12:00': [array([-0.00886601,  0.01986011,  0.00888648, ..., -0.01669251,\n",
       "         -0.02886468,  0.01599004]),\n",
       "  array([-0.00971789,  0.02592514,  0.01124585, ..., -0.01663343,\n",
       "         -0.01980768,  0.02436386]),\n",
       "  array([-0.01210897,  0.01714589,  0.00905729, ..., -0.0179675 ,\n",
       "         -0.01504017,  0.018021  ]),\n",
       "  array([-0.01135861,  0.02378993,  0.01526881, ..., -0.01988262,\n",
       "         -0.02434679,  0.02477516]),\n",
       "  array([-0.01296337,  0.01101828,  0.01886695, ..., -0.01622653,\n",
       "         -0.03233602,  0.01760783]),\n",
       "  array([-0.0129267 ,  0.0045415 ,  0.02519384, ..., -0.01466669,\n",
       "         -0.03300513,  0.01313922]),\n",
       "  array([-0.01286911,  0.0182028 ,  0.00024593, ..., -0.00873611,\n",
       "         -0.03077628,  0.00380932]),\n",
       "  array([-0.01504414,  0.00113335,  0.01198895, ..., -0.00974636,\n",
       "         -0.03620226,  0.01442522]),\n",
       "  array([-0.01512303, -0.00173314,  0.0104385 , ..., -0.00647048,\n",
       "         -0.03617879,  0.01290116])],\n",
       " '20150302_00:12:00': [array([-0.00886598,  0.01986011,  0.00888651, ..., -0.01669246,\n",
       "         -0.02886469,  0.01599005]),\n",
       "  array([-0.00971798,  0.02592518,  0.01124583, ..., -0.01663352,\n",
       "         -0.0198076 ,  0.02436381]),\n",
       "  array([-0.01210897,  0.01714589,  0.00905729, ..., -0.0179675 ,\n",
       "         -0.01504017,  0.018021  ]),\n",
       "  array([-0.01135861,  0.02378993,  0.01526881, ..., -0.01988262,\n",
       "         -0.02434679,  0.02477516]),\n",
       "  array([-0.01296337,  0.01101828,  0.01886695, ..., -0.01622653,\n",
       "         -0.03233602,  0.01760783]),\n",
       "  array([-0.0129267 ,  0.0045415 ,  0.02519384, ..., -0.01466669,\n",
       "         -0.03300513,  0.01313922]),\n",
       "  array([-0.01286915,  0.01820281,  0.00024591, ..., -0.00873619,\n",
       "         -0.03077632,  0.00380936]),\n",
       "  array([-0.01504409,  0.00113335,  0.01198895, ..., -0.00974634,\n",
       "         -0.03620221,  0.01442518]),\n",
       "  array([-0.01512298, -0.00173316,  0.01043863, ..., -0.0064705 ,\n",
       "         -0.03617872,  0.01290108])],\n",
       " '20150316_00:12:00': [array([-0.00886602,  0.01986009,  0.00888648, ..., -0.01669257,\n",
       "         -0.02886465,  0.01599001]),\n",
       "  array([-0.00971797,  0.02592519,  0.01124585, ..., -0.01663348,\n",
       "         -0.0198076 ,  0.0243638 ]),\n",
       "  array([-0.01210902,  0.01714589,  0.00905732, ..., -0.0179675 ,\n",
       "         -0.01504013,  0.018021  ]),\n",
       "  array([-0.01135862,  0.02378994,  0.01526881, ..., -0.01988261,\n",
       "         -0.02434678,  0.02477514]),\n",
       "  array([-0.01296338,  0.0110182 ,  0.01886695, ..., -0.01622651,\n",
       "         -0.03233596,  0.01760786]),\n",
       "  array([-0.01292671,  0.00454149,  0.02519385, ..., -0.01466669,\n",
       "         -0.03300513,  0.01313922]),\n",
       "  array([-0.01286908,  0.01820282,  0.00024586, ..., -0.00873619,\n",
       "         -0.03077629,  0.0038094 ]),\n",
       "  array([-0.01504415,  0.00113337,  0.01198899, ..., -0.00974634,\n",
       "         -0.03620223,  0.01442524]),\n",
       "  array([-0.01512298, -0.00173316,  0.01043863, ..., -0.0064705 ,\n",
       "         -0.03617872,  0.01290108])],\n",
       " '20150424_00:12:00': [array([-0.00886598,  0.01986011,  0.00888651, ..., -0.01669246,\n",
       "         -0.02886469,  0.01599005]),\n",
       "  array([-0.0097179 ,  0.02592514,  0.01124586, ..., -0.01663344,\n",
       "         -0.01980768,  0.0243638 ]),\n",
       "  array([-0.01210898,  0.01714583,  0.00905732, ..., -0.0179675 ,\n",
       "         -0.01504015,  0.01802104]),\n",
       "  array([-0.01135862,  0.02378994,  0.01526881, ..., -0.01988261,\n",
       "         -0.02434678,  0.02477514]),\n",
       "  array([-0.01296337,  0.01101828,  0.01886695, ..., -0.01622653,\n",
       "         -0.03233602,  0.01760783]),\n",
       "  array([-0.01292677,  0.00454151,  0.02519388, ..., -0.01466664,\n",
       "         -0.03300508,  0.01313927]),\n",
       "  array([-0.01286914,  0.01820282,  0.00024592, ..., -0.00873607,\n",
       "         -0.03077631,  0.00380932]),\n",
       "  array([-0.01504409,  0.00113335,  0.01198894, ..., -0.00974634,\n",
       "         -0.03620221,  0.01442518]),\n",
       "  array([-0.01512303, -0.00173314,  0.0104385 , ..., -0.00647048,\n",
       "         -0.03617879,  0.01290116])],\n",
       " '20150329_00:12:00': [array([-0.00886598,  0.01986011,  0.00888651, ..., -0.01669246,\n",
       "         -0.02886469,  0.01599005]),\n",
       "  array([-0.00971798,  0.02592518,  0.01124583, ..., -0.01663352,\n",
       "         -0.0198076 ,  0.02436381]),\n",
       "  array([-0.01210897,  0.01714589,  0.00905729, ..., -0.0179675 ,\n",
       "         -0.01504017,  0.018021  ]),\n",
       "  array([-0.01135862,  0.02378994,  0.01526881, ..., -0.01988261,\n",
       "         -0.02434678,  0.02477514]),\n",
       "  array([-0.01296336,  0.01101827,  0.01886701, ..., -0.01622657,\n",
       "         -0.03233605,  0.01760791]),\n",
       "  array([-0.0129267 ,  0.00454145,  0.02519379, ..., -0.01466671,\n",
       "         -0.03300511,  0.0131393 ]),\n",
       "  array([-0.01286915,  0.01820281,  0.00024591, ..., -0.00873619,\n",
       "         -0.03077632,  0.00380936]),\n",
       "  array([-0.01504409,  0.00113335,  0.01198895, ..., -0.00974634,\n",
       "         -0.03620221,  0.01442518]),\n",
       "  array([-0.01512299, -0.00173311,  0.01043851, ..., -0.0064706 ,\n",
       "         -0.03617875,  0.01290113])],\n",
       " '20150418_00:12:00': [array([-0.00886597,  0.01986007,  0.00888644, ..., -0.01669249,\n",
       "         -0.02886464,  0.01598995]),\n",
       "  array([-0.00971797,  0.02592519,  0.01124585, ..., -0.01663348,\n",
       "         -0.0198076 ,  0.0243638 ]),\n",
       "  array([-0.01210897,  0.01714589,  0.00905729, ..., -0.0179675 ,\n",
       "         -0.01504017,  0.018021  ]),\n",
       "  array([-0.01135862,  0.02378994,  0.01526881, ..., -0.01988261,\n",
       "         -0.02434678,  0.02477514]),\n",
       "  array([-0.01296337,  0.01101828,  0.01886695, ..., -0.01622653,\n",
       "         -0.03233602,  0.01760783]),\n",
       "  array([-0.01292672,  0.00454142,  0.02519378, ..., -0.0146667 ,\n",
       "         -0.03300508,  0.01313929]),\n",
       "  array([-0.01286915,  0.01820281,  0.00024591, ..., -0.00873619,\n",
       "         -0.03077632,  0.00380936]),\n",
       "  array([-0.01504415,  0.00113337,  0.01198899, ..., -0.00974634,\n",
       "         -0.03620223,  0.01442524]),\n",
       "  array([-0.01512299, -0.00173311,  0.01043851, ..., -0.0064706 ,\n",
       "         -0.03617875,  0.01290113])],\n",
       " '20150310_00:12:00': [array([-0.00886602,  0.01986009,  0.00888648, ..., -0.01669257,\n",
       "         -0.02886465,  0.01599001]),\n",
       "  array([-0.00971797,  0.02592519,  0.01124585, ..., -0.01663348,\n",
       "         -0.0198076 ,  0.0243638 ]),\n",
       "  array([-0.01210898,  0.01714583,  0.00905732, ..., -0.0179675 ,\n",
       "         -0.01504015,  0.01802104]),\n",
       "  array([-0.01135862,  0.02378993,  0.01526881, ..., -0.0198826 ,\n",
       "         -0.02434678,  0.02477515]),\n",
       "  array([-0.01296336,  0.01101827,  0.01886701, ..., -0.01622657,\n",
       "         -0.03233605,  0.01760791]),\n",
       "  array([-0.0129267 ,  0.0045415 ,  0.02519384, ..., -0.01466669,\n",
       "         -0.03300513,  0.01313922]),\n",
       "  array([-0.01286911,  0.0182028 ,  0.00024593, ..., -0.00873611,\n",
       "         -0.03077628,  0.00380932]),\n",
       "  array([-0.01504415,  0.00113337,  0.01198899, ..., -0.00974634,\n",
       "         -0.03620223,  0.01442524]),\n",
       "  array([-0.01512299, -0.00173311,  0.01043851, ..., -0.0064706 ,\n",
       "         -0.03617875,  0.01290113])],\n",
       " '20150301_00:12:00': [array([-0.00886598,  0.01986011,  0.00888646, ..., -0.01669252,\n",
       "         -0.02886468,  0.01599002]),\n",
       "  array([-0.0097179 ,  0.02592514,  0.01124586, ..., -0.01663344,\n",
       "         -0.01980768,  0.0243638 ]),\n",
       "  array([-0.01210902,  0.01714589,  0.00905732, ..., -0.0179675 ,\n",
       "         -0.01504013,  0.018021  ]),\n",
       "  array([-0.01135866,  0.02378996,  0.0152688 , ..., -0.0198826 ,\n",
       "         -0.02434685,  0.02477516]),\n",
       "  array([-0.01839365,  0.02691774,  0.03142887, ..., -0.02657045,\n",
       "         -0.02397121,  0.01609998]),\n",
       "  array([-0.0129267 ,  0.0045415 ,  0.02519384, ..., -0.01466669,\n",
       "         -0.03300513,  0.01313922]),\n",
       "  array([-0.01286911,  0.0182028 ,  0.00024593, ..., -0.00873611,\n",
       "         -0.03077628,  0.00380932]),\n",
       "  array([-0.01504415,  0.00113337,  0.01198899, ..., -0.00974634,\n",
       "         -0.03620223,  0.01442524]),\n",
       "  array([-0.01512303, -0.00173314,  0.0104385 , ..., -0.00647048,\n",
       "         -0.03617879,  0.01290116])],\n",
       " '20150327_00:12:00': [array([-0.00886598,  0.01986011,  0.00888651, ..., -0.01669246,\n",
       "         -0.02886469,  0.01599005]),\n",
       "  array([-0.00971798,  0.02592518,  0.01124583, ..., -0.01663352,\n",
       "         -0.0198076 ,  0.02436381]),\n",
       "  array([-0.012109  ,  0.01714594,  0.00905732, ..., -0.01796751,\n",
       "         -0.01504009,  0.01802098]),\n",
       "  array([-0.01135862,  0.02378994,  0.01526881, ..., -0.01988261,\n",
       "         -0.02434678,  0.02477514]),\n",
       "  array([-0.01296337,  0.01101828,  0.01886695, ..., -0.01622653,\n",
       "         -0.03233602,  0.01760783]),\n",
       "  array([-0.01292677,  0.00454151,  0.02519388, ..., -0.01466664,\n",
       "         -0.03300508,  0.01313927]),\n",
       "  array([-0.01286911,  0.0182028 ,  0.00024593, ..., -0.00873611,\n",
       "         -0.03077628,  0.00380932]),\n",
       "  array([-0.01504414,  0.00113335,  0.01198895, ..., -0.00974636,\n",
       "         -0.03620226,  0.01442522]),\n",
       "  array([-0.01512303, -0.00173314,  0.0104385 , ..., -0.00647048,\n",
       "         -0.03617879,  0.01290116])],\n",
       " '20150404_00:12:00': [array([-0.00886597,  0.01986007,  0.00888644, ..., -0.01669249,\n",
       "         -0.02886464,  0.01598995]),\n",
       "  array([-0.0097179 ,  0.02592514,  0.01124586, ..., -0.01663344,\n",
       "         -0.01980768,  0.0243638 ]),\n",
       "  array([-0.01210898,  0.01714583,  0.00905732, ..., -0.0179675 ,\n",
       "         -0.01504015,  0.01802104]),\n",
       "  array([-0.01135862,  0.02378993,  0.01526881, ..., -0.0198826 ,\n",
       "         -0.02434678,  0.02477515]),\n",
       "  array([-0.01296338,  0.0110182 ,  0.01886695, ..., -0.01622651,\n",
       "         -0.03233596,  0.01760786]),\n",
       "  array([-0.0129267 ,  0.0045415 ,  0.02519384, ..., -0.01466669,\n",
       "         -0.03300513,  0.01313922]),\n",
       "  array([-0.01286914,  0.01820282,  0.00024592, ..., -0.00873607,\n",
       "         -0.03077631,  0.00380932]),\n",
       "  array([-0.01504414,  0.00113335,  0.01198895, ..., -0.00974636,\n",
       "         -0.03620226,  0.01442522]),\n",
       "  array([-0.01512313, -0.00173303,  0.01043847, ..., -0.00647067,\n",
       "         -0.03617883,  0.01290124])],\n",
       " '20150419_00:12:00': [array([-0.00648466,  0.0120384 ,  0.03702586, ..., -0.02091501,\n",
       "         -0.02552357,  0.02226099]),\n",
       "  array([-0.00971795,  0.02592518,  0.01124585, ..., -0.01663351,\n",
       "         -0.01980758,  0.0243639 ]),\n",
       "  array([-0.012109  ,  0.01714594,  0.00905732, ..., -0.01796751,\n",
       "         -0.01504009,  0.01802098]),\n",
       "  array([-0.01135866,  0.02379002,  0.01526881, ..., -0.01988255,\n",
       "         -0.02434683,  0.0247751 ]),\n",
       "  array([-0.01296338,  0.0110182 ,  0.01886695, ..., -0.01622651,\n",
       "         -0.03233596,  0.01760786]),\n",
       "  array([-0.0129267 ,  0.0045415 ,  0.02519384, ..., -0.01466669,\n",
       "         -0.03300513,  0.01313922]),\n",
       "  array([-0.01286914,  0.01820282,  0.00024592, ..., -0.00873607,\n",
       "         -0.03077631,  0.00380932]),\n",
       "  array([-0.01504415,  0.00113337,  0.01198899, ..., -0.00974634,\n",
       "         -0.03620223,  0.01442524]),\n",
       "  array([-0.01512303, -0.00173314,  0.0104385 , ..., -0.00647048,\n",
       "         -0.03617879,  0.01290116])],\n",
       " '20150320_00:12:00': [array([-0.00886598,  0.01986011,  0.00888651, ..., -0.01669246,\n",
       "         -0.02886469,  0.01599005]),\n",
       "  array([-0.00971797,  0.02592519,  0.01124585, ..., -0.01663348,\n",
       "         -0.0198076 ,  0.0243638 ]),\n",
       "  array([-0.01210897,  0.01714589,  0.00905729, ..., -0.0179675 ,\n",
       "         -0.01504017,  0.018021  ]),\n",
       "  array([-0.01135862,  0.02378995,  0.01526884, ..., -0.01988263,\n",
       "         -0.02434682,  0.02477514]),\n",
       "  array([-0.01296338,  0.0110182 ,  0.01886695, ..., -0.01622651,\n",
       "         -0.03233596,  0.01760786]),\n",
       "  array([-0.0129267 ,  0.0045415 ,  0.02519384, ..., -0.01466669,\n",
       "         -0.03300513,  0.01313922]),\n",
       "  array([-0.01286914,  0.01820282,  0.00024592, ..., -0.00873607,\n",
       "         -0.03077631,  0.00380932]),\n",
       "  array([-0.01504415,  0.00113337,  0.01198898, ..., -0.00974633,\n",
       "         -0.03620224,  0.01442524]),\n",
       "  array([-0.01512312, -0.00173302,  0.01043845, ..., -0.00647071,\n",
       "         -0.03617885,  0.0129012 ])],\n",
       " '20150430_00:12:00': [array([-0.00886597,  0.01986007,  0.00888644, ..., -0.01669249,\n",
       "         -0.02886464,  0.01598995]),\n",
       "  array([-0.0097179 ,  0.02592514,  0.01124586, ..., -0.01663344,\n",
       "         -0.01980768,  0.0243638 ]),\n",
       "  array([-0.01210897,  0.01714589,  0.00905729, ..., -0.0179675 ,\n",
       "         -0.01504017,  0.018021  ]),\n",
       "  array([-0.0140981 ,  0.02308008,  0.02191076, ..., -0.01887262,\n",
       "         -0.01241999,  0.02844043]),\n",
       "  array([-0.01296338,  0.0110182 ,  0.01886695, ..., -0.01622651,\n",
       "         -0.03233596,  0.01760786]),\n",
       "  array([-0.0129267 ,  0.0045415 ,  0.02519384, ..., -0.01466669,\n",
       "         -0.03300513,  0.01313922]),\n",
       "  array([-0.01286911,  0.0182028 ,  0.00024593, ..., -0.00873611,\n",
       "         -0.03077628,  0.00380932]),\n",
       "  array([-0.01504415,  0.00113337,  0.01198899, ..., -0.00974634,\n",
       "         -0.03620223,  0.01442524]),\n",
       "  array([-0.01512298, -0.00173316,  0.01043863, ..., -0.0064705 ,\n",
       "         -0.03617872,  0.01290108])],\n",
       " '20150416_00:12:00': [array([-0.00886598,  0.01986011,  0.00888646, ..., -0.01669252,\n",
       "         -0.02886468,  0.01599002]),\n",
       "  array([-0.00971796,  0.02592518,  0.01124585, ..., -0.01663349,\n",
       "         -0.0198076 ,  0.0243638 ]),\n",
       "  array([-0.01210897,  0.01714589,  0.00905729, ..., -0.0179675 ,\n",
       "         -0.01504017,  0.018021  ]),\n",
       "  array([-0.01135866,  0.02379001,  0.01526881, ..., -0.01988254,\n",
       "         -0.02434684,  0.02477511]),\n",
       "  array([-0.01296337,  0.01101828,  0.01886695, ..., -0.01622653,\n",
       "         -0.03233602,  0.01760783]),\n",
       "  array([-0.0129267 ,  0.0045415 ,  0.02519384, ..., -0.01466669,\n",
       "         -0.03300513,  0.01313922]),\n",
       "  array([-0.01286911,  0.0182028 ,  0.00024593, ..., -0.00873611,\n",
       "         -0.03077628,  0.00380932]),\n",
       "  array([-0.01504415,  0.00113337,  0.01198899, ..., -0.00974634,\n",
       "         -0.03620223,  0.01442524]),\n",
       "  array([-0.01512299, -0.00173311,  0.01043851, ..., -0.0064706 ,\n",
       "         -0.03617875,  0.01290113])],\n",
       " '20150405_00:12:00': [array([-0.00886597,  0.01986007,  0.00888644, ..., -0.01669249,\n",
       "         -0.02886464,  0.01598995]),\n",
       "  array([-0.00971795,  0.02592518,  0.01124585, ..., -0.01663351,\n",
       "         -0.01980758,  0.0243639 ]),\n",
       "  array([-0.01210902,  0.01714594,  0.00905734, ..., -0.0179675 ,\n",
       "         -0.01504015,  0.01802105]),\n",
       "  array([-0.01135862,  0.02378995,  0.01526884, ..., -0.01988263,\n",
       "         -0.02434682,  0.02477514]),\n",
       "  array([-0.01296337,  0.01101828,  0.01886694, ..., -0.01622653,\n",
       "         -0.03233602,  0.01760783]),\n",
       "  array([-0.0129267 ,  0.0045415 ,  0.02519384, ..., -0.01466669,\n",
       "         -0.03300513,  0.01313922]),\n",
       "  array([-0.01286914,  0.01820282,  0.00024592, ..., -0.00873607,\n",
       "         -0.03077631,  0.00380932]),\n",
       "  array([-0.01504415,  0.00113337,  0.01198899, ..., -0.00974634,\n",
       "         -0.03620223,  0.01442524]),\n",
       "  array([-0.01512313, -0.00173304,  0.01043847, ..., -0.00647067,\n",
       "         -0.03617883,  0.01290123])],\n",
       " '20150427_00:12:00': [array([-0.00886597,  0.01986007,  0.00888644, ..., -0.01669249,\n",
       "         -0.02886464,  0.01598995]),\n",
       "  array([-0.00971798,  0.02592518,  0.01124583, ..., -0.01663352,\n",
       "         -0.0198076 ,  0.02436381]),\n",
       "  array([-0.012109  ,  0.01714594,  0.00905732, ..., -0.01796751,\n",
       "         -0.01504009,  0.01802098]),\n",
       "  array([-0.01135866,  0.02379001,  0.01526881, ..., -0.01988254,\n",
       "         -0.02434684,  0.02477511]),\n",
       "  array([-0.01296336,  0.01101825,  0.01886698, ..., -0.01622651,\n",
       "         -0.03233597,  0.01760793]),\n",
       "  array([-0.0129267 ,  0.0045415 ,  0.02519384, ..., -0.01466669,\n",
       "         -0.03300513,  0.01313922]),\n",
       "  array([-0.01286911,  0.0182028 ,  0.00024593, ..., -0.00873611,\n",
       "         -0.03077628,  0.00380932]),\n",
       "  array([-0.01504409,  0.00113335,  0.01198895, ..., -0.00974634,\n",
       "         -0.03620221,  0.01442518]),\n",
       "  array([-0.01030667,  0.00365928,  0.01008633, ..., -0.01137039,\n",
       "         -0.03465092,  0.01600159])],\n",
       " '20150331_00:12:00': [array([-0.00886597,  0.01986007,  0.00888644, ..., -0.01669249,\n",
       "         -0.02886464,  0.01598995]),\n",
       "  array([-0.00971797,  0.02592519,  0.01124585, ..., -0.01663348,\n",
       "         -0.0198076 ,  0.0243638 ]),\n",
       "  array([-0.01210898,  0.01714583,  0.00905732, ..., -0.0179675 ,\n",
       "         -0.01504015,  0.01802104]),\n",
       "  array([-0.01135862,  0.02378994,  0.01526881, ..., -0.01988261,\n",
       "         -0.02434678,  0.02477514]),\n",
       "  array([-0.01296337,  0.01101828,  0.01886695, ..., -0.01622653,\n",
       "         -0.03233602,  0.01760783]),\n",
       "  array([-0.01292671,  0.00454149,  0.02519385, ..., -0.01466669,\n",
       "         -0.03300513,  0.01313922]),\n",
       "  array([-0.0128691 ,  0.01820277,  0.00024595, ..., -0.00873613,\n",
       "         -0.03077632,  0.00380932]),\n",
       "  array([-0.01504415,  0.00113337,  0.01198899, ..., -0.00974634,\n",
       "         -0.03620223,  0.01442524]),\n",
       "  array([-0.01512303, -0.00173314,  0.0104385 , ..., -0.00647048,\n",
       "         -0.03617879,  0.01290116])],\n",
       " '20150428_00:12:00': [array([-0.00886597,  0.01986007,  0.00888644, ..., -0.01669249,\n",
       "         -0.02886464,  0.01598995]),\n",
       "  array([-0.00971797,  0.02592519,  0.01124585, ..., -0.01663348,\n",
       "         -0.0198076 ,  0.0243638 ]),\n",
       "  array([-0.01210897,  0.01714589,  0.00905729, ..., -0.0179675 ,\n",
       "         -0.01504017,  0.018021  ]),\n",
       "  array([-0.01135861,  0.02378993,  0.01526881, ..., -0.01988262,\n",
       "         -0.02434679,  0.02477516]),\n",
       "  array([-0.01296336,  0.01101826,  0.01886696, ..., -0.01622652,\n",
       "         -0.03233597,  0.01760788]),\n",
       "  array([-0.0129267 ,  0.0045415 ,  0.02519384, ..., -0.01466669,\n",
       "         -0.03300513,  0.01313922]),\n",
       "  array([-0.01286915,  0.01820281,  0.00024591, ..., -0.00873619,\n",
       "         -0.03077632,  0.00380936]),\n",
       "  array([-0.01504415,  0.00113337,  0.01198899, ..., -0.00974634,\n",
       "         -0.03620223,  0.01442524]),\n",
       "  array([-0.01512299, -0.00173311,  0.01043851, ..., -0.0064706 ,\n",
       "         -0.03617875,  0.01290113])],\n",
       " '20150328_00:12:00': [array([-0.00886598,  0.01986011,  0.00888651, ..., -0.01669246,\n",
       "         -0.02886469,  0.01599005]),\n",
       "  array([-0.00971797,  0.02592519,  0.01124585, ..., -0.01663348,\n",
       "         -0.0198076 ,  0.0243638 ]),\n",
       "  array([-0.01210897,  0.01714589,  0.00905729, ..., -0.0179675 ,\n",
       "         -0.01504017,  0.018021  ]),\n",
       "  array([-0.01135862,  0.02378994,  0.01526881, ..., -0.01988261,\n",
       "         -0.02434678,  0.02477514]),\n",
       "  array([-0.01296337,  0.01101828,  0.01886695, ..., -0.01622653,\n",
       "         -0.03233602,  0.01760783]),\n",
       "  array([-0.0129267 ,  0.0045415 ,  0.02519384, ..., -0.01466669,\n",
       "         -0.03300513,  0.01313922]),\n",
       "  array([-0.01286911,  0.0182028 ,  0.00024593, ..., -0.00873611,\n",
       "         -0.03077628,  0.00380932]),\n",
       "  array([-0.01504415,  0.00113337,  0.01198899, ..., -0.00974634,\n",
       "         -0.03620223,  0.01442524]),\n",
       "  array([-0.01512313, -0.00173303,  0.01043847, ..., -0.00647067,\n",
       "         -0.03617883,  0.01290124])],\n",
       " '20150429_00:12:00': [array([-0.00886597,  0.01986007,  0.00888644, ..., -0.01669249,\n",
       "         -0.02886464,  0.01598995]),\n",
       "  array([-0.00971797,  0.02592519,  0.01124585, ..., -0.01663348,\n",
       "         -0.0198076 ,  0.0243638 ]),\n",
       "  array([-0.012109  ,  0.01714594,  0.00905732, ..., -0.01796751,\n",
       "         -0.01504009,  0.01802098]),\n",
       "  array([-0.01135862,  0.02378995,  0.01526884, ..., -0.01988263,\n",
       "         -0.02434682,  0.02477514]),\n",
       "  array([-0.01296337,  0.01101828,  0.01886695, ..., -0.01622653,\n",
       "         -0.03233602,  0.01760783]),\n",
       "  array([-0.01292677,  0.00454151,  0.02519388, ..., -0.01466664,\n",
       "         -0.03300508,  0.01313927]),\n",
       "  array([-0.0128691 ,  0.01820277,  0.00024595, ..., -0.00873613,\n",
       "         -0.03077632,  0.00380932]),\n",
       "  array([-0.01504409,  0.00113335,  0.01198895, ..., -0.00974634,\n",
       "         -0.03620221,  0.01442518]),\n",
       "  array([-0.01512312, -0.00173302,  0.01043845, ..., -0.00647071,\n",
       "         -0.03617885,  0.0129012 ])],\n",
       " '20150324_00:12:00': [array([ 0.00794304,  0.07358889, -0.00137853, ..., -0.03705333,\n",
       "         -0.00970666, -0.0057351 ]),\n",
       "  array([-0.00971797,  0.02592519,  0.01124585, ..., -0.01663348,\n",
       "         -0.0198076 ,  0.0243638 ]),\n",
       "  array([-0.012109  ,  0.01714594,  0.00905732, ..., -0.01796751,\n",
       "         -0.01504009,  0.01802098]),\n",
       "  array([-0.01135866,  0.02379008,  0.01526885, ..., -0.01988262,\n",
       "         -0.02434685,  0.02477514]),\n",
       "  array([-0.01296337,  0.01101828,  0.01886695, ..., -0.01622653,\n",
       "         -0.03233602,  0.01760783]),\n",
       "  array([-0.0129267 ,  0.00454145,  0.02519379, ..., -0.01466671,\n",
       "         -0.03300511,  0.0131393 ]),\n",
       "  array([-0.01286911,  0.0182028 ,  0.00024593, ..., -0.00873611,\n",
       "         -0.03077628,  0.00380932]),\n",
       "  array([-0.01504411,  0.00113337,  0.01198892, ..., -0.00974633,\n",
       "         -0.0362022 ,  0.01442513]),\n",
       "  array([-0.01512303, -0.00173314,  0.0104385 , ..., -0.00647048,\n",
       "         -0.03617879,  0.01290116])],\n",
       " '20150410_00:12:00': [array([-0.00886601,  0.01986011,  0.00888648, ..., -0.01669251,\n",
       "         -0.02886468,  0.01599004]),\n",
       "  array([-0.00971798,  0.02592518,  0.01124583, ..., -0.01663352,\n",
       "         -0.0198076 ,  0.02436381]),\n",
       "  array([-0.01210897,  0.01714589,  0.00905729, ..., -0.0179675 ,\n",
       "         -0.01504017,  0.018021  ]),\n",
       "  array([-0.01135862,  0.02378995,  0.01526884, ..., -0.01988263,\n",
       "         -0.02434682,  0.02477514]),\n",
       "  array([-0.01296338,  0.0110182 ,  0.01886695, ..., -0.01622651,\n",
       "         -0.03233596,  0.01760786]),\n",
       "  array([-0.01292677,  0.00454151,  0.02519388, ..., -0.01466664,\n",
       "         -0.03300508,  0.01313927]),\n",
       "  array([-0.01286908,  0.01820282,  0.00024586, ..., -0.00873619,\n",
       "         -0.03077629,  0.0038094 ]),\n",
       "  array([-0.01504415,  0.00113337,  0.01198899, ..., -0.00974634,\n",
       "         -0.03620223,  0.01442524]),\n",
       "  array([-0.01512313, -0.00173303,  0.01043847, ..., -0.00647067,\n",
       "         -0.03617883,  0.01290124])],\n",
       " '20150314_00:12:00': [array([-0.00886602,  0.01986009,  0.00888648, ..., -0.01669256,\n",
       "         -0.02886464,  0.01599001]),\n",
       "  array([-0.00971798,  0.02592518,  0.01124583, ..., -0.01663352,\n",
       "         -0.0198076 ,  0.02436381]),\n",
       "  array([-0.012109  ,  0.01714594,  0.00905732, ..., -0.01796751,\n",
       "         -0.01504009,  0.01802098]),\n",
       "  array([-0.01135862,  0.02378994,  0.01526881, ..., -0.01988261,\n",
       "         -0.02434678,  0.02477514]),\n",
       "  array([-0.01296336,  0.01101827,  0.01886701, ..., -0.01622657,\n",
       "         -0.03233605,  0.01760791]),\n",
       "  array([-0.01292671,  0.00454149,  0.02519385, ..., -0.01466669,\n",
       "         -0.03300513,  0.01313922]),\n",
       "  array([-0.01286914,  0.01820282,  0.00024592, ..., -0.00873607,\n",
       "         -0.03077631,  0.00380932]),\n",
       "  array([-0.01504409,  0.00113335,  0.01198895, ..., -0.00974634,\n",
       "         -0.03620221,  0.01442518]),\n",
       "  array([-0.01512303, -0.00173314,  0.0104385 , ..., -0.00647048,\n",
       "         -0.03617879,  0.01290116])],\n",
       " '20150323_00:12:00': [array([-0.00886601,  0.01986011,  0.00888648, ..., -0.01669251,\n",
       "         -0.02886468,  0.01599004]),\n",
       "  array([-0.00971798,  0.02592518,  0.01124583, ..., -0.01663352,\n",
       "         -0.0198076 ,  0.02436381]),\n",
       "  array([-0.01210898,  0.01714593,  0.00905727, ..., -0.01796745,\n",
       "         -0.01504018,  0.01802103]),\n",
       "  array([-0.01135862,  0.02378995,  0.01526884, ..., -0.01988263,\n",
       "         -0.02434682,  0.02477514]),\n",
       "  array([-0.01296336,  0.01101827,  0.01886701, ..., -0.01622657,\n",
       "         -0.03233605,  0.01760791]),\n",
       "  array([-0.0129267 ,  0.0045415 ,  0.02519384, ..., -0.01466669,\n",
       "         -0.03300513,  0.01313922]),\n",
       "  array([-0.01286915,  0.01820281,  0.00024591, ..., -0.00873619,\n",
       "         -0.03077632,  0.00380936]),\n",
       "  array([-0.01504415,  0.00113329,  0.01198895, ..., -0.00974633,\n",
       "         -0.03620232,  0.01442511]),\n",
       "  array([-0.01512303, -0.00173314,  0.0104385 , ..., -0.00647048,\n",
       "         -0.03617879,  0.01290116])],\n",
       " '20150403_00:12:00': [array([-0.00886597,  0.01986007,  0.00888644, ..., -0.01669249,\n",
       "         -0.02886464,  0.01598995]),\n",
       "  array([-0.00971797,  0.02592519,  0.01124585, ..., -0.01663348,\n",
       "         -0.0198076 ,  0.0243638 ]),\n",
       "  array([-0.02248963,  0.01457515, -0.00903137, ..., -0.01046553,\n",
       "         -0.0150697 ,  0.0235441 ]),\n",
       "  array([-0.01135862,  0.02378994,  0.01526881, ..., -0.01988261,\n",
       "         -0.02434678,  0.02477514]),\n",
       "  array([-0.01296337,  0.01101828,  0.01886695, ..., -0.01622653,\n",
       "         -0.03233602,  0.01760783]),\n",
       "  array([-0.0129267 ,  0.0045415 ,  0.02519384, ..., -0.01466669,\n",
       "         -0.03300513,  0.01313922]),\n",
       "  array([-0.01286908,  0.01820282,  0.00024586, ..., -0.00873619,\n",
       "         -0.03077629,  0.0038094 ]),\n",
       "  array([-0.01504415,  0.00113337,  0.01198899, ..., -0.00974634,\n",
       "         -0.03620223,  0.01442524]),\n",
       "  array([-0.01512303, -0.00173314,  0.0104385 , ..., -0.00647048,\n",
       "         -0.03617879,  0.01290116])],\n",
       " '20150321_00:12:00': [array([-0.00886597,  0.01986007,  0.00888644, ..., -0.01669249,\n",
       "         -0.02886464,  0.01598995]),\n",
       "  array([-0.0097179 ,  0.02592514,  0.01124586, ..., -0.01663344,\n",
       "         -0.01980768,  0.0243638 ]),\n",
       "  array([-0.012109  ,  0.01714594,  0.00905732, ..., -0.01796751,\n",
       "         -0.01504009,  0.01802098]),\n",
       "  array([-0.01135862,  0.02378995,  0.01526884, ..., -0.01988263,\n",
       "         -0.02434682,  0.02477514]),\n",
       "  array([-0.01296337,  0.01101828,  0.01886695, ..., -0.01622653,\n",
       "         -0.03233602,  0.01760783]),\n",
       "  array([-0.0129267 ,  0.0045415 ,  0.02519384, ..., -0.01466669,\n",
       "         -0.03300513,  0.01313922]),\n",
       "  array([-0.01286908,  0.01820282,  0.00024586, ..., -0.00873619,\n",
       "         -0.03077629,  0.0038094 ]),\n",
       "  array([-0.01504414,  0.00113335,  0.01198895, ..., -0.00974636,\n",
       "         -0.03620226,  0.01442522]),\n",
       "  array([-0.01512313, -0.00173303,  0.01043847, ..., -0.00647067,\n",
       "         -0.03617883,  0.01290124])],\n",
       " '20150318_00:12:00': [array([-0.00886602,  0.01986009,  0.00888648, ..., -0.01669257,\n",
       "         -0.02886465,  0.01599001]),\n",
       "  array([-0.00971798,  0.02592518,  0.01124583, ..., -0.01663352,\n",
       "         -0.0198076 ,  0.02436381]),\n",
       "  array([-0.01210897,  0.01714589,  0.00905729, ..., -0.0179675 ,\n",
       "         -0.01504017,  0.018021  ]),\n",
       "  array([-0.01135862,  0.02378994,  0.01526881, ..., -0.01988261,\n",
       "         -0.02434678,  0.02477514]),\n",
       "  array([-0.01296337,  0.01101828,  0.01886695, ..., -0.01622653,\n",
       "         -0.03233602,  0.01760783]),\n",
       "  array([-0.01292671,  0.00454146,  0.02519379, ..., -0.01466671,\n",
       "         -0.0330051 ,  0.0131393 ]),\n",
       "  array([-0.01286911,  0.0182028 ,  0.00024593, ..., -0.00873611,\n",
       "         -0.03077628,  0.00380932]),\n",
       "  array([-0.01504414,  0.00113335,  0.01198895, ..., -0.00974636,\n",
       "         -0.03620226,  0.01442522]),\n",
       "  array([-0.01512303, -0.00173314,  0.0104385 , ..., -0.00647048,\n",
       "         -0.03617879,  0.01290116])],\n",
       " '20150307_00:12:00': [array([-0.00886602,  0.01986009,  0.00888648, ..., -0.01669257,\n",
       "         -0.02886465,  0.01599001]),\n",
       "  array([-0.00971798,  0.02592518,  0.01124583, ..., -0.01663352,\n",
       "         -0.0198076 ,  0.02436381]),\n",
       "  array([-0.01210897,  0.01714589,  0.00905729, ..., -0.0179675 ,\n",
       "         -0.01504017,  0.018021  ]),\n",
       "  array([-0.01135862,  0.02378995,  0.01526884, ..., -0.01988263,\n",
       "         -0.02434682,  0.02477514]),\n",
       "  array([-0.01296337,  0.01101828,  0.01886695, ..., -0.01622653,\n",
       "         -0.03233602,  0.01760783]),\n",
       "  array([-0.0129267 ,  0.00454145,  0.02519379, ..., -0.01466671,\n",
       "         -0.03300511,  0.0131393 ]),\n",
       "  array([-0.01286915,  0.01820281,  0.00024591, ..., -0.00873619,\n",
       "         -0.03077632,  0.00380936]),\n",
       "  array([-0.01504409,  0.00113335,  0.01198894, ..., -0.00974634,\n",
       "         -0.03620221,  0.01442518]),\n",
       "  array([-0.01512312, -0.00173302,  0.01043845, ..., -0.00647071,\n",
       "         -0.03617885,  0.0129012 ])],\n",
       " '20150417_00:12:00': [array([-0.00886598,  0.01986011,  0.00888646, ..., -0.01669252,\n",
       "         -0.02886468,  0.01599002]),\n",
       "  array([-0.00971797,  0.02592519,  0.01124585, ..., -0.01663348,\n",
       "         -0.0198076 ,  0.0243638 ]),\n",
       "  array([-0.012109  ,  0.01714594,  0.00905732, ..., -0.01796751,\n",
       "         -0.01504009,  0.01802098]),\n",
       "  array([-0.01024506,  0.02028976,  0.01553237, ..., -0.02613628,\n",
       "         -0.01765396,  0.01880971]),\n",
       "  array([-0.01296338,  0.0110182 ,  0.01886695, ..., -0.01622651,\n",
       "         -0.03233596,  0.01760786]),\n",
       "  array([-0.01292677,  0.00454151,  0.02519388, ..., -0.01466664,\n",
       "         -0.03300508,  0.01313927]),\n",
       "  array([-0.01286911,  0.0182028 ,  0.00024593, ..., -0.00873611,\n",
       "         -0.03077628,  0.00380932]),\n",
       "  array([-0.01504415,  0.00113337,  0.01198899, ..., -0.00974634,\n",
       "         -0.03620223,  0.01442524]),\n",
       "  array([-0.01512303, -0.00173314,  0.0104385 , ..., -0.00647048,\n",
       "         -0.03617879,  0.01290116])],\n",
       " '20150312_00:12:00': [array([-0.00886602,  0.01986009,  0.00888648, ..., -0.01669257,\n",
       "         -0.02886465,  0.01599001]),\n",
       "  array([-0.00971797,  0.02592519,  0.01124585, ..., -0.01663348,\n",
       "         -0.0198076 ,  0.0243638 ]),\n",
       "  array([-0.01210897,  0.01714589,  0.00905729, ..., -0.0179675 ,\n",
       "         -0.01504017,  0.018021  ]),\n",
       "  array([-0.01135861,  0.02378993,  0.01526881, ..., -0.01988262,\n",
       "         -0.02434679,  0.02477516]),\n",
       "  array([-0.01296336,  0.01101827,  0.01886701, ..., -0.01622657,\n",
       "         -0.03233605,  0.01760791]),\n",
       "  array([-0.01292672,  0.00454142,  0.02519378, ..., -0.0146667 ,\n",
       "         -0.03300508,  0.01313929]),\n",
       "  array([-0.01286915,  0.01820281,  0.00024591, ..., -0.00873619,\n",
       "         -0.03077632,  0.00380936]),\n",
       "  array([-0.01504411,  0.00113337,  0.01198892, ..., -0.00974633,\n",
       "         -0.0362022 ,  0.01442513]),\n",
       "  array([-0.01512298, -0.00173316,  0.01043863, ..., -0.0064705 ,\n",
       "         -0.03617872,  0.01290108])],\n",
       " '20150313_00:12:00': [array([-0.00886602,  0.01986013,  0.0088865 , ..., -0.01669246,\n",
       "         -0.02886466,  0.01599004]),\n",
       "  array([-0.00971797,  0.02592519,  0.01124585, ..., -0.01663348,\n",
       "         -0.0198076 ,  0.0243638 ]),\n",
       "  array([-0.01210898,  0.01714583,  0.00905732, ..., -0.0179675 ,\n",
       "         -0.01504015,  0.01802104]),\n",
       "  array([-0.01135862,  0.02378994,  0.01526881, ..., -0.01988261,\n",
       "         -0.02434678,  0.02477514]),\n",
       "  array([-0.01296338,  0.01101821,  0.01886695, ..., -0.01622652,\n",
       "         -0.03233595,  0.01760786]),\n",
       "  array([-0.0129267 ,  0.0045415 ,  0.02519384, ..., -0.01466669,\n",
       "         -0.03300513,  0.01313922]),\n",
       "  array([-0.01286911,  0.0182028 ,  0.00024593, ..., -0.00873611,\n",
       "         -0.03077628,  0.00380932]),\n",
       "  array([-0.01504409,  0.00113335,  0.01198895, ..., -0.00974634,\n",
       "         -0.03620221,  0.01442518]),\n",
       "  array([-0.01512303, -0.00173314,  0.0104385 , ..., -0.00647048,\n",
       "         -0.03617879,  0.01290116])],\n",
       " '20150413_00:12:00': [array([-0.00886597,  0.01986007,  0.00888644, ..., -0.01669249,\n",
       "         -0.02886464,  0.01598995]),\n",
       "  array([-0.00971797,  0.02592519,  0.01124585, ..., -0.01663348,\n",
       "         -0.0198076 ,  0.0243638 ]),\n",
       "  array([-0.01210898,  0.01714583,  0.00905732, ..., -0.0179675 ,\n",
       "         -0.01504015,  0.01802104]),\n",
       "  array([-0.01135862,  0.02378994,  0.01526881, ..., -0.01988261,\n",
       "         -0.02434678,  0.02477514]),\n",
       "  array([-0.01296334,  0.01101824,  0.01886699, ..., -0.01622654,\n",
       "         -0.03233605,  0.01760783]),\n",
       "  array([-0.0129267 ,  0.0045415 ,  0.02519384, ..., -0.01466669,\n",
       "         -0.03300513,  0.01313922]),\n",
       "  array([-0.01286914,  0.01820281,  0.00024593, ..., -0.00873607,\n",
       "         -0.03077632,  0.00380933]),\n",
       "  array([-0.01504415,  0.00113337,  0.01198899, ..., -0.00974634,\n",
       "         -0.03620223,  0.01442524]),\n",
       "  array([-0.01512299, -0.00173311,  0.01043851, ..., -0.0064706 ,\n",
       "         -0.03617875,  0.01290113])],\n",
       " '20150311_00:12:00': [array([-0.00886597,  0.01986007,  0.00888644, ..., -0.01669249,\n",
       "         -0.02886464,  0.01598995]),\n",
       "  array([-0.0097179 ,  0.02592514,  0.01124586, ..., -0.01663344,\n",
       "         -0.01980768,  0.0243638 ]),\n",
       "  array([-0.012109  ,  0.01714594,  0.00905732, ..., -0.01796751,\n",
       "         -0.01504009,  0.01802098]),\n",
       "  array([-0.01135862,  0.02378994,  0.01526881, ..., -0.01988261,\n",
       "         -0.02434678,  0.02477514]),\n",
       "  array([ 0.00274585,  0.01286857, -0.01397972, ..., -0.00140327,\n",
       "         -0.01556121,  0.01616915]),\n",
       "  array([-0.0129267 ,  0.0045415 ,  0.02519384, ..., -0.01466669,\n",
       "         -0.03300513,  0.01313922]),\n",
       "  array([-0.01286911,  0.0182028 ,  0.00024593, ..., -0.00873611,\n",
       "         -0.03077628,  0.00380932]),\n",
       "  array([-0.01504415,  0.00113337,  0.01198899, ..., -0.00974634,\n",
       "         -0.03620223,  0.01442524]),\n",
       "  array([-0.01512303, -0.00173314,  0.0104385 , ..., -0.00647048,\n",
       "         -0.03617879,  0.01290116])],\n",
       " '20150423_00:12:00': [array([-0.00886598,  0.01986011,  0.00888651, ..., -0.01669246,\n",
       "         -0.02886469,  0.01599005]),\n",
       "  array([-0.0097179 ,  0.02592514,  0.01124586, ..., -0.01663344,\n",
       "         -0.01980768,  0.0243638 ]),\n",
       "  array([-0.01210898,  0.01714583,  0.00905732, ..., -0.0179675 ,\n",
       "         -0.01504015,  0.01802104]),\n",
       "  array([-0.01135862,  0.02378994,  0.01526881, ..., -0.01988261,\n",
       "         -0.02434678,  0.02477514]),\n",
       "  array([-0.01296337,  0.01101828,  0.01886695, ..., -0.01622653,\n",
       "         -0.03233602,  0.01760783]),\n",
       "  array([-0.01292677,  0.00454143,  0.0251938 , ..., -0.01466663,\n",
       "         -0.03300504,  0.01313927]),\n",
       "  array([-0.01286911,  0.0182028 ,  0.00024593, ..., -0.00873611,\n",
       "         -0.03077628,  0.00380932]),\n",
       "  array([-0.01504409,  0.00113335,  0.01198895, ..., -0.00974634,\n",
       "         -0.03620221,  0.01442518]),\n",
       "  array([-0.01512303, -0.00173314,  0.0104385 , ..., -0.00647048,\n",
       "         -0.03617879,  0.01290116])],\n",
       " '20150415_00:12:00': [array([-0.00886597,  0.01986007,  0.00888644, ..., -0.01669249,\n",
       "         -0.02886464,  0.01598995]),\n",
       "  array([-0.00971797,  0.02592519,  0.01124585, ..., -0.01663348,\n",
       "         -0.0198076 ,  0.0243638 ]),\n",
       "  array([-0.012109  ,  0.01714594,  0.00905732, ..., -0.01796751,\n",
       "         -0.01504009,  0.01802098]),\n",
       "  array([-0.01135866,  0.02379001,  0.01526881, ..., -0.01988254,\n",
       "         -0.02434684,  0.02477511]),\n",
       "  array([-0.01296336,  0.01101826,  0.01886696, ..., -0.01622652,\n",
       "         -0.03233597,  0.01760788]),\n",
       "  array([-0.0129267 ,  0.00454145,  0.02519379, ..., -0.01466671,\n",
       "         -0.03300511,  0.0131393 ]),\n",
       "  array([-0.01286912,  0.0182028 ,  0.00024594, ..., -0.00873612,\n",
       "         -0.03077626,  0.00380933]),\n",
       "  array([-0.01504415,  0.00113337,  0.01198899, ..., -0.00974634,\n",
       "         -0.03620223,  0.01442524]),\n",
       "  array([-0.01512299, -0.00173311,  0.01043851, ..., -0.0064706 ,\n",
       "         -0.03617875,  0.01290113])],\n",
       " '20150426_00:12:00': [array([-0.00886597,  0.01986007,  0.00888644, ..., -0.01669249,\n",
       "         -0.02886464,  0.01598995]),\n",
       "  array([-0.00971797,  0.02592519,  0.01124585, ..., -0.01663348,\n",
       "         -0.0198076 ,  0.0243638 ]),\n",
       "  array([-0.01210897,  0.01714589,  0.00905729, ..., -0.0179675 ,\n",
       "         -0.01504017,  0.018021  ]),\n",
       "  array([-0.01135862,  0.02378995,  0.01526884, ..., -0.01988263,\n",
       "         -0.02434682,  0.02477514]),\n",
       "  array([-0.01296336,  0.01101826,  0.01886696, ..., -0.01622652,\n",
       "         -0.03233597,  0.01760788]),\n",
       "  array([-0.0129267 ,  0.0045415 ,  0.02519384, ..., -0.01466669,\n",
       "         -0.03300513,  0.01313922]),\n",
       "  array([-0.01286915,  0.01820281,  0.00024591, ..., -0.00873619,\n",
       "         -0.03077632,  0.00380936]),\n",
       "  array([-0.01504415,  0.00113337,  0.01198899, ..., -0.00974634,\n",
       "         -0.03620223,  0.01442524]),\n",
       "  array([-0.01512299, -0.00173311,  0.01043851, ..., -0.0064706 ,\n",
       "         -0.03617875,  0.01290113])],\n",
       " '20150407_00:12:00': [array([-0.00886597,  0.01986007,  0.00888644, ..., -0.01669249,\n",
       "         -0.02886464,  0.01598995]),\n",
       "  array([-0.00971797,  0.02592519,  0.01124585, ..., -0.01663348,\n",
       "         -0.0198076 ,  0.0243638 ]),\n",
       "  array([-0.01210898,  0.01714583,  0.00905732, ..., -0.0179675 ,\n",
       "         -0.01504015,  0.01802104]),\n",
       "  array([-0.01135871,  0.02379001,  0.01526883, ..., -0.01988257,\n",
       "         -0.02434683,  0.02477513]),\n",
       "  array([-0.01296334,  0.01101824,  0.01886699, ..., -0.01622654,\n",
       "         -0.03233605,  0.01760783]),\n",
       "  array([-0.01292674,  0.00454152,  0.02519381, ..., -0.01466667,\n",
       "         -0.03300509,  0.01313925]),\n",
       "  array([-0.01286914,  0.01820282,  0.00024592, ..., -0.00873607,\n",
       "         -0.03077631,  0.00380932]),\n",
       "  array([-0.01504414,  0.00113335,  0.01198895, ..., -0.00974636,\n",
       "         -0.03620226,  0.01442522]),\n",
       "  array([-0.01512303, -0.00173314,  0.0104385 , ..., -0.00647048,\n",
       "         -0.03617879,  0.01290116])],\n",
       " '20150412_00:12:00': [array([-0.00886597,  0.01986007,  0.00888644, ..., -0.01669249,\n",
       "         -0.02886464,  0.01598995]),\n",
       "  array([-0.00971798,  0.02592518,  0.01124583, ..., -0.01663352,\n",
       "         -0.0198076 ,  0.02436381]),\n",
       "  array([-0.01210897,  0.01714589,  0.00905729, ..., -0.0179675 ,\n",
       "         -0.01504017,  0.018021  ]),\n",
       "  array([-0.01135866,  0.02379002,  0.01526881, ..., -0.01988255,\n",
       "         -0.02434683,  0.0247751 ]),\n",
       "  array([-0.01296336,  0.01101827,  0.01886701, ..., -0.01622657,\n",
       "         -0.03233605,  0.01760791]),\n",
       "  array([-0.01292674,  0.00454152,  0.02519381, ..., -0.01466667,\n",
       "         -0.03300509,  0.01313925]),\n",
       "  array([-0.01286914,  0.01820282,  0.00024592, ..., -0.00873607,\n",
       "         -0.03077631,  0.00380932]),\n",
       "  array([-0.01504415,  0.00113337,  0.01198899, ..., -0.00974634,\n",
       "         -0.03620223,  0.01442524]),\n",
       "  array([-0.01512303, -0.00173314,  0.0104385 , ..., -0.00647048,\n",
       "         -0.03617879,  0.01290116])],\n",
       " '20150406_00:12:00': [array([-0.00886602,  0.01986009,  0.00888648, ..., -0.01669257,\n",
       "         -0.02886465,  0.01599001]),\n",
       "  array([-0.00971798,  0.02592518,  0.01124583, ..., -0.01663352,\n",
       "         -0.0198076 ,  0.02436381]),\n",
       "  array([-0.01210897,  0.01714588,  0.00905729, ..., -0.0179675 ,\n",
       "         -0.01504018,  0.018021  ]),\n",
       "  array([-0.01135866,  0.02379002,  0.01526881, ..., -0.01988255,\n",
       "         -0.02434683,  0.0247751 ]),\n",
       "  array([-0.01296337,  0.01101828,  0.01886695, ..., -0.01622653,\n",
       "         -0.03233602,  0.01760783]),\n",
       "  array([-0.01292677,  0.00454151,  0.02519388, ..., -0.01466664,\n",
       "         -0.03300508,  0.01313927]),\n",
       "  array([-0.0128691 ,  0.01820277,  0.00024595, ..., -0.00873613,\n",
       "         -0.03077632,  0.00380932]),\n",
       "  array([-0.01504415,  0.00113337,  0.01198899, ..., -0.00974634,\n",
       "         -0.03620223,  0.01442524]),\n",
       "  array([-0.01512299, -0.00173311,  0.01043851, ..., -0.0064706 ,\n",
       "         -0.03617875,  0.01290113])],\n",
       " '20150408_00:12:00': [array([-0.00886597,  0.01986007,  0.00888644, ..., -0.01669249,\n",
       "         -0.02886464,  0.01598995]),\n",
       "  array([-0.00971797,  0.02592519,  0.01124585, ..., -0.01663348,\n",
       "         -0.0198076 ,  0.0243638 ]),\n",
       "  array([-0.01210898,  0.01714583,  0.00905732, ..., -0.0179675 ,\n",
       "         -0.01504015,  0.01802104]),\n",
       "  array([-0.01698102,  0.01318323,  0.02094393, ..., -0.00652997,\n",
       "         -0.0141774 ,  0.02349354]),\n",
       "  array([-0.01217425,  0.00894736,  0.02421504, ..., -0.01749383,\n",
       "         -0.01525155,  0.00944879]),\n",
       "  array([-0.0129267 ,  0.0045415 ,  0.02519384, ..., -0.01466669,\n",
       "         -0.03300513,  0.01313922]),\n",
       "  array([-0.01286911,  0.0182028 ,  0.00024593, ..., -0.00873611,\n",
       "         -0.03077628,  0.00380932]),\n",
       "  array([-0.01504409,  0.00113335,  0.01198895, ..., -0.00974634,\n",
       "         -0.03620221,  0.01442518]),\n",
       "  array([-0.01512313, -0.00173303,  0.01043847, ..., -0.00647067,\n",
       "         -0.03617883,  0.01290124])],\n",
       " '20150422_00:12:00': [array([-0.00886598,  0.01986011,  0.00888651, ..., -0.01669246,\n",
       "         -0.02886469,  0.01599005]),\n",
       "  array([-0.01057037,  0.02625494,  0.01181988, ..., -0.01698953,\n",
       "         -0.01787967,  0.02552605]),\n",
       "  array([-0.01210897,  0.01714589,  0.00905729, ..., -0.0179675 ,\n",
       "         -0.01504017,  0.018021  ]),\n",
       "  array([-0.01135866,  0.02379002,  0.01526881, ..., -0.01988255,\n",
       "         -0.02434683,  0.0247751 ]),\n",
       "  array([-0.01296338,  0.0110182 ,  0.01886695, ..., -0.01622651,\n",
       "         -0.03233596,  0.01760786]),\n",
       "  array([-0.0129267 ,  0.0045415 ,  0.02519384, ..., -0.01466669,\n",
       "         -0.03300513,  0.01313922]),\n",
       "  array([-0.01286915,  0.01820281,  0.0002459 , ..., -0.0087362 ,\n",
       "         -0.03077632,  0.00380935]),\n",
       "  array([-0.01504409,  0.00113335,  0.01198895, ..., -0.00974634,\n",
       "         -0.03620221,  0.01442518]),\n",
       "  array([-0.01512299, -0.00173311,  0.01043851, ..., -0.0064706 ,\n",
       "         -0.03617875,  0.01290113])],\n",
       " '20150414_00:12:00': [array([-0.00886598,  0.01986011,  0.00888651, ..., -0.01669246,\n",
       "         -0.02886469,  0.01599005]),\n",
       "  array([-0.00971797,  0.02592519,  0.01124585, ..., -0.01663348,\n",
       "         -0.0198076 ,  0.0243638 ]),\n",
       "  array([-0.01210897,  0.01714589,  0.00905729, ..., -0.0179675 ,\n",
       "         -0.01504017,  0.018021  ]),\n",
       "  array([-0.01135862,  0.02378995,  0.01526884, ..., -0.01988263,\n",
       "         -0.02434682,  0.02477514]),\n",
       "  array([-0.01296337,  0.01101828,  0.01886695, ..., -0.01622653,\n",
       "         -0.03233602,  0.01760783]),\n",
       "  array([-0.01292674,  0.00454152,  0.02519381, ..., -0.01466667,\n",
       "         -0.03300509,  0.01313925]),\n",
       "  array([-0.0128691 ,  0.01820277,  0.00024595, ..., -0.00873613,\n",
       "         -0.03077632,  0.00380932]),\n",
       "  array([-0.01504415,  0.00113337,  0.01198899, ..., -0.00974634,\n",
       "         -0.03620223,  0.01442524]),\n",
       "  array([-0.01512299, -0.00173311,  0.01043851, ..., -0.0064706 ,\n",
       "         -0.03617875,  0.01290113])],\n",
       " '20150421_00:12:00': [array([-0.00886597,  0.01986007,  0.00888644, ..., -0.01669249,\n",
       "         -0.02886464,  0.01598995]),\n",
       "  array([-0.00971797,  0.02592519,  0.01124585, ..., -0.01663348,\n",
       "         -0.0198076 ,  0.0243638 ]),\n",
       "  array([-0.01210897,  0.01714589,  0.00905729, ..., -0.0179675 ,\n",
       "         -0.01504017,  0.018021  ]),\n",
       "  array([-0.01135861,  0.02378993,  0.01526881, ..., -0.01988262,\n",
       "         -0.02434679,  0.02477516]),\n",
       "  array([-0.01296338,  0.0110182 ,  0.01886695, ..., -0.01622651,\n",
       "         -0.03233596,  0.01760786]),\n",
       "  array([-0.0129267 ,  0.0045415 ,  0.02519384, ..., -0.01466669,\n",
       "         -0.03300513,  0.01313922]),\n",
       "  array([-0.01286911,  0.0182028 ,  0.00024593, ..., -0.00873611,\n",
       "         -0.03077628,  0.00380932]),\n",
       "  array([-0.01504415,  0.00113337,  0.01198899, ..., -0.00974634,\n",
       "         -0.03620223,  0.01442524]),\n",
       "  array([-0.01512299, -0.00173311,  0.01043851, ..., -0.0064706 ,\n",
       "         -0.03617875,  0.01290113])],\n",
       " '20150319_00:12:00': [array([-0.00886597,  0.01986007,  0.00888644, ..., -0.01669249,\n",
       "         -0.02886464,  0.01598995]),\n",
       "  array([-0.00971795,  0.02592518,  0.01124585, ..., -0.01663351,\n",
       "         -0.01980758,  0.0243639 ]),\n",
       "  array([-0.01210902,  0.01714589,  0.00905732, ..., -0.0179675 ,\n",
       "         -0.01504013,  0.018021  ]),\n",
       "  array([-0.01135862,  0.02378994,  0.01526881, ..., -0.01988261,\n",
       "         -0.02434678,  0.02477514]),\n",
       "  array([-0.01296337,  0.01101828,  0.01886695, ..., -0.01622653,\n",
       "         -0.03233602,  0.01760783]),\n",
       "  array([-0.0129267 ,  0.0045415 ,  0.02519384, ..., -0.01466669,\n",
       "         -0.03300513,  0.01313922]),\n",
       "  array([-0.01286911,  0.0182028 ,  0.00024593, ..., -0.00873611,\n",
       "         -0.03077628,  0.00380932]),\n",
       "  array([-0.01504414,  0.00113335,  0.01198895, ..., -0.00974636,\n",
       "         -0.03620226,  0.01442522]),\n",
       "  array([-0.01512299, -0.00173311,  0.01043851, ..., -0.0064706 ,\n",
       "         -0.03617875,  0.01290113])],\n",
       " '20150325_00:12:00': [array([-0.00886602,  0.01986009,  0.00888648, ..., -0.01669257,\n",
       "         -0.02886465,  0.01599001]),\n",
       "  array([-0.00971797,  0.02592519,  0.01124585, ..., -0.01663348,\n",
       "         -0.0198076 ,  0.0243638 ]),\n",
       "  array([-0.01210897,  0.01714589,  0.00905729, ..., -0.0179675 ,\n",
       "         -0.01504017,  0.018021  ]),\n",
       "  array([-0.01135862,  0.02378994,  0.01526881, ..., -0.01988261,\n",
       "         -0.02434678,  0.02477514]),\n",
       "  array([-0.01296337,  0.01101828,  0.01886694, ..., -0.01622653,\n",
       "         -0.03233602,  0.01760783]),\n",
       "  array([-0.01292671,  0.00454146,  0.02519379, ..., -0.01466671,\n",
       "         -0.0330051 ,  0.0131393 ]),\n",
       "  array([-0.01286915,  0.01820281,  0.00024591, ..., -0.00873619,\n",
       "         -0.03077632,  0.00380936]),\n",
       "  array([-0.01504415,  0.00113337,  0.01198899, ..., -0.00974634,\n",
       "         -0.03620223,  0.01442524]),\n",
       "  array([-0.01512298, -0.00173311,  0.01043851, ..., -0.00647061,\n",
       "         -0.03617875,  0.01290113])],\n",
       " '20150322_00:12:00': [array([-0.00886597,  0.01986007,  0.00888644, ..., -0.01669249,\n",
       "         -0.02886464,  0.01598995]),\n",
       "  array([-0.00971797,  0.02592519,  0.01124585, ..., -0.01663348,\n",
       "         -0.0198076 ,  0.0243638 ]),\n",
       "  array([-0.012109  ,  0.01714594,  0.00905732, ..., -0.01796751,\n",
       "         -0.01504009,  0.01802098]),\n",
       "  array([-0.01135862,  0.02378994,  0.01526881, ..., -0.01988261,\n",
       "         -0.02434678,  0.02477514]),\n",
       "  array([-0.01296336,  0.01101827,  0.01886701, ..., -0.01622657,\n",
       "         -0.03233605,  0.01760791]),\n",
       "  array([-0.0129267 ,  0.00454145,  0.02519379, ..., -0.01466671,\n",
       "         -0.03300511,  0.0131393 ]),\n",
       "  array([-0.01286908,  0.01820282,  0.00024586, ..., -0.00873619,\n",
       "         -0.03077629,  0.0038094 ]),\n",
       "  array([-0.01504414,  0.00113335,  0.01198895, ..., -0.00974636,\n",
       "         -0.03620226,  0.01442522]),\n",
       "  array([-0.01512303, -0.00173314,  0.0104385 , ..., -0.00647048,\n",
       "         -0.03617879,  0.01290116])],\n",
       " '20150401_00:12:00': [array([-0.00886597,  0.01986007,  0.00888644, ..., -0.01669249,\n",
       "         -0.02886464,  0.01598995]),\n",
       "  array([-0.00971796,  0.02592518,  0.01124585, ..., -0.01663349,\n",
       "         -0.0198076 ,  0.0243638 ]),\n",
       "  array([-0.01210902,  0.01714585,  0.00905729, ..., -0.01796755,\n",
       "         -0.01504013,  0.01802096]),\n",
       "  array([-0.01135862,  0.02378995,  0.01526884, ..., -0.01988263,\n",
       "         -0.02434682,  0.02477514]),\n",
       "  array([-0.01296334,  0.01101824,  0.01886699, ..., -0.01622654,\n",
       "         -0.03233605,  0.01760783]),\n",
       "  array([-0.0129267 ,  0.00454145,  0.02519379, ..., -0.01466671,\n",
       "         -0.03300511,  0.0131393 ]),\n",
       "  array([-0.01286914,  0.01820282,  0.00024592, ..., -0.00873607,\n",
       "         -0.03077631,  0.00380932]),\n",
       "  array([-0.01504415,  0.00113337,  0.01198899, ..., -0.00974634,\n",
       "         -0.03620223,  0.01442524]),\n",
       "  array([-0.01512313, -0.00173303,  0.01043847, ..., -0.00647067,\n",
       "         -0.03617883,  0.01290124])],\n",
       " '20150330_00:12:00': [array([-0.00886598,  0.01986011,  0.00888646, ..., -0.01669252,\n",
       "         -0.02886468,  0.01599002]),\n",
       "  array([-0.00971798,  0.02592518,  0.01124583, ..., -0.01663352,\n",
       "         -0.0198076 ,  0.02436381]),\n",
       "  array([-0.01210897,  0.01714589,  0.00905729, ..., -0.0179675 ,\n",
       "         -0.01504017,  0.018021  ]),\n",
       "  array([-0.01135862,  0.02378994,  0.01526881, ..., -0.01988261,\n",
       "         -0.02434678,  0.02477514]),\n",
       "  array([-0.01296336,  0.01101827,  0.01886701, ..., -0.01622657,\n",
       "         -0.03233605,  0.01760791]),\n",
       "  array([-0.0129267 ,  0.0045415 ,  0.02519384, ..., -0.01466669,\n",
       "         -0.03300513,  0.01313922]),\n",
       "  array([-0.01286914,  0.01820282,  0.00024592, ..., -0.00873607,\n",
       "         -0.03077631,  0.00380932]),\n",
       "  array([-0.0150441 ,  0.00113334,  0.01198894, ..., -0.00974632,\n",
       "         -0.0362022 ,  0.01442511]),\n",
       "  array([-0.01512299, -0.00173334,  0.01043847, ..., -0.00647055,\n",
       "         -0.0361788 ,  0.01290122])],\n",
       " '20150309_00:12:00': [array([-0.00886597,  0.01986007,  0.00888644, ..., -0.01669249,\n",
       "         -0.02886464,  0.01598995]),\n",
       "  array([-0.00971795,  0.02592518,  0.01124585, ..., -0.01663351,\n",
       "         -0.01980758,  0.0243639 ]),\n",
       "  array([-0.012109  ,  0.01714594,  0.00905732, ..., -0.01796751,\n",
       "         -0.01504009,  0.01802098]),\n",
       "  array([-0.01135866,  0.02379001,  0.01526881, ..., -0.01988254,\n",
       "         -0.02434684,  0.02477511]),\n",
       "  array([-0.01296336,  0.01101827,  0.01886701, ..., -0.01622657,\n",
       "         -0.03233605,  0.01760791]),\n",
       "  array([-0.0129267 ,  0.0045415 ,  0.02519384, ..., -0.01466669,\n",
       "         -0.03300513,  0.01313922]),\n",
       "  array([-0.01286915,  0.01820281,  0.00024591, ..., -0.00873619,\n",
       "         -0.03077632,  0.00380936]),\n",
       "  array([-0.01504409,  0.00113335,  0.01198894, ..., -0.00974634,\n",
       "         -0.03620221,  0.01442518]),\n",
       "  array([-0.01512299, -0.00173311,  0.01043851, ..., -0.0064706 ,\n",
       "         -0.03617875,  0.01290113])],\n",
       " '20150326_00:12:00': [array([-0.00886597,  0.01986007,  0.00888644, ..., -0.01669249,\n",
       "         -0.02886464,  0.01598995]),\n",
       "  array([-0.00971797,  0.02592519,  0.01124585, ..., -0.01663348,\n",
       "         -0.0198076 ,  0.0243638 ]),\n",
       "  array([-0.01210897,  0.01714589,  0.00905729, ..., -0.0179675 ,\n",
       "         -0.01504017,  0.018021  ]),\n",
       "  array([-0.01135862,  0.02378995,  0.01526884, ..., -0.01988263,\n",
       "         -0.02434682,  0.02477514]),\n",
       "  array([-0.01296337,  0.01101828,  0.01886695, ..., -0.01622653,\n",
       "         -0.03233602,  0.01760783]),\n",
       "  array([-0.0129267 ,  0.0045415 ,  0.02519384, ..., -0.01466669,\n",
       "         -0.03300513,  0.01313922]),\n",
       "  array([-0.01286911,  0.0182028 ,  0.00024593, ..., -0.00873611,\n",
       "         -0.03077628,  0.00380932]),\n",
       "  array([-0.01536316,  0.00034425,  0.0130502 , ..., -0.01226453,\n",
       "         -0.03399945,  0.01364023]),\n",
       "  array([-0.01512303, -0.00173314,  0.0104385 , ..., -0.00647048,\n",
       "         -0.03617879,  0.01290116])],\n",
       " '20150306_00:12:00': [array([-0.00886597,  0.01986007,  0.00888644, ..., -0.01669249,\n",
       "         -0.02886464,  0.01598995]),\n",
       "  array([-0.00971797,  0.02592519,  0.01124585, ..., -0.01663348,\n",
       "         -0.0198076 ,  0.0243638 ]),\n",
       "  array([-0.01210897,  0.01714589,  0.00905729, ..., -0.0179675 ,\n",
       "         -0.01504017,  0.018021  ]),\n",
       "  array([-0.01135862,  0.02378994,  0.01526881, ..., -0.01988261,\n",
       "         -0.02434678,  0.02477514]),\n",
       "  array([-0.01296337,  0.01101828,  0.01886695, ..., -0.01622653,\n",
       "         -0.03233602,  0.01760783]),\n",
       "  array([-0.0129267 ,  0.00454145,  0.02519379, ..., -0.01466671,\n",
       "         -0.03300511,  0.0131393 ]),\n",
       "  array([-0.01286911,  0.0182028 ,  0.00024593, ..., -0.00873611,\n",
       "         -0.03077628,  0.00380932]),\n",
       "  array([-0.01504415,  0.00113337,  0.01198899, ..., -0.00974634,\n",
       "         -0.03620223,  0.01442524]),\n",
       "  array([-0.01512303, -0.00173314,  0.0104385 , ..., -0.00647048,\n",
       "         -0.03617879,  0.01290116])]}"
      ]
     },
     "execution_count": 102,
     "metadata": {},
     "output_type": "execute_result"
    }
   ],
   "source": [
    "expensive_results"
   ]
  },
  {
   "cell_type": "code",
   "execution_count": 154,
   "metadata": {},
   "outputs": [
    {
     "name": "stdout",
     "output_type": "stream",
     "text": [
      "Keys: <KeysViewHDF5 ['day', 'hour', 'latent', 'minute', 'month', 'year']>\n",
      "(21504,)\n"
     ]
    }
   ],
   "source": [
    "import h5py\n",
    "filename = \"sdo_latent_dataset_21504.h5\"\n",
    "\n",
    "with h5py.File(filename, \"r\") as f:\n",
    "    # Print all root level object names (aka keys) \n",
    "    # these can be group or dataset names \n",
    "    print(\"Keys: %s\" % f.keys())\n",
    "\n",
    "    print(f['latent'][0].shape)\n",
    "    # # get first object name/key; may or may NOT be a group\n",
    "    # a_group_key = list(f.keys())[0]\n",
    "    \n",
    "    # day, hour, minute, month, year = list(f['day']), list(f['hour']), list(f['minute']), list(f['month']), list(f['year'])\n",
    "    latents = f[\"latent\"][list(useful.values())]\n",
    "\n",
    "    # # get the object type for a_group_key: usually group or dataset\n",
    "    # print(type(f[a_group_key])) \n",
    "\n",
    "    # # If a_group_key is a group name, \n",
    "    # # this gets the object names in the group and returns as a list\n",
    "    # data = list(f[a_group_key])\n",
    "\n",
    "    # # If a_group_key is a dataset name, \n",
    "    # # this gets the dataset values and returns as a list\n",
    "    # data = list(f[a_group_key])\n",
    "    # # preferred methods to get dataset values:\n",
    "    # ds_obj = f[a_group_key]      # returns as a h5py dataset object\n",
    "    # ds_arr = f[a_group_key][()]  # returns as a numpy array"
   ]
  },
  {
   "cell_type": "code",
   "execution_count": 153,
   "metadata": {},
   "outputs": [],
   "source": [
    "useful = {}\n",
    "# useful = []\n",
    "for i in range(len(day)):\n",
    "    # 2015-04-30_00:12:00-193\n",
    "    # if year[i] == 2015 and month[i] in [3,4] and minute[i] == 12: #and hour[i] == 0 and \n",
    "    if year[i] in [2013,2014,2015] and minute[i] == 12: #and hour[i] == 0 and \n",
    "        useful[f\"{year[i]}-{month[i]:02d}-{day[i]:02d}_{hour[i]:02d}:{minute[i]:02d}:00\"] = i"
   ]
  },
  {
   "cell_type": "code",
   "execution_count": 3,
   "metadata": {},
   "outputs": [],
   "source": [
    "def pickle_dict(dict, name):\n",
    "    with open(f'{name}.pkl', 'wb') as file:\n",
    "        pickle.dump(dict, file)"
   ]
  },
  {
   "cell_type": "code",
   "execution_count": 4,
   "metadata": {},
   "outputs": [],
   "source": [
    "def unpickle_dict(name):\n",
    "    with open(f'{name}.pkl', 'rb') as file:\n",
    "        return pickle.load(file)"
   ]
  },
  {
   "cell_type": "code",
   "execution_count": 34,
   "metadata": {},
   "outputs": [
    {
     "data": {
      "text/plain": [
       "(54, 21504)"
      ]
     },
     "execution_count": 34,
     "metadata": {},
     "output_type": "execute_result"
    }
   ],
   "source": [
    "latents.shape"
   ]
  },
  {
   "cell_type": "code",
   "execution_count": 125,
   "metadata": {},
   "outputs": [
    {
     "data": {
      "text/plain": [
       "52"
      ]
     },
     "execution_count": 125,
     "metadata": {},
     "output_type": "execute_result"
    }
   ],
   "source": [
    "len(expensive_results)"
   ]
  },
  {
   "cell_type": "markdown",
   "metadata": {},
   "source": [
    "### Set up these data ready for training"
   ]
  },
  {
   "cell_type": "code",
   "execution_count": 14,
   "metadata": {},
   "outputs": [],
   "source": [
    "import numpy as np"
   ]
  },
  {
   "cell_type": "code",
   "execution_count": 28,
   "metadata": {},
   "outputs": [],
   "source": [
    "# overlap = ['2015-03-01', '2015-03-02', '2015-03-06', '2015-03-07', '2015-03-09', '2015-03-10', '2015-03-11', '2015-03-12', '2015-03-13', '2015-03-14', '2015-03-16', '2015-03-18', '2015-03-19', '2015-03-20', '2015-03-21', '2015-03-22', '2015-03-23', '2015-03-25', '2015-03-26', '2015-03-27',\n",
    "#            '2015-03-28', '2015-03-29', '2015-03-30', '2015-04-01', '2015-04-03', '2015-04-04', '2015-04-05', '2015-04-06', '2015-04-07', '2015-04-08', '2015-04-10', '2015-04-11', '2015-04-12', '2015-04-13', '2015-04-14', '2015-04-15', '2015-04-16', '2015-04-17', '2015-04-18', '2015-04-19',\n",
    "#            '2015-04-21', '2015-04-22', '2015-04-23', '2015-04-24', '2015-04-25', '2015-04-26', '2015-04-27', '2015-04-28', '2015-04-29', '2015-04-30'] # '2015-03-31', '2015-03-24',"
   ]
  },
  {
   "cell_type": "code",
   "execution_count": 57,
   "metadata": {},
   "outputs": [],
   "source": [
    "google_latents_dataloader_ready = {}\n",
    "\n",
    "for k, v in expensive_results.items():\n",
    "    ts=k.split('_')[0]\n",
    "    ts = f\"{ts[:4]}-{ts[4:6]}-{ts[6:8]}\"\n",
    "    if ts in overlap:\n",
    "        google_latents_dataloader_ready[ts] = np.hstack(v).astype(np.float64)\n"
   ]
  },
  {
   "cell_type": "code",
   "execution_count": 155,
   "metadata": {},
   "outputs": [],
   "source": [
    "nvae_latents_dataloader_ready = {}\n",
    "for i, k in enumerate(useful.keys()):\n",
    "    ts = k#.split('_')\n",
    "    # if ts in overlap:\n",
    "    nvae_latents_dataloader_ready[ts] = latents[i,:].astype(np.float64)\n",
    "nvae_latents_dataloader_ready = dict(sorted(nvae_latents_dataloader_ready.items()))"
   ]
  },
  {
   "cell_type": "code",
   "execution_count": 162,
   "metadata": {},
   "outputs": [],
   "source": [
    "import pandas as pd\n",
    "f107 = pd.read_csv(\"f10.7.csv\")\n",
    "f107 = f107.reset_index().set_index(pd.to_datetime(f107[\"date\"], format=\"%Y%m%d\").dt.strftime(\"%Y-%m-%d\")).drop(columns=[\"index\", \"date\"]).to_dict()[' f107']\n",
    "f107 = {k:float(v) for k,v in f107.items()}# if k in overlap}\n",
    "f107 = dict(sorted(f107.items()))"
   ]
  },
  {
   "cell_type": "code",
   "execution_count": 17,
   "metadata": {},
   "outputs": [],
   "source": [
    "# import dill as pickle\n",
    "# pickle_dict(google_latents_dataloader_ready, 'google_latents_dataloader_ready')\n",
    "pickle_dict(nvae_latents_dataloader_ready, 'nvae_latents_dataloader_ready')\n",
    "# pickle_dict(f107, 'f107')"
   ]
  },
  {
   "cell_type": "code",
   "execution_count": 6,
   "metadata": {},
   "outputs": [],
   "source": [
    "import dill as pickle\n",
    "google_latents_dataloader_ready = unpickle_dict('google_latents_dataloader_ready')\n",
    "nvae_latents_dataloader_ready = unpickle_dict('nvae_latents_dataloader_ready')\n",
    "f107 = unpickle_dict('f107')"
   ]
  },
  {
   "cell_type": "code",
   "execution_count": 16,
   "metadata": {},
   "outputs": [
    {
     "data": {
      "text/plain": [
       "1145"
      ]
     },
     "execution_count": 16,
     "metadata": {},
     "output_type": "execute_result"
    }
   ],
   "source": [
    "len(nvae_latents_dataloader_ready)"
   ]
  },
  {
   "cell_type": "code",
   "execution_count": 216,
   "metadata": {},
   "outputs": [
    {
     "data": {
      "text/plain": [
       "(15682, 50, 21808)"
      ]
     },
     "execution_count": 216,
     "metadata": {},
     "output_type": "execute_result"
    }
   ],
   "source": [
    "len(f107), len(google_latents_dataloader_ready), len(nvae_latents_dataloader_ready)"
   ]
  },
  {
   "cell_type": "code",
   "execution_count": 163,
   "metadata": {},
   "outputs": [],
   "source": [
    "f107_for_daily_nvae = []\n",
    "nvae_latents_dataloader_ready_matched = {}\n",
    "for k,v in nvae_latents_dataloader_ready.items():\n",
    "    date = k.split('_')[0]\n",
    "    if date in f107:\n",
    "        f107_for_daily_nvae.append(f107[date])\n",
    "        nvae_latents_dataloader_ready_matched[k] = v\n"
   ]
  },
  {
   "cell_type": "code",
   "execution_count": 164,
   "metadata": {},
   "outputs": [
    {
     "data": {
      "text/plain": [
       "21786"
      ]
     },
     "execution_count": 164,
     "metadata": {},
     "output_type": "execute_result"
    }
   ],
   "source": [
    "len(nvae_latents_dataloader_ready_matched)"
   ]
  },
  {
   "cell_type": "code",
   "execution_count": 166,
   "metadata": {},
   "outputs": [],
   "source": [
    "from torch.utils.data import DataLoader, Dataset\n",
    "\n",
    "\n",
    "class EmbSolarProxyDataset(Dataset):\n",
    "    def __init__(self, data):\n",
    "        super().__init__()\n",
    "        self.data = data\n",
    "        \n",
    "    def __len__(self):\n",
    "        return len(self.data)\n",
    "\n",
    "    def __getitem__(self, idx):\n",
    "        return self.data[idx]\n",
    "\n",
    "class EmbSolarProxyDataModule(pl.LightningDataModule):\n",
    "    def __init__(self, emb, tar):\n",
    "        super().__init__()\n",
    "\n",
    "        self.data = []\n",
    "        for i, t in enumerate(emb.items()):\n",
    "            k, v = t\n",
    "            self.data.append((k, v, tar[i]))\n",
    "        self.batch_size = 1\n",
    "        self.num_workers = 16\n",
    "\n",
    "        n = len(self.data)\n",
    "        seed = 0\n",
    "        torch.manual_seed(seed)\n",
    "        train_size = int(0.66 * n)\n",
    "        val_size = int(0.1 * n)\n",
    "        test_size = n - train_size - val_size  \n",
    "        # self.train_data, self.val_data, self.test_data =torch.utils.data.random_split(self.data, [train_size, val_size, test_size])    \n",
    "\n",
    "        self.train_data = self.data[train_size:]\n",
    "        self.val_data = []\n",
    "        self.test_data = self.data[:(n-train_size)]\n",
    "\n",
    "\n",
    "        self.train_ds = EmbSolarProxyDataset(self.train_data)\n",
    "        self.val_ds   = EmbSolarProxyDataset(self.val_data)\n",
    "        self.test_ds  = EmbSolarProxyDataset(self.test_data)\n",
    "\n",
    "    def train_dataloader(self):\n",
    "        return DataLoader(self.train_ds, batch_size=self.batch_size, num_workers=self.num_workers, shuffle=True, drop_last=True)\n",
    "\n",
    "    def val_dataloader(self):\n",
    "        return DataLoader(self.val_ds, batch_size=self.batch_size, num_workers=self.num_workers)\n",
    "\n",
    "    def test_dataloader(self):\n",
    "        return DataLoader(self.test_ds, batch_size=self.batch_size, num_workers=self.num_workers)\n",
    "    \n"
   ]
  },
  {
   "cell_type": "code",
   "execution_count": 167,
   "metadata": {},
   "outputs": [],
   "source": [
    "dm = EmbSolarProxyDataModule(nvae_latents_dataloader_ready_matched, f107_for_daily_nvae)"
   ]
  },
  {
   "cell_type": "code",
   "execution_count": 143,
   "metadata": {},
   "outputs": [
    {
     "data": {
      "text/plain": [
       "[('2015-03-01_00:12:00',),\n",
       " tensor([[-2.5559, -1.7722, -2.8334,  ...,  0.3909,  0.3063,  0.4484]]),\n",
       " tensor([125.3000])]"
      ]
     },
     "execution_count": 143,
     "metadata": {},
     "output_type": "execute_result"
    }
   ],
   "source": [
    "next(iter(dm.test_dataloader()))"
   ]
  },
  {
   "cell_type": "code",
   "execution_count": 144,
   "metadata": {},
   "outputs": [],
   "source": [
    "import pytorch_lightning as pl\n",
    "import torch \n",
    "import torch.nn as nn \n",
    "\n",
    "from torchmetrics import Accuracy\n",
    "torch.set_default_dtype(torch.float64)"
   ]
  },
  {
   "cell_type": "code",
   "execution_count": 168,
   "metadata": {},
   "outputs": [],
   "source": [
    "class MultiLayerPerceptron(pl.LightningModule):\n",
    "    def __init__(self, input_dim, output_dim=1, hidden_layer_dims=[256, 256, 256], dropout=0., act=nn.LeakyReLU(negative_slope=0.01),):\n",
    "        super().__init__()\n",
    "        \n",
    "        dims = [input_dim] + hidden_layer_dims\n",
    "\n",
    "        self.dropout = nn.Dropout(p=dropout)\n",
    "        self.fcs = nn.ModuleList(\n",
    "            [nn.Linear(dims[i], dims[i + 1]) for i in range(len(dims) - 1)]\n",
    "        )\n",
    "\n",
    "        self.act = act\n",
    "        self.acts = nn.ModuleList([self.act for _ in range(len(dims) - 1)])\n",
    "\n",
    "        self.fc_out = nn.Linear(dims[-1], output_dim)\n",
    "\n",
    "        self.criterion = nn.MSELoss()\n",
    "\n",
    "        self.test_preds = {}\n",
    "        \n",
    "    def forward(self, x):\n",
    "        # print(x.dtype)\n",
    "        for fc, act in zip(self.fcs, self.acts):\n",
    "            d = self.dropout(x)\n",
    "            z = fc(d)\n",
    "            x = act(z)\n",
    "        # non activated final layer\n",
    "        # print(self.fc_out(x))\n",
    "        return self.fc_out(x)\n",
    "\n",
    "    def training_step(self, batch, batch_idx):\n",
    "        _, x, y = batch\n",
    "        logits = self(x)\n",
    "        loss = self.criterion(logits, y)\n",
    "        # print(1, y, 2, logits, 3, loss)\n",
    "        # preds = torch.argmax(logits, dim=1)\n",
    "        # self.train_acc.update(preds, y)\n",
    "        self.log(\"train_loss\", loss, prog_bar=True)\n",
    "        return loss\n",
    "\n",
    "    # def training_epoch_end(self, outs):\n",
    "    #     # self.log(\"train_acc\", self.train_acc.compute())\n",
    "    #     # self.train_acc.reset()\n",
    "    \n",
    "    def validation_step(self, batch, batch_idx):\n",
    "        _, x, y = batch\n",
    "        logits = self(x)\n",
    "        loss = self.criterion(logits, y)\n",
    "        # print(1, y, 2, logits, 3, loss)\n",
    "        # preds = torch.argmax(logits, dim=1)\n",
    "        # self.valid_acc.update(preds, y)\n",
    "        self.log(\"valid_loss\", loss, prog_bar=True)\n",
    "        return loss\n",
    "    \n",
    "    # def validation_epoch_end(self, outs):\n",
    "    #     self.log(\"valid_acc\", self.valid_acc.compute(), prog_bar=True)\n",
    "    #     # self.valid_acc.reset()\n",
    "\n",
    "    def test_step(self, batch, batch_idx):\n",
    "        ts, x, y = batch\n",
    "        logits = self(x)\n",
    "        loss = self.criterion(logits, y)\n",
    "        # preds = torch.argmax(logits, dim=1)\n",
    "        # self.test_acc.update(preds, y)\n",
    "        self.log(\"test_loss\", loss, prog_bar=True)\n",
    "        # self.log(\"test_acc\", self.test_acc.compute(), prog_bar=True)\n",
    "        self.test_preds[ts] = [x, y, logits]\n",
    "        return loss\n",
    "\n",
    "    def configure_optimizers(self):\n",
    "        optimizer = torch.optim.Adam(self.parameters(), lr=0.001)\n",
    "        return optimizer"
   ]
  },
  {
   "cell_type": "code",
   "execution_count": 169,
   "metadata": {},
   "outputs": [
    {
     "name": "stderr",
     "output_type": "stream",
     "text": [
      "GPU available: True (cuda), used: True\n",
      "TPU available: False, using: 0 TPU cores\n",
      "HPU available: False, using: 0 HPUs\n",
      "LOCAL_RANK: 0 - CUDA_VISIBLE_DEVICES: [0]\n",
      "\n",
      "  | Name      | Type       | Params | Mode \n",
      "-------------------------------------------------\n",
      "0 | dropout   | Dropout    | 0      | train\n",
      "1 | fcs       | ModuleList | 5.6 M  | train\n",
      "2 | act       | LeakyReLU  | 0      | train\n",
      "3 | acts      | ModuleList | 0      | train\n",
      "4 | fc_out    | Linear     | 257    | train\n",
      "5 | criterion | MSELoss    | 0      | train\n",
      "-------------------------------------------------\n",
      "5.6 M     Trainable params\n",
      "0         Non-trainable params\n",
      "5.6 M     Total params\n",
      "22.548    Total estimated model params size (MB)\n"
     ]
    },
    {
     "data": {
      "application/vnd.jupyter.widget-view+json": {
       "model_id": "8c50d4864ef44dc2a3850bb17eef201e",
       "version_major": 2,
       "version_minor": 0
      },
      "text/plain": [
       "Sanity Checking: |          | 0/? [00:00<?, ?it/s]"
      ]
     },
     "metadata": {},
     "output_type": "display_data"
    },
    {
     "name": "stderr",
     "output_type": "stream",
     "text": [
      "/opt/conda/lib/python3.10/site-packages/pytorch_lightning/utilities/data.py:105: Total length of `DataLoader` across ranks is zero. Please make sure this was your intention.\n"
     ]
    },
    {
     "data": {
      "application/vnd.jupyter.widget-view+json": {
       "model_id": "fe2bf9cc7fba47b5b14196541c405688",
       "version_major": 2,
       "version_minor": 0
      },
      "text/plain": [
       "Training: |          | 0/? [00:00<?, ?it/s]"
      ]
     },
     "metadata": {},
     "output_type": "display_data"
    },
    {
     "name": "stderr",
     "output_type": "stream",
     "text": [
      "/opt/conda/lib/python3.10/site-packages/torch/nn/modules/loss.py:535: UserWarning: Using a target size (torch.Size([1])) that is different to the input size (torch.Size([1, 1])). This will likely lead to incorrect results due to broadcasting. Please ensure they have the same size.\n",
      "  return F.mse_loss(input, target, reduction=self.reduction)\n",
      "`Trainer.fit` stopped: `max_epochs=100` reached.\n"
     ]
    }
   ],
   "source": [
    "model = MultiLayerPerceptron(input_dim=21504)\n",
    "\n",
    "os.environ['PJRT_DEVICE'] = 'GPU'\n",
    "if torch.cuda.is_available():\n",
    "    trainer = pl.Trainer(max_epochs=100, devices=[0], precision=32)\n",
    "else:\n",
    "    trainer = pl.Trainer(max_epochs=10)\n",
    "\n",
    "trainer.fit(model=model, datamodule=dm)"
   ]
  },
  {
   "cell_type": "code",
   "execution_count": 170,
   "metadata": {},
   "outputs": [],
   "source": [
    "trainer.save_checkpoint(\"nvaef107-e=100.ckpt\")"
   ]
  },
  {
   "cell_type": "code",
   "execution_count": 171,
   "metadata": {},
   "outputs": [
    {
     "name": "stderr",
     "output_type": "stream",
     "text": [
      "LOCAL_RANK: 0 - CUDA_VISIBLE_DEVICES: [0]\n"
     ]
    },
    {
     "data": {
      "application/vnd.jupyter.widget-view+json": {
       "model_id": "b8bf01b4cedb45348860cce12e8baafb",
       "version_major": 2,
       "version_minor": 0
      },
      "text/plain": [
       "Testing: |          | 0/? [00:00<?, ?it/s]"
      ]
     },
     "metadata": {},
     "output_type": "display_data"
    },
    {
     "name": "stderr",
     "output_type": "stream",
     "text": [
      "/opt/conda/lib/python3.10/site-packages/torch/nn/modules/loss.py:535: UserWarning: Using a target size (torch.Size([1])) that is different to the input size (torch.Size([1, 1])). This will likely lead to incorrect results due to broadcasting. Please ensure they have the same size.\n",
      "  return F.mse_loss(input, target, reduction=self.reduction)\n"
     ]
    },
    {
     "data": {
      "text/html": [
       "<pre style=\"white-space:pre;overflow-x:auto;line-height:normal;font-family:Menlo,'DejaVu Sans Mono',consolas,'Courier New',monospace\">┏━━━━━━━━━━━━━━━━━━━━━━━━━━━┳━━━━━━━━━━━━━━━━━━━━━━━━━━━┓\n",
       "┃<span style=\"font-weight: bold\">        Test metric        </span>┃<span style=\"font-weight: bold\">       DataLoader 0        </span>┃\n",
       "┡━━━━━━━━━━━━━━━━━━━━━━━━━━━╇━━━━━━━━━━━━━━━━━━━━━━━━━━━┩\n",
       "│<span style=\"color: #008080; text-decoration-color: #008080\">         test_loss         </span>│<span style=\"color: #800080; text-decoration-color: #800080\">     5162.031591234501     </span>│\n",
       "└───────────────────────────┴───────────────────────────┘\n",
       "</pre>\n"
      ],
      "text/plain": [
       "┏━━━━━━━━━━━━━━━━━━━━━━━━━━━┳━━━━━━━━━━━━━━━━━━━━━━━━━━━┓\n",
       "┃\u001b[1m \u001b[0m\u001b[1m       Test metric       \u001b[0m\u001b[1m \u001b[0m┃\u001b[1m \u001b[0m\u001b[1m      DataLoader 0       \u001b[0m\u001b[1m \u001b[0m┃\n",
       "┡━━━━━━━━━━━━━━━━━━━━━━━━━━━╇━━━━━━━━━━━━━━━━━━━━━━━━━━━┩\n",
       "│\u001b[36m \u001b[0m\u001b[36m        test_loss        \u001b[0m\u001b[36m \u001b[0m│\u001b[35m \u001b[0m\u001b[35m    5162.031591234501    \u001b[0m\u001b[35m \u001b[0m│\n",
       "└───────────────────────────┴───────────────────────────┘\n"
      ]
     },
     "metadata": {},
     "output_type": "display_data"
    },
    {
     "data": {
      "text/plain": [
       "[{'test_loss': 5162.031591234501}]"
      ]
     },
     "execution_count": 171,
     "metadata": {},
     "output_type": "execute_result"
    }
   ],
   "source": [
    "test_results = trainer.test(model, datamodule=dm)\n",
    "test_results"
   ]
  },
  {
   "cell_type": "code",
   "execution_count": 303,
   "metadata": {},
   "outputs": [],
   "source": [
    "moar_google = unpickle_dict(\"google_embeddings_moar\")"
   ]
  },
  {
   "cell_type": "code",
   "execution_count": 304,
   "metadata": {},
   "outputs": [],
   "source": [
    "f107_for_daily_google = []"
   ]
  },
  {
   "cell_type": "code",
   "execution_count": 305,
   "metadata": {},
   "outputs": [],
   "source": [
    "google_latents_dataloader_ready = {}\n",
    "\n",
    "for k, v in moar_google.items():\n",
    "    ts=k.split('_')[0]\n",
    "    ts = f\"{ts[:4]}-{ts[4:6]}-{ts[6:8]}\"\n",
    "    if ts in f107 and np.all(np.hstack(v)!=None):\n",
    "        google_latents_dataloader_ready[k] = np.hstack(v).astype(np.float64)\n",
    "        f107_for_daily_google.append(f107[ts])"
   ]
  },
  {
   "cell_type": "code",
   "execution_count": 306,
   "metadata": {},
   "outputs": [
    {
     "data": {
      "text/plain": [
       "716"
      ]
     },
     "execution_count": 306,
     "metadata": {},
     "output_type": "execute_result"
    }
   ],
   "source": [
    "len(google_latents_dataloader_ready)"
   ]
  },
  {
   "cell_type": "code",
   "execution_count": 309,
   "metadata": {},
   "outputs": [],
   "source": [
    "dm_google = EmbSolarProxyDataModule(google_latents_dataloader_ready, f107_for_daily_google)"
   ]
  },
  {
   "cell_type": "code",
   "execution_count": 310,
   "metadata": {},
   "outputs": [
    {
     "name": "stderr",
     "output_type": "stream",
     "text": [
      "GPU available: True (cuda), used: True\n",
      "TPU available: False, using: 0 TPU cores\n",
      "HPU available: False, using: 0 HPUs\n",
      "LOCAL_RANK: 0 - CUDA_VISIBLE_DEVICES: [0]\n",
      "\n",
      "  | Name      | Type       | Params | Mode \n",
      "-------------------------------------------------\n",
      "0 | dropout   | Dropout    | 0      | train\n",
      "1 | fcs       | ModuleList | 3.4 M  | train\n",
      "2 | act       | LeakyReLU  | 0      | train\n",
      "3 | acts      | ModuleList | 0      | train\n",
      "4 | fc_out    | Linear     | 257    | train\n",
      "5 | criterion | MSELoss    | 0      | train\n",
      "-------------------------------------------------\n",
      "3.4 M     Trainable params\n",
      "0         Non-trainable params\n",
      "3.4 M     Total params\n",
      "13.505    Total estimated model params size (MB)\n"
     ]
    },
    {
     "data": {
      "application/vnd.jupyter.widget-view+json": {
       "model_id": "e4e3898a1a954b06ac1c987156032b31",
       "version_major": 2,
       "version_minor": 0
      },
      "text/plain": [
       "Sanity Checking: |          | 0/? [00:00<?, ?it/s]"
      ]
     },
     "metadata": {},
     "output_type": "display_data"
    },
    {
     "name": "stderr",
     "output_type": "stream",
     "text": [
      "/opt/conda/lib/python3.10/site-packages/pytorch_lightning/utilities/data.py:105: Total length of `DataLoader` across ranks is zero. Please make sure this was your intention.\n"
     ]
    },
    {
     "data": {
      "application/vnd.jupyter.widget-view+json": {
       "model_id": "bb70617cb77b463580b5f6e8ad51a8c4",
       "version_major": 2,
       "version_minor": 0
      },
      "text/plain": [
       "Training: |          | 0/? [00:00<?, ?it/s]"
      ]
     },
     "metadata": {},
     "output_type": "display_data"
    },
    {
     "name": "stderr",
     "output_type": "stream",
     "text": [
      "/opt/conda/lib/python3.10/site-packages/torch/nn/modules/loss.py:535: UserWarning: Using a target size (torch.Size([1])) that is different to the input size (torch.Size([1, 1])). This will likely lead to incorrect results due to broadcasting. Please ensure they have the same size.\n",
      "  return F.mse_loss(input, target, reduction=self.reduction)\n",
      "`Trainer.fit` stopped: `max_epochs=10` reached.\n"
     ]
    }
   ],
   "source": [
    "model_google = MultiLayerPerceptron(input_dim=12672)\n",
    "\n",
    "os.environ['PJRT_DEVICE'] = 'GPU'\n",
    "if torch.cuda.is_available():\n",
    "    trainer_google = pl.Trainer(max_epochs=10, devices=[0], precision=32)\n",
    "else:\n",
    "    trainer_google = pl.Trainer(max_epochs=2)\n",
    "\n",
    "trainer_google.fit(model=model_google, datamodule=dm_google)"
   ]
  },
  {
   "cell_type": "code",
   "execution_count": 311,
   "metadata": {},
   "outputs": [
    {
     "name": "stderr",
     "output_type": "stream",
     "text": [
      "LOCAL_RANK: 0 - CUDA_VISIBLE_DEVICES: [0]\n"
     ]
    },
    {
     "data": {
      "application/vnd.jupyter.widget-view+json": {
       "model_id": "64d15949857240979219751f479740b3",
       "version_major": 2,
       "version_minor": 0
      },
      "text/plain": [
       "Testing: |          | 0/? [00:00<?, ?it/s]"
      ]
     },
     "metadata": {},
     "output_type": "display_data"
    },
    {
     "data": {
      "text/html": [
       "<pre style=\"white-space:pre;overflow-x:auto;line-height:normal;font-family:Menlo,'DejaVu Sans Mono',consolas,'Courier New',monospace\">┏━━━━━━━━━━━━━━━━━━━━━━━━━━━┳━━━━━━━━━━━━━━━━━━━━━━━━━━━┓\n",
       "┃<span style=\"font-weight: bold\">        Test metric        </span>┃<span style=\"font-weight: bold\">       DataLoader 0        </span>┃\n",
       "┡━━━━━━━━━━━━━━━━━━━━━━━━━━━╇━━━━━━━━━━━━━━━━━━━━━━━━━━━┩\n",
       "│<span style=\"color: #008080; text-decoration-color: #008080\">         test_loss         </span>│<span style=\"color: #800080; text-decoration-color: #800080\">     447.8582451980212     </span>│\n",
       "└───────────────────────────┴───────────────────────────┘\n",
       "</pre>\n"
      ],
      "text/plain": [
       "┏━━━━━━━━━━━━━━━━━━━━━━━━━━━┳━━━━━━━━━━━━━━━━━━━━━━━━━━━┓\n",
       "┃\u001b[1m \u001b[0m\u001b[1m       Test metric       \u001b[0m\u001b[1m \u001b[0m┃\u001b[1m \u001b[0m\u001b[1m      DataLoader 0       \u001b[0m\u001b[1m \u001b[0m┃\n",
       "┡━━━━━━━━━━━━━━━━━━━━━━━━━━━╇━━━━━━━━━━━━━━━━━━━━━━━━━━━┩\n",
       "│\u001b[36m \u001b[0m\u001b[36m        test_loss        \u001b[0m\u001b[36m \u001b[0m│\u001b[35m \u001b[0m\u001b[35m    447.8582451980212    \u001b[0m\u001b[35m \u001b[0m│\n",
       "└───────────────────────────┴───────────────────────────┘\n"
      ]
     },
     "metadata": {},
     "output_type": "display_data"
    },
    {
     "data": {
      "text/plain": [
       "[{'test_loss': 447.8582451980212}]"
      ]
     },
     "execution_count": 311,
     "metadata": {},
     "output_type": "execute_result"
    }
   ],
   "source": [
    "trainer_google.test(model_google, datamodule=dm_google)"
   ]
  },
  {
   "cell_type": "code",
   "execution_count": null,
   "metadata": {},
   "outputs": [],
   "source": [
    "# dm = EmbSolarProxyDataModule(nvae_latents_dataloader_ready_matched, f107_for_daily_nvae)"
   ]
  },
  {
   "cell_type": "code",
   "execution_count": 131,
   "metadata": {},
   "outputs": [],
   "source": [
    "import pandas as pd"
   ]
  },
  {
   "cell_type": "code",
   "execution_count": 312,
   "metadata": {},
   "outputs": [],
   "source": [
    "tpg = model_google.test_preds\n",
    "tpg = dict(sorted(tpg.items()))\n",
    "y_google, preds_google = [], []\n",
    "\n",
    "for i in tpg.values():\n",
    "    # i[0].detach().numpy()\n",
    "    # print(i)\n",
    "    # i[0] = i[0].cpu().detach().numpy()\n",
    "    # i[1] = i[1].cpu().detach().numpy()\n",
    "    # i[2] = i[2].cpu().detach().numpy()\n",
    "    y_google.append(i[1].cpu().detach().numpy()[0])\n",
    "    preds_google.append(i[2].cpu().detach().numpy()[0])"
   ]
  },
  {
   "cell_type": "code",
   "execution_count": 314,
   "metadata": {},
   "outputs": [],
   "source": [
    "tpg.keys()\n",
    "tpg = [pd.to_datetime(i[0], format=\"%Y%m%d_%H:%M:%S\") for i in tpg.keys()]"
   ]
  },
  {
   "cell_type": "code",
   "execution_count": 315,
   "metadata": {},
   "outputs": [
    {
     "name": "stderr",
     "output_type": "stream",
     "text": [
      "WARNING:matplotlib.font_manager:findfont: Font family 'Times New Roman' not found.\n",
      "WARNING:matplotlib.font_manager:findfont: Font family 'Times New Roman' not found.\n",
      "WARNING:matplotlib.font_manager:findfont: Font family 'Times New Roman' not found.\n",
      "WARNING:matplotlib.font_manager:findfont: Font family 'Times New Roman' not found.\n",
      "WARNING:matplotlib.font_manager:findfont: Font family 'Times New Roman' not found.\n",
      "WARNING:matplotlib.font_manager:findfont: Font family 'Times New Roman' not found.\n",
      "WARNING:matplotlib.font_manager:findfont: Font family 'Times New Roman' not found.\n",
      "WARNING:matplotlib.font_manager:findfont: Font family 'Times New Roman' not found.\n",
      "WARNING:matplotlib.font_manager:findfont: Font family 'Times New Roman' not found.\n",
      "WARNING:matplotlib.font_manager:findfont: Font family 'Times New Roman' not found.\n",
      "WARNING:matplotlib.font_manager:findfont: Font family 'Times New Roman' not found.\n",
      "WARNING:matplotlib.font_manager:findfont: Font family 'Times New Roman' not found.\n",
      "WARNING:matplotlib.font_manager:findfont: Font family 'Times New Roman' not found.\n",
      "WARNING:matplotlib.font_manager:findfont: Font family 'Times New Roman' not found.\n",
      "WARNING:matplotlib.font_manager:findfont: Font family 'Times New Roman' not found.\n",
      "WARNING:matplotlib.font_manager:findfont: Font family 'Times New Roman' not found.\n",
      "WARNING:matplotlib.font_manager:findfont: Font family 'Times New Roman' not found.\n",
      "WARNING:matplotlib.font_manager:findfont: Font family 'Times New Roman' not found.\n",
      "WARNING:matplotlib.font_manager:findfont: Font family 'Times New Roman' not found.\n",
      "WARNING:matplotlib.font_manager:findfont: Font family 'Times New Roman' not found.\n",
      "WARNING:matplotlib.font_manager:findfont: Font family 'Times New Roman' not found.\n",
      "WARNING:matplotlib.font_manager:findfont: Font family 'Times New Roman' not found.\n",
      "WARNING:matplotlib.font_manager:findfont: Font family 'Times New Roman' not found.\n",
      "WARNING:matplotlib.font_manager:findfont: Font family 'Times New Roman' not found.\n",
      "WARNING:matplotlib.font_manager:findfont: Font family 'Times New Roman' not found.\n",
      "WARNING:matplotlib.font_manager:findfont: Font family 'Times New Roman' not found.\n",
      "WARNING:matplotlib.font_manager:findfont: Font family 'Times New Roman' not found.\n",
      "WARNING:matplotlib.font_manager:findfont: Font family 'Times New Roman' not found.\n",
      "WARNING:matplotlib.font_manager:findfont: Font family 'Times New Roman' not found.\n",
      "WARNING:matplotlib.font_manager:findfont: Font family 'Times New Roman' not found.\n",
      "WARNING:matplotlib.font_manager:findfont: Font family 'Times New Roman' not found.\n",
      "WARNING:matplotlib.font_manager:findfont: Font family 'Times New Roman' not found.\n",
      "WARNING:matplotlib.font_manager:findfont: Font family 'Times New Roman' not found.\n",
      "WARNING:matplotlib.font_manager:findfont: Font family 'Times New Roman' not found.\n",
      "WARNING:matplotlib.font_manager:findfont: Font family 'Times New Roman' not found.\n",
      "WARNING:matplotlib.font_manager:findfont: Font family 'Times New Roman' not found.\n",
      "WARNING:matplotlib.font_manager:findfont: Font family 'Times New Roman' not found.\n",
      "WARNING:matplotlib.font_manager:findfont: Font family 'Times New Roman' not found.\n",
      "WARNING:matplotlib.font_manager:findfont: Font family 'Times New Roman' not found.\n",
      "WARNING:matplotlib.font_manager:findfont: Font family 'Times New Roman' not found.\n",
      "WARNING:matplotlib.font_manager:findfont: Font family 'Times New Roman' not found.\n",
      "WARNING:matplotlib.font_manager:findfont: Font family 'Times New Roman' not found.\n",
      "WARNING:matplotlib.font_manager:findfont: Font family 'Times New Roman' not found.\n",
      "WARNING:matplotlib.font_manager:findfont: Font family 'Times New Roman' not found.\n",
      "WARNING:matplotlib.font_manager:findfont: Font family 'Times New Roman' not found.\n",
      "WARNING:matplotlib.font_manager:findfont: Font family 'Times New Roman' not found.\n",
      "WARNING:matplotlib.font_manager:findfont: Font family 'Times New Roman' not found.\n",
      "WARNING:matplotlib.font_manager:findfont: Font family 'Times New Roman' not found.\n",
      "WARNING:matplotlib.font_manager:findfont: Font family 'Times New Roman' not found.\n",
      "WARNING:matplotlib.font_manager:findfont: Font family 'Times New Roman' not found.\n",
      "WARNING:matplotlib.font_manager:findfont: Font family 'Times New Roman' not found.\n",
      "WARNING:matplotlib.font_manager:findfont: Font family 'Times New Roman' not found.\n",
      "WARNING:matplotlib.font_manager:findfont: Font family 'Times New Roman' not found.\n",
      "WARNING:matplotlib.font_manager:findfont: Font family 'Times New Roman' not found.\n",
      "WARNING:matplotlib.font_manager:findfont: Font family 'Times New Roman' not found.\n",
      "WARNING:matplotlib.font_manager:findfont: Font family 'Times New Roman' not found.\n",
      "WARNING:matplotlib.font_manager:findfont: Font family 'Times New Roman' not found.\n",
      "WARNING:matplotlib.font_manager:findfont: Font family 'Times New Roman' not found.\n",
      "WARNING:matplotlib.font_manager:findfont: Font family 'Times New Roman' not found.\n",
      "WARNING:matplotlib.font_manager:findfont: Font family 'Times New Roman' not found.\n",
      "WARNING:matplotlib.font_manager:findfont: Font family 'Times New Roman' not found.\n",
      "WARNING:matplotlib.font_manager:findfont: Font family 'Times New Roman' not found.\n",
      "WARNING:matplotlib.font_manager:findfont: Font family 'Times New Roman' not found.\n",
      "WARNING:matplotlib.font_manager:findfont: Font family 'Times New Roman' not found.\n",
      "WARNING:matplotlib.font_manager:findfont: Font family 'Times New Roman' not found.\n",
      "WARNING:matplotlib.font_manager:findfont: Font family 'Times New Roman' not found.\n",
      "WARNING:matplotlib.font_manager:findfont: Font family 'Times New Roman' not found.\n",
      "WARNING:matplotlib.font_manager:findfont: Font family 'Times New Roman' not found.\n",
      "WARNING:matplotlib.font_manager:findfont: Font family 'Times New Roman' not found.\n",
      "WARNING:matplotlib.font_manager:findfont: Font family 'Times New Roman' not found.\n",
      "WARNING:matplotlib.font_manager:findfont: Font family 'Times New Roman' not found.\n",
      "WARNING:matplotlib.font_manager:findfont: Font family 'Times New Roman' not found.\n",
      "WARNING:matplotlib.font_manager:findfont: Font family 'Times New Roman' not found.\n",
      "WARNING:matplotlib.font_manager:findfont: Font family 'Times New Roman' not found.\n",
      "WARNING:matplotlib.font_manager:findfont: Font family 'Times New Roman' not found.\n",
      "WARNING:matplotlib.font_manager:findfont: Font family 'Times New Roman' not found.\n",
      "WARNING:matplotlib.font_manager:findfont: Font family 'Times New Roman' not found.\n",
      "WARNING:matplotlib.font_manager:findfont: Font family 'Times New Roman' not found.\n",
      "WARNING:matplotlib.font_manager:findfont: Font family 'Times New Roman' not found.\n",
      "WARNING:matplotlib.font_manager:findfont: Font family 'Times New Roman' not found.\n",
      "WARNING:matplotlib.font_manager:findfont: Font family 'Times New Roman' not found.\n",
      "WARNING:matplotlib.font_manager:findfont: Font family 'Times New Roman' not found.\n",
      "WARNING:matplotlib.font_manager:findfont: Font family 'Times New Roman' not found.\n",
      "WARNING:matplotlib.font_manager:findfont: Font family 'Times New Roman' not found.\n",
      "WARNING:matplotlib.font_manager:findfont: Font family 'Times New Roman' not found.\n",
      "WARNING:matplotlib.font_manager:findfont: Font family 'Times New Roman' not found.\n",
      "WARNING:matplotlib.font_manager:findfont: Font family 'Times New Roman' not found.\n",
      "WARNING:matplotlib.font_manager:findfont: Font family 'Times New Roman' not found.\n",
      "WARNING:matplotlib.font_manager:findfont: Font family 'Times New Roman' not found.\n",
      "WARNING:matplotlib.font_manager:findfont: Font family 'Times New Roman' not found.\n",
      "WARNING:matplotlib.font_manager:findfont: Font family 'Times New Roman' not found.\n",
      "WARNING:matplotlib.font_manager:findfont: Font family 'Times New Roman' not found.\n",
      "WARNING:matplotlib.font_manager:findfont: Font family 'Times New Roman' not found.\n",
      "WARNING:matplotlib.font_manager:findfont: Font family 'Times New Roman' not found.\n",
      "WARNING:matplotlib.font_manager:findfont: Font family 'Times New Roman' not found.\n",
      "WARNING:matplotlib.font_manager:findfont: Font family 'Times New Roman' not found.\n",
      "WARNING:matplotlib.font_manager:findfont: Font family 'Times New Roman' not found.\n",
      "WARNING:matplotlib.font_manager:findfont: Font family 'Times New Roman' not found.\n",
      "WARNING:matplotlib.font_manager:findfont: Font family 'Times New Roman' not found.\n",
      "WARNING:matplotlib.font_manager:findfont: Font family 'Times New Roman' not found.\n",
      "WARNING:matplotlib.font_manager:findfont: Font family 'Times New Roman' not found.\n",
      "WARNING:matplotlib.font_manager:findfont: Font family 'Times New Roman' not found.\n",
      "WARNING:matplotlib.font_manager:findfont: Font family 'Times New Roman' not found.\n",
      "WARNING:matplotlib.font_manager:findfont: Font family 'Times New Roman' not found.\n",
      "WARNING:matplotlib.font_manager:findfont: Font family 'Times New Roman' not found.\n",
      "WARNING:matplotlib.font_manager:findfont: Font family 'Times New Roman' not found.\n",
      "WARNING:matplotlib.font_manager:findfont: Font family 'Times New Roman' not found.\n",
      "WARNING:matplotlib.font_manager:findfont: Font family 'Times New Roman' not found.\n",
      "WARNING:matplotlib.font_manager:findfont: Font family 'Times New Roman' not found.\n",
      "WARNING:matplotlib.font_manager:findfont: Font family 'Times New Roman' not found.\n",
      "WARNING:matplotlib.font_manager:findfont: Font family 'Times New Roman' not found.\n",
      "WARNING:matplotlib.font_manager:findfont: Font family 'Times New Roman' not found.\n",
      "WARNING:matplotlib.font_manager:findfont: Font family 'Times New Roman' not found.\n",
      "WARNING:matplotlib.font_manager:findfont: Font family 'Times New Roman' not found.\n",
      "WARNING:matplotlib.font_manager:findfont: Font family 'Times New Roman' not found.\n"
     ]
    },
    {
     "data": {
      "image/png": "[encoded data removed]",
      "text/plain": [
       "<Figure size 1000x500 with 1 Axes>"
      ]
     },
     "metadata": {},
     "output_type": "display_data"
    }
   ],
   "source": [
    "# hfont = {'fontname':'Helvetica'}\n",
    "import matplotlib.pyplot as plt\n",
    "# plt.rcParams[\"font.family\"] = \"Times New Roman\"\n",
    "fig, ax = plt.subplots(figsize=(10, 5))\n",
    "# plt.plot([pd.to_datetime(i, format=\"%Y-%m-%d_%H:%M:%S\") for i in nvae_latents_dataloader_ready_matched.keys()], f107_for_daily_nvae, label=\"F10.7 (daily)\")\n",
    "plt.plot([pd.to_datetime(i, format=\"%Y-%m-%d_%H:%M:%S\") for i in nvae_latents_dataloader_ready_matched.keys()], f107_for_daily_nvae, label=\"F10.7 (daily)\", linewidth=1, c=\"black\")\n",
    "p_x = [pd.to_datetime(i[0], format=\"%Y-%m-%d_%H:%M:%S\") for i in tp.keys()]\n",
    "plt.plot(p_x, p, label=\"NVAE latents (hourly)\", linewidth=0.5, c=\"green\")\n",
    "plt.plot(tpg, np.array(preds_google).reshape(-1), label=\"Google latents (hourly)\", linewidth=1, c=\"red\")\n",
    "plt.legend()\n",
    "plt.xticks(rotation=290)\n",
    "plt.ylabel(\"F10.7\")\n",
    "plt.xlabel(\"Date\")\n",
    "plt.title(\"Simple MLP of latents trained to 100 epochs\")\n",
    "# plt.xlim((np.min(p_x), np.max(p_x)))\n",
    "plt.show()\n"
   ]
  },
  {
   "cell_type": "code",
   "execution_count": 280,
   "metadata": {},
   "outputs": [],
   "source": [
    "tp = model.test_preds\n",
    "\n",
    "y, preds = [], []\n",
    "for i in tp.values():\n",
    "    # i[0].detach().numpy()\n",
    "    # print(i)\n",
    "    # i[0] = i[0].cpu().detach().numpy()\n",
    "    # i[1] = i[1].cpu().detach().numpy()\n",
    "    # i[2] = i[2].cpu().detach().numpy()\n",
    "    y.append(i[1].cpu().detach().numpy()[0])\n",
    "    preds.append(i[2].cpu().detach().numpy()[0])\n"
   ]
  },
  {
   "cell_type": "code",
   "execution_count": 149,
   "metadata": {},
   "outputs": [
    {
     "data": {
      "text/plain": [
       "dict_keys(['2015-03-01_00:12:00', '2015-03-01_01:12:00', '2015-03-01_02:12:00', '2015-03-01_03:12:00', '2015-03-01_04:12:00', '2015-03-01_05:12:00', '2015-03-01_10:12:00', '2015-03-01_11:12:00', '2015-03-01_12:12:00', '2015-03-01_13:12:00', '2015-03-01_14:12:00', '2015-03-01_15:12:00', '2015-03-01_16:12:00', '2015-03-01_17:12:00', '2015-03-01_19:12:00', '2015-03-01_20:12:00', '2015-03-01_21:12:00', '2015-03-01_22:12:00', '2015-03-01_23:12:00', '2015-03-02_00:12:00', '2015-03-02_01:12:00', '2015-03-02_02:12:00', '2015-03-02_03:12:00', '2015-03-02_04:12:00', '2015-03-02_05:12:00', '2015-03-02_10:12:00', '2015-03-02_11:12:00', '2015-03-02_12:12:00', '2015-03-02_13:12:00', '2015-03-02_14:12:00', '2015-03-02_15:12:00', '2015-03-02_16:12:00', '2015-03-02_17:12:00', '2015-03-02_19:12:00', '2015-03-02_20:12:00', '2015-03-02_21:12:00', '2015-03-02_22:12:00', '2015-03-02_23:12:00', '2015-03-06_00:12:00', '2015-03-06_01:12:00', '2015-03-06_02:12:00', '2015-03-06_03:12:00', '2015-03-06_04:12:00', '2015-03-06_05:12:00', '2015-03-06_10:12:00', '2015-03-06_11:12:00', '2015-03-06_12:12:00', '2015-03-06_13:12:00', '2015-03-06_14:12:00', '2015-03-06_15:12:00', '2015-03-06_16:12:00', '2015-03-06_17:12:00', '2015-03-06_19:12:00', '2015-03-06_20:12:00', '2015-03-06_21:12:00', '2015-03-06_22:12:00', '2015-03-06_23:12:00', '2015-03-07_00:12:00', '2015-03-07_01:12:00', '2015-03-07_02:12:00', '2015-03-07_03:12:00', '2015-03-07_04:12:00', '2015-03-07_05:12:00', '2015-03-07_10:12:00', '2015-03-07_11:12:00', '2015-03-07_12:12:00', '2015-03-07_13:12:00', '2015-03-07_14:12:00', '2015-03-07_15:12:00', '2015-03-07_16:12:00', '2015-03-07_17:12:00', '2015-03-07_19:12:00', '2015-03-07_20:12:00', '2015-03-07_21:12:00', '2015-03-07_22:12:00', '2015-03-07_23:12:00', '2015-03-09_00:12:00', '2015-03-09_01:12:00', '2015-03-09_02:12:00', '2015-03-09_03:12:00', '2015-03-09_04:12:00', '2015-03-09_05:12:00', '2015-03-09_10:12:00', '2015-03-09_11:12:00', '2015-03-09_12:12:00', '2015-03-09_13:12:00', '2015-03-09_14:12:00', '2015-03-09_15:12:00', '2015-03-09_16:12:00', '2015-03-09_17:12:00', '2015-03-09_19:12:00', '2015-03-09_20:12:00', '2015-03-09_21:12:00', '2015-03-09_22:12:00', '2015-03-09_23:12:00', '2015-03-10_00:12:00', '2015-03-10_01:12:00', '2015-03-10_02:12:00', '2015-03-10_03:12:00', '2015-03-10_04:12:00', '2015-03-10_05:12:00', '2015-03-10_10:12:00', '2015-03-10_11:12:00', '2015-03-10_12:12:00', '2015-03-10_13:12:00', '2015-03-10_14:12:00', '2015-03-10_15:12:00', '2015-03-10_16:12:00', '2015-03-10_17:12:00', '2015-03-10_19:12:00', '2015-03-10_20:12:00', '2015-03-10_21:12:00', '2015-03-10_22:12:00', '2015-03-10_23:12:00', '2015-03-11_00:12:00', '2015-03-11_01:12:00', '2015-03-11_02:12:00', '2015-03-11_03:12:00', '2015-03-11_04:12:00', '2015-03-11_05:12:00', '2015-03-11_10:12:00', '2015-03-11_11:12:00', '2015-03-11_12:12:00', '2015-03-11_13:12:00', '2015-03-11_14:12:00', '2015-03-11_15:12:00', '2015-03-11_16:12:00', '2015-03-11_17:12:00', '2015-03-11_19:12:00', '2015-03-11_20:12:00', '2015-03-11_21:12:00', '2015-03-11_22:12:00', '2015-03-11_23:12:00', '2015-03-12_00:12:00', '2015-03-12_01:12:00', '2015-03-12_02:12:00', '2015-03-12_03:12:00', '2015-03-12_04:12:00', '2015-03-12_05:12:00', '2015-03-12_10:12:00', '2015-03-12_11:12:00', '2015-03-12_12:12:00', '2015-03-12_13:12:00', '2015-03-12_14:12:00', '2015-03-12_15:12:00', '2015-03-12_16:12:00', '2015-03-12_17:12:00', '2015-03-12_19:12:00', '2015-03-12_21:12:00', '2015-03-12_22:12:00', '2015-03-12_23:12:00', '2015-03-13_00:12:00', '2015-03-13_01:12:00', '2015-03-13_02:12:00', '2015-03-13_03:12:00', '2015-03-13_04:12:00', '2015-03-13_05:12:00', '2015-03-13_10:12:00', '2015-03-13_11:12:00', '2015-03-13_12:12:00', '2015-03-13_13:12:00', '2015-03-13_14:12:00', '2015-03-13_15:12:00', '2015-03-13_16:12:00', '2015-03-13_17:12:00', '2015-03-13_19:12:00', '2015-03-13_20:12:00', '2015-03-13_21:12:00', '2015-03-13_22:12:00', '2015-03-13_23:12:00', '2015-03-14_00:12:00', '2015-03-14_01:12:00', '2015-03-14_02:12:00', '2015-03-14_03:12:00', '2015-03-14_04:12:00', '2015-03-14_05:12:00', '2015-03-14_10:12:00', '2015-03-14_11:12:00', '2015-03-14_13:12:00', '2015-03-14_14:12:00', '2015-03-14_15:12:00', '2015-03-14_16:12:00', '2015-03-14_17:12:00', '2015-03-14_19:12:00', '2015-03-14_20:12:00', '2015-03-14_21:12:00', '2015-03-14_22:12:00', '2015-03-14_23:12:00', '2015-03-16_00:12:00', '2015-03-16_01:12:00', '2015-03-16_02:12:00', '2015-03-16_03:12:00', '2015-03-16_04:12:00', '2015-03-16_05:12:00', '2015-03-16_10:12:00', '2015-03-16_11:12:00', '2015-03-16_12:12:00', '2015-03-16_13:12:00', '2015-03-16_14:12:00', '2015-03-16_15:12:00', '2015-03-16_16:12:00', '2015-03-16_17:12:00', '2015-03-16_19:12:00', '2015-03-16_20:12:00', '2015-03-16_21:12:00', '2015-03-16_22:12:00', '2015-03-16_23:12:00', '2015-03-18_00:12:00', '2015-03-18_01:12:00', '2015-03-18_02:12:00', '2015-03-18_03:12:00', '2015-03-18_04:12:00', '2015-03-18_05:12:00', '2015-03-18_08:12:00', '2015-03-18_09:12:00', '2015-03-18_10:12:00', '2015-03-18_11:12:00', '2015-03-18_12:12:00', '2015-03-18_13:12:00', '2015-03-18_14:12:00', '2015-03-18_15:12:00', '2015-03-18_16:12:00', '2015-03-18_17:12:00', '2015-03-18_20:12:00', '2015-03-18_21:12:00', '2015-03-18_22:12:00', '2015-03-18_23:12:00', '2015-03-19_00:12:00', '2015-03-19_01:12:00', '2015-03-19_02:12:00', '2015-03-19_03:12:00', '2015-03-19_04:12:00', '2015-03-19_05:12:00', '2015-03-19_08:12:00', '2015-03-19_09:12:00', '2015-03-19_10:12:00', '2015-03-19_11:12:00', '2015-03-19_12:12:00', '2015-03-19_13:12:00', '2015-03-19_14:12:00', '2015-03-19_15:12:00', '2015-03-19_16:12:00', '2015-03-19_17:12:00', '2015-03-19_19:12:00', '2015-03-19_20:12:00', '2015-03-19_21:12:00', '2015-03-19_22:12:00', '2015-03-19_23:12:00', '2015-03-20_00:12:00', '2015-03-20_01:12:00', '2015-03-20_02:12:00', '2015-03-20_03:12:00', '2015-03-20_04:12:00', '2015-03-20_05:12:00', '2015-03-20_07:12:00', '2015-03-20_08:12:00', '2015-03-20_09:12:00', '2015-03-20_10:12:00', '2015-03-20_11:12:00', '2015-03-20_12:12:00', '2015-03-20_13:12:00', '2015-03-20_14:12:00', '2015-03-20_15:12:00', '2015-03-20_16:12:00', '2015-03-20_17:12:00', '2015-03-20_19:12:00', '2015-03-20_20:12:00', '2015-03-20_21:12:00', '2015-03-20_22:12:00', '2015-03-20_23:12:00', '2015-03-21_00:12:00', '2015-03-21_01:12:00', '2015-03-21_02:12:00', '2015-03-21_03:12:00', '2015-03-21_04:12:00', '2015-03-21_05:12:00', '2015-03-21_07:12:00', '2015-03-21_08:12:00', '2015-03-21_09:12:00', '2015-03-21_10:12:00', '2015-03-21_11:12:00', '2015-03-21_12:12:00', '2015-03-21_13:12:00', '2015-03-21_14:12:00', '2015-03-21_15:12:00', '2015-03-21_16:12:00', '2015-03-21_17:12:00', '2015-03-21_19:12:00', '2015-03-21_20:12:00', '2015-03-21_21:12:00', '2015-03-21_22:12:00', '2015-03-21_23:12:00', '2015-03-22_00:12:00', '2015-03-22_01:12:00', '2015-03-22_02:12:00', '2015-03-22_03:12:00', '2015-03-22_04:12:00', '2015-03-22_05:12:00', '2015-03-22_07:12:00', '2015-03-22_08:12:00', '2015-03-22_09:12:00', '2015-03-22_10:12:00', '2015-03-22_11:12:00', '2015-03-22_12:12:00', '2015-03-22_13:12:00', '2015-03-22_14:12:00', '2015-03-22_15:12:00', '2015-03-22_16:12:00', '2015-03-22_17:12:00', '2015-03-22_19:12:00', '2015-03-22_20:12:00', '2015-03-22_21:12:00', '2015-03-22_22:12:00', '2015-03-22_23:12:00', '2015-03-23_00:12:00', '2015-03-23_01:12:00', '2015-03-23_02:12:00', '2015-03-23_03:12:00', '2015-03-23_04:12:00', '2015-03-23_05:12:00', '2015-03-23_07:12:00', '2015-03-23_08:12:00', '2015-03-23_09:12:00', '2015-03-23_10:12:00', '2015-03-23_11:12:00', '2015-03-23_12:12:00', '2015-03-23_13:12:00', '2015-03-23_14:12:00', '2015-03-23_15:12:00', '2015-03-23_16:12:00', '2015-03-23_17:12:00', '2015-03-23_19:12:00', '2015-03-23_20:12:00', '2015-03-23_21:12:00', '2015-03-23_22:12:00', '2015-03-23_23:12:00', '2015-03-25_00:12:00', '2015-03-25_01:12:00', '2015-03-25_02:12:00', '2015-03-25_03:12:00', '2015-03-25_04:12:00', '2015-03-25_05:12:00', '2015-03-25_07:12:00', '2015-03-25_08:12:00', '2015-03-25_09:12:00', '2015-03-25_10:12:00', '2015-03-25_11:12:00', '2015-03-25_12:12:00', '2015-03-25_13:12:00', '2015-03-25_14:12:00', '2015-03-25_15:12:00', '2015-03-25_16:12:00', '2015-03-25_17:12:00', '2015-03-25_19:12:00', '2015-03-25_20:12:00', '2015-03-25_21:12:00', '2015-03-25_22:12:00', '2015-03-25_23:12:00', '2015-03-26_00:12:00', '2015-03-26_01:12:00', '2015-03-26_02:12:00', '2015-03-26_03:12:00', '2015-03-26_04:12:00', '2015-03-26_05:12:00', '2015-03-26_07:12:00', '2015-03-26_08:12:00', '2015-03-26_09:12:00', '2015-03-26_10:12:00', '2015-03-26_11:12:00', '2015-03-26_12:12:00', '2015-03-26_13:12:00', '2015-03-26_14:12:00', '2015-03-26_17:12:00', '2015-03-26_19:12:00', '2015-03-26_20:12:00', '2015-03-26_21:12:00', '2015-03-26_22:12:00', '2015-03-26_23:12:00', '2015-03-27_00:12:00', '2015-03-27_01:12:00', '2015-03-27_02:12:00', '2015-03-27_03:12:00', '2015-03-27_04:12:00', '2015-03-27_05:12:00', '2015-03-27_07:12:00', '2015-03-27_08:12:00', '2015-03-27_09:12:00', '2015-03-27_10:12:00', '2015-03-27_11:12:00', '2015-03-27_12:12:00', '2015-03-27_13:12:00', '2015-03-27_14:12:00', '2015-03-27_15:12:00', '2015-03-27_16:12:00', '2015-03-27_17:12:00', '2015-03-27_19:12:00', '2015-03-27_20:12:00', '2015-03-27_21:12:00', '2015-03-27_22:12:00', '2015-03-27_23:12:00', '2015-03-28_00:12:00', '2015-03-28_01:12:00', '2015-03-28_02:12:00', '2015-03-28_03:12:00', '2015-03-28_04:12:00', '2015-03-28_05:12:00', '2015-03-28_07:12:00', '2015-03-28_08:12:00', '2015-03-28_09:12:00', '2015-03-28_10:12:00', '2015-03-28_11:12:00', '2015-03-28_12:12:00', '2015-03-28_13:12:00', '2015-03-28_14:12:00', '2015-03-28_15:12:00', '2015-03-28_16:12:00', '2015-03-28_17:12:00', '2015-03-28_19:12:00', '2015-03-28_20:12:00', '2015-03-28_21:12:00', '2015-03-28_22:12:00', '2015-03-28_23:12:00', '2015-03-29_00:12:00', '2015-03-29_01:12:00', '2015-03-29_02:12:00', '2015-03-29_03:12:00', '2015-03-29_04:12:00', '2015-03-29_05:12:00', '2015-03-29_07:12:00', '2015-03-29_08:12:00', '2015-03-29_09:12:00', '2015-03-29_10:12:00', '2015-03-29_11:12:00', '2015-03-29_12:12:00', '2015-03-29_13:12:00', '2015-03-29_14:12:00', '2015-03-29_15:12:00', '2015-03-29_16:12:00', '2015-03-29_17:12:00', '2015-03-29_19:12:00', '2015-03-29_20:12:00', '2015-03-29_21:12:00', '2015-03-29_22:12:00', '2015-03-29_23:12:00', '2015-03-30_00:12:00', '2015-03-30_01:12:00', '2015-03-30_02:12:00', '2015-03-30_03:12:00', '2015-03-30_04:12:00', '2015-03-30_05:12:00', '2015-03-30_07:12:00', '2015-03-30_08:12:00', '2015-03-30_09:12:00', '2015-03-30_10:12:00', '2015-03-30_11:12:00', '2015-03-30_12:12:00', '2015-03-30_13:12:00', '2015-03-30_14:12:00', '2015-03-30_15:12:00', '2015-03-30_16:12:00', '2015-03-30_17:12:00', '2015-03-30_19:12:00', '2015-03-30_20:12:00', '2015-03-30_21:12:00', '2015-03-30_22:12:00', '2015-03-30_23:12:00', '2015-04-01_00:12:00', '2015-04-01_01:12:00', '2015-04-01_02:12:00', '2015-04-01_03:12:00', '2015-04-01_04:12:00', '2015-04-01_05:12:00', '2015-04-01_17:12:00', '2015-04-01_20:12:00', '2015-04-01_21:12:00', '2015-04-01_22:12:00', '2015-04-01_23:12:00', '2015-04-03_00:12:00', '2015-04-03_01:12:00', '2015-04-03_02:12:00', '2015-04-03_03:12:00', '2015-04-03_04:12:00', '2015-04-03_05:12:00', '2015-04-03_07:12:00', '2015-04-03_08:12:00', '2015-04-03_09:12:00', '2015-04-03_10:12:00', '2015-04-03_11:12:00', '2015-04-03_12:12:00', '2015-04-03_13:12:00', '2015-04-03_14:12:00', '2015-04-03_15:12:00', '2015-04-03_16:12:00', '2015-04-03_17:12:00', '2015-04-03_19:12:00', '2015-04-03_20:12:00', '2015-04-03_21:12:00', '2015-04-03_22:12:00', '2015-04-03_23:12:00', '2015-04-04_00:12:00', '2015-04-04_01:12:00', '2015-04-04_02:12:00', '2015-04-04_03:12:00', '2015-04-04_04:12:00', '2015-04-04_05:12:00', '2015-04-04_07:12:00', '2015-04-04_08:12:00', '2015-04-04_09:12:00', '2015-04-04_10:12:00', '2015-04-04_11:12:00', '2015-04-04_12:12:00', '2015-04-04_13:12:00', '2015-04-04_14:12:00', '2015-04-04_15:12:00', '2015-04-04_16:12:00', '2015-04-04_17:12:00', '2015-04-04_19:12:00', '2015-04-04_20:12:00', '2015-04-04_21:12:00', '2015-04-04_22:12:00', '2015-04-04_23:12:00', '2015-04-05_00:12:00', '2015-04-05_01:12:00', '2015-04-05_02:12:00', '2015-04-05_03:12:00', '2015-04-05_04:12:00', '2015-04-05_05:12:00', '2015-04-05_07:12:00', '2015-04-05_08:12:00', '2015-04-05_09:12:00', '2015-04-05_10:12:00', '2015-04-05_11:12:00', '2015-04-05_12:12:00', '2015-04-05_13:12:00', '2015-04-05_14:12:00', '2015-04-05_15:12:00', '2015-04-05_17:12:00', '2015-04-05_19:12:00', '2015-04-05_20:12:00', '2015-04-05_21:12:00', '2015-04-05_22:12:00', '2015-04-05_23:12:00', '2015-04-06_00:12:00', '2015-04-06_01:12:00', '2015-04-06_02:12:00', '2015-04-06_03:12:00', '2015-04-06_04:12:00', '2015-04-06_05:12:00', '2015-04-06_07:12:00', '2015-04-06_08:12:00', '2015-04-06_09:12:00', '2015-04-06_10:12:00', '2015-04-06_11:12:00', '2015-04-06_12:12:00', '2015-04-06_13:12:00', '2015-04-06_14:12:00', '2015-04-06_15:12:00', '2015-04-06_16:12:00', '2015-04-06_17:12:00', '2015-04-06_19:12:00', '2015-04-06_20:12:00', '2015-04-06_21:12:00', '2015-04-06_22:12:00', '2015-04-06_23:12:00', '2015-04-07_00:12:00', '2015-04-07_01:12:00', '2015-04-07_02:12:00', '2015-04-07_03:12:00', '2015-04-07_04:12:00', '2015-04-07_05:12:00', '2015-04-07_07:12:00', '2015-04-07_08:12:00', '2015-04-07_09:12:00', '2015-04-07_10:12:00', '2015-04-07_11:12:00', '2015-04-07_12:12:00', '2015-04-07_13:12:00', '2015-04-07_14:12:00', '2015-04-07_15:12:00', '2015-04-07_16:12:00', '2015-04-07_17:12:00', '2015-04-07_19:12:00', '2015-04-07_20:12:00', '2015-04-07_21:12:00', '2015-04-07_22:12:00', '2015-04-08_00:12:00', '2015-04-08_01:12:00', '2015-04-08_02:12:00', '2015-04-08_03:12:00', '2015-04-08_04:12:00', '2015-04-08_05:12:00', '2015-04-08_07:12:00', '2015-04-08_08:12:00', '2015-04-08_09:12:00', '2015-04-08_10:12:00', '2015-04-08_11:12:00', '2015-04-08_12:12:00', '2015-04-08_13:12:00', '2015-04-08_14:12:00', '2015-04-08_15:12:00', '2015-04-08_16:12:00', '2015-04-08_17:12:00', '2015-04-08_23:12:00', '2015-04-10_00:12:00', '2015-04-10_01:12:00', '2015-04-10_02:12:00', '2015-04-10_03:12:00', '2015-04-10_04:12:00', '2015-04-10_05:12:00', '2015-04-10_07:12:00', '2015-04-10_08:12:00', '2015-04-10_09:12:00', '2015-04-10_10:12:00', '2015-04-10_11:12:00', '2015-04-10_12:12:00', '2015-04-10_13:12:00', '2015-04-10_14:12:00', '2015-04-10_15:12:00', '2015-04-10_16:12:00', '2015-04-10_17:12:00', '2015-04-10_19:12:00', '2015-04-10_20:12:00', '2015-04-10_21:12:00', '2015-04-10_22:12:00', '2015-04-10_23:12:00', '2015-04-11_00:12:00', '2015-04-11_01:12:00', '2015-04-11_02:12:00', '2015-04-11_03:12:00', '2015-04-11_04:12:00', '2015-04-11_05:12:00', '2015-04-11_07:12:00', '2015-04-11_08:12:00', '2015-04-11_09:12:00', '2015-04-11_10:12:00', '2015-04-11_11:12:00', '2015-04-11_12:12:00', '2015-04-11_13:12:00', '2015-04-11_14:12:00', '2015-04-11_15:12:00', '2015-04-11_16:12:00', '2015-04-11_17:12:00', '2015-04-11_19:12:00', '2015-04-11_20:12:00', '2015-04-11_21:12:00', '2015-04-11_22:12:00', '2015-04-11_23:12:00', '2015-04-12_00:12:00', '2015-04-12_01:12:00', '2015-04-12_02:12:00', '2015-04-12_03:12:00', '2015-04-12_04:12:00', '2015-04-12_05:12:00', '2015-04-12_07:12:00', '2015-04-12_08:12:00', '2015-04-12_09:12:00', '2015-04-12_10:12:00', '2015-04-12_11:12:00', '2015-04-12_12:12:00', '2015-04-12_13:12:00', '2015-04-12_14:12:00', '2015-04-12_15:12:00', '2015-04-12_16:12:00', '2015-04-12_17:12:00', '2015-04-12_19:12:00', '2015-04-12_20:12:00', '2015-04-12_21:12:00', '2015-04-12_22:12:00', '2015-04-12_23:12:00', '2015-04-13_00:12:00', '2015-04-13_01:12:00', '2015-04-13_02:12:00', '2015-04-13_03:12:00', '2015-04-13_04:12:00', '2015-04-13_05:12:00', '2015-04-13_07:12:00', '2015-04-13_08:12:00', '2015-04-13_09:12:00', '2015-04-13_10:12:00', '2015-04-13_11:12:00', '2015-04-13_12:12:00', '2015-04-13_13:12:00', '2015-04-13_14:12:00', '2015-04-13_15:12:00', '2015-04-13_16:12:00', '2015-04-13_17:12:00', '2015-04-13_19:12:00', '2015-04-13_20:12:00', '2015-04-13_21:12:00', '2015-04-13_22:12:00', '2015-04-13_23:12:00', '2015-04-14_00:12:00', '2015-04-14_01:12:00', '2015-04-14_02:12:00', '2015-04-14_03:12:00', '2015-04-14_04:12:00', '2015-04-14_05:12:00', '2015-04-14_07:12:00', '2015-04-14_08:12:00', '2015-04-14_09:12:00', '2015-04-14_10:12:00', '2015-04-14_11:12:00', '2015-04-14_12:12:00', '2015-04-14_13:12:00', '2015-04-14_14:12:00', '2015-04-14_15:12:00', '2015-04-14_16:12:00', '2015-04-14_17:12:00', '2015-04-14_19:12:00', '2015-04-14_22:12:00', '2015-04-14_23:12:00', '2015-04-15_00:12:00', '2015-04-15_01:12:00', '2015-04-15_02:12:00', '2015-04-15_03:12:00', '2015-04-15_04:12:00', '2015-04-15_05:12:00', '2015-04-15_07:12:00', '2015-04-15_08:12:00', '2015-04-15_09:12:00', '2015-04-15_10:12:00', '2015-04-15_11:12:00', '2015-04-15_12:12:00', '2015-04-15_20:12:00', '2015-04-15_22:12:00', '2015-04-15_23:12:00', '2015-04-16_00:12:00', '2015-04-16_02:12:00', '2015-04-16_03:12:00', '2015-04-16_04:12:00', '2015-04-16_05:12:00', '2015-04-16_07:12:00', '2015-04-16_08:12:00', '2015-04-16_09:12:00', '2015-04-16_10:12:00', '2015-04-16_11:12:00', '2015-04-16_12:12:00', '2015-04-16_13:12:00', '2015-04-16_14:12:00', '2015-04-16_15:12:00', '2015-04-16_16:12:00', '2015-04-16_17:12:00', '2015-04-16_19:12:00', '2015-04-16_20:12:00', '2015-04-16_21:12:00', '2015-04-16_22:12:00', '2015-04-16_23:12:00', '2015-04-17_00:12:00', '2015-04-17_01:12:00', '2015-04-17_02:12:00', '2015-04-17_03:12:00', '2015-04-17_04:12:00', '2015-04-17_05:12:00', '2015-04-17_07:12:00', '2015-04-17_08:12:00', '2015-04-17_09:12:00', '2015-04-17_10:12:00', '2015-04-17_11:12:00', '2015-04-17_12:12:00', '2015-04-17_13:12:00', '2015-04-17_14:12:00', '2015-04-17_15:12:00', '2015-04-17_16:12:00', '2015-04-17_17:12:00', '2015-04-17_19:12:00', '2015-04-17_20:12:00', '2015-04-17_21:12:00', '2015-04-17_22:12:00', '2015-04-17_23:12:00', '2015-04-18_00:12:00', '2015-04-18_01:12:00', '2015-04-18_02:12:00', '2015-04-18_03:12:00', '2015-04-18_04:12:00', '2015-04-18_05:12:00', '2015-04-18_07:12:00', '2015-04-18_08:12:00', '2015-04-18_09:12:00', '2015-04-18_10:12:00', '2015-04-18_11:12:00', '2015-04-18_12:12:00', '2015-04-18_13:12:00', '2015-04-18_14:12:00', '2015-04-18_15:12:00', '2015-04-18_16:12:00', '2015-04-18_17:12:00', '2015-04-18_19:12:00', '2015-04-18_20:12:00', '2015-04-18_21:12:00', '2015-04-18_22:12:00', '2015-04-18_23:12:00', '2015-04-19_00:12:00', '2015-04-19_01:12:00', '2015-04-19_02:12:00', '2015-04-19_03:12:00', '2015-04-19_04:12:00', '2015-04-19_05:12:00', '2015-04-19_07:12:00', '2015-04-19_08:12:00', '2015-04-19_09:12:00', '2015-04-19_10:12:00', '2015-04-19_11:12:00', '2015-04-19_12:12:00', '2015-04-19_13:12:00', '2015-04-19_14:12:00', '2015-04-19_15:12:00', '2015-04-19_16:12:00', '2015-04-19_17:12:00', '2015-04-19_19:12:00', '2015-04-19_20:12:00', '2015-04-19_21:12:00', '2015-04-19_22:12:00', '2015-04-19_23:12:00', '2015-04-21_00:12:00', '2015-04-21_01:12:00', '2015-04-21_02:12:00', '2015-04-21_03:12:00', '2015-04-21_04:12:00', '2015-04-21_05:12:00', '2015-04-21_07:12:00', '2015-04-21_08:12:00', '2015-04-21_09:12:00', '2015-04-21_10:12:00', '2015-04-21_11:12:00', '2015-04-21_12:12:00', '2015-04-21_13:12:00', '2015-04-21_14:12:00', '2015-04-21_15:12:00', '2015-04-21_16:12:00', '2015-04-21_17:12:00', '2015-04-21_19:12:00', '2015-04-21_20:12:00', '2015-04-21_21:12:00', '2015-04-21_22:12:00', '2015-04-21_23:12:00', '2015-04-22_00:12:00', '2015-04-22_01:12:00', '2015-04-22_02:12:00', '2015-04-22_03:12:00', '2015-04-22_04:12:00', '2015-04-22_05:12:00', '2015-04-22_07:12:00', '2015-04-22_08:12:00', '2015-04-22_09:12:00', '2015-04-22_10:12:00', '2015-04-22_11:12:00', '2015-04-22_12:12:00', '2015-04-22_13:12:00', '2015-04-22_14:12:00', '2015-04-22_15:12:00', '2015-04-22_16:12:00', '2015-04-22_17:12:00', '2015-04-22_19:12:00', '2015-04-22_20:12:00', '2015-04-22_21:12:00', '2015-04-22_22:12:00', '2015-04-22_23:12:00', '2015-04-23_00:12:00', '2015-04-23_01:12:00', '2015-04-23_02:12:00', '2015-04-23_03:12:00', '2015-04-23_04:12:00', '2015-04-23_05:12:00', '2015-04-23_07:12:00', '2015-04-23_08:12:00', '2015-04-23_09:12:00', '2015-04-23_10:12:00', '2015-04-23_11:12:00', '2015-04-23_12:12:00', '2015-04-23_13:12:00', '2015-04-23_14:12:00', '2015-04-23_15:12:00', '2015-04-23_16:12:00', '2015-04-23_17:12:00', '2015-04-23_19:12:00', '2015-04-23_20:12:00', '2015-04-23_21:12:00', '2015-04-23_22:12:00', '2015-04-23_23:12:00', '2015-04-24_00:12:00', '2015-04-24_01:12:00', '2015-04-24_02:12:00', '2015-04-24_03:12:00', '2015-04-24_04:12:00', '2015-04-24_05:12:00', '2015-04-24_07:12:00', '2015-04-24_08:12:00', '2015-04-24_09:12:00', '2015-04-24_10:12:00', '2015-04-24_11:12:00', '2015-04-24_12:12:00', '2015-04-24_13:12:00', '2015-04-24_14:12:00', '2015-04-24_15:12:00', '2015-04-24_16:12:00', '2015-04-24_17:12:00', '2015-04-24_19:12:00', '2015-04-24_20:12:00', '2015-04-24_21:12:00', '2015-04-24_22:12:00', '2015-04-24_23:12:00', '2015-04-25_00:12:00', '2015-04-25_01:12:00', '2015-04-25_02:12:00', '2015-04-25_03:12:00', '2015-04-25_04:12:00', '2015-04-25_05:12:00', '2015-04-25_07:12:00', '2015-04-25_08:12:00', '2015-04-25_09:12:00', '2015-04-25_10:12:00', '2015-04-25_11:12:00', '2015-04-25_12:12:00', '2015-04-25_13:12:00', '2015-04-25_14:12:00', '2015-04-25_15:12:00', '2015-04-25_16:12:00', '2015-04-25_17:12:00', '2015-04-25_19:12:00', '2015-04-25_20:12:00', '2015-04-25_21:12:00', '2015-04-25_22:12:00', '2015-04-25_23:12:00', '2015-04-26_00:12:00', '2015-04-26_01:12:00', '2015-04-26_02:12:00', '2015-04-26_03:12:00', '2015-04-26_04:12:00', '2015-04-26_05:12:00', '2015-04-26_07:12:00', '2015-04-26_08:12:00', '2015-04-26_09:12:00', '2015-04-26_10:12:00', '2015-04-26_11:12:00', '2015-04-26_12:12:00', '2015-04-26_13:12:00', '2015-04-26_14:12:00', '2015-04-26_15:12:00', '2015-04-26_16:12:00', '2015-04-26_17:12:00', '2015-04-26_19:12:00', '2015-04-26_20:12:00', '2015-04-26_21:12:00', '2015-04-26_22:12:00', '2015-04-26_23:12:00', '2015-04-27_00:12:00', '2015-04-27_01:12:00', '2015-04-27_02:12:00', '2015-04-27_03:12:00', '2015-04-27_04:12:00', '2015-04-27_05:12:00', '2015-04-27_07:12:00', '2015-04-27_08:12:00', '2015-04-27_09:12:00', '2015-04-27_10:12:00', '2015-04-27_11:12:00', '2015-04-27_12:12:00', '2015-04-27_13:12:00', '2015-04-27_14:12:00', '2015-04-27_15:12:00', '2015-04-27_16:12:00', '2015-04-27_17:12:00', '2015-04-27_19:12:00', '2015-04-27_20:12:00', '2015-04-27_21:12:00', '2015-04-27_22:12:00', '2015-04-27_23:12:00', '2015-04-28_00:12:00', '2015-04-28_01:12:00', '2015-04-28_02:12:00', '2015-04-28_03:12:00', '2015-04-28_04:12:00', '2015-04-28_05:12:00', '2015-04-28_07:12:00', '2015-04-28_08:12:00', '2015-04-28_09:12:00', '2015-04-28_10:12:00', '2015-04-28_11:12:00', '2015-04-28_12:12:00', '2015-04-28_13:12:00', '2015-04-28_14:12:00', '2015-04-28_15:12:00', '2015-04-28_16:12:00', '2015-04-28_17:12:00', '2015-04-28_21:12:00', '2015-04-28_22:12:00', '2015-04-28_23:12:00', '2015-04-29_00:12:00', '2015-04-29_01:12:00', '2015-04-29_02:12:00', '2015-04-29_03:12:00', '2015-04-29_04:12:00', '2015-04-29_05:12:00', '2015-04-29_07:12:00', '2015-04-29_08:12:00', '2015-04-29_09:12:00', '2015-04-29_10:12:00', '2015-04-29_11:12:00', '2015-04-29_12:12:00', '2015-04-29_13:12:00', '2015-04-29_14:12:00', '2015-04-29_15:12:00', '2015-04-29_16:12:00', '2015-04-29_17:12:00', '2015-04-29_21:12:00', '2015-04-29_22:12:00', '2015-04-29_23:12:00', '2015-04-30_00:12:00', '2015-04-30_01:12:00', '2015-04-30_02:12:00', '2015-04-30_03:12:00', '2015-04-30_04:12:00', '2015-04-30_05:12:00', '2015-04-30_07:12:00', '2015-04-30_08:12:00', '2015-04-30_09:12:00', '2015-04-30_10:12:00', '2015-04-30_11:12:00', '2015-04-30_12:12:00', '2015-04-30_13:12:00', '2015-04-30_14:12:00', '2015-04-30_15:12:00', '2015-04-30_16:12:00', '2015-04-30_17:12:00', '2015-04-30_19:12:00', '2015-04-30_20:12:00', '2015-04-30_21:12:00', '2015-04-30_22:12:00', '2015-04-30_23:12:00'])"
      ]
     },
     "execution_count": 149,
     "metadata": {},
     "output_type": "execute_result"
    }
   ],
   "source": [
    "nvae_latents_dataloader_ready_matched.keys()"
   ]
  },
  {
   "cell_type": "code",
   "execution_count": 152,
   "metadata": {},
   "outputs": [
    {
     "data": {
      "image/png": "[encoded data removed]",
      "text/plain": [
       "<Figure size 640x480 with 1 Axes>"
      ]
     },
     "metadata": {},
     "output_type": "display_data"
    }
   ],
   "source": [
    "# plt.plot(f107_for_daily_nvae)\n",
    "plt.plot([pd.to_datetime(i, format=\"%Y-%m-%d_%H:%M:%S\") for i in nvae_latents_dataloader_ready_matched.keys()], f107_for_daily_nvae, label=\"F10.7 (daily)\")\n",
    "plt.plot([pd.to_datetime(i[0], format=\"%Y-%m-%d_%H:%M:%S\") for i in tp.keys()], preds, label=\"NVAE latents (hourly)\")\n",
    "plt.legend()\n",
    "plt.xticks(rotation=290)\n",
    "plt.ylabel(\"F10.7\")\n",
    "plt.xlabel(\"Date\")\n",
    "plt.show()"
   ]
  },
  {
   "cell_type": "code",
   "execution_count": 207,
   "metadata": {},
   "outputs": [
    {
     "name": "stderr",
     "output_type": "stream",
     "text": [
      "WARNING:matplotlib.font_manager:findfont: Font family 'Times New Roman' not found.\n",
      "WARNING:matplotlib.font_manager:findfont: Font family 'Times New Roman' not found.\n",
      "WARNING:matplotlib.font_manager:findfont: Font family 'Times New Roman' not found.\n",
      "WARNING:matplotlib.font_manager:findfont: Font family 'Times New Roman' not found.\n",
      "WARNING:matplotlib.font_manager:findfont: Font family 'Times New Roman' not found.\n",
      "WARNING:matplotlib.font_manager:findfont: Font family 'Times New Roman' not found.\n",
      "WARNING:matplotlib.font_manager:findfont: Font family 'Times New Roman' not found.\n",
      "WARNING:matplotlib.font_manager:findfont: Font family 'Times New Roman' not found.\n",
      "WARNING:matplotlib.font_manager:findfont: Font family 'Times New Roman' not found.\n",
      "WARNING:matplotlib.font_manager:findfont: Font family 'Times New Roman' not found.\n",
      "WARNING:matplotlib.font_manager:findfont: Font family 'Times New Roman' not found.\n",
      "WARNING:matplotlib.font_manager:findfont: Font family 'Times New Roman' not found.\n",
      "WARNING:matplotlib.font_manager:findfont: Font family 'Times New Roman' not found.\n",
      "WARNING:matplotlib.font_manager:findfont: Font family 'Times New Roman' not found.\n",
      "WARNING:matplotlib.font_manager:findfont: Font family 'Times New Roman' not found.\n",
      "WARNING:matplotlib.font_manager:findfont: Font family 'Times New Roman' not found.\n",
      "WARNING:matplotlib.font_manager:findfont: Font family 'Times New Roman' not found.\n",
      "WARNING:matplotlib.font_manager:findfont: Font family 'Times New Roman' not found.\n",
      "WARNING:matplotlib.font_manager:findfont: Font family 'Times New Roman' not found.\n",
      "WARNING:matplotlib.font_manager:findfont: Font family 'Times New Roman' not found.\n",
      "WARNING:matplotlib.font_manager:findfont: Font family 'Times New Roman' not found.\n",
      "WARNING:matplotlib.font_manager:findfont: Font family 'Times New Roman' not found.\n",
      "WARNING:matplotlib.font_manager:findfont: Font family 'Times New Roman' not found.\n",
      "WARNING:matplotlib.font_manager:findfont: Font family 'Times New Roman' not found.\n",
      "WARNING:matplotlib.font_manager:findfont: Font family 'Times New Roman' not found.\n",
      "WARNING:matplotlib.font_manager:findfont: Font family 'Times New Roman' not found.\n",
      "WARNING:matplotlib.font_manager:findfont: Font family 'Times New Roman' not found.\n",
      "WARNING:matplotlib.font_manager:findfont: Font family 'Times New Roman' not found.\n",
      "WARNING:matplotlib.font_manager:findfont: Font family 'Times New Roman' not found.\n",
      "WARNING:matplotlib.font_manager:findfont: Font family 'Times New Roman' not found.\n",
      "WARNING:matplotlib.font_manager:findfont: Font family 'Times New Roman' not found.\n",
      "WARNING:matplotlib.font_manager:findfont: Font family 'Times New Roman' not found.\n",
      "WARNING:matplotlib.font_manager:findfont: Font family 'Times New Roman' not found.\n",
      "WARNING:matplotlib.font_manager:findfont: Font family 'Times New Roman' not found.\n",
      "WARNING:matplotlib.font_manager:findfont: Font family 'Times New Roman' not found.\n",
      "WARNING:matplotlib.font_manager:findfont: Font family 'Times New Roman' not found.\n",
      "WARNING:matplotlib.font_manager:findfont: Font family 'Times New Roman' not found.\n",
      "WARNING:matplotlib.font_manager:findfont: Font family 'Times New Roman' not found.\n",
      "WARNING:matplotlib.font_manager:findfont: Font family 'Times New Roman' not found.\n",
      "WARNING:matplotlib.font_manager:findfont: Font family 'Times New Roman' not found.\n",
      "WARNING:matplotlib.font_manager:findfont: Font family 'Times New Roman' not found.\n",
      "WARNING:matplotlib.font_manager:findfont: Font family 'Times New Roman' not found.\n",
      "WARNING:matplotlib.font_manager:findfont: Font family 'Times New Roman' not found.\n",
      "WARNING:matplotlib.font_manager:findfont: Font family 'Times New Roman' not found.\n",
      "WARNING:matplotlib.font_manager:findfont: Font family 'Times New Roman' not found.\n",
      "WARNING:matplotlib.font_manager:findfont: Font family 'Times New Roman' not found.\n",
      "WARNING:matplotlib.font_manager:findfont: Font family 'Times New Roman' not found.\n",
      "WARNING:matplotlib.font_manager:findfont: Font family 'Times New Roman' not found.\n",
      "WARNING:matplotlib.font_manager:findfont: Font family 'Times New Roman' not found.\n",
      "WARNING:matplotlib.font_manager:findfont: Font family 'Times New Roman' not found.\n",
      "WARNING:matplotlib.font_manager:findfont: Font family 'Times New Roman' not found.\n",
      "WARNING:matplotlib.font_manager:findfont: Font family 'Times New Roman' not found.\n",
      "WARNING:matplotlib.font_manager:findfont: Font family 'Times New Roman' not found.\n",
      "WARNING:matplotlib.font_manager:findfont: Font family 'Times New Roman' not found.\n",
      "WARNING:matplotlib.font_manager:findfont: Font family 'Times New Roman' not found.\n",
      "WARNING:matplotlib.font_manager:findfont: Font family 'Times New Roman' not found.\n",
      "WARNING:matplotlib.font_manager:findfont: Font family 'Times New Roman' not found.\n",
      "WARNING:matplotlib.font_manager:findfont: Font family 'Times New Roman' not found.\n",
      "WARNING:matplotlib.font_manager:findfont: Font family 'Times New Roman' not found.\n",
      "WARNING:matplotlib.font_manager:findfont: Font family 'Times New Roman' not found.\n",
      "WARNING:matplotlib.font_manager:findfont: Font family 'Times New Roman' not found.\n",
      "WARNING:matplotlib.font_manager:findfont: Font family 'Times New Roman' not found.\n",
      "WARNING:matplotlib.font_manager:findfont: Font family 'Times New Roman' not found.\n",
      "WARNING:matplotlib.font_manager:findfont: Font family 'Times New Roman' not found.\n",
      "WARNING:matplotlib.font_manager:findfont: Font family 'Times New Roman' not found.\n",
      "WARNING:matplotlib.font_manager:findfont: Font family 'Times New Roman' not found.\n",
      "WARNING:matplotlib.font_manager:findfont: Font family 'Times New Roman' not found.\n",
      "WARNING:matplotlib.font_manager:findfont: Font family 'Times New Roman' not found.\n",
      "WARNING:matplotlib.font_manager:findfont: Font family 'Times New Roman' not found.\n",
      "WARNING:matplotlib.font_manager:findfont: Font family 'Times New Roman' not found.\n",
      "WARNING:matplotlib.font_manager:findfont: Font family 'Times New Roman' not found.\n",
      "WARNING:matplotlib.font_manager:findfont: Font family 'Times New Roman' not found.\n",
      "WARNING:matplotlib.font_manager:findfont: Font family 'Times New Roman' not found.\n",
      "WARNING:matplotlib.font_manager:findfont: Font family 'Times New Roman' not found.\n",
      "WARNING:matplotlib.font_manager:findfont: Font family 'Times New Roman' not found.\n",
      "WARNING:matplotlib.font_manager:findfont: Font family 'Times New Roman' not found.\n",
      "WARNING:matplotlib.font_manager:findfont: Font family 'Times New Roman' not found.\n",
      "WARNING:matplotlib.font_manager:findfont: Font family 'Times New Roman' not found.\n",
      "WARNING:matplotlib.font_manager:findfont: Font family 'Times New Roman' not found.\n",
      "WARNING:matplotlib.font_manager:findfont: Font family 'Times New Roman' not found.\n",
      "WARNING:matplotlib.font_manager:findfont: Font family 'Times New Roman' not found.\n",
      "WARNING:matplotlib.font_manager:findfont: Font family 'Times New Roman' not found.\n",
      "WARNING:matplotlib.font_manager:findfont: Font family 'Times New Roman' not found.\n",
      "WARNING:matplotlib.font_manager:findfont: Font family 'Times New Roman' not found.\n",
      "WARNING:matplotlib.font_manager:findfont: Font family 'Times New Roman' not found.\n",
      "WARNING:matplotlib.font_manager:findfont: Font family 'Times New Roman' not found.\n",
      "WARNING:matplotlib.font_manager:findfont: Font family 'Times New Roman' not found.\n"
     ]
    },
    {
     "data": {
      "image/png": "[encoded data removed]",
      "text/plain": [
       "<Figure size 1000x500 with 1 Axes>"
      ]
     },
     "metadata": {},
     "output_type": "display_data"
    }
   ],
   "source": [
    "# hfont = {'fontname':'Helvetica'}\n",
    "import matplotlib.pyplot as plt\n",
    "# plt.rcParams[\"font.family\"] = \"Times New Roman\"\n",
    "fig, ax = plt.subplots(figsize=(10, 5))\n",
    "# plt.plot([pd.to_datetime(i, format=\"%Y-%m-%d_%H:%M:%S\") for i in nvae_latents_dataloader_ready_matched.keys()], f107_for_daily_nvae, label=\"F10.7 (daily)\")\n",
    "plt.plot([pd.to_datetime(i, format=\"%Y-%m-%d_%H:%M:%S\") for i in nvae_latents_dataloader_ready_matched.keys()], f107_for_daily_nvae, label=\"F10.7 (daily)\", linewidth=1, c=\"black\")\n",
    "p_x = [pd.to_datetime(i[0], format=\"%Y-%m-%d_%H:%M:%S\") for i in tp.keys()]\n",
    "plt.plot(p_x, p, label=\"NVAE latents (hourly)\", linewidth=0.5, c=\"green\")\n",
    "plt.legend()\n",
    "plt.xticks(rotation=290)\n",
    "plt.ylabel(\"F10.7\")\n",
    "plt.xlabel(\"Date\")\n",
    "plt.title(\"Simple MLP of latents trained to 100 epochs\")\n",
    "plt.xlim((np.min(p_x), np.max(p_x)))\n",
    "plt.show()\n"
   ]
  },
  {
   "cell_type": "code",
   "execution_count": 190,
   "metadata": {},
   "outputs": [
    {
     "data": {
      "text/plain": [
       "96.12925437402284"
      ]
     },
     "execution_count": 190,
     "metadata": {},
     "output_type": "execute_result"
    }
   ],
   "source": [
    "p = np.array(preds).reshape(-1)\n",
    "p.min()"
   ]
  },
  {
   "cell_type": "code",
   "execution_count": 185,
   "metadata": {},
   "outputs": [
    {
     "data": {
      "text/plain": [
       "2500"
      ]
     },
     "execution_count": 185,
     "metadata": {},
     "output_type": "execute_result"
    }
   ],
   "source": [
    "p.argmax()"
   ]
  },
  {
   "cell_type": "code",
   "execution_count": 210,
   "metadata": {},
   "outputs": [
    {
     "data": {
      "text/plain": [
       "(21504,)"
      ]
     },
     "execution_count": 210,
     "metadata": {},
     "output_type": "execute_result"
    }
   ],
   "source": [
    "nvae_latents_dataloader_ready_matched['2013-01-01_01:12:00'].shape"
   ]
  },
  {
   "cell_type": "code",
   "execution_count": 191,
   "metadata": {},
   "outputs": [],
   "source": [
    "p[7276] = p[7275]\n",
    "p[2500] = p[2499]"
   ]
  },
  {
   "cell_type": "code",
   "execution_count": 187,
   "metadata": {},
   "outputs": [
    {
     "data": {
      "text/plain": [
       "168.42039176471673"
      ]
     },
     "execution_count": 187,
     "metadata": {},
     "output_type": "execute_result"
    }
   ],
   "source": [
    "p.max()"
   ]
  },
  {
   "cell_type": "code",
   "execution_count": 100,
   "metadata": {},
   "outputs": [
    {
     "data": {
      "text/plain": [
       "[<matplotlib.lines.Line2D at 0x7f2145298dc0>]"
      ]
     },
     "execution_count": 100,
     "metadata": {},
     "output_type": "execute_result"
    },
    {
     "data": {
      "image/png": "[encoded data removed]",
      "text/plain": [
       "<Figure size 640x480 with 1 Axes>"
      ]
     },
     "metadata": {},
     "output_type": "display_data"
    }
   ],
   "source": [
    "import matplotlib.pyplot as plt\n",
    "plt.plot(list(f107.values()))"
   ]
  }
 ],
 "metadata": {
  "kernelspec": {
   "display_name": "base",
   "language": "python",
   "name": "python3"
  },
  "language_info": {
   "codemirror_mode": {
    "name": "ipython",
    "version": 3
   },
   "file_extension": ".py",
   "mimetype": "text/x-python",
   "name": "python",
   "nbconvert_exporter": "python",
   "pygments_lexer": "ipython3",
   "version": "3.10.14"
  },
  "orig_nbformat": 4
 },
 "nbformat": 4,
 "nbformat_minor": 2
}
