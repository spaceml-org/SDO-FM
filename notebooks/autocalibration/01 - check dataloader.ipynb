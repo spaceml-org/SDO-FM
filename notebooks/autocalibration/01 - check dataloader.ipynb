{
 "cells": [
  {
   "cell_type": "code",
   "execution_count": 1,
   "id": "babe9262-ec68-4c77-9793-79a5c7910da0",
   "metadata": {
    "tags": []
   },
   "outputs": [],
   "source": [
    "import sys\n",
    "import os\n",
    "sys.path.append(\"../..\")\n",
    "\n",
    "from omegaconf import OmegaConf\n",
    "from sdofm.datasets.SDOML import SDOMLDataModule, SDOMLDataset\n",
    "from sdofm.datasets.RandomIntervalSDOML import RandomIntervalSDOMLDataset, RandomIntervalSDOMLDataModule \n",
    "from rlxutils import subplots\n",
    "import matplotlib.pyplot as plt\n",
    "import numpy as np\n",
    "import pandas as pd\n",
    "from datetime import datetime\n",
    "from sdofm.utils import stonyhurst_to_patch_index\n",
    "from progressbar import progressbar as pbar\n",
    "from sdofm.constants import ALL_COMPONENTS, ALL_WAVELENGTHS, ALL_IONS"
   ]
  },
  {
   "cell_type": "code",
   "execution_count": 2,
   "id": "a610c896-a75a-43f6-a91a-bba5c795801f",
   "metadata": {
    "tags": []
   },
   "outputs": [],
   "source": [
    "cfg = OmegaConf.load(\"../../experiments/default.yaml\")"
   ]
  },
  {
   "cell_type": "code",
   "execution_count": 3,
   "id": "cf2a8bba-8ecd-437d-a53a-7f89d0abad64",
   "metadata": {
    "tags": []
   },
   "outputs": [
    {
     "data": {
      "text/plain": [
       "'EVE_legacy.zarr\"'"
      ]
     },
     "execution_count": 3,
     "metadata": {},
     "output_type": "execute_result"
    }
   ],
   "source": [
    "cfg.data.sdoml.sub_directory.eve"
   ]
  },
  {
   "cell_type": "code",
   "execution_count": 4,
   "id": "ad61333d-fd53-442e-81f3-61ed05ec06c2",
   "metadata": {
    "tags": []
   },
   "outputs": [
    {
     "name": "stdout",
     "output_type": "stream",
     "text": [
      "[* CACHE SYSTEM *] Found cached index data in /mnt/sdoml/cache/aligndata_AIA_FULL_HMI_FULL_12min.csv.\n",
      "[* CACHE SYSTEM *] Found cached normalization data in /mnt/sdoml/cache/normalizations_AIA_FULL_HMI_FULL_12min.json.\n",
      "[* CACHE SYSTEM *] Found cached HMI mask data in /mnt/sdoml/cache/hmi_mask_512x512.npy.\n"
     ]
    }
   ],
   "source": [
    "data_module = RandomIntervalSDOMLDataModule(\n",
    "    # hmi_path=os.path.join(\n",
    "    #     self.cfg.data.sdoml.base_directory, self.cfg.data.sdoml.sub_directory.hmi\n",
    "    # ),\n",
    "    hmi_path=os.path.join(\n",
    "        cfg.data.sdoml.base_directory,\n",
    "        cfg.data.sdoml.sub_directory.hmi,\n",
    "    ),\n",
    "    aia_path = os.path.join(\n",
    "        cfg.data.sdoml.base_directory,\n",
    "        cfg.data.sdoml.sub_directory.aia,\n",
    "    ),    \n",
    "    eve_path = None,\n",
    "    components  = cfg.data.sdoml.components,\n",
    "    wavelengths = cfg.data.sdoml.wavelengths,\n",
    "    ions        = cfg.data.sdoml.ions,\n",
    "    frequency   = cfg.data.sdoml.frequency,\n",
    "    batch_size  = 2,\n",
    "    num_workers = 2,\n",
    "    num_frames  = 2,\n",
    "    blosc_cache = \"/home/rlx/blosc_cache\",\n",
    "    start_date = '2010-09-01',\n",
    "    end_date   = '2010-12-31',\n",
    "    dim = True,\n",
    "    sampling_period = '5days',\n",
    "    val_months  = cfg.data.month_splits.val,\n",
    "    test_months = cfg.data.month_splits.test,\n",
    "    holdout_months = cfg.data.month_splits.holdout,\n",
    "    cache_dir = os.path.join(\n",
    "        cfg.data.sdoml.base_directory,\n",
    "        cfg.data.sdoml.sub_directory.cache,\n",
    "    ),\n",
    ")\n",
    "data_module.setup()"
   ]
  },
  {
   "cell_type": "code",
   "execution_count": 5,
   "id": "a847ae4f-3f86-4105-a236-1d5411760880",
   "metadata": {
    "tags": []
   },
   "outputs": [
    {
     "data": {
      "text/html": [
       "<div>\n",
       "<style scoped>\n",
       "    .dataframe tbody tr th:only-of-type {\n",
       "        vertical-align: middle;\n",
       "    }\n",
       "\n",
       "    .dataframe tbody tr th {\n",
       "        vertical-align: top;\n",
       "    }\n",
       "\n",
       "    .dataframe thead th {\n",
       "        text-align: right;\n",
       "    }\n",
       "</style>\n",
       "<table border=\"1\" class=\"dataframe\">\n",
       "  <thead>\n",
       "    <tr style=\"text-align: right;\">\n",
       "      <th></th>\n",
       "      <th>idx_131A</th>\n",
       "      <th>idx_1600A</th>\n",
       "      <th>idx_1700A</th>\n",
       "      <th>idx_171A</th>\n",
       "      <th>idx_193A</th>\n",
       "      <th>idx_211A</th>\n",
       "      <th>idx_304A</th>\n",
       "      <th>idx_335A</th>\n",
       "      <th>idx_94A</th>\n",
       "      <th>idx_Bx</th>\n",
       "      <th>idx_By</th>\n",
       "      <th>idx_Bz</th>\n",
       "    </tr>\n",
       "    <tr>\n",
       "      <th>Time</th>\n",
       "      <th></th>\n",
       "      <th></th>\n",
       "      <th></th>\n",
       "      <th></th>\n",
       "      <th></th>\n",
       "      <th></th>\n",
       "      <th></th>\n",
       "      <th></th>\n",
       "      <th></th>\n",
       "      <th></th>\n",
       "      <th></th>\n",
       "      <th></th>\n",
       "    </tr>\n",
       "  </thead>\n",
       "  <tbody>\n",
       "    <tr>\n",
       "      <th>2010-09-01 00:00:00</th>\n",
       "      <td>1336</td>\n",
       "      <td>1338</td>\n",
       "      <td>1339</td>\n",
       "      <td>1338</td>\n",
       "      <td>1336</td>\n",
       "      <td>1337</td>\n",
       "      <td>1336</td>\n",
       "      <td>1336</td>\n",
       "      <td>1337</td>\n",
       "      <td>8513</td>\n",
       "      <td>8513</td>\n",
       "      <td>8513</td>\n",
       "    </tr>\n",
       "    <tr>\n",
       "      <th>2010-09-01 00:12:00</th>\n",
       "      <td>1337</td>\n",
       "      <td>1339</td>\n",
       "      <td>1340</td>\n",
       "      <td>1339</td>\n",
       "      <td>1337</td>\n",
       "      <td>1338</td>\n",
       "      <td>1337</td>\n",
       "      <td>1337</td>\n",
       "      <td>1338</td>\n",
       "      <td>8418</td>\n",
       "      <td>8418</td>\n",
       "      <td>8418</td>\n",
       "    </tr>\n",
       "    <tr>\n",
       "      <th>2010-09-01 00:24:00</th>\n",
       "      <td>1339</td>\n",
       "      <td>1342</td>\n",
       "      <td>1343</td>\n",
       "      <td>1341</td>\n",
       "      <td>1339</td>\n",
       "      <td>1340</td>\n",
       "      <td>1339</td>\n",
       "      <td>1339</td>\n",
       "      <td>1339</td>\n",
       "      <td>8504</td>\n",
       "      <td>8504</td>\n",
       "      <td>8504</td>\n",
       "    </tr>\n",
       "    <tr>\n",
       "      <th>2010-09-01 00:36:00</th>\n",
       "      <td>1341</td>\n",
       "      <td>1344</td>\n",
       "      <td>1345</td>\n",
       "      <td>1343</td>\n",
       "      <td>1341</td>\n",
       "      <td>1342</td>\n",
       "      <td>1341</td>\n",
       "      <td>1341</td>\n",
       "      <td>1342</td>\n",
       "      <td>8461</td>\n",
       "      <td>8461</td>\n",
       "      <td>8461</td>\n",
       "    </tr>\n",
       "    <tr>\n",
       "      <th>2010-09-01 00:48:00</th>\n",
       "      <td>1343</td>\n",
       "      <td>1346</td>\n",
       "      <td>1347</td>\n",
       "      <td>1345</td>\n",
       "      <td>1343</td>\n",
       "      <td>1344</td>\n",
       "      <td>1343</td>\n",
       "      <td>1343</td>\n",
       "      <td>1344</td>\n",
       "      <td>8417</td>\n",
       "      <td>8417</td>\n",
       "      <td>8417</td>\n",
       "    </tr>\n",
       "    <tr>\n",
       "      <th>...</th>\n",
       "      <td>...</td>\n",
       "      <td>...</td>\n",
       "      <td>...</td>\n",
       "      <td>...</td>\n",
       "      <td>...</td>\n",
       "      <td>...</td>\n",
       "      <td>...</td>\n",
       "      <td>...</td>\n",
       "      <td>...</td>\n",
       "      <td>...</td>\n",
       "      <td>...</td>\n",
       "      <td>...</td>\n",
       "    </tr>\n",
       "    <tr>\n",
       "      <th>2010-12-31 23:00:00</th>\n",
       "      <td>13890</td>\n",
       "      <td>13897</td>\n",
       "      <td>13035</td>\n",
       "      <td>13888</td>\n",
       "      <td>13898</td>\n",
       "      <td>13887</td>\n",
       "      <td>13889</td>\n",
       "      <td>13898</td>\n",
       "      <td>13646</td>\n",
       "      <td>17209</td>\n",
       "      <td>17209</td>\n",
       "      <td>17209</td>\n",
       "    </tr>\n",
       "    <tr>\n",
       "      <th>2010-12-31 23:12:00</th>\n",
       "      <td>13892</td>\n",
       "      <td>13898</td>\n",
       "      <td>13036</td>\n",
       "      <td>13890</td>\n",
       "      <td>13900</td>\n",
       "      <td>13889</td>\n",
       "      <td>13891</td>\n",
       "      <td>13900</td>\n",
       "      <td>13648</td>\n",
       "      <td>17232</td>\n",
       "      <td>17232</td>\n",
       "      <td>17232</td>\n",
       "    </tr>\n",
       "    <tr>\n",
       "      <th>2010-12-31 23:24:00</th>\n",
       "      <td>13894</td>\n",
       "      <td>13901</td>\n",
       "      <td>13039</td>\n",
       "      <td>13892</td>\n",
       "      <td>13902</td>\n",
       "      <td>13891</td>\n",
       "      <td>13893</td>\n",
       "      <td>13902</td>\n",
       "      <td>13649</td>\n",
       "      <td>17231</td>\n",
       "      <td>17231</td>\n",
       "      <td>17231</td>\n",
       "    </tr>\n",
       "    <tr>\n",
       "      <th>2010-12-31 23:36:00</th>\n",
       "      <td>13896</td>\n",
       "      <td>13903</td>\n",
       "      <td>13041</td>\n",
       "      <td>13894</td>\n",
       "      <td>13904</td>\n",
       "      <td>13893</td>\n",
       "      <td>13895</td>\n",
       "      <td>13904</td>\n",
       "      <td>13652</td>\n",
       "      <td>17250</td>\n",
       "      <td>17250</td>\n",
       "      <td>17250</td>\n",
       "    </tr>\n",
       "    <tr>\n",
       "      <th>2010-12-31 23:48:00</th>\n",
       "      <td>13898</td>\n",
       "      <td>13905</td>\n",
       "      <td>13043</td>\n",
       "      <td>13896</td>\n",
       "      <td>13906</td>\n",
       "      <td>13895</td>\n",
       "      <td>13897</td>\n",
       "      <td>13906</td>\n",
       "      <td>13654</td>\n",
       "      <td>17269</td>\n",
       "      <td>17269</td>\n",
       "      <td>17269</td>\n",
       "    </tr>\n",
       "  </tbody>\n",
       "</table>\n",
       "<p>11289 rows × 12 columns</p>\n",
       "</div>"
      ],
      "text/plain": [
       "                     idx_131A  idx_1600A  idx_1700A  idx_171A  idx_193A  \\\n",
       "Time                                                                      \n",
       "2010-09-01 00:00:00      1336       1338       1339      1338      1336   \n",
       "2010-09-01 00:12:00      1337       1339       1340      1339      1337   \n",
       "2010-09-01 00:24:00      1339       1342       1343      1341      1339   \n",
       "2010-09-01 00:36:00      1341       1344       1345      1343      1341   \n",
       "2010-09-01 00:48:00      1343       1346       1347      1345      1343   \n",
       "...                       ...        ...        ...       ...       ...   \n",
       "2010-12-31 23:00:00     13890      13897      13035     13888     13898   \n",
       "2010-12-31 23:12:00     13892      13898      13036     13890     13900   \n",
       "2010-12-31 23:24:00     13894      13901      13039     13892     13902   \n",
       "2010-12-31 23:36:00     13896      13903      13041     13894     13904   \n",
       "2010-12-31 23:48:00     13898      13905      13043     13896     13906   \n",
       "\n",
       "                     idx_211A  idx_304A  idx_335A  idx_94A  idx_Bx  idx_By  \\\n",
       "Time                                                                         \n",
       "2010-09-01 00:00:00      1337      1336      1336     1337    8513    8513   \n",
       "2010-09-01 00:12:00      1338      1337      1337     1338    8418    8418   \n",
       "2010-09-01 00:24:00      1340      1339      1339     1339    8504    8504   \n",
       "2010-09-01 00:36:00      1342      1341      1341     1342    8461    8461   \n",
       "2010-09-01 00:48:00      1344      1343      1343     1344    8417    8417   \n",
       "...                       ...       ...       ...      ...     ...     ...   \n",
       "2010-12-31 23:00:00     13887     13889     13898    13646   17209   17209   \n",
       "2010-12-31 23:12:00     13889     13891     13900    13648   17232   17232   \n",
       "2010-12-31 23:24:00     13891     13893     13902    13649   17231   17231   \n",
       "2010-12-31 23:36:00     13893     13895     13904    13652   17250   17250   \n",
       "2010-12-31 23:48:00     13895     13897     13906    13654   17269   17269   \n",
       "\n",
       "                     idx_Bz  \n",
       "Time                         \n",
       "2010-09-01 00:00:00    8513  \n",
       "2010-09-01 00:12:00    8418  \n",
       "2010-09-01 00:24:00    8504  \n",
       "2010-09-01 00:36:00    8461  \n",
       "2010-09-01 00:48:00    8417  \n",
       "...                     ...  \n",
       "2010-12-31 23:00:00   17209  \n",
       "2010-12-31 23:12:00   17232  \n",
       "2010-12-31 23:24:00   17231  \n",
       "2010-12-31 23:36:00   17250  \n",
       "2010-12-31 23:48:00   17269  \n",
       "\n",
       "[11289 rows x 12 columns]"
      ]
     },
     "execution_count": 5,
     "metadata": {},
     "output_type": "execute_result"
    }
   ],
   "source": [
    "data_module.aligndata"
   ]
  },
  {
   "cell_type": "code",
   "execution_count": 6,
   "id": "b0212ba9-8156-4371-a8c2-18d311bf6e48",
   "metadata": {
    "tags": []
   },
   "outputs": [],
   "source": [
    "import torch.nn as nn\n",
    "import torch.nn.functional as F\n",
    "import torch\n",
    "\n",
    "class Net(nn.Module):\n",
    "    def __init__(self):\n",
    "        super().__init__()\n",
    "        self.pool = nn.MaxPool2d(2, 2)\n",
    "        self.conv1 = nn.Conv2d(12, 6, 5, stride=2)\n",
    "        self.conv2 = nn.Conv2d(6, 16, 5, stride=2)\n",
    "        self.conv3 = nn.Conv2d(16, 32, 5, stride=2)\n",
    "        self.fc1 = nn.Linear(1568, 120)\n",
    "        self.fc2 = nn.Linear(120, 84)\n",
    "        self.fc3 = nn.Linear(84, 12)\n",
    "\n",
    "    def forward(self, x):\n",
    "        x = self.pool(F.relu(self.conv1(x)))\n",
    "        x = self.pool(F.relu(self.conv2(x)))\n",
    "        x = self.pool(F.relu(self.conv3(x)))\n",
    "        x = torch.flatten(x, 1) # flatten all dimensions except batch\n",
    "        x = F.relu(self.fc1(x))\n",
    "        x = F.relu(self.fc2(x))\n",
    "        x = F.sigmoid(self.fc3(x))\n",
    "        return x"
   ]
  },
  {
   "cell_type": "code",
   "execution_count": 7,
   "id": "b5f233bc-af6c-4245-9203-d5d46b0e7104",
   "metadata": {
    "tags": []
   },
   "outputs": [],
   "source": [
    "dltrain = data_module.train_dataloader()"
   ]
  },
  {
   "cell_type": "code",
   "execution_count": 8,
   "id": "df8846ba-9569-4963-93c0-22cbec54235d",
   "metadata": {
    "tags": []
   },
   "outputs": [
    {
     "data": {
      "text/plain": [
       "2312"
      ]
     },
     "execution_count": 8,
     "metadata": {},
     "output_type": "execute_result"
    }
   ],
   "source": [
    "len(dltrain)"
   ]
  },
  {
   "cell_type": "code",
   "execution_count": 9,
   "id": "a328bf61-3278-4072-bc66-ee3472e48aa2",
   "metadata": {
    "tags": []
   },
   "outputs": [],
   "source": [
    "model = Net().cuda()\n",
    "optimizer = torch.optim.Adam(model.parameters(), lr=1e-5)\n"
   ]
  },
  {
   "cell_type": "code",
   "execution_count": null,
   "id": "1fd184a4-f35f-4f18-b3bc-47051f805995",
   "metadata": {},
   "outputs": [],
   "source": []
  },
  {
   "cell_type": "code",
   "execution_count": null,
   "id": "acaffdbf-cc9a-4587-8298-5b80937bb2f8",
   "metadata": {},
   "outputs": [],
   "source": []
  },
  {
   "cell_type": "code",
   "execution_count": null,
   "id": "c10c58d7-7846-4b9e-a627-21c1d56b85fb",
   "metadata": {
    "tags": []
   },
   "outputs": [
    {
     "name": "stdout",
     "output_type": "stream",
     "text": [
      "epoch   0 step 650 loss 0.27652 params 0.0368951\r"
     ]
    }
   ],
   "source": [
    "num_epochs = 10\n",
    "lossh = []\n",
    "for epoch in range(num_epochs):\n",
    "    for step, batch in enumerate(dltrain):\n",
    "        # extract data from batch\n",
    "        x = batch['dimmed_image_stack'].type(torch.float)[:,:,0,:,:].cuda() # ignore time frames, just get the first one\n",
    "        f = batch['dim_factor'].type(torch.float).cuda()\n",
    "\n",
    "        # run model\n",
    "        o = model(x)\n",
    "\n",
    "        # compute loss\n",
    "        loss = torch.sqrt( torch.mean((f-o)**2 ) )\n",
    "                \n",
    "        # backpropage and sigmoidupdate\n",
    "        loss.backward()\n",
    "        optimizer.step()\n",
    "        \n",
    "        # cosmetics\n",
    "        lossn = loss.detach().cpu().numpy()\n",
    "        lossh.append(lossn)\n",
    "        psummary = np.mean([(p.abs().mean().detach().cpu().numpy()) for p in model.parameters()])    \n",
    "        lossm = np.mean(lossh[-100:])\n",
    "        print(f\"epoch {epoch:3} step {step:3d} loss {lossm:.5f} params {psummary:.7f}\", end=\"\\r\")\n"
   ]
  },
  {
   "cell_type": "code",
   "execution_count": null,
   "id": "8922f2d3-fb8f-4063-b3dd-8160e2f7bfec",
   "metadata": {
    "tags": []
   },
   "outputs": [],
   "source": [
    "def ploth(h, name='loss', ylim=None, ax=None):\n",
    "    lossp = pd.DataFrame(h, columns=[name])\n",
    "    lossp[f'smoothed {name}'] = lossp[name].rolling(100).mean()\n",
    "    lossp.plot(alpha=.5, ax=ax)\n",
    "    plt.grid(); plt.xlabel(\"steps\"); plt.ylabel(\"loss\")\n",
    "    if ylim is not None:\n",
    "        plt.ylim(*ylim)"
   ]
  },
  {
   "cell_type": "code",
   "execution_count": 47,
   "id": "362d11aa-dc55-4c4c-9bcc-75603ff1512c",
   "metadata": {
    "tags": []
   },
   "outputs": [
    {
     "data": {
      "image/png": "[encoded data removed]",
      "text/plain": [
       "<Figure size 640x480 with 1 Axes>"
      ]
     },
     "metadata": {},
     "output_type": "display_data"
    }
   ],
   "source": [
    "ploth(lossh)"
   ]
  },
  {
   "cell_type": "code",
   "execution_count": 143,
   "id": "ed04bfac-76cc-43b4-94b1-106b6d592662",
   "metadata": {
    "tags": []
   },
   "outputs": [],
   "source": [
    "data_module.eve_data"
   ]
  },
  {
   "cell_type": "code",
   "execution_count": 13,
   "id": "dad66ded-543a-4385-98b8-ea4c271bf18c",
   "metadata": {
    "tags": []
   },
   "outputs": [],
   "source": [
    "    def get_aia_image(self, idx, aligned_samples):\n",
    "        \"\"\"Get AIA image for a given index.\n",
    "        Returns a numpy array of shape (num_wavelengths, num_frames, height, width).\n",
    "        \"\"\"\n",
    "        aia_image_dict = {}\n",
    "        for wavelength in self.wavelengths:\n",
    "            aia_image_dict[wavelength] = []\n",
    "            for _, idx_row_element in aligned_samples.iterrows():\n",
    "                idx_wavelength = idx_row_element[f\"idx_{wavelength}\"]\n",
    "                year = str(idx_row_element.name.year)\n",
    "                img = self.aia_data[year][wavelength][idx_wavelength, :, :]\n",
    "\n",
    "                if self.mask is not None:\n",
    "                    img = img * self.mask\n",
    "\n",
    "                aia_image_dict[wavelength].append(img)\n",
    "\n",
    "                if self.normalizations:\n",
    "                    aia_image_dict[wavelength][-1] -= self.normalizations[\"AIA\"][\n",
    "                        wavelength\n",
    "                    ][\"mean\"]\n",
    "                    aia_image_dict[wavelength][-1] /= self.normalizations[\"AIA\"][\n",
    "                        wavelength\n",
    "                    ][\"std\"]\n",
    "\n",
    "        aia_image = np.array(list(aia_image_dict.values()))\n",
    "\n",
    "        return aia_image\n",
    "    \n",
    "    def xget_aia_image(self, idx, aligned_samples):\n",
    "        \"\"\"Get AIA image for a given index.\n",
    "        Returns a numpy array of shape (num_wavelengths, num_frames, height, width).\n",
    "        \"\"\"\n",
    "        \n",
    "        aia_image = np.r_[[load_aia(self.aia_data, idx_row_element, self.wavelengths) \\\n",
    "                           for _,idx_row_element in aligned_samples.iterrows()]]\n",
    "                    \n",
    "        if self.mask is not None:\n",
    "            aia_image *= self.mask[np.newaxis, np.newaxis, :, :]        \n",
    "\n",
    "        if self.normalizations:\n",
    "            aia_image -=  self.aia_means[np.newaxis, :, np.newaxis, np.newaxis]\n",
    "            aia_image /= self.aia_stdevs[np.newaxis, :, np.newaxis, np.newaxis]    \n",
    "                        \n",
    "        aia_image = np.transpose(aia_image, [1,0,2,3])\n",
    "        return aia_image\n",
    "    \n",
    "    def load_aia(aia_data, align_data_row_element, wavelengths):\n",
    "        r = []\n",
    "        for wavelength in wavelengths:\n",
    "            idx_wavelength = align_data_row_element[f\"idx_{wavelength}\"]\n",
    "            year = str(align_data_row_element.name.year)\n",
    "\n",
    "            img = aia_data[year][wavelength][idx_wavelength, :, :]\n",
    "            r.append(img)\n",
    "        return np.r_[r]"
   ]
  },
  {
   "cell_type": "code",
   "execution_count": 14,
   "id": "204fb0ba-f660-4845-a515-82a6160fff1e",
   "metadata": {
    "tags": []
   },
   "outputs": [],
   "source": [
    "#mask = self.mask\n",
    "#self.mask = None"
   ]
  },
  {
   "cell_type": "code",
   "execution_count": 15,
   "id": "d7b5b86e-a6d9-4153-9823-dbcc06993574",
   "metadata": {
    "tags": []
   },
   "outputs": [],
   "source": [
    "#self.mask = mask"
   ]
  },
  {
   "cell_type": "code",
   "execution_count": 16,
   "id": "2f8999e2-ad27-4d7a-b975-c7379ae31ece",
   "metadata": {
    "tags": []
   },
   "outputs": [
    {
     "data": {
      "text/plain": [
       "True"
      ]
     },
     "execution_count": 16,
     "metadata": {},
     "output_type": "execute_result"
    }
   ],
   "source": [
    "idx = 10222\n",
    "self = data_module.train_ds\n",
    "\n",
    "self.aia_means  = np.r_[[self.normalizations[\"AIA\"][wavelength][\"mean\"] for wavelength in self.wavelengths]]\n",
    "self.aia_stdevs = np.r_[[self.normalizations[\"AIA\"][wavelength][\"std\"] for wavelength in self.wavelengths]]\n",
    "\n",
    "\n",
    "item = self.aligndata.iloc[idx]\n",
    "sampling_df = self.aligndata_full.loc[item.name - pd.Timedelta(self.sampling_period): item.name - pd.Timedelta(\"1sec\")]\n",
    "aligned_samples = pd.concat([sampling_df.sample(self.num_frames-1), pd.DataFrame([item])])        \n",
    "timestamps = [i.strftime(\"%Y-%m-%d %H:%M:%S\") for i in aligned_samples.index]\n",
    "\n",
    "k1 = get_aia_image(self, idx, aligned_samples)\n",
    "k2 = xget_aia_image(self, idx, aligned_samples)\n",
    "np.allclose(k1, k2, atol=1e-6)"
   ]
  },
  {
   "cell_type": "code",
   "execution_count": 94,
   "id": "16b6b75e-b7aa-4bf5-afd6-e2541b02d5de",
   "metadata": {
    "tags": []
   },
   "outputs": [
    {
     "data": {
      "text/plain": [
       "(9, 2, 512, 512)"
      ]
     },
     "execution_count": 94,
     "metadata": {},
     "output_type": "execute_result"
    }
   ],
   "source": [
    "k1.shape"
   ]
  },
  {
   "cell_type": "code",
   "execution_count": 95,
   "id": "c529cb24-18bb-445b-bb73-7bb562a65cd0",
   "metadata": {
    "tags": []
   },
   "outputs": [
    {
     "data": {
      "text/plain": [
       "(9, 2, 512, 512)"
      ]
     },
     "execution_count": 95,
     "metadata": {},
     "output_type": "execute_result"
    }
   ],
   "source": [
    "k2.shape"
   ]
  },
  {
   "cell_type": "code",
   "execution_count": 17,
   "id": "c39fba55-9eaf-40fd-847f-52cf9657fe37",
   "metadata": {
    "tags": []
   },
   "outputs": [
    {
     "data": {
      "text/html": [
       "<div>\n",
       "<style scoped>\n",
       "    .dataframe tbody tr th:only-of-type {\n",
       "        vertical-align: middle;\n",
       "    }\n",
       "\n",
       "    .dataframe tbody tr th {\n",
       "        vertical-align: top;\n",
       "    }\n",
       "\n",
       "    .dataframe thead th {\n",
       "        text-align: right;\n",
       "    }\n",
       "</style>\n",
       "<table border=\"1\" class=\"dataframe\">\n",
       "  <thead>\n",
       "    <tr style=\"text-align: right;\">\n",
       "      <th></th>\n",
       "      <th>idx_131A</th>\n",
       "      <th>idx_1600A</th>\n",
       "      <th>idx_1700A</th>\n",
       "      <th>idx_171A</th>\n",
       "      <th>idx_193A</th>\n",
       "      <th>idx_211A</th>\n",
       "      <th>idx_304A</th>\n",
       "      <th>idx_335A</th>\n",
       "      <th>idx_94A</th>\n",
       "      <th>idx_Bx</th>\n",
       "      <th>idx_By</th>\n",
       "      <th>idx_Bz</th>\n",
       "    </tr>\n",
       "  </thead>\n",
       "  <tbody>\n",
       "    <tr>\n",
       "      <th>2010-09-03 01:00:00</th>\n",
       "      <td>3614</td>\n",
       "      <td>3615</td>\n",
       "      <td>3616</td>\n",
       "      <td>3615</td>\n",
       "      <td>3614</td>\n",
       "      <td>3614</td>\n",
       "      <td>3614</td>\n",
       "      <td>3614</td>\n",
       "      <td>3614</td>\n",
       "      <td>8890</td>\n",
       "      <td>8890</td>\n",
       "      <td>8890</td>\n",
       "    </tr>\n",
       "    <tr>\n",
       "      <th>2010-09-09 14:24:00</th>\n",
       "      <td>143</td>\n",
       "      <td>144</td>\n",
       "      <td>144</td>\n",
       "      <td>143</td>\n",
       "      <td>143</td>\n",
       "      <td>143</td>\n",
       "      <td>143</td>\n",
       "      <td>143</td>\n",
       "      <td>142</td>\n",
       "      <td>8020</td>\n",
       "      <td>8020</td>\n",
       "      <td>8020</td>\n",
       "    </tr>\n",
       "  </tbody>\n",
       "</table>\n",
       "</div>"
      ],
      "text/plain": [
       "                     idx_131A  idx_1600A  idx_1700A  idx_171A  idx_193A  \\\n",
       "2010-09-03 01:00:00      3614       3615       3616      3615      3614   \n",
       "2010-09-09 14:24:00       143        144        144       143       143   \n",
       "\n",
       "                     idx_211A  idx_304A  idx_335A  idx_94A  idx_Bx  idx_By  \\\n",
       "2010-09-03 01:00:00      3614      3614      3614     3614    8890    8890   \n",
       "2010-09-09 14:24:00       143       143       143      142    8020    8020   \n",
       "\n",
       "                     idx_Bz  \n",
       "2010-09-03 01:00:00    8890  \n",
       "2010-09-09 14:24:00    8020  "
      ]
     },
     "execution_count": 17,
     "metadata": {},
     "output_type": "execute_result"
    }
   ],
   "source": [
    "aligned_samples"
   ]
  },
  {
   "cell_type": "code",
   "execution_count": 19,
   "id": "96971364-6a80-4d75-970b-678dabaf40fb",
   "metadata": {
    "tags": []
   },
   "outputs": [],
   "source": [
    "align_data_row_element = aligned_samples.iloc[0]\n",
    "wavelengths = self.wavelengths"
   ]
  },
  {
   "cell_type": "code",
   "execution_count": 21,
   "id": "3f195213-2a99-4f08-b21d-0161960fd583",
   "metadata": {
    "tags": []
   },
   "outputs": [
    {
     "data": {
      "text/plain": [
       "<bound method Timestamp.strftime of Timestamp('2010-09-03 01:00:00')>"
      ]
     },
     "execution_count": 21,
     "metadata": {},
     "output_type": "execute_result"
    }
   ],
   "source": [
    "align_data_row_element.name.strftime(\"%Y-%m-D"
   ]
  },
  {
   "cell_type": "code",
   "execution_count": 26,
   "id": "6002707f-2647-4479-af51-b749eb98487b",
   "metadata": {
    "tags": []
   },
   "outputs": [
    {
     "data": {
      "text/plain": [
       "'2010-09-03_01:00:00'"
      ]
     },
     "execution_count": 26,
     "metadata": {},
     "output_type": "execute_result"
    }
   ],
   "source": [
    "align_data_row_element.name.strftime(\"%Y-%m-%d_%H:%M:%S\")"
   ]
  },
  {
   "cell_type": "code",
   "execution_count": 27,
   "id": "7eefec84-25af-4678-be06-226daac52efc",
   "metadata": {
    "tags": []
   },
   "outputs": [
    {
     "data": {
      "text/plain": [
       "'131A-1600A-1700A-171A-193A-211A-304A-335A-94A'"
      ]
     },
     "execution_count": 27,
     "metadata": {},
     "output_type": "execute_result"
    }
   ],
   "source": [
    "\"-\".join(wavelengths)"
   ]
  },
  {
   "cell_type": "code",
   "execution_count": 28,
   "id": "370f0aa4-da97-413a-a323-0fced5aeb159",
   "metadata": {
    "tags": []
   },
   "outputs": [],
   "source": [
    "import blosc"
   ]
  },
  {
   "cell_type": "code",
   "execution_count": 57,
   "id": "a95cced9-9f8b-4c8b-9315-88c5995020c1",
   "metadata": {
    "tags": []
   },
   "outputs": [],
   "source": [
    "def load_blosc_file(blosc_cache, event_date, setname, elements):\n",
    "    datestr = event_date.strftime(\"%Y-%m-%d_%H:%M:%S\")\n",
    "    elemsstr = \"-\".join(elements)\n",
    "    \n",
    "    file_name = f\"{blosc_cache}/{datestr}__{setname}__{elemsstr}.blosc\"\n",
    "    print (\"file name\", file_name)\n",
    "    \n",
    "    if os.path.isfile(file_name):\n",
    "        with open(file_name, \"rb\") as f:\n",
    "            arr = blosc.unpack_array(f.read())\n",
    "        return arr\n",
    "    return None"
   ]
  },
  {
   "cell_type": "code",
   "execution_count": 60,
   "id": "2444b501-d344-42fe-8acd-62e3b77dda20",
   "metadata": {
    "tags": []
   },
   "outputs": [],
   "source": [
    "def save_blosc_file(blosc_cache, event_date, setname, elements, array):\n",
    "    datestr = event_date.strftime(\"%Y-%m-%d_%H:%M:%S\")\n",
    "    elemsstr = \"-\".join(elements)\n",
    "    \n",
    "    file_name = f\"{blosc_cache}/{datestr}__{setname}__{elemsstr}.blosc\"\n",
    "    print (\"file name\", file_name)\n",
    "    with open(file_name, \"wb\") as f:\n",
    "        f.write(blosc.pack_array(array))\n"
   ]
  },
  {
   "cell_type": "code",
   "execution_count": 61,
   "id": "95b0e49d-b8f6-43fe-9a39-b9cbbc511107",
   "metadata": {
    "tags": []
   },
   "outputs": [
    {
     "name": "stdout",
     "output_type": "stream",
     "text": [
      "file name /home/rlx/blosc_cache//2010-09-03_01:00:00__aia__131A-1600A-1700A-171A-193A-211A-304A-335A-94A.blosc\n"
     ]
    }
   ],
   "source": [
    "save_blosc_file(\"/home/rlx/blosc_cache/\", align_data_row_element.name, 'aia', self.wavelengths, k1)"
   ]
  },
  {
   "cell_type": "code",
   "execution_count": 62,
   "id": "144dc370-9c57-4ca8-9588-856e62104c94",
   "metadata": {
    "tags": []
   },
   "outputs": [
    {
     "name": "stdout",
     "output_type": "stream",
     "text": [
      "file name /home/rlx/blosc_cache//2010-09-03_01:00:00__aia__131A-1600A-1700A-171A-193A-211A-304A-335A-94A.blosc\n"
     ]
    }
   ],
   "source": [
    "kk = load_blosc_file(\"/home/rlx/blosc_cache/\", align_data_row_element.name, 'aia', self.wavelengths)"
   ]
  },
  {
   "cell_type": "code",
   "execution_count": 63,
   "id": "6cb86bbc-85d7-464a-905a-4cd4e50089c7",
   "metadata": {
    "tags": []
   },
   "outputs": [
    {
     "name": "stdout",
     "output_type": "stream",
     "text": [
      "2010-09-03_01:00:00__131A-1600A-1700A-171A-193A-211A-304A-335A-94A.blosc\n",
      "2010-09-03_01:00:00__aia__131A-1600A-1700A-171A-193A-211A-304A-335A-94A.blosc\n"
     ]
    }
   ],
   "source": [
    "!ls /home/rlx/blosc_cache/"
   ]
  },
  {
   "cell_type": "code",
   "execution_count": 50,
   "id": "3f09ec54-acde-4793-89d4-163a04368f8e",
   "metadata": {
    "tags": []
   },
   "outputs": [],
   "source": [
    "kk"
   ]
  },
  {
   "cell_type": "code",
   "execution_count": null,
   "id": "0e2866ab-abfc-4825-8289-7557956fb8d5",
   "metadata": {},
   "outputs": [],
   "source": []
  }
 ],
 "metadata": {
  "kernelspec": {
   "display_name": "sdofm (Local)",
   "language": "python",
   "name": "sdofm"
  },
  "language_info": {
   "codemirror_mode": {
    "name": "ipython",
    "version": 3
   },
   "file_extension": ".py",
   "mimetype": "text/x-python",
   "name": "python",
   "nbconvert_exporter": "python",
   "pygments_lexer": "ipython3",
   "version": "3.10.14"
  }
 },
 "nbformat": 4,
 "nbformat_minor": 5
}
