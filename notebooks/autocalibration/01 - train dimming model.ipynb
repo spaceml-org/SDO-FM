{
 "cells": [
  {
   "cell_type": "code",
   "execution_count": 1,
   "id": "babe9262-ec68-4c77-9793-79a5c7910da0",
   "metadata": {
    "tags": []
   },
   "outputs": [],
   "source": [
    "import sys\n",
    "import os\n",
    "sys.path.append(\"../..\")\n",
    "\n",
    "from omegaconf import OmegaConf\n",
    "from sdofm.datasets.SDOML import SDOMLDataModule, SDOMLDataset\n",
    "from sdofm.datasets.RandomIntervalSDOML import RandomIntervalSDOMLDataset, RandomIntervalSDOMLDataModule \n",
    "from rlxutils import subplots\n",
    "import matplotlib.pyplot as plt\n",
    "import numpy as np\n",
    "import pandas as pd\n",
    "from datetime import datetime\n",
    "from sdofm.utils import stonyhurst_to_patch_index\n",
    "from progressbar import progressbar as pbar\n",
    "from sdofm.constants import ALL_COMPONENTS, ALL_WAVELENGTHS, ALL_IONS\n",
    "from rlxutils import ElapsedTimes"
   ]
  },
  {
   "cell_type": "code",
   "execution_count": 2,
   "id": "a610c896-a75a-43f6-a91a-bba5c795801f",
   "metadata": {
    "tags": []
   },
   "outputs": [],
   "source": [
    "cfg = OmegaConf.load(\"../../experiments/default.yaml\")"
   ]
  },
  {
   "cell_type": "code",
   "execution_count": 3,
   "id": "cf2a8bba-8ecd-437d-a53a-7f89d0abad64",
   "metadata": {
    "tags": []
   },
   "outputs": [
    {
     "data": {
      "text/plain": [
       "'EVE_legacy.zarr\"'"
      ]
     },
     "execution_count": 3,
     "metadata": {},
     "output_type": "execute_result"
    }
   ],
   "source": [
    "cfg.data.sdoml.sub_directory.eve"
   ]
  },
  {
   "cell_type": "code",
   "execution_count": 4,
   "id": "ad61333d-fd53-442e-81f3-61ed05ec06c2",
   "metadata": {
    "tags": []
   },
   "outputs": [
    {
     "name": "stdout",
     "output_type": "stream",
     "text": [
      "[* CACHE SYSTEM *] Found cached index data in /mnt/sdoml/cache/aligndata_AIA_FULL_HMI_FULL_12min.csv.\n",
      "[* CACHE SYSTEM *] Found cached normalization data in /mnt/sdoml/cache/normalizations_AIA_FULL_HMI_FULL_12min.json.\n",
      "[* CACHE SYSTEM *] Found cached HMI mask data in /mnt/sdoml/cache/hmi_mask_512x512.npy.\n"
     ]
    }
   ],
   "source": [
    "data_module = RandomIntervalSDOMLDataModule(\n",
    "    # hmi_path=os.path.join(\n",
    "    #     self.cfg.data.sdoml.base_directory, self.cfg.data.sdoml.sub_directory.hmi\n",
    "    # ),\n",
    "    hmi_path=os.path.join(\n",
    "        cfg.data.sdoml.base_directory,\n",
    "        cfg.data.sdoml.sub_directory.hmi,\n",
    "    ),\n",
    "    aia_path = os.path.join(\n",
    "        cfg.data.sdoml.base_directory,\n",
    "        cfg.data.sdoml.sub_directory.aia,\n",
    "    ),    \n",
    "    eve_path = None,\n",
    "    components  = cfg.data.sdoml.components,\n",
    "    wavelengths = cfg.data.sdoml.wavelengths,\n",
    "    ions        = cfg.data.sdoml.ions,\n",
    "    frequency   = cfg.data.sdoml.frequency,\n",
    "    batch_size  = 16,\n",
    "    num_workers = 6,\n",
    "    num_frames  = 1,\n",
    "    blosc_cache = \"/home/rlx/blosc_cache\",\n",
    "    start_date = '2010-01-01',\n",
    "    end_date   = '2010-12-31',\n",
    "    dim = True,\n",
    "    sampling_period = '5days',\n",
    "    val_months  = cfg.data.month_splits.val,\n",
    "    test_months = cfg.data.month_splits.test,\n",
    "    holdout_months = cfg.data.month_splits.holdout,\n",
    "    cache_dir = os.path.join(\n",
    "        cfg.data.sdoml.base_directory,\n",
    "        cfg.data.sdoml.sub_directory.cache,\n",
    "    ),\n",
    ")\n",
    "data_module.setup()"
   ]
  },
  {
   "cell_type": "code",
   "execution_count": 5,
   "id": "b0212ba9-8156-4371-a8c2-18d311bf6e48",
   "metadata": {
    "tags": []
   },
   "outputs": [],
   "source": [
    "import torch.nn as nn\n",
    "import torch.nn.functional as F\n",
    "import torch\n",
    "\n",
    "class Net1(nn.Module):\n",
    "    def __init__(self):\n",
    "        super().__init__()\n",
    "        self.pool = nn.MaxPool2d(2, 2)\n",
    "        self.conv1 = nn.Conv2d(12, 64, 5, stride=2)\n",
    "        self.conv2 = nn.Conv2d(64, 128, 5, stride=2)\n",
    "        self.conv3 = nn.Conv2d(128, 32, 5, stride=2)\n",
    "        self.fc1 = nn.Linear(1568, 120)\n",
    "        self.fc2 = nn.Linear(120, 84)\n",
    "        self.fc3 = nn.Linear(84, 12)\n",
    "\n",
    "    def forward(self, x):\n",
    "        x = self.pool(F.relu(self.conv1(x)))\n",
    "        x = self.pool(F.relu(self.conv2(x)))\n",
    "        x = self.pool(F.relu(self.conv3(x)))\n",
    "        x = torch.flatten(x, 1) # flatten all dimensions except batch\n",
    "        x = F.relu(self.fc1(x))\n",
    "        x = F.relu(self.fc2(x))\n",
    "        x = F.sigmoid(self.fc3(x))\n",
    "        return x\n",
    "    \n",
    "    \n",
    "class Net2(nn.Module):\n",
    "    def __init__(self):\n",
    "        super().__init__()\n",
    "        self.pool = nn.MaxPool2d(3,)\n",
    "        self.pool2 = nn.AvgPool2d(2,)\n",
    "\n",
    "        self.conv1 = nn.Conv2d(12, 64, 3, stride=1)\n",
    "        self.conv2 = nn.Conv2d(64, 128, 3, stride=1)\n",
    "        self.fc1 = nn.Linear(93312, 12)\n",
    "\n",
    "    def forward(self, x):\n",
    "        x = self.pool2(x) # downscale img by 2 (to make it similar to paper)\n",
    "        x = self.pool(F.relu(self.conv1(x)))\n",
    "        x = self.pool(F.relu(self.conv2(x)))\n",
    "        x = torch.flatten(x, 1) # flatten all dimensions except batch\n",
    "        x = F.relu(self.fc1(x))\n",
    "        return x"
   ]
  },
  {
   "cell_type": "code",
   "execution_count": 6,
   "id": "567de898-fc29-405a-9381-30393d34c288",
   "metadata": {
    "tags": []
   },
   "outputs": [],
   "source": [
    "model = Net1()"
   ]
  },
  {
   "cell_type": "code",
   "execution_count": 7,
   "id": "b5f233bc-af6c-4245-9203-d5d46b0e7104",
   "metadata": {
    "tags": []
   },
   "outputs": [
    {
     "data": {
      "text/plain": [
       "(929, 158)"
      ]
     },
     "execution_count": 7,
     "metadata": {},
     "output_type": "execute_result"
    }
   ],
   "source": [
    "dltrain = data_module.train_dataloader()\n",
    "dlval   = data_module.val_dataloader()\n",
    "val_iter = iter(dlval)\n",
    "len(dltrain), len(dlval)"
   ]
  },
  {
   "cell_type": "code",
   "execution_count": 8,
   "id": "df8846ba-9569-4963-93c0-22cbec54235d",
   "metadata": {
    "tags": []
   },
   "outputs": [
    {
     "name": "stdout",
     "output_type": "stream",
     "text": [
      "[19200, 64, 204800, 128, 102400, 32, 188160, 120, 10080, 84, 1008, 12] 526088\n"
     ]
    }
   ],
   "source": [
    "psize = [np.prod(i.shape) for i in model.parameters()]\n",
    "print (psize, sum(psize))\n"
   ]
  },
  {
   "cell_type": "code",
   "execution_count": 9,
   "id": "a328bf61-3278-4072-bc66-ee3472e48aa2",
   "metadata": {
    "tags": []
   },
   "outputs": [],
   "source": [
    "model = Net1().cuda()\n",
    "optimizer = torch.optim.Adam(model.parameters(), lr=1e-5)\n",
    "loss_fn = lambda a,b: torch.sqrt( torch.mean((a-b)**2 ) )\n",
    "#loss_fn = lambda a,b: torch.mean((a-b)**2 )"
   ]
  },
  {
   "cell_type": "code",
   "execution_count": null,
   "id": "01fce0b4-f415-4c6c-8f93-4ed5efd35e5a",
   "metadata": {},
   "outputs": [],
   "source": []
  },
  {
   "cell_type": "code",
   "execution_count": null,
   "id": "c10c58d7-7846-4b9e-a627-21c1d56b85fb",
   "metadata": {
    "tags": []
   },
   "outputs": [
    {
     "name": "stdout",
     "output_type": "stream",
     "text": [
      "epoch   0 step 928 loss 0.24618 lossval 0.25290 params 0.0281104 epoch_time 508 secs\n",
      "epoch   1 step 495 loss 0.22632 lossval 0.23140 params 0.0294579 epoch_time 274 secs\r"
     ]
    }
   ],
   "source": [
    "et = ElapsedTimes()\n",
    "num_epochs = 100\n",
    "lossh, lossvalh = [], []\n",
    "for epoch in range(num_epochs):\n",
    "    t0 = datetime.now() \n",
    "\n",
    "    for step, batch in enumerate(dltrain):\n",
    "        # extract data from batch\n",
    "        with et(\"batch\"):\n",
    "            x = batch['dimmed_image_stack'].type(torch.float)[:,:,0,:,:].cuda() # ignore time frames, just get the first one\n",
    "            f = batch['dim_factor'].type(torch.float).cuda()\n",
    "\n",
    "        # run model\n",
    "        with et(\"forward\"):\n",
    "            o = model(x)\n",
    "\n",
    "        # compute loss\n",
    "        with et(\"loss\"):\n",
    "            loss = loss_fn(f,o)\n",
    "\n",
    "        # backpropage and sigmoidupdate\n",
    "        with et(\"backward\"):\n",
    "            loss.backward()\n",
    "            optimizer.step()\n",
    "\n",
    "        with et(\"validation\"):\n",
    "\n",
    "            # measure on val every 10 steps\n",
    "            if step%10 == 0:\n",
    "                try:\n",
    "                    val_batch = next(val_iter)        \n",
    "                except Exception as e:\n",
    "                    val_iter = iter(dlval)                \n",
    "                    val_batch = next(val_iter)        \n",
    "\n",
    "                xval = batch['dimmed_image_stack'].type(torch.float)[:,:,0,:,:].cuda() # ignore time frames, just get the first one\n",
    "                fval = batch['dim_factor'].type(torch.float).cuda()\n",
    "                with torch.no_grad():\n",
    "                    oval = model(x)\n",
    "                    lossval = loss_fn(f,o)\n",
    "\n",
    "                    lossvaln = lossval.detach().cpu().numpy()\n",
    "\n",
    "        with et(\"logging\"):\n",
    "            # cosmetics\n",
    "            lossn = loss.detach().cpu().numpy()\n",
    "            lossh.append(lossn)\n",
    "\n",
    "            lossvalh.append(lossvaln)\n",
    "\n",
    "\n",
    "            psummary = np.mean([(p.abs().mean().detach().cpu().numpy()) for p in model.parameters()])    \n",
    "            lossm = np.mean(lossh[-100:])\n",
    "            lossvalm = np.mean(lossvalh[-100:])\n",
    "            epoch_time = (datetime.now() - t0).seconds\n",
    "            print(f\"epoch {epoch:3} step {step:3d} loss {lossm:.5f} lossval {lossvalm:.5f} params {psummary:.7f} epoch_time {epoch_time} secs\", end=\"\\r\")\n",
    "\n",
    "    print()"
   ]
  },
  {
   "cell_type": "code",
   "execution_count": 11,
   "id": "9f797def-e69a-4e59-bb42-e4fc1d8bf395",
   "metadata": {
    "tags": []
   },
   "outputs": [
    {
     "data": {
      "text/plain": [
       "{'batch': 586.1441578865051, 'forward': 8.1301748752594, 'loss': 1.0517053604125977, 'backward': 19.454721450805664, 'validation': 125.91151571273804, 'logging': 285.20070695877075}"
      ]
     },
     "execution_count": 11,
     "metadata": {},
     "output_type": "execute_result"
    }
   ],
   "source": [
    "et"
   ]
  },
  {
   "cell_type": "code",
   "execution_count": 12,
   "id": "38447f41-5283-4083-85a6-b6486fa49f20",
   "metadata": {
    "tags": []
   },
   "outputs": [
    {
     "data": {
      "text/plain": [
       "1025.8929822444916"
      ]
     },
     "execution_count": 12,
     "metadata": {},
     "output_type": "execute_result"
    }
   ],
   "source": [
    "sum(list(et.elapsed_times.values()))"
   ]
  },
  {
   "cell_type": "code",
   "execution_count": 13,
   "id": "8922f2d3-fb8f-4063-b3dd-8160e2f7bfec",
   "metadata": {
    "tags": []
   },
   "outputs": [],
   "source": [
    "def ploth(h, name='loss', ylim=None, ax=None):\n",
    "    lossp = pd.DataFrame(h, columns=[name])\n",
    "    lossp[f'smoothed {name}'] = lossp[name].rolling(100).mean()\n",
    "    lossp.plot(alpha=.5, ax=ax)\n",
    "    plt.grid(); plt.xlabel(\"steps\"); plt.ylabel(\"loss\")\n",
    "    if ylim is not None:\n",
    "        plt.ylim(*ylim)"
   ]
  },
  {
   "cell_type": "code",
   "execution_count": 15,
   "id": "362d11aa-dc55-4c4c-9bcc-75603ff1512c",
   "metadata": {
    "tags": []
   },
   "outputs": [
    {
     "data": {
      "text/plain": [
       "(0.0, 0.1)"
      ]
     },
     "execution_count": 15,
     "metadata": {},
     "output_type": "execute_result"
    },
    {
     "data": {
      "image/png": "[encoded data removed]",
      "text/plain": [
       "<Figure size 640x480 with 1 Axes>"
      ]
     },
     "metadata": {},
     "output_type": "display_data"
    }
   ],
   "source": [
    "ploth(lossh)\n",
    "plt.ylim(0,.1)"
   ]
  },
  {
   "cell_type": "code",
   "execution_count": null,
   "id": "0e2866ab-abfc-4825-8289-7557956fb8d5",
   "metadata": {},
   "outputs": [],
   "source": []
  }
 ],
 "metadata": {
  "kernelspec": {
   "display_name": "sdofm (Local)",
   "language": "python",
   "name": "sdofm"
  },
  "language_info": {
   "codemirror_mode": {
    "name": "ipython",
    "version": 3
   },
   "file_extension": ".py",
   "mimetype": "text/x-python",
   "name": "python",
   "nbconvert_exporter": "python",
   "pygments_lexer": "ipython3",
   "version": "3.10.14"
  }
 },
 "nbformat": 4,
 "nbformat_minor": 5
}
