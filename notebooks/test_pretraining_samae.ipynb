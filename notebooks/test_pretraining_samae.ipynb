{
    "cells": [
        {
            "cell_type": "code",
            "execution_count": 1,
            "metadata": {},
            "outputs": [],
            "source": [
                "%load_ext autoreload\n",
                "%autoreload 2"
            ]
        },
        {
            "cell_type": "code",
            "execution_count": 2,
            "metadata": {},
            "outputs": [
                {
                    "name": "stderr",
                    "output_type": "stream",
                    "text": [
                        "/home/walsh/.local/lib/python3.10/site-packages/tqdm/auto.py:21: TqdmWarning: IProgress not found. Please update jupyter and ipywidgets. See https://ipywidgets.readthedocs.io/en/stable/user_install.html\n",
                        "  from .autonotebook import tqdm as notebook_tqdm\n"
                    ]
                }
            ],
            "source": [
                "import os\n",
                "from pathlib import Path\n",
                "\n",
                "import lightning.pytorch as pl\n",
                "import torch\n",
                "import wandb\n",
                "from sdofm import utils\n",
                "from sdofm.datasets import SDOMLDataModule\n",
                "from sdofm.pretraining import SAMAE"
            ]
        },
        {
            "cell_type": "code",
            "execution_count": 3,
            "metadata": {},
            "outputs": [],
            "source": [
                "import omegaconf\n",
                "cfg = omegaconf.OmegaConf.load(\"../experiments/pretrain_32.2M_samae_tpu.yaml\")"
            ]
        },
        {
            "cell_type": "code",
            "execution_count": 4,
            "metadata": {},
            "outputs": [
                {
                    "name": "stdout",
                    "output_type": "stream",
                    "text": [
                        "[* CACHE SYSTEM *] Found cached index data in /mnt/sdoml/cache/aligndata_AIA_FULL_12min.csv.\n",
                        "[* CACHE SYSTEM *] Found cached normalization data in /mnt/sdoml/cache/normalizations_AIA_FULL_12min.json.\n",
                        "[* CACHE SYSTEM *] Found cached HMI mask data in /mnt/sdoml/cache/hmi_mask_512x512.npy.\n"
                    ]
                }
            ],
            "source": [
                "data_module = SDOMLDataModule(\n",
                "                    hmi_path=None,\n",
                "                    aia_path=os.path.join(\n",
                "                        cfg.data.sdoml.base_directory, cfg.data.sdoml.sub_directory.aia\n",
                "                    ),\n",
                "                    eve_path=None,\n",
                "                    components=cfg.data.sdoml.components,\n",
                "                    wavelengths=cfg.data.sdoml.wavelengths,\n",
                "                    ions=cfg.data.sdoml.ions,\n",
                "                    frequency=cfg.data.sdoml.frequency,\n",
                "                    batch_size=cfg.model.opt.batch_size,\n",
                "                    num_workers=cfg.data.num_workers,\n",
                "                    val_months=cfg.data.month_splits.val,\n",
                "                    test_months=cfg.data.month_splits.test,\n",
                "                    holdout_months=cfg.data.month_splits.holdout,\n",
                "                    cache_dir=os.path.join(\n",
                "                        cfg.data.sdoml.base_directory,\n",
                "                        cfg.data.sdoml.sub_directory.cache,\n",
                "                    ),\n",
                "                    min_date=cfg.data.min_date,\n",
                "                    max_date=cfg.data.max_date,\n",
                "                    num_frames=cfg.model.mae.num_frames,\n",
                "                )\n",
                "data_module.setup()"
            ]
        },
        {
            "cell_type": "code",
            "execution_count": 5,
            "metadata": {},
            "outputs": [],
            "source": [
                "model = SAMAE(\n",
                "    **cfg.model.mae,\n",
                "    **cfg.model.samae,\n",
                "    optimiser=cfg.model.opt.optimiser,\n",
                "    lr=cfg.model.opt.learning_rate,\n",
                "    weight_decay=cfg.model.opt.weight_decay,\n",
                ")"
            ]
        },
        {
            "cell_type": "code",
            "execution_count": 6,
            "metadata": {},
            "outputs": [],
            "source": [
                "# from torchsummary import summary\n",
                "# summary(model.autoencoder, input_size=((9, 1, 512, 512)))"
            ]
        },
        {
            "cell_type": "code",
            "execution_count": 7,
            "metadata": {},
            "outputs": [
                {
                    "data": {
                        "text/plain": [
                            "636"
                        ]
                    },
                    "execution_count": 7,
                    "metadata": {},
                    "output_type": "execute_result"
                }
            ],
            "source": [
                "len(data_module.val_dataloader())"
            ]
        },
        {
            "cell_type": "code",
            "execution_count": 8,
            "metadata": {},
            "outputs": [
                {
                    "name": "stderr",
                    "output_type": "stream",
                    "text": [
                        "WARNING:root:PJRT is now the default runtime. For more information, see https://github.com/pytorch/xla/blob/master/docs/pjrt.md\n",
                        "WARNING:root:libtpu.so and TPU device found. Setting PJRT_DEVICE=TPU.\n",
                        "GPU available: False, used: False\n",
                        "TPU available: True, using: 1 TPU cores\n",
                        "IPU available: False, using: 0 IPUs\n",
                        "HPU available: False, using: 0 HPUs\n",
                        "/home/walsh/.local/lib/python3.10/site-packages/lightning/pytorch/trainer/connectors/logger_connector/logger_connector.py:75: Starting from v1.9.0, `tensorboardX` has been removed as a dependency of the `lightning.pytorch` package, due to potential conflicts with other packages in the ML ecosystem. For this reason, `logger=True` will use `CSVLogger` as the default logger, unless the `tensorboard` or `tensorboardX` packages are found. Please `pip install lightning[extra]` or one of them to enable TensorBoard support by default\n",
                        "\n",
                        "  | Name        | Type                             | Params\n",
                        "-----------------------------------------------------------------\n",
                        "0 | autoencoder | SolarAwareMaskedAutoencoderViT3D | 34.8 M\n",
                        "-----------------------------------------------------------------\n",
                        "31.5 M    Trainable params\n",
                        "3.3 M     Non-trainable params\n",
                        "34.8 M    Total params\n",
                        "139.200   Total estimated model params size (MB)\n"
                    ]
                },
                {
                    "name": "stdout",
                    "output_type": "stream",
                    "text": [
                        "Epoch 0:   0%|          | 0/5585 [00:00<?, ?it/s]                          "
                    ]
                },
                {
                    "name": "stderr",
                    "output_type": "stream",
                    "text": [
                        "/home/walsh/.local/lib/python3.10/site-packages/lightning/pytorch/trainer/call.py:54: Detected KeyboardInterrupt, attempting graceful shutdown...\n"
                    ]
                },
                {
                    "ename": "",
                    "evalue": "",
                    "output_type": "error",
                    "traceback": [
                        "\u001b[1;31mThe Kernel crashed while executing code in the the current cell or a previous cell. Please review the code in the cell(s) to identify a possible cause of the failure. Click <a href='https://aka.ms/vscodeJupyterKernelCrash'>here</a> for more info. View Jupyter <a href='command:jupyter.viewOutput'>log</a> for further details."
                    ]
                }
            ],
            "source": [
                "trainer = pl.Trainer(\n",
                "    devices=1, accelerator=cfg.experiment.accelerator, max_epochs=cfg.model.opt.epochs\n",
                ")\n",
                "trainer.fit(model=model, datamodule=data_module)"
            ]
        },
        {
            "cell_type": "code",
            "execution_count": null,
            "metadata": {},
            "outputs": [],
            "source": [
                "batch = next(iter(data_module.train_dataloader()))"
            ]
        },
        {
            "cell_type": "code",
            "execution_count": null,
            "metadata": {},
            "outputs": [
                {
                    "name": "stdout",
                    "output_type": "stream",
                    "text": [
                        "<lightning.pytorch.trainer.trainer.Trainer object at 0x7ff362f901f0>\n"
                    ]
                }
            ],
            "source": [
                "print(trainer)"
            ]
        },
        {
            "cell_type": "code",
            "execution_count": null,
            "metadata": {},
            "outputs": [
                {
                    "data": {
                        "text/plain": [
                            "28311552"
                        ]
                    },
                    "execution_count": 27,
                    "metadata": {},
                    "output_type": "execute_result"
                }
            ],
            "source": [
                "3*9*1*512*512*4 # in BYTES"
            ]
        },
        {
            "cell_type": "code",
            "execution_count": null,
            "metadata": {},
            "outputs": [],
            "source": []
        }
    ],
    "metadata": {
        "kernelspec": {
            "display_name": "sdofm",
            "language": "python",
            "name": "python3"
        },
        "language_info": {
            "codemirror_mode": {
                "name": "ipython",
                "version": 3
            },
            "file_extension": ".py",
            "mimetype": "text/x-python",
            "name": "python",
            "nbconvert_exporter": "python",
            "pygments_lexer": "ipython3",
            "version": "3.10.6"
        },
        "orig_nbformat": 4
    },
    "nbformat": 4,
    "nbformat_minor": 2
}
