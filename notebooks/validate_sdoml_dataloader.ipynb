{
 "cells": [
  {
   "cell_type": "code",
   "execution_count": 1,
   "metadata": {},
   "outputs": [],
   "source": [
    "%load_ext autoreload\n",
    "%autoreload 2"
   ]
  },
  {
   "cell_type": "code",
   "execution_count": 2,
   "metadata": {},
   "outputs": [],
   "source": [
    "import os\n",
    "from pathlib import Path\n",
    "\n",
    "import numpy as np\n",
    "import pandas as pd\n",
    "import zarr\n",
    "import dask.array as da\n",
    "import dask\n",
    "from dask.diagnostics import ProgressBar\n",
    "from dask.array import stats\n",
    "\n",
    "import torch\n",
    "from torch.utils.data import Dataset\n",
    "import pytorch_lightning as pl\n",
    "import json\n",
    "from tqdm import tqdm"
   ]
  },
  {
   "cell_type": "code",
   "execution_count": 3,
   "metadata": {},
   "outputs": [],
   "source": [
    "from sdofm.datasets.ZarrIrradianceDataModuleHMI import ZarrIrradianceDataModuleHMI"
   ]
  },
  {
   "cell_type": "code",
   "execution_count": 12,
   "metadata": {},
   "outputs": [
    {
     "name": "stdout",
     "output_type": "stream",
     "text": [
      "\n",
      "Data alignment calculation begin:\n",
      "--------------------------------------------------\n",
      "Aligning AIA data\n",
      "Aligning AIA data for wavelength: 131A\n"
     ]
    },
    {
     "name": "stderr",
     "output_type": "stream",
     "text": [
      "100%|██████████| 5/5 [00:24<00:00,  4.98s/it]\n"
     ]
    },
    {
     "name": "stdout",
     "output_type": "stream",
     "text": [
      "Aligning AIA data for wavelength: 1600A\n"
     ]
    },
    {
     "name": "stderr",
     "output_type": "stream",
     "text": [
      "100%|██████████| 5/5 [00:23<00:00,  4.65s/it]\n"
     ]
    },
    {
     "name": "stdout",
     "output_type": "stream",
     "text": [
      "Aligning AIA data for wavelength: 1700A\n"
     ]
    },
    {
     "name": "stderr",
     "output_type": "stream",
     "text": [
      "100%|██████████| 5/5 [00:20<00:00,  4.15s/it]\n"
     ]
    },
    {
     "name": "stdout",
     "output_type": "stream",
     "text": [
      "Aligning AIA data for wavelength: 171A\n"
     ]
    },
    {
     "name": "stderr",
     "output_type": "stream",
     "text": [
      "100%|██████████| 5/5 [00:22<00:00,  4.50s/it]\n"
     ]
    },
    {
     "name": "stdout",
     "output_type": "stream",
     "text": [
      "Aligning AIA data for wavelength: 193A\n"
     ]
    },
    {
     "name": "stderr",
     "output_type": "stream",
     "text": [
      "100%|██████████| 5/5 [00:20<00:00,  4.15s/it]\n"
     ]
    },
    {
     "name": "stdout",
     "output_type": "stream",
     "text": [
      "Aligning AIA data for wavelength: 211A\n"
     ]
    },
    {
     "name": "stderr",
     "output_type": "stream",
     "text": [
      "100%|██████████| 5/5 [00:21<00:00,  4.34s/it]\n"
     ]
    },
    {
     "name": "stdout",
     "output_type": "stream",
     "text": [
      "Aligning AIA data for wavelength: 304A\n"
     ]
    },
    {
     "name": "stderr",
     "output_type": "stream",
     "text": [
      "100%|██████████| 5/5 [00:20<00:00,  4.05s/it]\n"
     ]
    },
    {
     "name": "stdout",
     "output_type": "stream",
     "text": [
      "Aligning AIA data for wavelength: 335A\n"
     ]
    },
    {
     "name": "stderr",
     "output_type": "stream",
     "text": [
      "100%|██████████| 5/5 [00:21<00:00,  4.35s/it]\n"
     ]
    },
    {
     "name": "stdout",
     "output_type": "stream",
     "text": [
      "Aligning AIA data for wavelength: 94A\n"
     ]
    },
    {
     "name": "stderr",
     "output_type": "stream",
     "text": [
      "100%|██████████| 5/5 [00:20<00:00,  4.18s/it]\n"
     ]
    },
    {
     "name": "stdout",
     "output_type": "stream",
     "text": [
      "AIA alignment completed with 177481 samples.\n",
      "Aligning HMI data\n",
      "Aligning HMI data for component: Bx\n"
     ]
    },
    {
     "name": "stderr",
     "output_type": "stream",
     "text": [
      "100%|██████████| 5/5 [00:16<00:00,  3.27s/it]\n"
     ]
    },
    {
     "name": "stdout",
     "output_type": "stream",
     "text": [
      "HMI alignment completed with 164426 samples.\n",
      "Aligning EVE data\n",
      "\n",
      "##################################################\n",
      "[*] Total Alignment Completed with 16 Samples.\n",
      "##################################################\n",
      "\n",
      "\n",
      "Calculating normalizations for wavelength 131A:\n",
      "--------------------------------------------------\n",
      "Sum:\n",
      "[########################################] | 100% Completed | 2.32 ss\n",
      "Max Pixel Value:\n",
      "[########################################] | 100% Completed | 202.89 ms\n",
      "Standard Deviation:\n",
      "[########################################] | 100% Completed | 203.06 ms\n",
      "Skew:\n",
      "[########################################] | 100% Completed | 404.22 ms\n",
      "Kurtosis:\n",
      "[########################################] | 100% Completed | 404.27 ms\n",
      "\n",
      "Calculating normalizations for wavelength 1600A:\n",
      "--------------------------------------------------\n",
      "Sum:\n",
      "[########################################] | 100% Completed | 1.92 ss\n",
      "Max Pixel Value:\n",
      "[########################################] | 100% Completed | 304.39 ms\n",
      "Standard Deviation:\n",
      "[########################################] | 100% Completed | 304.68 ms\n",
      "Skew:\n",
      "[########################################] | 100% Completed | 404.79 ms\n",
      "Kurtosis:\n",
      "[########################################] | 100% Completed | 404.63 ms\n",
      "\n",
      "Calculating normalizations for wavelength 1700A:\n",
      "--------------------------------------------------\n",
      "Sum:\n",
      "[########################################] | 100% Completed | 1.92 ss\n",
      "Max Pixel Value:\n",
      "[########################################] | 100% Completed | 202.72 ms\n",
      "Standard Deviation:\n",
      "[########################################] | 100% Completed | 304.25 ms\n",
      "Skew:\n",
      "[########################################] | 100% Completed | 404.55 ms\n",
      "Kurtosis:\n",
      "[########################################] | 100% Completed | 505.54 ms\n",
      "\n",
      "Calculating normalizations for wavelength 171A:\n",
      "--------------------------------------------------\n",
      "Sum:\n",
      "[########################################] | 100% Completed | 1.31 ss\n",
      "Max Pixel Value:\n",
      "[########################################] | 100% Completed | 304.13 ms\n",
      "Standard Deviation:\n",
      "[########################################] | 100% Completed | 303.65 ms\n",
      "Skew:\n",
      "[########################################] | 100% Completed | 404.95 ms\n",
      "Kurtosis:\n",
      "[########################################] | 100% Completed | 506.74 ms\n",
      "\n",
      "Calculating normalizations for wavelength 193A:\n",
      "--------------------------------------------------\n",
      "Sum:\n",
      "[########################################] | 100% Completed | 1.41 ss\n",
      "Max Pixel Value:\n",
      "[########################################] | 100% Completed | 304.14 ms\n",
      "Standard Deviation:\n",
      "[########################################] | 100% Completed | 303.81 ms\n",
      "Skew:\n",
      "[########################################] | 100% Completed | 405.26 ms\n",
      "Kurtosis:\n",
      "[########################################] | 100% Completed | 505.76 ms\n",
      "\n",
      "Calculating normalizations for wavelength 211A:\n",
      "--------------------------------------------------\n",
      "Sum:\n",
      "[########################################] | 100% Completed | 1.51 ss\n",
      "Max Pixel Value:\n",
      "[########################################] | 100% Completed | 303.81 ms\n",
      "Standard Deviation:\n",
      "[########################################] | 100% Completed | 303.83 ms\n",
      "Skew:\n",
      "[########################################] | 100% Completed | 404.97 ms\n",
      "Kurtosis:\n",
      "[########################################] | 100% Completed | 505.61 ms\n",
      "\n",
      "Calculating normalizations for wavelength 304A:\n",
      "--------------------------------------------------\n",
      "Sum:\n",
      "[########################################] | 100% Completed | 1.31 ss\n",
      "Max Pixel Value:\n",
      "[########################################] | 100% Completed | 202.27 ms\n",
      "Standard Deviation:\n",
      "[########################################] | 100% Completed | 202.73 ms\n",
      "Skew:\n",
      "[########################################] | 100% Completed | 405.96 ms\n",
      "Kurtosis:\n",
      "[########################################] | 100% Completed | 505.77 ms\n",
      "\n",
      "Calculating normalizations for wavelength 335A:\n",
      "--------------------------------------------------\n",
      "Sum:\n",
      "[########################################] | 100% Completed | 1.51 ss\n",
      "Max Pixel Value:\n",
      "[########################################] | 100% Completed | 202.69 ms\n",
      "Standard Deviation:\n",
      "[########################################] | 100% Completed | 303.84 ms\n",
      "Skew:\n",
      "[########################################] | 100% Completed | 304.21 ms\n",
      "Kurtosis:\n",
      "[########################################] | 100% Completed | 506.20 ms\n",
      "\n",
      "Calculating normalizations for wavelength 94A:\n",
      "--------------------------------------------------\n",
      "Sum:\n",
      "[########################################] | 100% Completed | 1.31 ss\n",
      "Max Pixel Value:\n",
      "[########################################] | 100% Completed | 202.80 ms\n",
      "Standard Deviation:\n",
      "[########################################] | 100% Completed | 304.91 ms\n",
      "Skew:\n",
      "[########################################] | 100% Completed | 404.71 ms\n",
      "Kurtosis:\n",
      "[########################################] | 100% Completed | 507.13 ms\n",
      "\n",
      "Calculating normalizations for component Bx:\n",
      "--------------------------------------------------\n",
      "Sum:\n",
      "[########################################] | 100% Completed | 202.51 ms\n",
      "Max Pixel Value:\n",
      "[########################################] | 100% Completed | 202.51 ms\n",
      "Standard Deviation:\n",
      "[########################################] | 100% Completed | 202.35 ms\n",
      "Skew:\n",
      "[########################################] | 100% Completed | 304.60 ms\n",
      "Kurtosis:\n",
      "[########################################] | 100% Completed | 404.73 ms\n",
      "\n",
      "Calculating normalizations for component By:\n",
      "--------------------------------------------------\n",
      "Sum:\n",
      "[########################################] | 100% Completed | 1.21 ss\n",
      "Max Pixel Value:\n",
      "[########################################] | 100% Completed | 203.31 ms\n",
      "Standard Deviation:\n",
      "[########################################] | 100% Completed | 202.76 ms\n",
      "Skew:\n",
      "[########################################] | 100% Completed | 303.75 ms\n",
      "Kurtosis:\n",
      "[########################################] | 100% Completed | 405.32 ms\n",
      "\n",
      "Calculating normalizations for component Bz:\n",
      "--------------------------------------------------\n",
      "Sum:\n",
      "[########################################] | 100% Completed | 1.11 ss\n",
      "Max Pixel Value:\n",
      "[########################################] | 100% Completed | 202.69 ms\n",
      "Standard Deviation:\n",
      "[########################################] | 100% Completed | 202.42 ms\n",
      "Skew:\n",
      "[########################################] | 100% Completed | 304.02 ms\n",
      "Kurtosis:\n",
      "[########################################] | 100% Completed | 404.94 ms\n"
     ]
    }
   ],
   "source": [
    "hmi_path = \"/mnt/sdoml/HMI.zarr\"\n",
    "aia_path = \"/mnt/sdoml/AIA.zarr\"\n",
    "eve_path = \"/mnt/sdoml/EVE_legacy.zarr\"\n",
    "components = [\"Bx\", \"By\", \"Bz\"]\n",
    "wavelengths = [\"131A\",\"1600A\",\"1700A\",\"171A\",\"193A\",\"211A\",\"304A\",\"335A\",\"94A\"]\n",
    "ions = [\"C III\", \"Fe IX\", \"Fe VIII\", \"Fe X\", \"Fe XI\", \"Fe XII\", \"Fe XIII\", \"Fe XIV\", \"Fe XIX\", \"Fe XV\", \"Fe XVI\", \"Fe XVIII\", \"Fe XVI_2\", \"Fe XX\", \"Fe XX_2\", \"Fe XX_3\", \"H I\", \"H I_2\", \"H I_3\", \"He I\", \"He II\", \"He II_2\", \"He I_2\", \"Mg IX\", \"Mg X\", \"Mg X_2\", \"Ne VII\", \"Ne VIII\", \"O II\", \"O III\", \"O III_2\", \"O II_2\", \"O IV\", \"O IV_2\", \"O V\", \"O VI\", \"S XIV\", \"Si XII\", \"Si XII_2\"]\n",
    "frequency = \"12min\"\n",
    "batch_size = 32\n",
    "\n",
    "test = ZarrIrradianceDataModuleHMI(hmi_path, aia_path, eve_path, components, wavelengths, ions, frequency, batch_size, num_workers=16, val_months=[10,1], test_months=[11,12],  holdout_months=[], cache_dir=\"/home/walsh/repos/SDO-FM/notebooks/\")"
   ]
  },
  {
   "cell_type": "code",
   "execution_count": 8,
   "metadata": {},
   "outputs": [],
   "source": [
    "hmi_data = zarr.group(zarr.DirectoryStore(\"/mnt/sdoml/EVE_legacy.zarr/\"))"
   ]
  },
  {
   "cell_type": "code",
   "execution_count": 9,
   "metadata": {},
   "outputs": [
    {
     "data": {
      "application/vnd.jupyter.widget-view+json": {
       "model_id": "abed63d69bd54df7bc8c660a21db950d",
       "version_major": 2,
       "version_minor": 0
      },
      "text/plain": [
       "Tree(nodes=(Node(disabled=True, name='/', nodes=(Node(disabled=True, icon='table', name='C III (2137380,) floa…"
      ]
     },
     "execution_count": 9,
     "metadata": {},
     "output_type": "execute_result"
    }
   ],
   "source": [
    "hmi_data.tree()"
   ]
  },
  {
   "cell_type": "code",
   "execution_count": 11,
   "metadata": {},
   "outputs": [
    {
     "data": {
      "text/plain": [
       "39"
      ]
     },
     "execution_count": 11,
     "metadata": {},
     "output_type": "execute_result"
    }
   ],
   "source": [
    "a = [\"C III\", \"Fe IX\", \"Fe VIII\", \"Fe X\", \"Fe XI\", \"Fe XII\", \"Fe XIII\", \"Fe XIV\", \"Fe XIX\", \"Fe XV\", \"Fe XVI\", \"Fe XVIII\", \"Fe XVI_2\", \"Fe XX\", \"Fe XX_2\", \"Fe XX_3\", \"H I\", \"H I_2\", \"H I_3\", \"He I\", \"He II\", \"He II_2\", \"He I_2\", \"Mg IX\", \"Mg X\", \"Mg X_2\", \"Ne VII\", \"Ne VIII\", \"O II\", \"O III\", \"O III_2\", \"O II_2\", \"O IV\", \"O IV_2\", \"O V\", \"O VI\", \"S XIV\", \"Si XII\", \"Si XII_2\"]\n",
    "len(a)"
   ]
  }
 ],
 "metadata": {
  "kernelspec": {
   "display_name": "daniel-hmieve",
   "language": "python",
   "name": "python3"
  },
  "language_info": {
   "codemirror_mode": {
    "name": "ipython",
    "version": 3
   },
   "file_extension": ".py",
   "mimetype": "text/x-python",
   "name": "python",
   "nbconvert_exporter": "python",
   "pygments_lexer": "ipython3",
   "version": "3.10.14"
  },
  "orig_nbformat": 4
 },
 "nbformat": 4,
 "nbformat_minor": 2
}
