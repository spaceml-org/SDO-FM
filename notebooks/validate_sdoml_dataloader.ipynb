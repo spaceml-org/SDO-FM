{
 "cells": [
  {
   "cell_type": "code",
   "execution_count": 1,
   "metadata": {},
   "outputs": [],
   "source": [
    "%load_ext autoreload\n",
    "%autoreload 2"
   ]
  },
  {
   "cell_type": "code",
   "execution_count": 2,
   "metadata": {},
   "outputs": [],
   "source": [
    "import os\n",
    "from pathlib import Path\n",
    "\n",
    "import numpy as np\n",
    "import pandas as pd\n",
    "import zarr\n",
    "import dask.array as da\n",
    "import dask\n",
    "from dask.diagnostics import ProgressBar\n",
    "from dask.array import stats\n",
    "\n",
    "import torch\n",
    "from torch.utils.data import Dataset\n",
    "import lighting.pytorch as pl\n",
    "import json\n",
    "from tqdm import tqdm"
   ]
  },
  {
   "cell_type": "code",
   "execution_count": 3,
   "metadata": {},
   "outputs": [],
   "source": [
    "from sdofm.datasets.SDOML import ZarrIrradianceDataModuleHMI"
   ]
  },
  {
   "cell_type": "code",
   "execution_count": 5,
   "metadata": {},
   "outputs": [
    {
     "name": "stdout",
     "output_type": "stream",
     "text": [
      "[* CACHE SYSTEM *] Found cached index data in /mnt/sdoml/metadata/aligndata_HMI_FULL_AIA_FULL_EVE_FULL_12min.csv.\n",
      "[* CACHE SYSTEM *] Found cached normalization data in /mnt/sdoml/metadata/normalizations_HMI_FULL_AIA_FULL_EVE_FULL_12min.json.\n"
     ]
    }
   ],
   "source": [
    "hmi_path = \"/mnt/sdoml/HMI.zarr\"\n",
    "aia_path = \"/mnt/sdoml/AIA.zarr\"\n",
    "eve_path = \"/mnt/sdoml/EVE_legacy.zarr\"\n",
    "components = [\"Bx\", \"By\", \"Bz\"]\n",
    "wavelengths = [\"131A\", \"1600A\", \"1700A\", \"171A\", \"193A\", \"211A\", \"304A\", \"335A\", \"94A\"]\n",
    "ions = [\n",
    "    \"C III\",\n",
    "    \"Fe IX\",\n",
    "    \"Fe VIII\",\n",
    "    \"Fe X\",\n",
    "    \"Fe XI\",\n",
    "    \"Fe XII\",\n",
    "    \"Fe XIII\",\n",
    "    \"Fe XIV\",\n",
    "    \"Fe XIX\",\n",
    "    \"Fe XV\",\n",
    "    \"Fe XVI\",\n",
    "    \"Fe XVIII\",\n",
    "    \"Fe XVI_2\",\n",
    "    \"Fe XX\",\n",
    "    \"Fe XX_2\",\n",
    "    \"Fe XX_3\",\n",
    "    \"H I\",\n",
    "    \"H I_2\",\n",
    "    \"H I_3\",\n",
    "    \"He I\",\n",
    "    \"He II\",\n",
    "    \"He II_2\",\n",
    "    \"He I_2\",\n",
    "    \"Mg IX\",\n",
    "    \"Mg X\",\n",
    "    \"Mg X_2\",\n",
    "    \"Ne VII\",\n",
    "    \"Ne VIII\",\n",
    "    \"O II\",\n",
    "    \"O III\",\n",
    "    \"O III_2\",\n",
    "    \"O II_2\",\n",
    "    \"O IV\",\n",
    "    \"O IV_2\",\n",
    "    \"O V\",\n",
    "    \"O VI\",\n",
    "    \"S XIV\",\n",
    "    \"Si XII\",\n",
    "    \"Si XII_2\",\n",
    "]\n",
    "frequency = \"12min\"\n",
    "batch_size = 32\n",
    "\n",
    "test = ZarrIrradianceDataModuleHMI(\n",
    "    hmi_path,\n",
    "    aia_path,\n",
    "    eve_path,\n",
    "    components,\n",
    "    wavelengths,\n",
    "    ions,\n",
    "    frequency,\n",
    "    batch_size,\n",
    "    num_workers=16,\n",
    "    val_months=[10, 1],\n",
    "    test_months=[11, 12],\n",
    "    holdout_months=[],\n",
    "    cache_dir=\"/mnt/sdoml/metadata\",\n",
    ")"
   ]
  },
  {
   "cell_type": "code",
   "execution_count": 53,
   "metadata": {},
   "outputs": [
    {
     "data": {
      "text/plain": [
       "'1_3_'"
      ]
     },
     "execution_count": 53,
     "metadata": {},
     "output_type": "execute_result"
    }
   ],
   "source": [
    "\"_\".join([\"1\", \"3\", \"\"])"
   ]
  },
  {
   "cell_type": "code",
   "execution_count": 48,
   "metadata": {},
   "outputs": [],
   "source": [
    "aia_data = zarr.group(zarr.DirectoryStore(\"/mnt/sdoml/AIA.zarr/\"))"
   ]
  },
  {
   "cell_type": "code",
   "execution_count": 50,
   "metadata": {},
   "outputs": [
    {
     "data": {
      "application/vnd.jupyter.widget-view+json": {
       "model_id": "eef90f0e67654968a8b4497adbd21197",
       "version_major": 2,
       "version_minor": 0
      },
      "text/plain": [
       "Tree(nodes=(Node(disabled=True, name='/', nodes=(Node(disabled=True, name='2010', nodes=(Node(disabled=True, i…"
      ]
     },
     "execution_count": 50,
     "metadata": {},
     "output_type": "execute_result"
    }
   ],
   "source": [
    "aia_data.tree()"
   ]
  },
  {
   "cell_type": "code",
   "execution_count": 60,
   "metadata": {},
   "outputs": [
    {
     "data": {
      "text/plain": [
       "'2023-05-26T06:36:08.072'"
      ]
     },
     "execution_count": 60,
     "metadata": {},
     "output_type": "execute_result"
    }
   ],
   "source": [
    "aia_data[2023][\"131A\"].attrs[\"T_OBS\"][-1]"
   ]
  },
  {
   "cell_type": "code",
   "execution_count": 45,
   "metadata": {},
   "outputs": [],
   "source": [
    "data = aia_data[2010][\"131A\"]\n",
    "exptime = np.array(data.attrs[\"EXPTIME\"])"
   ]
  },
  {
   "cell_type": "code",
   "execution_count": 63,
   "metadata": {},
   "outputs": [
    {
     "ename": "TypeError",
     "evalue": "dispatcher for __array_function__ did not return an iterable",
     "output_type": "error",
     "traceback": [
      "\u001b[0;31m---------------------------------------------------------------------------\u001b[0m",
      "\u001b[0;31mTypeError\u001b[0m                                 Traceback (most recent call last)",
      "\u001b[1;32m/home/walsh/repos/SDO-FM/notebooks/validate_sdoml_dataloader.ipynb Cell 10\u001b[0m line \u001b[0;36m1\n\u001b[0;32m----> <a href='vscode-notebook-cell://ssh-remote%2Bsdofm-workbench-n1-16cpu-60ram-t4x2.us-central1-a.sdo-fm-2024/home/walsh/repos/SDO-FM/notebooks/validate_sdoml_dataloader.ipynb#X16sdnNjb2RlLXJlbW90ZQ%3D%3D?line=0'>1</a>\u001b[0m np\u001b[39m.\u001b[39;49mconcatenate(\u001b[39mNone\u001b[39;49;00m, np\u001b[39m.\u001b[39;49mzeros((\u001b[39m0\u001b[39;49m,\u001b[39m2\u001b[39;49m)))\n",
      "\u001b[0;31mTypeError\u001b[0m: dispatcher for __array_function__ did not return an iterable"
     ]
    }
   ],
   "source": [
    "np.concatenate(None, np.zeros((0, 2)))"
   ]
  },
  {
   "cell_type": "code",
   "execution_count": 11,
   "metadata": {},
   "outputs": [
    {
     "data": {
      "text/plain": [
       "39"
      ]
     },
     "execution_count": 11,
     "metadata": {},
     "output_type": "execute_result"
    }
   ],
   "source": [
    "a = [\n",
    "    \"C III\",\n",
    "    \"Fe IX\",\n",
    "    \"Fe VIII\",\n",
    "    \"Fe X\",\n",
    "    \"Fe XI\",\n",
    "    \"Fe XII\",\n",
    "    \"Fe XIII\",\n",
    "    \"Fe XIV\",\n",
    "    \"Fe XIX\",\n",
    "    \"Fe XV\",\n",
    "    \"Fe XVI\",\n",
    "    \"Fe XVIII\",\n",
    "    \"Fe XVI_2\",\n",
    "    \"Fe XX\",\n",
    "    \"Fe XX_2\",\n",
    "    \"Fe XX_3\",\n",
    "    \"H I\",\n",
    "    \"H I_2\",\n",
    "    \"H I_3\",\n",
    "    \"He I\",\n",
    "    \"He II\",\n",
    "    \"He II_2\",\n",
    "    \"He I_2\",\n",
    "    \"Mg IX\",\n",
    "    \"Mg X\",\n",
    "    \"Mg X_2\",\n",
    "    \"Ne VII\",\n",
    "    \"Ne VIII\",\n",
    "    \"O II\",\n",
    "    \"O III\",\n",
    "    \"O III_2\",\n",
    "    \"O II_2\",\n",
    "    \"O IV\",\n",
    "    \"O IV_2\",\n",
    "    \"O V\",\n",
    "    \"O VI\",\n",
    "    \"S XIV\",\n",
    "    \"Si XII\",\n",
    "    \"Si XII_2\",\n",
    "]\n",
    "len(a)"
   ]
  },
  {
   "cell_type": "code",
   "execution_count": 28,
   "metadata": {},
   "outputs": [
    {
     "data": {
      "text/plain": [
       "array([[       0,        1,        2, ...,     4093,     4094,     4095],\n",
       "       [    4096,     4097,     4098, ...,     8189,     8190,     8191],\n",
       "       [    8192,     8193,     8194, ...,    12285,    12286,    12287],\n",
       "       ...,\n",
       "       [16764928, 16764929, 16764930, ..., 16769021, 16769022, 16769023],\n",
       "       [16769024, 16769025, 16769026, ..., 16773117, 16773118, 16773119],\n",
       "       [16773120, 16773121, 16773122, ..., 16777213, 16777214, 16777215]])"
      ]
     },
     "execution_count": 28,
     "metadata": {},
     "output_type": "execute_result"
    }
   ],
   "source": [
    "a = np.arange(4096 * 4096).reshape(4096, 4096)\n",
    "a"
   ]
  },
  {
   "cell_type": "code",
   "execution_count": 31,
   "metadata": {},
   "outputs": [
    {
     "data": {
      "text/plain": [
       "(512, 512)"
      ]
     },
     "execution_count": 31,
     "metadata": {},
     "output_type": "execute_result"
    }
   ],
   "source": [
    "from skimage.transform import downscale_local_mean\n",
    "\n",
    "downscale_local_mean(a, (8, 8)).shape"
   ]
  },
  {
   "cell_type": "code",
   "execution_count": 18,
   "metadata": {},
   "outputs": [
    {
     "data": {
      "text/plain": [
       "2.5"
      ]
     },
     "execution_count": 18,
     "metadata": {},
     "output_type": "execute_result"
    }
   ],
   "source": [
    "10 / 4"
   ]
  },
  {
   "cell_type": "code",
   "execution_count": 19,
   "metadata": {},
   "outputs": [
    {
     "data": {
      "text/plain": [
       "64.0"
      ]
     },
     "execution_count": 19,
     "metadata": {},
     "output_type": "execute_result"
    }
   ],
   "source": [
    "np.sqrt(4096)"
   ]
  },
  {
   "cell_type": "code",
   "execution_count": 27,
   "metadata": {},
   "outputs": [
    {
     "data": {
      "text/plain": [
       "1024"
      ]
     },
     "execution_count": 27,
     "metadata": {},
     "output_type": "execute_result"
    }
   ],
   "source": [
    "32 * 32"
   ]
  },
  {
   "cell_type": "code",
   "execution_count": null,
   "metadata": {},
   "outputs": [],
   "source": []
  }
 ],
 "metadata": {
  "kernelspec": {
   "display_name": "daniel-hmieve",
   "language": "python",
   "name": "python3"
  },
  "language_info": {
   "codemirror_mode": {
    "name": "ipython",
    "version": 3
   },
   "file_extension": ".py",
   "mimetype": "text/x-python",
   "name": "python",
   "nbconvert_exporter": "python",
   "pygments_lexer": "ipython3",
   "version": "3.10.14"
  },
  "orig_nbformat": 4
 },
 "nbformat": 4,
 "nbformat_minor": 2
}
