{
 "cells": [
  {
   "cell_type": "markdown",
   "metadata": {},
   "source": [
    "#### A webdataset form of SDOML\n",
    "[Webdataset](https://webdataset.github.io/webdataset/) is a format that uses tar files to encode data in an accessible, compressed, and logical format. Recent SDO imagery has been calibrated to SDOML (Level 1.5) standard and created into the following structure:\n",
    "\n",
    "```bash\n",
    "sdomlv2b-live.aia.512pix.3min.YYYYMMDD.tar\n",
    "    ├── __key__: T_OBS  # (time observed)\n",
    "        # source data\n",
    "    ├── 0094.npy: 94Å\n",
    "    ├── 0131.npy: 131Å\n",
    "    ├── 0171.npy: 171Å\n",
    "    ├── 0193.npy: 193Å\n",
    "    ├── 0211.npy: 211Å\n",
    "    ├── 0304.npy: 304Å\n",
    "    ├── 0335.npy: 335Å\n",
    "    ├── 1600.npy: 1600Å\n",
    "    ├── 1700.npy: 1700Å\n",
    "        # metadata\n",
    "    ├── 0094.json: 94Å\n",
    "    ├── 0131.json: 131Å\n",
    "    ├── 0171.json: 171Å\n",
    "    ├── 0193.json: 193Å\n",
    "    ├── 0211.json: 211Å\n",
    "    ├── 0304.json: 304Å\n",
    "    ├── 0335.json: 335Å\n",
    "    ├── 1600.json: 1600Å\n",
    "    └── 1700.json: 1700Å\n",
    "```"
   ]
  },
  {
   "cell_type": "code",
   "execution_count": 16,
   "metadata": {},
   "outputs": [],
   "source": [
    "from sunpy.map import Map\n",
    "m = Map('fits_2024_07_24_H0000_AIA20240724_0000_0094.fits')"
   ]
  },
  {
   "cell_type": "code",
   "execution_count": 19,
   "metadata": {},
   "outputs": [
    {
     "data": {
      "text/plain": [
       "['AIA20231001', '000300', '0094']"
      ]
     },
     "execution_count": 19,
     "metadata": {},
     "output_type": "execute_result"
    }
   ],
   "source": [
    "s = '/mnt/us-fdlx-ard-calibrated-synoptic/nrt/fits/2023/10/01/H0000/AIA20231001_000300_0094.fits'\n",
    "s.split(\"/\")[-1].split(\".\")[0].split(\"_\")"
   ]
  },
  {
   "cell_type": "code",
   "execution_count": 21,
   "metadata": {},
   "outputs": [
    {
     "data": {
      "text/plain": [
       "{'key': 3, 'this': 1, 'that': 2}"
      ]
     },
     "execution_count": 21,
     "metadata": {},
     "output_type": "execute_result"
    }
   ],
   "source": [
    "d = {\"this\": 1, \"that\": 2}\n",
    "t = {\n",
    "    'key': 3,\n",
    "    **d\n",
    "}\n",
    "t"
   ]
  },
  {
   "cell_type": "code",
   "execution_count": null,
   "metadata": {},
   "outputs": [],
   "source": []
  }
 ],
 "metadata": {
  "kernelspec": {
   "display_name": "base",
   "language": "python",
   "name": "python3"
  },
  "language_info": {
   "codemirror_mode": {
    "name": "ipython",
    "version": 3
   },
   "file_extension": ".py",
   "mimetype": "text/x-python",
   "name": "python",
   "nbconvert_exporter": "python",
   "pygments_lexer": "ipython3",
   "version": "3.10.14"
  }
 },
 "nbformat": 4,
 "nbformat_minor": 2
}
