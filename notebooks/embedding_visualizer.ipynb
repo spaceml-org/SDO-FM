{
 "cells": [
  {
   "cell_type": "code",
   "execution_count": 1,
   "metadata": {},
   "outputs": [],
   "source": [
    "%load_ext autoreload\n",
    "%autoreload 2"
   ]
  },
  {
   "cell_type": "code",
   "execution_count": 2,
   "metadata": {},
   "outputs": [],
   "source": [
    "import os\n",
    "from pathlib import Path\n",
    "from tqdm import tqdm\n",
    "import pandas as pd\n",
    "import pytorch_lightning as pl\n",
    "import torch\n",
    "import wandb\n",
    "from sdofm import utils\n",
    "from sdofm.datasets import SDOMLDataModule\n",
    "from sdofm.pretraining import MAE\n",
    "from scripts.pretrain import Pretrainer\n",
    "from lightning.pytorch.loggers.wandb import WandbLogger"
   ]
  },
  {
   "cell_type": "code",
   "execution_count": 3,
   "metadata": {},
   "outputs": [],
   "source": [
    "sunspots_df = pd.read_csv('SN_d_tot_V2.0.csv', delimiter=';', header=None)"
   ]
  },
  {
   "cell_type": "code",
   "execution_count": 4,
   "metadata": {},
   "outputs": [],
   "source": [
    "columns = ['year','month','day','date_fraction','sunspot_count','std_dev','observations','indicator']"
   ]
  },
  {
   "cell_type": "code",
   "execution_count": 5,
   "metadata": {},
   "outputs": [],
   "source": [
    "sunspots_df.columns = columns   "
   ]
  },
  {
   "cell_type": "code",
   "execution_count": 6,
   "metadata": {},
   "outputs": [],
   "source": [
    "import omegaconf\n",
    "\n",
    "cfg = omegaconf.OmegaConf.load(\"../experiments/finetune_32.2M_mae_virtualeve.yaml\")"
   ]
  },
  {
   "cell_type": "code",
   "execution_count": 7,
   "metadata": {},
   "outputs": [
    {
     "name": "stdout",
     "output_type": "stream",
     "text": [
      "[* CACHE SYSTEM *] Found cached index data in /mnt/sdoml/cache/aligndata_AIA_FULL_12min.csv.\n",
      "[* CACHE SYSTEM *] Found cached normalization data in /mnt/sdoml/cache/normalizations_AIA_FULL_12min.json.\n",
      "[* CACHE SYSTEM *] Found cached HMI mask data in /mnt/sdoml/cache/hmi_mask_512x512.npy.\n"
     ]
    }
   ],
   "source": [
    "data_module = SDOMLDataModule(\n",
    "    hmi_path=None,\n",
    "    aia_path=os.path.join(\n",
    "        cfg.data.sdoml.base_directory, cfg.data.sdoml.sub_directory.aia\n",
    "    ),\n",
    "    eve_path=None,\n",
    "    components=cfg.data.sdoml.components,\n",
    "    wavelengths=cfg.data.sdoml.wavelengths,\n",
    "    ions=cfg.data.sdoml.ions,\n",
    "    frequency=cfg.data.sdoml.frequency,\n",
    "    batch_size=cfg.model.opt.batch_size,\n",
    "    num_workers=cfg.data.num_workers,\n",
    "    val_months=cfg.data.month_splits.val,\n",
    "    test_months=cfg.data.month_splits.test,\n",
    "    holdout_months=cfg.data.month_splits.holdout,\n",
    "    cache_dir=os.path.join(\n",
    "        cfg.data.sdoml.base_directory, cfg.data.sdoml.sub_directory.cache\n",
    "    ),\n",
    ")\n",
    "data_module.setup()"
   ]
  },
  {
   "cell_type": "code",
   "execution_count": 8,
   "metadata": {},
   "outputs": [
    {
     "name": "stdout",
     "output_type": "stream",
     "text": [
      "[* CACHE SYSTEM *] Found cached index data in /mnt/sdoml/cache/aligndata_AIA_FULL_12min.csv.\n",
      "[* CACHE SYSTEM *] Found cached normalization data in /mnt/sdoml/cache/normalizations_AIA_FULL_12min.json.\n",
      "[* CACHE SYSTEM *] Found cached HMI mask data in /mnt/sdoml/cache/hmi_mask_512x512.npy.\n",
      "Loading checkpoint...\n",
      "Found pre-downloaded checkpoint at artifacts/model-tk45el88:v12/model.ckpt\n"
     ]
    },
    {
     "name": "stderr",
     "output_type": "stream",
     "text": [
      "/opt/conda/envs/sdofm/lib/python3.10/site-packages/lightning/pytorch/utilities/migration/utils.py:56: The loaded checkpoint was produced with Lightning v2.2.5, which is newer than your current Lightning version: v2.2.1\n"
     ]
    },
    {
     "name": "stdout",
     "output_type": "stream",
     "text": [
      "Checkpoint loaded from artifacts/model-tk45el88:v12/model.ckpt\n"
     ]
    }
   ],
   "source": [
    "#model = MAE(\n",
    "#    **cfg.model.mae,\n",
    "    #    **cfg.model.samae,\n",
    "    #    hmi_mask=data_module.hmi_mask,\n",
    "#    optimiser=cfg.model.opt.optimiser,\n",
    "#    lr=cfg.model.opt.learning_rate,\n",
    "#    weight_decay=cfg.model.opt.weight_decay,\n",
    "    \n",
    "#)\n",
    "\n",
    "logger = WandbLogger(\n",
    "    # WandbLogger params\n",
    "    name=cfg.experiment.name,\n",
    "    project=cfg.experiment.project,\n",
    "    dir=cfg.experiment.wandb.output_directory,\n",
    "    log_model=cfg.experiment.wandb.log_model,\n",
    "    # kwargs for wandb.init\n",
    "    tags=cfg.experiment.wandb.tags,\n",
    "    notes=cfg.experiment.wandb.notes,\n",
    "    group=cfg.experiment.wandb.group,\n",
    "    save_code=True,\n",
    "    job_type=cfg.experiment.wandb.job_type,\n",
    "\n",
    ")\n",
    "model = Pretrainer(cfg, logger=logger, is_backbone=True)\n"
   ]
  },
  {
   "cell_type": "code",
   "execution_count": 9,
   "metadata": {},
   "outputs": [],
   "source": [
    "val_dataset = data_module.valid_ds\n",
    "train_dataset = data_module.train_ds"
   ]
  },
  {
   "cell_type": "code",
   "execution_count": 11,
   "metadata": {},
   "outputs": [],
   "source": [
    "#model.model.to(\"cuda\");\n",
    "model.model.eval();"
   ]
  },
  {
   "cell_type": "code",
   "execution_count": 12,
   "metadata": {},
   "outputs": [
    {
     "data": {
      "text/plain": [
       "(43131, 450432)"
      ]
     },
     "execution_count": 12,
     "metadata": {},
     "output_type": "execute_result"
    }
   ],
   "source": [
    "val_dataset.__len__(), train_dataset.__len__()"
   ]
  },
  {
   "cell_type": "code",
   "execution_count": 13,
   "metadata": {},
   "outputs": [],
   "source": [
    "import pandas as pd\n",
    "dates = []\n",
    "for i in range(train_dataset.__len__()):\n",
    "\n",
    "    dates.append(train_dataset.aligndata.iloc[i].name)\n",
    "\n",
    "dates_df = pd.DataFrame(dates, columns=[\"date\"])\n",
    "\n",
    "dates_df.reset_index(inplace=True, drop=False)"
   ]
  },
  {
   "cell_type": "code",
   "execution_count": 18,
   "metadata": {},
   "outputs": [],
   "source": [
    "dates_df['year'] = pd.to_datetime(dates_df['date']).dt.year\n",
    "dates_df['month'] = pd.to_datetime(dates_df['date']).dt.month\n",
    "dates_df['day'] = pd.to_datetime(dates_df['date']).dt.day\n",
    "dates_df['hour'] = pd.to_datetime(dates_df['date']).dt.hour\n",
    "dates_df['time'] = pd.to_datetime(dates_df['date']).dt.time\n"
   ]
  },
  {
   "cell_type": "code",
   "execution_count": 19,
   "metadata": {},
   "outputs": [
    {
     "data": {
      "text/html": [
       "<div>\n",
       "<style scoped>\n",
       "    .dataframe tbody tr th:only-of-type {\n",
       "        vertical-align: middle;\n",
       "    }\n",
       "\n",
       "    .dataframe tbody tr th {\n",
       "        vertical-align: top;\n",
       "    }\n",
       "\n",
       "    .dataframe thead th {\n",
       "        text-align: right;\n",
       "    }\n",
       "</style>\n",
       "<table border=\"1\" class=\"dataframe\">\n",
       "  <thead>\n",
       "    <tr style=\"text-align: right;\">\n",
       "      <th></th>\n",
       "      <th>index</th>\n",
       "      <th>date</th>\n",
       "      <th>year</th>\n",
       "      <th>month</th>\n",
       "      <th>day</th>\n",
       "      <th>hour</th>\n",
       "      <th>time</th>\n",
       "    </tr>\n",
       "  </thead>\n",
       "  <tbody>\n",
       "    <tr>\n",
       "      <th>0</th>\n",
       "      <td>0</td>\n",
       "      <td>2010-05-13 00:00:00</td>\n",
       "      <td>2010</td>\n",
       "      <td>5</td>\n",
       "      <td>13</td>\n",
       "      <td>0</td>\n",
       "      <td>00:00:00</td>\n",
       "    </tr>\n",
       "    <tr>\n",
       "      <th>1</th>\n",
       "      <td>1</td>\n",
       "      <td>2010-05-13 00:12:00</td>\n",
       "      <td>2010</td>\n",
       "      <td>5</td>\n",
       "      <td>13</td>\n",
       "      <td>0</td>\n",
       "      <td>00:12:00</td>\n",
       "    </tr>\n",
       "    <tr>\n",
       "      <th>2</th>\n",
       "      <td>2</td>\n",
       "      <td>2010-05-13 00:24:00</td>\n",
       "      <td>2010</td>\n",
       "      <td>5</td>\n",
       "      <td>13</td>\n",
       "      <td>0</td>\n",
       "      <td>00:24:00</td>\n",
       "    </tr>\n",
       "    <tr>\n",
       "      <th>3</th>\n",
       "      <td>3</td>\n",
       "      <td>2010-05-13 00:36:00</td>\n",
       "      <td>2010</td>\n",
       "      <td>5</td>\n",
       "      <td>13</td>\n",
       "      <td>0</td>\n",
       "      <td>00:36:00</td>\n",
       "    </tr>\n",
       "    <tr>\n",
       "      <th>4</th>\n",
       "      <td>4</td>\n",
       "      <td>2010-05-13 00:48:00</td>\n",
       "      <td>2010</td>\n",
       "      <td>5</td>\n",
       "      <td>13</td>\n",
       "      <td>0</td>\n",
       "      <td>00:48:00</td>\n",
       "    </tr>\n",
       "    <tr>\n",
       "      <th>...</th>\n",
       "      <td>...</td>\n",
       "      <td>...</td>\n",
       "      <td>...</td>\n",
       "      <td>...</td>\n",
       "      <td>...</td>\n",
       "      <td>...</td>\n",
       "      <td>...</td>\n",
       "    </tr>\n",
       "    <tr>\n",
       "      <th>450427</th>\n",
       "      <td>450427</td>\n",
       "      <td>2023-08-02 22:00:00</td>\n",
       "      <td>2023</td>\n",
       "      <td>8</td>\n",
       "      <td>2</td>\n",
       "      <td>22</td>\n",
       "      <td>22:00:00</td>\n",
       "    </tr>\n",
       "    <tr>\n",
       "      <th>450428</th>\n",
       "      <td>450428</td>\n",
       "      <td>2023-08-02 22:12:00</td>\n",
       "      <td>2023</td>\n",
       "      <td>8</td>\n",
       "      <td>2</td>\n",
       "      <td>22</td>\n",
       "      <td>22:12:00</td>\n",
       "    </tr>\n",
       "    <tr>\n",
       "      <th>450429</th>\n",
       "      <td>450429</td>\n",
       "      <td>2023-08-02 22:24:00</td>\n",
       "      <td>2023</td>\n",
       "      <td>8</td>\n",
       "      <td>2</td>\n",
       "      <td>22</td>\n",
       "      <td>22:24:00</td>\n",
       "    </tr>\n",
       "    <tr>\n",
       "      <th>450430</th>\n",
       "      <td>450430</td>\n",
       "      <td>2023-08-02 22:36:00</td>\n",
       "      <td>2023</td>\n",
       "      <td>8</td>\n",
       "      <td>2</td>\n",
       "      <td>22</td>\n",
       "      <td>22:36:00</td>\n",
       "    </tr>\n",
       "    <tr>\n",
       "      <th>450431</th>\n",
       "      <td>450431</td>\n",
       "      <td>2023-08-02 22:48:00</td>\n",
       "      <td>2023</td>\n",
       "      <td>8</td>\n",
       "      <td>2</td>\n",
       "      <td>22</td>\n",
       "      <td>22:48:00</td>\n",
       "    </tr>\n",
       "  </tbody>\n",
       "</table>\n",
       "<p>450432 rows × 7 columns</p>\n",
       "</div>"
      ],
      "text/plain": [
       "         index                date  year  month  day  hour      time\n",
       "0            0 2010-05-13 00:00:00  2010      5   13     0  00:00:00\n",
       "1            1 2010-05-13 00:12:00  2010      5   13     0  00:12:00\n",
       "2            2 2010-05-13 00:24:00  2010      5   13     0  00:24:00\n",
       "3            3 2010-05-13 00:36:00  2010      5   13     0  00:36:00\n",
       "4            4 2010-05-13 00:48:00  2010      5   13     0  00:48:00\n",
       "...        ...                 ...   ...    ...  ...   ...       ...\n",
       "450427  450427 2023-08-02 22:00:00  2023      8    2    22  22:00:00\n",
       "450428  450428 2023-08-02 22:12:00  2023      8    2    22  22:12:00\n",
       "450429  450429 2023-08-02 22:24:00  2023      8    2    22  22:24:00\n",
       "450430  450430 2023-08-02 22:36:00  2023      8    2    22  22:36:00\n",
       "450431  450431 2023-08-02 22:48:00  2023      8    2    22  22:48:00\n",
       "\n",
       "[450432 rows x 7 columns]"
      ]
     },
     "execution_count": 19,
     "metadata": {},
     "output_type": "execute_result"
    }
   ],
   "source": [
    "dates_df"
   ]
  },
  {
   "cell_type": "code",
   "execution_count": 15,
   "metadata": {},
   "outputs": [
    {
     "data": {
      "text/plain": [
       "(450432, 6)"
      ]
     },
     "execution_count": 15,
     "metadata": {},
     "output_type": "execute_result"
    }
   ],
   "source": [
    "dates_df.shape"
   ]
  },
  {
   "cell_type": "code",
   "execution_count": 20,
   "metadata": {},
   "outputs": [],
   "source": [
    "dates_with_spots_df = dates_df.merge(sunspots_df[['year','month','day','sunspot_count']], on=['year', 'month','day'], how='left')"
   ]
  },
  {
   "cell_type": "code",
   "execution_count": 21,
   "metadata": {},
   "outputs": [],
   "source": [
    "import datetime\n",
    "dates_with_spots_noon_df = dates_with_spots_df[dates_with_spots_df['time'] == datetime.time(12, 0)]\n",
    "dates_with_spots_noon_2011_df = dates_with_spots_noon_df[dates_with_spots_noon_df['year'] == 2011]\n"
   ]
  },
  {
   "cell_type": "code",
   "execution_count": 22,
   "metadata": {},
   "outputs": [
    {
     "data": {
      "text/plain": [
       "[<matplotlib.lines.Line2D at 0x7fc1749094e0>]"
      ]
     },
     "execution_count": 22,
     "metadata": {},
     "output_type": "execute_result"
    },
    {
     "data": {
      "image/png": "[encoded data removed]",
      "text/plain": [
       "<Figure size 640x480 with 1 Axes>"
      ]
     },
     "metadata": {},
     "output_type": "display_data"
    }
   ],
   "source": [
    "# plot the sunspot count vs date\n",
    "import matplotlib.pyplot as plt\n",
    "dates_with_spots_noon_2011_df = dates_with_spots_noon_df[dates_with_spots_noon_df['year'] == 2011]\n",
    "plt.plot(dates_with_spots_noon_df['date'], dates_with_spots_noon_df['sunspot_count'])\n"
   ]
  },
  {
   "cell_type": "code",
   "execution_count": 23,
   "metadata": {},
   "outputs": [
    {
     "name": "stderr",
     "output_type": "stream",
     "text": [
      "/var/tmp/ipykernel_7313/3167740649.py:3: DeprecationWarning: DataFrameGroupBy.apply operated on the grouping columns. This behavior is deprecated, and in a future version of pandas the grouping columns will be excluded from the operation. Either pass `include_groups=False` to exclude the groupings or explicitly select the grouping columns after groupby to silence this warning.\n",
      "  df_2011_subset = df_2011.groupby('month').apply(lambda x: x.sample(100, random_state=1)).reset_index(drop=True)\n"
     ]
    }
   ],
   "source": [
    "df_2011 = dates_df[dates_df['year'] == 2011]\n",
    "# groupby month, select 100 random samples\n",
    "df_2011_subset = df_2011.groupby('month').apply(lambda x: x.sample(100, random_state=1)).reset_index(drop=True)\n",
    "quiet_months = [1, 2, 5, 6, 7, 8]\n",
    "df_2011_subset['is_active'] = df_2011_subset['month'].apply(lambda x: 0 if x in quiet_months else 1)"
   ]
  },
  {
   "cell_type": "code",
   "execution_count": 24,
   "metadata": {},
   "outputs": [
    {
     "name": "stderr",
     "output_type": "stream",
     "text": [
      "  4%|▎         | 10/267 [00:26<11:29,  2.68s/it]"
     ]
    }
   ],
   "source": [
    "cls_embeddings = []\n",
    "mean_embeddings = []\n",
    "names = []\n",
    "\n",
    "for idx in tqdm(dates_with_spots_noon_2011_df['index'].values):\n",
    "    batch = train_dataset[idx]\n",
    "    name = train_dataset.aligndata.iloc[idx].name\n",
    "    batch = torch.tensor(batch).unsqueeze(0)    \n",
    "    #batch = batch.to(\"cuda\")    \n",
    "    x, mask, ids_restore = model.model.forward_encoder(batch, mask_ratio = 0)\n",
    "    # cls_token \n",
    "    cls_embedding = x[:,0,:].detach().cpu()\n",
    "    mean_embedding = x[:,1:,:].mean(dim=1).detach().cpu()\n",
    "    cls_embeddings.append(cls_embedding)\n",
    "    mean_embeddings.append(mean_embedding)\n",
    "    names.append(name)\n",
    "cls_embeddings = torch.cat(cls_embeddings, dim=0)\n",
    "mean_embeddings = torch.cat(mean_embeddings, dim=0)"
   ]
  },
  {
   "cell_type": "markdown",
   "metadata": {},
   "source": [
    "num_samples = 5000\n",
    "cls_embeddings = []\n",
    "mean_embeddings = []\n",
    "names = []\n",
    "for i in tqdm(range(num_samples)):\n",
    "    batch = val_dataset[i]\n",
    "    name = val_dataset.aligndata.iloc[i].name\n",
    "    batch = torch.tensor(batch).unsqueeze(0)    \n",
    "    batch = batch.to(\"cuda\")    \n",
    "    x, mask, ids_restore = model.model.forward_encoder(batch, mask_ratio = 0)\n",
    "    # cls_token \n",
    "    cls_embedding = x[:,0,:].detach().cpu()\n",
    "    mean_embedding = x[:,1:,:].mean(dim=1).detach().cpu()\n",
    "    cls_embeddings.append(cls_embedding)\n",
    "    mean_embeddings.append(mean_embedding)\n",
    "    names.append(name)\n",
    "cls_embeddings = torch.cat(cls_embeddings, dim=0)\n",
    "mean_embeddings = torch.cat(mean_embeddings, dim=0)"
   ]
  },
  {
   "cell_type": "code",
   "execution_count": null,
   "metadata": {},
   "outputs": [],
   "source": [
    "from sklearn.manifold import TSNE\n",
    "import plotly.express as px"
   ]
  },
  {
   "cell_type": "code",
   "execution_count": null,
   "metadata": {},
   "outputs": [],
   "source": [
    "\n",
    "tsne = TSNE(n_components=2, random_state=0)\n",
    "\n",
    "cls_embeddings_np = cls_embeddings.numpy()\n",
    "cls_embeddings_tsne = tsne.fit_transform(cls_embeddings_np)\n",
    "\n",
    "\n",
    "\n",
    "dates_with_spots_noon_2011_df['cls_tsne_x'] = cls_embeddings_tsne[:,0]\n",
    "dates_with_spots_noon_2011_df['cls_tsne_y'] = cls_embeddings_tsne[:,1]\n",
    "\n",
    "\n",
    "tsne = TSNE(n_components=2, random_state=0)\n",
    "\n",
    "mean_embeddings_np = mean_embeddings.numpy()\n",
    "mean_embeddings_tsne = tsne.fit_transform(mean_embeddings_np)\n",
    "\n",
    "\n",
    "\n",
    "dates_with_spots_noon_2011_df['avg_tsne_x'] = mean_embeddings_tsne[:,0]\n",
    "dates_with_spots_noon_2011_df['avg_tsne_y'] = mean_embeddings_tsne[:,1]\n",
    "\n"
   ]
  },
  {
   "cell_type": "code",
   "execution_count": null,
   "metadata": {},
   "outputs": [],
   "source": [
    "\n",
    "fig = px.scatter(dates_with_spots_noon_2011_df, x=\"cls_tsne_x\", y=\"cls_tsne_y\", color=\"is_active\", hover_data=[\"month\", \"day\", \"hour\"])\n",
    "\n",
    "fig.show()\n"
   ]
  },
  {
   "cell_type": "code",
   "execution_count": null,
   "metadata": {},
   "outputs": [],
   "source": [
    "fig = px.scatter(dates_with_spots_noon_2011_df, x=\"avg_tsne_x\", y=\"avg_tsne_y\", color=\"is_active\", hover_data=[\"month\", \"day\", \"hour\"])\n",
    "\n",
    "fig.show()\n"
   ]
  },
  {
   "cell_type": "code",
   "execution_count": null,
   "metadata": {},
   "outputs": [],
   "source": [
    "# save html\n",
    "fig.write_html(\"mean_pooling_tsne.html\")\n"
   ]
  },
  {
   "cell_type": "code",
   "execution_count": null,
   "metadata": {},
   "outputs": [],
   "source": [
    "#!pip install plotly"
   ]
  },
  {
   "cell_type": "code",
   "execution_count": null,
   "metadata": {},
   "outputs": [],
   "source": []
  }
 ],
 "metadata": {
  "kernelspec": {
   "display_name": "sdofm",
   "language": "python",
   "name": "python3"
  },
  "language_info": {
   "codemirror_mode": {
    "name": "ipython",
    "version": 3
   },
   "file_extension": ".py",
   "mimetype": "text/x-python",
   "name": "python",
   "nbconvert_exporter": "python",
   "pygments_lexer": "ipython3",
   "version": "3.10.14"
  }
 },
 "nbformat": 4,
 "nbformat_minor": 2
}
