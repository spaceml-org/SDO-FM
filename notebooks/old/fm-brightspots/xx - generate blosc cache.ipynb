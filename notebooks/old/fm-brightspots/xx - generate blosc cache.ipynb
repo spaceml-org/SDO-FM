{
 "cells": [
  {
   "cell_type": "code",
   "execution_count": null,
   "id": "6a77e46b-7272-4dc2-9b51-ff46fad577e5",
   "metadata": {},
   "outputs": [],
   "source": []
  },
  {
   "cell_type": "code",
   "execution_count": 4,
   "id": "0b7c0f4e-656c-4275-a4d4-618983527604",
   "metadata": {
    "tags": []
   },
   "outputs": [],
   "source": [
    "import sys\n",
    "import os\n",
    "\n",
    "sys.path.append(\"../..\")\n",
    "\n",
    "from omegaconf import OmegaConf\n",
    "from sdofm.datasets.SDOML import SDOMLDataModule, SDOMLDataset\n",
    "from sdofm.datasets.RandomIntervalSDOML import (\n",
    "    RandomIntervalSDOMLDataset,\n",
    "    RandomIntervalSDOMLDataModule,\n",
    ")\n",
    "from sdofm.datasets.BrightSpotsSDOML import (\n",
    "    BrightSpotsSDOMLDataset,\n",
    "    BrightSpotsSDOMLDataModule,\n",
    ")\n",
    "from rlxutils import subplots\n",
    "import matplotlib.pyplot as plt\n",
    "import numpy as np\n",
    "import pandas as pd\n",
    "from datetime import datetime\n",
    "from sdofm.utils import stonyhurst_to_patch_index\n",
    "from progressbar import progressbar as pbar\n",
    "from sdofm.constants import ALL_COMPONENTS, ALL_WAVELENGTHS, ALL_IONS\n",
    "from rlxutils import ElapsedTimes\n",
    "import torch"
   ]
  },
  {
   "cell_type": "code",
   "execution_count": null,
   "id": "064c4736-c12a-41fa-b759-7d8391603543",
   "metadata": {},
   "outputs": [],
   "source": []
  },
  {
   "cell_type": "code",
   "execution_count": 5,
   "id": "af12aa65-32f1-4eb3-9d90-f1c0065917fc",
   "metadata": {
    "tags": []
   },
   "outputs": [],
   "source": [
    "cfg = OmegaConf.load(\"../../experiments/default.yaml\")"
   ]
  },
  {
   "cell_type": "code",
   "execution_count": 6,
   "id": "41333278-cca6-464d-a81f-1c1a49a483e3",
   "metadata": {
    "tags": []
   },
   "outputs": [
    {
     "name": "stdout",
     "output_type": "stream",
     "text": [
      "[* CACHE SYSTEM *] Found cached index data in /mnt/sdoml/cache/aligndata_AIA_FULL_HMI_FULL_12min.csv.\n",
      "[* CACHE SYSTEM *] Found cached normalization data in /mnt/sdoml/cache/normalizations_AIA_FULL_HMI_FULL_12min.json.\n",
      "[* CACHE SYSTEM *] Found cached HMI mask data in /mnt/sdoml/cache/hmi_mask_512x512.npy.\n"
     ]
    }
   ],
   "source": [
    "data_module = BrightSpotsSDOMLDataModule(\n",
    "    # hmi_path=os.path.join(\n",
    "    #     self.cfg.data.sdoml.base_directory, self.cfg.data.sdoml.sub_directory.hmi\n",
    "    # ),\n",
    "    hmi_path=os.path.join(\n",
    "        cfg.data.sdoml.base_directory,\n",
    "        cfg.data.sdoml.sub_directory.hmi,\n",
    "    ),\n",
    "    aia_path=os.path.join(\n",
    "        cfg.data.sdoml.base_directory,\n",
    "        cfg.data.sdoml.sub_directory.aia,\n",
    "    ),\n",
    "    eve_path=None,\n",
    "    components=cfg.data.sdoml.components,\n",
    "    wavelengths=cfg.data.sdoml.wavelengths,\n",
    "    ions=cfg.data.sdoml.ions,\n",
    "    frequency=cfg.data.sdoml.frequency,\n",
    "    batch_size=32,\n",
    "    num_workers=10,\n",
    "    blosc_cache=\"/home/rlx/blosc_cache\",\n",
    "    start_date=\"2012-01-01\",\n",
    "    end_date=\"2014-12-31\",\n",
    "    val_months=cfg.data.month_splits.val,\n",
    "    test_months=cfg.data.month_splits.test,\n",
    "    holdout_months=cfg.data.month_splits.holdout,\n",
    "    cache_dir=os.path.join(\n",
    "        cfg.data.sdoml.base_directory,\n",
    "        cfg.data.sdoml.sub_directory.cache,\n",
    "    ),\n",
    ")\n",
    "data_module.setup()"
   ]
  },
  {
   "cell_type": "code",
   "execution_count": null,
   "id": "181a0b71-be27-4d67-9764-a3776c4e0706",
   "metadata": {
    "tags": []
   },
   "outputs": [
    {
     "name": "stderr",
     "output_type": "stream",
     "text": [
      "\u001b[38;2;255;126;0m 25%\u001b[39m \u001b[38;2;255;126;0m(720 of 2814)\u001b[39m |#####                | Elapsed Time: 1:22:57 ETA:   4:01:16"
     ]
    }
   ],
   "source": [
    "dl = data_module.train_dataloader()\n",
    "for batch in pbar(dl, max_value=len(dl)):\n",
    "    pass"
   ]
  },
  {
   "cell_type": "code",
   "execution_count": null,
   "id": "6da8009f-babf-4929-a6e0-910339e1fef7",
   "metadata": {},
   "outputs": [],
   "source": []
  }
 ],
 "metadata": {
  "kernelspec": {
   "display_name": "sdofm (Local)",
   "language": "python",
   "name": "sdofm"
  },
  "language_info": {
   "codemirror_mode": {
    "name": "ipython",
    "version": 3
   },
   "file_extension": ".py",
   "mimetype": "text/x-python",
   "name": "python",
   "nbconvert_exporter": "python",
   "pygments_lexer": "ipython3",
   "version": "3.10.14"
  }
 },
 "nbformat": 4,
 "nbformat_minor": 5
}
