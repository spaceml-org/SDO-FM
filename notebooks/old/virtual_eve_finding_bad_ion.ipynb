{
 "cells": [
  {
   "cell_type": "code",
   "execution_count": 38,
   "metadata": {},
   "outputs": [
    {
     "name": "stdout",
     "output_type": "stream",
     "text": [
      "The autoreload extension is already loaded. To reload it, use:\n",
      "  %reload_ext autoreload\n"
     ]
    }
   ],
   "source": [
    "%load_ext autoreload\n",
    "%autoreload 2"
   ]
  },
  {
   "cell_type": "code",
   "execution_count": 39,
   "metadata": {},
   "outputs": [],
   "source": [
    "import os\n",
    "from pathlib import Path\n",
    "\n",
    "import lightning.pytorch as pl\n",
    "import torch\n",
    "import wandb\n",
    "from sdofm import utils\n",
    "from sdofm.datasets import SDOMLDataModule, DegradedSDOMLDataModule\n",
    "from sdofm.pretraining import MAE, SAMAE\n",
    "from sdofm.finetuning import VirtualEVE"
   ]
  },
  {
   "cell_type": "code",
   "execution_count": 40,
   "metadata": {},
   "outputs": [],
   "source": [
    "import omegaconf\n",
    "\n",
    "cfg = omegaconf.OmegaConf.load(\"../experiments/ablation_virtualeve.yaml\")"
   ]
  },
  {
   "cell_type": "code",
   "execution_count": 41,
   "metadata": {},
   "outputs": [
    {
     "name": "stdout",
     "output_type": "stream",
     "text": [
      "[* CACHE SYSTEM *] Found cached index data in /mnt/sdoml/cache/aligndata_HMI_FULL_AIA_FULL_EVE_FULL_12min.csv.\n",
      "[* CACHE SYSTEM *] Found cached normalization data in /mnt/sdoml/cache/normalizations_HMI_FULL_AIA_FULL_EVE_FULL_12min.json.\n",
      "[* CACHE SYSTEM *] Found cached HMI mask data in /mnt/sdoml/cache/hmi_mask_512x512.npy.\n"
     ]
    }
   ],
   "source": [
    "data_module = SDOMLDataModule(\n",
    "    hmi_path=(\n",
    "        os.path.join(\n",
    "            cfg.data.sdoml.base_directory,\n",
    "            cfg.data.sdoml.sub_directory.hmi,\n",
    "        )\n",
    "        if cfg.data.sdoml.sub_directory.hmi\n",
    "        else None\n",
    "    ),\n",
    "    aia_path=(\n",
    "        os.path.join(\n",
    "            cfg.data.sdoml.base_directory,\n",
    "            cfg.data.sdoml.sub_directory.aia,\n",
    "        )\n",
    "        if cfg.data.sdoml.sub_directory.aia\n",
    "        else None\n",
    "    ),\n",
    "    eve_path=os.path.join(\n",
    "        cfg.data.sdoml.base_directory, cfg.data.sdoml.sub_directory.eve\n",
    "    ),\n",
    "    # eve_path=None,\n",
    "    components=cfg.data.sdoml.components,\n",
    "    wavelengths=cfg.data.sdoml.wavelengths,\n",
    "    ions=cfg.data.sdoml.ions,\n",
    "    frequency=cfg.data.sdoml.frequency,\n",
    "    batch_size=cfg.model.opt.batch_size,\n",
    "    num_workers=cfg.data.num_workers,\n",
    "    val_months=cfg.data.month_splits.val,\n",
    "    test_months=cfg.data.month_splits.test,\n",
    "    holdout_months=cfg.data.month_splits.holdout,\n",
    "    cache_dir=os.path.join(\n",
    "        cfg.data.sdoml.base_directory,\n",
    "        cfg.data.sdoml.sub_directory.cache,\n",
    "    ),\n",
    "    min_date=cfg.data.min_date,\n",
    "    max_date=cfg.data.max_date,\n",
    "    num_frames=cfg.data.num_frames,\n",
    "    drop_frame_dim=cfg.data.drop_frame_dim,\n",
    ")\n",
    "data_module.setup()"
   ]
  },
  {
   "cell_type": "code",
   "execution_count": 42,
   "metadata": {},
   "outputs": [],
   "source": [
    "x, y = next(iter(data_module.train_ds))"
   ]
  },
  {
   "cell_type": "code",
   "execution_count": 34,
   "metadata": {},
   "outputs": [],
   "source": [
    "import numpy as np\n",
    "\n",
    "_eve_norm = np.array(data_module.normalizations[\"EVE\"][\"eve_norm\"], dtype=np.float32)\n",
    "eve_norm = torch.Tensor(_eve_norm).float()\n",
    "norm_mean = eve_norm[0]\n",
    "norm_stdev = eve_norm[1]\n",
    "y = torch.Tensor(y.reshape(-1))\n",
    "y = y * norm_stdev[None] + norm_mean[None]"
   ]
  },
  {
   "cell_type": "code",
   "execution_count": 43,
   "metadata": {},
   "outputs": [
    {
     "data": {
      "text/plain": [
       "(38,)"
      ]
     },
     "execution_count": 43,
     "metadata": {},
     "output_type": "execute_result"
    }
   ],
   "source": [
    "y.shape"
   ]
  },
  {
   "cell_type": "code",
   "execution_count": 24,
   "metadata": {},
   "outputs": [
    {
     "data": {
      "text/plain": [
       "tensor([[9.1819e-06, 5.3562e-06, 3.7777e-07, 4.8048e-06, 8.2602e-06, 8.8243e-06,\n",
       "         9.0311e-06, 8.6722e-06, 1.4570e-07, 2.2082e-05, 1.4295e-05, 1.4213e-06,\n",
       "         8.0152e-07, 2.2668e-07, 2.0717e-07, 1.2205e-06, 1.9483e-06, 1.0076e-05,\n",
       "         6.4953e-07, 5.4268e-06, 4.4292e-05, 8.1017e-06, 4.0567e-06, 3.1560e-06,\n",
       "         2.4076e-06, 1.4459e-06, 1.5991e-06, 1.9169e-07, 1.1263e-07, 1.8147e-07,\n",
       "         2.1096e-06, 1.1073e-06, 9.9623e-07, 3.4215e-06, 5.8534e-06, 5.4504e-07,\n",
       "         4.4998e-06, 2.1494e-06]])"
      ]
     },
     "execution_count": 24,
     "metadata": {},
     "output_type": "execute_result"
    }
   ],
   "source": [
    "norm_stdev[None]"
   ]
  },
  {
   "cell_type": "code",
   "execution_count": 7,
   "metadata": {},
   "outputs": [
    {
     "data": {
      "application/vnd.jupyter.widget-view+json": {
       "model_id": "db8637619f3f43148afaaf7a4e657cb8",
       "version_major": 2,
       "version_minor": 0
      },
      "text/plain": [
       "Tree(nodes=(Node(disabled=True, name='/', nodes=(Node(disabled=True, icon='table', name='C III (2137380,) floa…"
      ]
     },
     "execution_count": 7,
     "metadata": {},
     "output_type": "execute_result"
    }
   ],
   "source": [
    "data_module.eve_data.tree()"
   ]
  },
  {
   "cell_type": "code",
   "execution_count": 9,
   "metadata": {},
   "outputs": [
    {
     "data": {
      "text/plain": [
       "array(['2010-05-01 00:00:10.484', '2010-05-01 00:01:10.484',\n",
       "       '2010-05-01 00:02:10.484', ..., '2014-05-26 23:47:09.852',\n",
       "       '2014-05-26 23:48:09.853', '2014-05-26 23:49:09.853'], dtype='<U23')"
      ]
     },
     "execution_count": 9,
     "metadata": {},
     "output_type": "execute_result"
    }
   ],
   "source": [
    "data_module.eve_data[\"Time\"][:-10]"
   ]
  },
  {
   "cell_type": "code",
   "execution_count": 12,
   "metadata": {},
   "outputs": [
    {
     "data": {
      "text/html": [
       "<div>\n",
       "<style scoped>\n",
       "    .dataframe tbody tr th:only-of-type {\n",
       "        vertical-align: middle;\n",
       "    }\n",
       "\n",
       "    .dataframe tbody tr th {\n",
       "        vertical-align: top;\n",
       "    }\n",
       "\n",
       "    .dataframe thead th {\n",
       "        text-align: right;\n",
       "    }\n",
       "</style>\n",
       "<table border=\"1\" class=\"dataframe\">\n",
       "  <thead>\n",
       "    <tr style=\"text-align: right;\">\n",
       "      <th></th>\n",
       "      <th>idx_131A</th>\n",
       "      <th>idx_1600A</th>\n",
       "      <th>idx_1700A</th>\n",
       "      <th>idx_171A</th>\n",
       "      <th>idx_193A</th>\n",
       "      <th>idx_211A</th>\n",
       "      <th>idx_304A</th>\n",
       "      <th>idx_335A</th>\n",
       "      <th>idx_94A</th>\n",
       "      <th>idx_Bx</th>\n",
       "      <th>idx_By</th>\n",
       "      <th>idx_Bz</th>\n",
       "    </tr>\n",
       "    <tr>\n",
       "      <th>Time</th>\n",
       "      <th></th>\n",
       "      <th></th>\n",
       "      <th></th>\n",
       "      <th></th>\n",
       "      <th></th>\n",
       "      <th></th>\n",
       "      <th></th>\n",
       "      <th></th>\n",
       "      <th></th>\n",
       "      <th></th>\n",
       "      <th></th>\n",
       "      <th></th>\n",
       "    </tr>\n",
       "  </thead>\n",
       "  <tbody>\n",
       "    <tr>\n",
       "      <th>2010-05-13 00:00:00</th>\n",
       "      <td>8937</td>\n",
       "      <td>8942</td>\n",
       "      <td>8085</td>\n",
       "      <td>8934</td>\n",
       "      <td>8945</td>\n",
       "      <td>8933</td>\n",
       "      <td>8937</td>\n",
       "      <td>8945</td>\n",
       "      <td>8691</td>\n",
       "      <td>19726</td>\n",
       "      <td>19726</td>\n",
       "      <td>19726</td>\n",
       "    </tr>\n",
       "    <tr>\n",
       "      <th>2010-05-13 00:12:00</th>\n",
       "      <td>8938</td>\n",
       "      <td>8943</td>\n",
       "      <td>8084</td>\n",
       "      <td>8935</td>\n",
       "      <td>8946</td>\n",
       "      <td>8934</td>\n",
       "      <td>8938</td>\n",
       "      <td>8946</td>\n",
       "      <td>8692</td>\n",
       "      <td>19729</td>\n",
       "      <td>19729</td>\n",
       "      <td>19729</td>\n",
       "    </tr>\n",
       "    <tr>\n",
       "      <th>2010-05-13 00:24:00</th>\n",
       "      <td>8940</td>\n",
       "      <td>8946</td>\n",
       "      <td>8086</td>\n",
       "      <td>8936</td>\n",
       "      <td>8947</td>\n",
       "      <td>8935</td>\n",
       "      <td>8939</td>\n",
       "      <td>8947</td>\n",
       "      <td>8694</td>\n",
       "      <td>19735</td>\n",
       "      <td>19735</td>\n",
       "      <td>19735</td>\n",
       "    </tr>\n",
       "    <tr>\n",
       "      <th>2010-05-13 00:36:00</th>\n",
       "      <td>8942</td>\n",
       "      <td>8948</td>\n",
       "      <td>8089</td>\n",
       "      <td>8939</td>\n",
       "      <td>8950</td>\n",
       "      <td>8938</td>\n",
       "      <td>8942</td>\n",
       "      <td>8950</td>\n",
       "      <td>8696</td>\n",
       "      <td>19710</td>\n",
       "      <td>19710</td>\n",
       "      <td>19710</td>\n",
       "    </tr>\n",
       "    <tr>\n",
       "      <th>2010-05-13 00:48:00</th>\n",
       "      <td>8944</td>\n",
       "      <td>8950</td>\n",
       "      <td>8090</td>\n",
       "      <td>8941</td>\n",
       "      <td>8952</td>\n",
       "      <td>8940</td>\n",
       "      <td>8944</td>\n",
       "      <td>8952</td>\n",
       "      <td>8698</td>\n",
       "      <td>19695</td>\n",
       "      <td>19695</td>\n",
       "      <td>19695</td>\n",
       "    </tr>\n",
       "    <tr>\n",
       "      <th>...</th>\n",
       "      <td>...</td>\n",
       "      <td>...</td>\n",
       "      <td>...</td>\n",
       "      <td>...</td>\n",
       "      <td>...</td>\n",
       "      <td>...</td>\n",
       "      <td>...</td>\n",
       "      <td>...</td>\n",
       "      <td>...</td>\n",
       "      <td>...</td>\n",
       "      <td>...</td>\n",
       "      <td>...</td>\n",
       "    </tr>\n",
       "    <tr>\n",
       "      <th>2023-08-02 22:00:00</th>\n",
       "      <td>28302</td>\n",
       "      <td>28205</td>\n",
       "      <td>25586</td>\n",
       "      <td>28299</td>\n",
       "      <td>28306</td>\n",
       "      <td>28291</td>\n",
       "      <td>28288</td>\n",
       "      <td>28296</td>\n",
       "      <td>28301</td>\n",
       "      <td>13309</td>\n",
       "      <td>13309</td>\n",
       "      <td>13309</td>\n",
       "    </tr>\n",
       "    <tr>\n",
       "      <th>2023-08-02 22:12:00</th>\n",
       "      <td>28299</td>\n",
       "      <td>28203</td>\n",
       "      <td>25566</td>\n",
       "      <td>28297</td>\n",
       "      <td>28305</td>\n",
       "      <td>28296</td>\n",
       "      <td>28293</td>\n",
       "      <td>28294</td>\n",
       "      <td>28302</td>\n",
       "      <td>13356</td>\n",
       "      <td>13356</td>\n",
       "      <td>13356</td>\n",
       "    </tr>\n",
       "    <tr>\n",
       "      <th>2023-08-02 22:24:00</th>\n",
       "      <td>28294</td>\n",
       "      <td>28206</td>\n",
       "      <td>25565</td>\n",
       "      <td>28294</td>\n",
       "      <td>28304</td>\n",
       "      <td>28290</td>\n",
       "      <td>28290</td>\n",
       "      <td>28299</td>\n",
       "      <td>28300</td>\n",
       "      <td>13329</td>\n",
       "      <td>13329</td>\n",
       "      <td>13329</td>\n",
       "    </tr>\n",
       "    <tr>\n",
       "      <th>2023-08-02 22:36:00</th>\n",
       "      <td>28295</td>\n",
       "      <td>28204</td>\n",
       "      <td>25564</td>\n",
       "      <td>28293</td>\n",
       "      <td>28310</td>\n",
       "      <td>28294</td>\n",
       "      <td>28291</td>\n",
       "      <td>28293</td>\n",
       "      <td>28309</td>\n",
       "      <td>13351</td>\n",
       "      <td>13351</td>\n",
       "      <td>13351</td>\n",
       "    </tr>\n",
       "    <tr>\n",
       "      <th>2023-08-02 22:48:00</th>\n",
       "      <td>28297</td>\n",
       "      <td>28202</td>\n",
       "      <td>25563</td>\n",
       "      <td>28295</td>\n",
       "      <td>28307</td>\n",
       "      <td>28295</td>\n",
       "      <td>28289</td>\n",
       "      <td>28297</td>\n",
       "      <td>28303</td>\n",
       "      <td>13292</td>\n",
       "      <td>13292</td>\n",
       "      <td>13292</td>\n",
       "    </tr>\n",
       "  </tbody>\n",
       "</table>\n",
       "<p>503987 rows × 12 columns</p>\n",
       "</div>"
      ],
      "text/plain": [
       "                     idx_131A  idx_1600A  idx_1700A  idx_171A  idx_193A  \\\n",
       "Time                                                                      \n",
       "2010-05-13 00:00:00      8937       8942       8085      8934      8945   \n",
       "2010-05-13 00:12:00      8938       8943       8084      8935      8946   \n",
       "2010-05-13 00:24:00      8940       8946       8086      8936      8947   \n",
       "2010-05-13 00:36:00      8942       8948       8089      8939      8950   \n",
       "2010-05-13 00:48:00      8944       8950       8090      8941      8952   \n",
       "...                       ...        ...        ...       ...       ...   \n",
       "2023-08-02 22:00:00     28302      28205      25586     28299     28306   \n",
       "2023-08-02 22:12:00     28299      28203      25566     28297     28305   \n",
       "2023-08-02 22:24:00     28294      28206      25565     28294     28304   \n",
       "2023-08-02 22:36:00     28295      28204      25564     28293     28310   \n",
       "2023-08-02 22:48:00     28297      28202      25563     28295     28307   \n",
       "\n",
       "                     idx_211A  idx_304A  idx_335A  idx_94A  idx_Bx  idx_By  \\\n",
       "Time                                                                         \n",
       "2010-05-13 00:00:00      8933      8937      8945     8691   19726   19726   \n",
       "2010-05-13 00:12:00      8934      8938      8946     8692   19729   19729   \n",
       "2010-05-13 00:24:00      8935      8939      8947     8694   19735   19735   \n",
       "2010-05-13 00:36:00      8938      8942      8950     8696   19710   19710   \n",
       "2010-05-13 00:48:00      8940      8944      8952     8698   19695   19695   \n",
       "...                       ...       ...       ...      ...     ...     ...   \n",
       "2023-08-02 22:00:00     28291     28288     28296    28301   13309   13309   \n",
       "2023-08-02 22:12:00     28296     28293     28294    28302   13356   13356   \n",
       "2023-08-02 22:24:00     28290     28290     28299    28300   13329   13329   \n",
       "2023-08-02 22:36:00     28294     28291     28293    28309   13351   13351   \n",
       "2023-08-02 22:48:00     28295     28289     28297    28303   13292   13292   \n",
       "\n",
       "                     idx_Bz  \n",
       "Time                         \n",
       "2010-05-13 00:00:00   19726  \n",
       "2010-05-13 00:12:00   19729  \n",
       "2010-05-13 00:24:00   19735  \n",
       "2010-05-13 00:36:00   19710  \n",
       "2010-05-13 00:48:00   19695  \n",
       "...                     ...  \n",
       "2023-08-02 22:00:00   13309  \n",
       "2023-08-02 22:12:00   13356  \n",
       "2023-08-02 22:24:00   13329  \n",
       "2023-08-02 22:36:00   13351  \n",
       "2023-08-02 22:48:00   13292  \n",
       "\n",
       "[503987 rows x 12 columns]"
      ]
     },
     "execution_count": 12,
     "metadata": {},
     "output_type": "execute_result"
    }
   ],
   "source": [
    "data_module.aligndata"
   ]
  },
  {
   "cell_type": "code",
   "execution_count": 6,
   "metadata": {},
   "outputs": [
    {
     "ename": "NameError",
     "evalue": "name 'eve_data' is not defined",
     "output_type": "error",
     "traceback": [
      "\u001b[0;31m---------------------------------------------------------------------------\u001b[0m",
      "\u001b[0;31mNameError\u001b[0m                                 Traceback (most recent call last)",
      "Cell \u001b[0;32mIn[6], line 1\u001b[0m\n\u001b[0;32m----> 1\u001b[0m \u001b[43meve_data\u001b[49m\n",
      "\u001b[0;31mNameError\u001b[0m: name 'eve_data' is not defined"
     ]
    }
   ],
   "source": [
    "eve_data"
   ]
  },
  {
   "cell_type": "code",
   "execution_count": 8,
   "metadata": {},
   "outputs": [],
   "source": [
    "eve_data = data_module.eve_data"
   ]
  },
  {
   "cell_type": "code",
   "execution_count": 9,
   "metadata": {},
   "outputs": [
    {
     "data": {
      "text/plain": [
       "<zarr.hierarchy.Group '/'>"
      ]
     },
     "execution_count": 9,
     "metadata": {},
     "output_type": "execute_result"
    }
   ],
   "source": [
    "eve_data"
   ]
  },
  {
   "cell_type": "code",
   "execution_count": 10,
   "metadata": {},
   "outputs": [],
   "source": [
    "import pandas as pd\n",
    "import numpy as np\n",
    "\n",
    "df_t_eve = pd.DataFrame(\n",
    "    {\n",
    "        \"Time\": pd.to_datetime(data_module.eve_data[\"Time\"][:]),\n",
    "        \"idx_eve\": np.arange(0, len(data_module.eve_data[\"Time\"])),\n",
    "    }\n",
    ")\n",
    "df_t_eve[\"Time\"] = pd.to_datetime(df_t_eve[\"Time\"]).dt.round(\"12min\")\n",
    "df_t_obs_eve = df_t_eve.drop_duplicates(subset=\"Time\", keep=\"first\").set_index(\"Time\")"
   ]
  },
  {
   "cell_type": "code",
   "execution_count": 38,
   "metadata": {},
   "outputs": [],
   "source": [
    "join_series = data_module.aligndata"
   ]
  },
  {
   "cell_type": "code",
   "execution_count": 40,
   "metadata": {},
   "outputs": [],
   "source": [
    "join_series = join_series.join(df_t_obs_eve, how=\"inner\")"
   ]
  },
  {
   "cell_type": "code",
   "execution_count": 76,
   "metadata": {},
   "outputs": [
    {
     "data": {
      "text/html": [
       "<div>\n",
       "<style scoped>\n",
       "    .dataframe tbody tr th:only-of-type {\n",
       "        vertical-align: middle;\n",
       "    }\n",
       "\n",
       "    .dataframe tbody tr th {\n",
       "        vertical-align: top;\n",
       "    }\n",
       "\n",
       "    .dataframe thead th {\n",
       "        text-align: right;\n",
       "    }\n",
       "</style>\n",
       "<table border=\"1\" class=\"dataframe\">\n",
       "  <thead>\n",
       "    <tr style=\"text-align: right;\">\n",
       "      <th></th>\n",
       "      <th>idx_131A</th>\n",
       "      <th>idx_1600A</th>\n",
       "      <th>idx_1700A</th>\n",
       "      <th>idx_171A</th>\n",
       "      <th>idx_193A</th>\n",
       "      <th>idx_211A</th>\n",
       "      <th>idx_304A</th>\n",
       "      <th>idx_335A</th>\n",
       "      <th>idx_94A</th>\n",
       "      <th>idx_Bx</th>\n",
       "      <th>idx_By</th>\n",
       "      <th>idx_Bz</th>\n",
       "      <th>idx_eve</th>\n",
       "    </tr>\n",
       "    <tr>\n",
       "      <th>Time</th>\n",
       "      <th></th>\n",
       "      <th></th>\n",
       "      <th></th>\n",
       "      <th></th>\n",
       "      <th></th>\n",
       "      <th></th>\n",
       "      <th></th>\n",
       "      <th></th>\n",
       "      <th></th>\n",
       "      <th></th>\n",
       "      <th></th>\n",
       "      <th></th>\n",
       "      <th></th>\n",
       "    </tr>\n",
       "  </thead>\n",
       "  <tbody>\n",
       "    <tr>\n",
       "      <th>2010-05-13 00:00:00</th>\n",
       "      <td>8937</td>\n",
       "      <td>8942</td>\n",
       "      <td>8085</td>\n",
       "      <td>8934</td>\n",
       "      <td>8945</td>\n",
       "      <td>8933</td>\n",
       "      <td>8937</td>\n",
       "      <td>8945</td>\n",
       "      <td>8691</td>\n",
       "      <td>19726</td>\n",
       "      <td>19726</td>\n",
       "      <td>19726</td>\n",
       "      <td>17274</td>\n",
       "    </tr>\n",
       "    <tr>\n",
       "      <th>2010-05-13 00:12:00</th>\n",
       "      <td>8938</td>\n",
       "      <td>8943</td>\n",
       "      <td>8084</td>\n",
       "      <td>8935</td>\n",
       "      <td>8946</td>\n",
       "      <td>8934</td>\n",
       "      <td>8938</td>\n",
       "      <td>8946</td>\n",
       "      <td>8692</td>\n",
       "      <td>19729</td>\n",
       "      <td>19729</td>\n",
       "      <td>19729</td>\n",
       "      <td>17286</td>\n",
       "    </tr>\n",
       "    <tr>\n",
       "      <th>2010-05-13 00:24:00</th>\n",
       "      <td>8940</td>\n",
       "      <td>8946</td>\n",
       "      <td>8086</td>\n",
       "      <td>8936</td>\n",
       "      <td>8947</td>\n",
       "      <td>8935</td>\n",
       "      <td>8939</td>\n",
       "      <td>8947</td>\n",
       "      <td>8694</td>\n",
       "      <td>19735</td>\n",
       "      <td>19735</td>\n",
       "      <td>19735</td>\n",
       "      <td>17298</td>\n",
       "    </tr>\n",
       "    <tr>\n",
       "      <th>2010-05-13 00:36:00</th>\n",
       "      <td>8942</td>\n",
       "      <td>8948</td>\n",
       "      <td>8089</td>\n",
       "      <td>8939</td>\n",
       "      <td>8950</td>\n",
       "      <td>8938</td>\n",
       "      <td>8942</td>\n",
       "      <td>8950</td>\n",
       "      <td>8696</td>\n",
       "      <td>19710</td>\n",
       "      <td>19710</td>\n",
       "      <td>19710</td>\n",
       "      <td>17310</td>\n",
       "    </tr>\n",
       "    <tr>\n",
       "      <th>2010-05-13 00:48:00</th>\n",
       "      <td>8944</td>\n",
       "      <td>8950</td>\n",
       "      <td>8090</td>\n",
       "      <td>8941</td>\n",
       "      <td>8952</td>\n",
       "      <td>8940</td>\n",
       "      <td>8944</td>\n",
       "      <td>8952</td>\n",
       "      <td>8698</td>\n",
       "      <td>19695</td>\n",
       "      <td>19695</td>\n",
       "      <td>19695</td>\n",
       "      <td>17322</td>\n",
       "    </tr>\n",
       "    <tr>\n",
       "      <th>...</th>\n",
       "      <td>...</td>\n",
       "      <td>...</td>\n",
       "      <td>...</td>\n",
       "      <td>...</td>\n",
       "      <td>...</td>\n",
       "      <td>...</td>\n",
       "      <td>...</td>\n",
       "      <td>...</td>\n",
       "      <td>...</td>\n",
       "      <td>...</td>\n",
       "      <td>...</td>\n",
       "      <td>...</td>\n",
       "      <td>...</td>\n",
       "    </tr>\n",
       "    <tr>\n",
       "      <th>2014-05-26 23:00:00</th>\n",
       "      <td>9220</td>\n",
       "      <td>9222</td>\n",
       "      <td>8324</td>\n",
       "      <td>9208</td>\n",
       "      <td>9218</td>\n",
       "      <td>9220</td>\n",
       "      <td>9218</td>\n",
       "      <td>9217</td>\n",
       "      <td>9221</td>\n",
       "      <td>37135</td>\n",
       "      <td>37135</td>\n",
       "      <td>37135</td>\n",
       "      <td>2137314</td>\n",
       "    </tr>\n",
       "    <tr>\n",
       "      <th>2014-05-26 23:12:00</th>\n",
       "      <td>9222</td>\n",
       "      <td>9224</td>\n",
       "      <td>8325</td>\n",
       "      <td>9210</td>\n",
       "      <td>9220</td>\n",
       "      <td>9222</td>\n",
       "      <td>9220</td>\n",
       "      <td>9219</td>\n",
       "      <td>9223</td>\n",
       "      <td>37048</td>\n",
       "      <td>37048</td>\n",
       "      <td>37048</td>\n",
       "      <td>2137326</td>\n",
       "    </tr>\n",
       "    <tr>\n",
       "      <th>2014-05-26 23:24:00</th>\n",
       "      <td>9224</td>\n",
       "      <td>9226</td>\n",
       "      <td>8327</td>\n",
       "      <td>9212</td>\n",
       "      <td>9222</td>\n",
       "      <td>9224</td>\n",
       "      <td>9222</td>\n",
       "      <td>9221</td>\n",
       "      <td>9225</td>\n",
       "      <td>37057</td>\n",
       "      <td>37057</td>\n",
       "      <td>37057</td>\n",
       "      <td>2137338</td>\n",
       "    </tr>\n",
       "    <tr>\n",
       "      <th>2014-05-26 23:36:00</th>\n",
       "      <td>9226</td>\n",
       "      <td>9228</td>\n",
       "      <td>8329</td>\n",
       "      <td>9214</td>\n",
       "      <td>9224</td>\n",
       "      <td>9226</td>\n",
       "      <td>9224</td>\n",
       "      <td>9223</td>\n",
       "      <td>9227</td>\n",
       "      <td>37118</td>\n",
       "      <td>37118</td>\n",
       "      <td>37118</td>\n",
       "      <td>2137350</td>\n",
       "    </tr>\n",
       "    <tr>\n",
       "      <th>2014-05-26 23:48:00</th>\n",
       "      <td>9228</td>\n",
       "      <td>9230</td>\n",
       "      <td>8331</td>\n",
       "      <td>9216</td>\n",
       "      <td>9226</td>\n",
       "      <td>9228</td>\n",
       "      <td>9226</td>\n",
       "      <td>9225</td>\n",
       "      <td>9229</td>\n",
       "      <td>37060</td>\n",
       "      <td>37060</td>\n",
       "      <td>37060</td>\n",
       "      <td>2137362</td>\n",
       "    </tr>\n",
       "  </tbody>\n",
       "</table>\n",
       "<p>144766 rows × 13 columns</p>\n",
       "</div>"
      ],
      "text/plain": [
       "                     idx_131A  idx_1600A  idx_1700A  idx_171A  idx_193A  \\\n",
       "Time                                                                      \n",
       "2010-05-13 00:00:00      8937       8942       8085      8934      8945   \n",
       "2010-05-13 00:12:00      8938       8943       8084      8935      8946   \n",
       "2010-05-13 00:24:00      8940       8946       8086      8936      8947   \n",
       "2010-05-13 00:36:00      8942       8948       8089      8939      8950   \n",
       "2010-05-13 00:48:00      8944       8950       8090      8941      8952   \n",
       "...                       ...        ...        ...       ...       ...   \n",
       "2014-05-26 23:00:00      9220       9222       8324      9208      9218   \n",
       "2014-05-26 23:12:00      9222       9224       8325      9210      9220   \n",
       "2014-05-26 23:24:00      9224       9226       8327      9212      9222   \n",
       "2014-05-26 23:36:00      9226       9228       8329      9214      9224   \n",
       "2014-05-26 23:48:00      9228       9230       8331      9216      9226   \n",
       "\n",
       "                     idx_211A  idx_304A  idx_335A  idx_94A  idx_Bx  idx_By  \\\n",
       "Time                                                                         \n",
       "2010-05-13 00:00:00      8933      8937      8945     8691   19726   19726   \n",
       "2010-05-13 00:12:00      8934      8938      8946     8692   19729   19729   \n",
       "2010-05-13 00:24:00      8935      8939      8947     8694   19735   19735   \n",
       "2010-05-13 00:36:00      8938      8942      8950     8696   19710   19710   \n",
       "2010-05-13 00:48:00      8940      8944      8952     8698   19695   19695   \n",
       "...                       ...       ...       ...      ...     ...     ...   \n",
       "2014-05-26 23:00:00      9220      9218      9217     9221   37135   37135   \n",
       "2014-05-26 23:12:00      9222      9220      9219     9223   37048   37048   \n",
       "2014-05-26 23:24:00      9224      9222      9221     9225   37057   37057   \n",
       "2014-05-26 23:36:00      9226      9224      9223     9227   37118   37118   \n",
       "2014-05-26 23:48:00      9228      9226      9225     9229   37060   37060   \n",
       "\n",
       "                     idx_Bz  idx_eve  \n",
       "Time                                  \n",
       "2010-05-13 00:00:00   19726    17274  \n",
       "2010-05-13 00:12:00   19729    17286  \n",
       "2010-05-13 00:24:00   19735    17298  \n",
       "2010-05-13 00:36:00   19710    17310  \n",
       "2010-05-13 00:48:00   19695    17322  \n",
       "...                     ...      ...  \n",
       "2014-05-26 23:00:00   37135  2137314  \n",
       "2014-05-26 23:12:00   37048  2137326  \n",
       "2014-05-26 23:24:00   37057  2137338  \n",
       "2014-05-26 23:36:00   37118  2137350  \n",
       "2014-05-26 23:48:00   37060  2137362  \n",
       "\n",
       "[144766 rows x 13 columns]"
      ]
     },
     "execution_count": 76,
     "metadata": {},
     "output_type": "execute_result"
    }
   ],
   "source": [
    "join_series"
   ]
  },
  {
   "cell_type": "code",
   "execution_count": 77,
   "metadata": {},
   "outputs": [],
   "source": [
    "from sdofm.constants import ALL_IONS\n",
    "\n",
    "available_mask = np.array([True] * join_series.shape[0])\n",
    "for ion in ALL_IONS:\n",
    "    ion_data = eve_data[ion]\n",
    "    if available_mask is None:\n",
    "        available_mask = (ion_data[join_series[\"idx_eve\"]] > 0).astype(bool)\n",
    "    else:\n",
    "        available_mask = available_mask & (ion_data[join_series[\"idx_eve\"]] > 0).astype(\n",
    "            bool\n",
    "        )\n",
    "\n",
    "    # join_series = join_series.loc[ion_data[join_series[\"idx_eve\"]] > 0]\n",
    "# join_series"
   ]
  },
  {
   "cell_type": "code",
   "execution_count": 87,
   "metadata": {},
   "outputs": [
    {
     "data": {
      "text/plain": [
       "array([ True,  True,  True, ..., False, False, False])"
      ]
     },
     "execution_count": 87,
     "metadata": {},
     "output_type": "execute_result"
    }
   ],
   "source": [
    "ion_data[join_series[\"idx_eve\"]] > 0"
   ]
  },
  {
   "cell_type": "code",
   "execution_count": 78,
   "metadata": {},
   "outputs": [
    {
     "data": {
      "text/plain": [
       "16"
      ]
     },
     "execution_count": 78,
     "metadata": {},
     "output_type": "execute_result"
    }
   ],
   "source": [
    "np.sum(available_mask)"
   ]
  },
  {
   "cell_type": "code",
   "execution_count": 83,
   "metadata": {},
   "outputs": [
    {
     "data": {
      "text/plain": [
       "numpy.ndarray"
      ]
     },
     "execution_count": 83,
     "metadata": {},
     "output_type": "execute_result"
    }
   ],
   "source": [
    "type(ion_data[join_series[\"idx_eve\"]] > 0)"
   ]
  },
  {
   "cell_type": "code",
   "execution_count": 81,
   "metadata": {},
   "outputs": [
    {
     "data": {
      "text/plain": [
       "array([ True, False,  True])"
      ]
     },
     "execution_count": 81,
     "metadata": {},
     "output_type": "execute_result"
    }
   ],
   "source": [
    "np.array([True, True, True]) & np.array([True, False, True])"
   ]
  },
  {
   "cell_type": "code",
   "execution_count": 71,
   "metadata": {},
   "outputs": [
    {
     "data": {
      "text/plain": [
       "array([ True,  True,  True, ..., False, False, False])"
      ]
     },
     "execution_count": 71,
     "metadata": {},
     "output_type": "execute_result"
    }
   ],
   "source": [
    "ion_data[join_series[\"idx_eve\"]] > 0"
   ]
  },
  {
   "cell_type": "code",
   "execution_count": 63,
   "metadata": {},
   "outputs": [
    {
     "data": {
      "text/plain": [
       "0.2483816037603085"
      ]
     },
     "execution_count": 63,
     "metadata": {},
     "output_type": "execute_result"
    }
   ],
   "source": [
    "35299 / 142116"
   ]
  },
  {
   "cell_type": "code",
   "execution_count": 62,
   "metadata": {},
   "outputs": [
    {
     "data": {
      "text/plain": [
       "(144766,)"
      ]
     },
     "execution_count": 62,
     "metadata": {},
     "output_type": "execute_result"
    }
   ],
   "source": [
    "available_mask.shape"
   ]
  },
  {
   "cell_type": "code",
   "execution_count": 84,
   "metadata": {},
   "outputs": [
    {
     "name": "stdout",
     "output_type": "stream",
     "text": [
      "(144766,) 35299 [ True  True  True  True  True  True  True  True  True  True  True  True\n",
      "  True  True  True  True  True  True  True  True]\n",
      "(144766,) 35299 [ True  True  True  True  True  True  True  True  True  True  True  True\n",
      "  True  True  True  True  True  True  True  True]\n",
      "(144766,) 35299 [ True  True  True  True  True  True  True  True  True  True  True  True\n",
      "  True  True  True  True  True  True  True  True]\n",
      "(144766,) 35299 [ True  True  True  True  True  True  True  True  True  True  True  True\n",
      "  True  True  True  True  True  True  True  True]\n",
      "(144766,) 35299 [ True  True  True  True  True  True  True  True  True  True  True  True\n",
      "  True  True  True  True  True  True  True  True]\n",
      "(144766,) 35299 [ True  True  True  True  True  True  True  True  True  True  True  True\n",
      "  True  True  True  True  True  True  True  True]\n",
      "(144766,) 35299 [ True  True  True  True  True  True  True  True  True  True  True  True\n",
      "  True  True  True  True  True  True  True  True]\n",
      "(144766,) 35299 [ True  True  True  True  True  True  True  True  True  True  True  True\n",
      "  True  True  True  True  True  True  True  True]\n",
      "(144766,) 35299 [ True  True  True  True  True  True  True  True  True  True  True  True\n",
      "  True  True  True  True  True  True  True  True]\n",
      "(144766,) 35299 [ True  True  True  True  True  True  True  True  True  True  True  True\n",
      "  True  True  True  True  True  True  True  True]\n",
      "(144766,) 35299 [ True  True  True  True  True  True  True  True  True  True  True  True\n",
      "  True  True  True  True  True  True  True  True]\n",
      "(144766,) 35299 [ True  True  True  True  True  True  True  True  True  True  True  True\n",
      "  True  True  True  True  True  True  True  True]\n",
      "(144766,) 35299 [ True  True  True  True  True  True  True  True  True  True  True  True\n",
      "  True  True  True  True  True  True  True  True]\n",
      "(144766,) 35299 [ True  True  True  True  True  True  True  True  True  True  True  True\n",
      "  True  True  True  True  True  True  True  True]\n",
      "(144766,) 35299 [ True  True  True  True  True  True  True  True  True  True  True  True\n",
      "  True  True  True  True  True  True  True  True]\n",
      "(144766,) 35299 [ True  True  True  True  True  True  True  True  True  True  True  True\n",
      "  True  True  True  True  True  True  True  True]\n",
      "(144766,) 35299 [ True  True  True  True  True  True  True  True  True  True  True  True\n",
      "  True  True  True  True  True  True  True  True]\n",
      "(144766,) 35299 [ True  True  True  True  True  True  True  True  True  True  True  True\n",
      "  True  True  True  True  True  True  True  True]\n",
      "(144766,) 35299 [ True  True  True  True  True  True  True  True  True  True  True  True\n",
      "  True  True  True  True  True  True  True  True]\n",
      "(144766,) 35299 [ True  True  True  True  True  True  True  True  True  True  True  True\n",
      "  True  True  True  True  True  True  True  True]\n",
      "(144766,) 35299 [ True  True  True  True  True  True  True  True  True  True  True  True\n",
      "  True  True  True  True  True  True  True  True]\n",
      "(144766,) 35299 [ True  True  True  True  True  True  True  True  True  True  True  True\n",
      "  True  True  True  True  True  True  True  True]\n",
      "(144766,) 35299 [ True  True  True  True  True  True  True  True  True  True  True  True\n",
      "  True  True  True  True  True  True  True  True]\n",
      "(144766,) 35299 [ True  True  True  True  True  True  True  True  True  True  True  True\n",
      "  True  True  True  True  True  True  True  True]\n",
      "(144766,) 35299 [ True  True  True  True  True  True  True  True  True  True  True  True\n",
      "  True  True  True  True  True  True  True  True]\n",
      "(144766,) 35299 [ True  True  True  True  True  True  True  True  True  True  True  True\n",
      "  True  True  True  True  True  True  True  True]\n",
      "(144766,) 35299 [ True  True  True  True  True  True  True  True  True  True  True  True\n",
      "  True  True  True  True  True  True  True  True]\n",
      "(144766,) 35299 [ True  True  True  True  True  True  True  True  True  True  True  True\n",
      "  True  True  True  True  True  True  True  True]\n",
      "(144766,) 35299 [ True  True  True  True  True  True  True  True  True  True  True  True\n",
      "  True  True  True  True  True  True  True  True]\n",
      "(144766,) 35299 [ True  True  True  True  True  True  True  True  True  True  True  True\n",
      "  True  True  True  True  True  True  True  True]\n",
      "(144766,) 35299 [ True  True  True  True  True  True  True  True  True  True  True  True\n",
      "  True  True  True  True  True  True  True  True]\n",
      "(144766,) 35299 [ True  True  True  True  True  True  True  True  True  True  True  True\n",
      "  True  True  True  True  True  True  True  True]\n",
      "(144766,) 35299 [ True  True  True  True  True  True  True  True  True  True  True  True\n",
      "  True  True  True  True  True  True  True  True]\n",
      "(144766,) 35299 [ True  True  True  True  True  True  True  True  True  True  True  True\n",
      "  True  True  True  True  True  True  True  True]\n",
      "(144766,) 35299 [ True  True  True  True  True  True  True  True  True  True  True  True\n",
      "  True  True  True  True  True  True  True  True]\n",
      "(144766,) 35299 [ True  True  True  True  True  True  True  True  True  True  True  True\n",
      "  True  True  True  True  True  True  True  True]\n",
      "(144766,) 35299 [ True  True  True  True  True  True  True  True  True  True  True  True\n",
      "  True  True  True  True  True  True  True  True]\n",
      "(144766,) 35299 [ True  True  True  True  True  True  True  True  True  True  True  True\n",
      "  True  True  True  True  True  True  True  True]\n",
      "(144766,) 35299 [ True  True  True  True  True  True  True  True  True  True  True  True\n",
      "  True  True  True  True  True  True  True  True]\n"
     ]
    }
   ],
   "source": [
    "for ion in ALL_IONS:\n",
    "    check = ion_data[join_series[\"idx_eve\"]] > 0\n",
    "    print(check.shape, np.sum(check), (ion_data[join_series[\"idx_eve\"]] > 0)[:20])"
   ]
  },
  {
   "cell_type": "code",
   "execution_count": 35,
   "metadata": {},
   "outputs": [
    {
     "data": {
      "text/plain": [
       "0.00015577368"
      ]
     },
     "execution_count": 35,
     "metadata": {},
     "output_type": "execute_result"
    }
   ],
   "source": [
    "eve_data[ion][2136594]"
   ]
  },
  {
   "cell_type": "code",
   "execution_count": 27,
   "metadata": {},
   "outputs": [
    {
     "data": {
      "text/plain": [
       "array([ 1.3445999e-04,  1.3361037e-04,  1.3478851e-04, ...,\n",
       "       -1.0000000e+00, -1.0000000e+00, -1.0000000e+00], dtype=float32)"
      ]
     },
     "execution_count": 27,
     "metadata": {},
     "output_type": "execute_result"
    }
   ],
   "source": [
    "ion_data"
   ]
  },
  {
   "cell_type": "code",
   "execution_count": 28,
   "metadata": {},
   "outputs": [
    {
     "data": {
      "text/plain": [
       "359262"
      ]
     },
     "execution_count": 28,
     "metadata": {},
     "output_type": "execute_result"
    }
   ],
   "source": [
    "sum(ion_data > 0)"
   ]
  },
  {
   "cell_type": "code",
   "execution_count": 21,
   "metadata": {},
   "outputs": [
    {
     "data": {
      "text/html": [
       "<div>\n",
       "<style scoped>\n",
       "    .dataframe tbody tr th:only-of-type {\n",
       "        vertical-align: middle;\n",
       "    }\n",
       "\n",
       "    .dataframe tbody tr th {\n",
       "        vertical-align: top;\n",
       "    }\n",
       "\n",
       "    .dataframe thead th {\n",
       "        text-align: right;\n",
       "    }\n",
       "</style>\n",
       "<table border=\"1\" class=\"dataframe\">\n",
       "  <thead>\n",
       "    <tr style=\"text-align: right;\">\n",
       "      <th></th>\n",
       "      <th>idx_eve</th>\n",
       "    </tr>\n",
       "    <tr>\n",
       "      <th>Time</th>\n",
       "      <th></th>\n",
       "    </tr>\n",
       "  </thead>\n",
       "  <tbody>\n",
       "    <tr>\n",
       "      <th>2010-05-01 00:00:00</th>\n",
       "      <td>0</td>\n",
       "    </tr>\n",
       "    <tr>\n",
       "      <th>2010-05-01 00:12:00</th>\n",
       "      <td>6</td>\n",
       "    </tr>\n",
       "    <tr>\n",
       "      <th>2010-05-01 00:24:00</th>\n",
       "      <td>18</td>\n",
       "    </tr>\n",
       "    <tr>\n",
       "      <th>2010-05-01 00:36:00</th>\n",
       "      <td>30</td>\n",
       "    </tr>\n",
       "    <tr>\n",
       "      <th>2010-05-01 00:48:00</th>\n",
       "      <td>42</td>\n",
       "    </tr>\n",
       "    <tr>\n",
       "      <th>...</th>\n",
       "      <td>...</td>\n",
       "    </tr>\n",
       "    <tr>\n",
       "      <th>2014-05-26 23:12:00</th>\n",
       "      <td>2137326</td>\n",
       "    </tr>\n",
       "    <tr>\n",
       "      <th>2014-05-26 23:24:00</th>\n",
       "      <td>2137338</td>\n",
       "    </tr>\n",
       "    <tr>\n",
       "      <th>2014-05-26 23:36:00</th>\n",
       "      <td>2137350</td>\n",
       "    </tr>\n",
       "    <tr>\n",
       "      <th>2014-05-26 23:48:00</th>\n",
       "      <td>2137362</td>\n",
       "    </tr>\n",
       "    <tr>\n",
       "      <th>2014-05-27 00:00:00</th>\n",
       "      <td>2137374</td>\n",
       "    </tr>\n",
       "  </tbody>\n",
       "</table>\n",
       "<p>178089 rows × 1 columns</p>\n",
       "</div>"
      ],
      "text/plain": [
       "                     idx_eve\n",
       "Time                        \n",
       "2010-05-01 00:00:00        0\n",
       "2010-05-01 00:12:00        6\n",
       "2010-05-01 00:24:00       18\n",
       "2010-05-01 00:36:00       30\n",
       "2010-05-01 00:48:00       42\n",
       "...                      ...\n",
       "2014-05-26 23:12:00  2137326\n",
       "2014-05-26 23:24:00  2137338\n",
       "2014-05-26 23:36:00  2137350\n",
       "2014-05-26 23:48:00  2137362\n",
       "2014-05-27 00:00:00  2137374\n",
       "\n",
       "[178089 rows x 1 columns]"
      ]
     },
     "execution_count": 21,
     "metadata": {},
     "output_type": "execute_result"
    }
   ],
   "source": [
    "df_t_obs_eve"
   ]
  },
  {
   "cell_type": "code",
   "execution_count": 11,
   "metadata": {},
   "outputs": [
    {
     "data": {
      "text/plain": [
       "[2010,\n",
       " 2011,\n",
       " 2012,\n",
       " 2013,\n",
       " 2014,\n",
       " 2015,\n",
       " 2016,\n",
       " 2017,\n",
       " 2018,\n",
       " 2019,\n",
       " 2020,\n",
       " 2021,\n",
       " 2022,\n",
       " 2023]"
      ]
     },
     "execution_count": 11,
     "metadata": {},
     "output_type": "execute_result"
    }
   ],
   "source": [
    "data_module.training_years"
   ]
  },
  {
   "cell_type": "code",
   "execution_count": 30,
   "metadata": {},
   "outputs": [
    {
     "data": {
      "text/plain": [
       "(16, 13)"
      ]
     },
     "execution_count": 30,
     "metadata": {},
     "output_type": "execute_result"
    }
   ],
   "source": [
    "data_module.aligndata.shape"
   ]
  },
  {
   "cell_type": "code",
   "execution_count": null,
   "metadata": {},
   "outputs": [],
   "source": []
  }
 ],
 "metadata": {
  "kernelspec": {
   "display_name": "sdofm",
   "language": "python",
   "name": "python3"
  },
  "language_info": {
   "codemirror_mode": {
    "name": "ipython",
    "version": 3
   },
   "file_extension": ".py",
   "mimetype": "text/x-python",
   "name": "python",
   "nbconvert_exporter": "python",
   "pygments_lexer": "ipython3",
   "version": "3.10.14"
  }
 },
 "nbformat": 4,
 "nbformat_minor": 2
}
